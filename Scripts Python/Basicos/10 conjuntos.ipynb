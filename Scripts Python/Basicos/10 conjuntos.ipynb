{
 "cells": [
  {
   "cell_type": "markdown",
   "metadata": {},
   "source": [
    "## Conjuntos\n",
    "\n",
    "Ya has aprendido que en Python tenemos los tipos _lista_, _tupla_ y _cadena de texto_, y que son tipos secuenciales, es decir, son colecciones _ordenadas_ de elementos. \n",
    "\n",
    "Bueno, dejemos ahora las secuencias. En Python tenemos también tipos compuestos de datos que _no son ordenados_.\n",
    "Es decir, que sus elementos no conservan el orden en el que son colocados.\n",
    "\n",
    "El tipo compuesto _no ordenado_ más básico es el conjunto (o `set` en Python). Un conjunto es una colección _no ordenada_ de elementos, y donde además no puede haber elementos repetidos.\n",
    "\n",
    "Un conjunto _sí_ es modificable. Podemos eliminar o añadir nuevos elementos, siempre que no estén ya incluidos en el conjunto.\n",
    "\n",
    "La utilidad de este tipo viene justamente cuando necesitamos controlar elementos duplicados o saber si un elemento ha sido incluido ya (_pertenece_) a un conjunto, sin importarnos la posición.\n",
    "\n",
    "Para crear un conjunto escribimos los elementos entre un par de llaves y separados por comas.\n",
    "Si queremos crear un conjunto vacío utilizaremos la función `set()`, y no un par de llaves vacías (`{}`) como podrías pensar. Un poco más adelante te mostraremos que un par de llaves vacías crean un _diccionario_ vacío. Luego te lo contamos.\n",
    "\n"
   ]
  },
  {
   "cell_type": "code",
   "execution_count": null,
   "metadata": {},
   "outputs": [
    {
     "name": "stdout",
     "output_type": "stream",
     "text": [
      "{'cuerda', 'linterna', 'bocadillo', 'agua'}\n"
     ]
    }
   ],
   "source": [
    "# Vamos a controlar qué objetos \n",
    "# añadimos en nuestra mochila para una excursión\n",
    "\n",
    "# creamos un conjunto vacío \n",
    "# (solo por probar, para este ejemplo no nos haría falta)\n",
    "en_mochila = set()\n",
    "\n",
    "# 'inicializamos' : incluimos varios objetos\n",
    "en_mochila = {\"bocadillo\", \"agua\", \"linterna\", \"agua\", \"cuerda\"}\n",
    "\n",
    "# si imprimimos, veremos que el \"agua\" \n",
    "# no aparece duplicada - ya sabemos que llevamos agua\n",
    "print(en_mochila)"
   ]
  },
  {
   "cell_type": "code",
   "execution_count": null,
   "metadata": {},
   "outputs": [
    {
     "name": "stdout",
     "output_type": "stream",
     "text": [
      "{'agua', 'cuchillo', 'bocadillo', 'cuerda', 'linterna'}\n"
     ]
    }
   ],
   "source": [
    "# anotamos que metemos un cuchillo\n",
    "en_mochila.add(\"cuchillo\")\n",
    "print(en_mochila)\n",
    "# para comprobar si un elemento está en el conjunto\n",
    "# usamos `in`\n",
    "\"bocadillo\" in en_mochila\n",
    "\"cerillas\" not in en_mochila\n",
    "# también podemos quitar un elemento del conjunto\n",
    "en_mochila.discard(\"cuerda\")\n",
    "print(en_mochila)"
   ]
  },
  {
   "cell_type": "markdown",
   "metadata": {},
   "source": [
    "También disponemos de las operaciones habituales entre conjuntos: unión, diferencia, intersección..."
   ]
  },
  {
   "cell_type": "code",
   "execution_count": null,
   "metadata": {
    "collapsed": true
   },
   "outputs": [],
   "source": [
    "a = {1, 2, 3, 5, 8}\n",
    "b = {1, 2, 4, 8, 16}"
   ]
  },
  {
   "cell_type": "code",
   "execution_count": null,
   "metadata": {},
   "outputs": [
    {
     "data": {
      "text/plain": [
       "{1, 2, 3, 4, 5, 8, 16}"
      ]
     },
     "metadata": {},
     "output_type": "display_data"
    }
   ],
   "source": [
    "# unión de a y b\n",
    "a.union(b)\n",
    "# también podemos hacerlo así: elementos que están en a ó en b\n",
    "a | b\n",
    "\n",
    "# intersección de a y b\n",
    "a.intersection(b)\n",
    "# también podemos hacerlo así: elementos que están en a y en b\n",
    "a & b\n",
    "\n",
    "# diferencia entre a y b\n",
    "a.difference(b)\n",
    "# también podemos hacerlo así: elementos que están en a pero no están en b\n",
    "a - b\n",
    "\n",
    "# diferencia simétrica o excluyente entre a y b\n",
    "a.symmetric_difference(b)\n",
    "# también podemos hacerlo así: elementos que estan exclusivamente bien en a o bien en b (pero no en ambos)\n",
    "a ^ b\n",
    "\n",
    "s = {1, 2}\n",
    "\n",
    "# ¿s es un subconjunto de a?\n",
    "s.issubset(a)\n",
    "# o dicho de otro modo: todos los elementos de s están en a\n",
    "s <= a\n",
    "\n",
    "# ¿a es un superconjunto de s?\n",
    "a.issuperset(s)\n",
    "# o dicho de otro modo: a incluye todos los elementos que están en s\n",
    "a >= s"
   ]
  }
 ],
 "metadata": {
  "language_info": {
   "name": "python"
  },
  "orig_nbformat": 4
 },
 "nbformat": 4,
 "nbformat_minor": 2
}
