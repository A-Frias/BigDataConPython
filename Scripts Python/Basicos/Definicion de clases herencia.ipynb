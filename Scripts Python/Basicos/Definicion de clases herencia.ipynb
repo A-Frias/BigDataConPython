{
 "cells": [
  {
   "cell_type": "markdown",
   "metadata": {},
   "source": [
    "# Clases y programación orientada a objetos\n",
    "\n",
    "Python es un lenguaje orientado a objetos (_OOL - Object Oriented Language_). Como tal, incorpora las herramientas para definir nuestras propias clases, instanciar y operar con objetos, o gestionar aspectos como la herencia o el polimorfismo. \n",
    "\n",
    "## ¿Orientación a objetos?\n",
    "\n",
    "Si todos estos conceptos te resultan totalmente desconocidos, vamos a tratar de explicarlo por encima. \n",
    "\n",
    "Puedes ver un objeto como una representación de un objeto del mundo real, con ciertas propiedades y capacidades o funcionalidades concretas.\n",
    "\n",
    "Una clase no deja de ser una abstracción, un patrón de cierta familia de elementos, que nos dice cuáles son las propiedades y funcionalidades comunes que comparten todos los objetos de dicha clase.\n",
    "\n",
    "En programación orientada a objetos, a las propiedades las llamamos _atributos_ y a las funcionalidades o capacidades las llamamos _métodos_. Y al proceso de crear un nuevo objeto a partir de una clase lo denominamos _instanciación_.\n",
    "\n",
    "## Definiendo clases y objetos\n",
    "\n",
    "Para crear una nueva clase empleamos la palabra reservada `class`."
   ]
  },
  {
   "cell_type": "code",
   "execution_count": null,
   "metadata": {
    "collapsed": true
   },
   "outputs": [],
   "source": [
    "class Coche:\n",
    "    '''Esta clase representa un coche'''\n",
    "    \n",
    "    # Atributo de clase\n",
    "    ruedas = 4\n",
    "    \n",
    "    # Método de clase\n",
    "    def comprueba_coche():\n",
    "        print(\"Soy un coche.\")"
   ]
  },
  {
   "cell_type": "code",
   "execution_count": null,
   "metadata": {},
   "outputs": [
    {
     "name": "stdout",
     "output_type": "stream",
     "text": [
      "4\n",
      "Soy un coche.\n"
     ]
    }
   ],
   "source": [
    "print(Coche.ruedas)\n",
    "Coche.comprueba_coche()"
   ]
  },
  {
   "cell_type": "markdown",
   "metadata": {},
   "source": [
    "Como ves, es simple. Una vez que definimos una nueva clase, su nombre queda registrado y se le asigna un espacio de nombres propio. A través de su nombre podemos acceder a la clase y a sus elementos.\n",
    "\n",
    "Aquí hemos definido un atributo de clase (`ruedas`) cuyo valor compartirán todos los objetos de clase `Coche`. Estos atributos se definen dentro de la clase igual que una variable normal.\n",
    "\n",
    "Del mismo modo, hemos definido un método de clase, cuya funcionalidad compartirán también todos los objetos de clase `Coche`. Un método de clase se define igual que una función común.\n",
    "\n",
    "¿Cómo creamos nuevos objetos de una clase? Invocando la clase como si fuera una función."
   ]
  },
  {
   "cell_type": "code",
   "execution_count": null,
   "metadata": {},
   "outputs": [
    {
     "name": "stdout",
     "output_type": "stream",
     "text": [
      "<__main__.Coche object at 0x7f9d9433c0b8>\n"
     ]
    }
   ],
   "source": [
    "c1 = Coche()\n",
    "print(c1)"
   ]
  },
  {
   "cell_type": "markdown",
   "metadata": {},
   "source": [
    "### Constructores\n",
    "\n",
    "Los constructores son métodos especiales de una clase que permiten configurar distintas propiedades de los objetos durante su instanciación. En Python, el constructor de una clase se define siempre con una función con el nombre `__init__`."
   ]
  },
  {
   "cell_type": "code",
   "execution_count": null,
   "metadata": {
    "collapsed": true
   },
   "outputs": [],
   "source": [
    "class Coche:\n",
    "    '''Esta clase representa un coche'''\n",
    "    \n",
    "    # Atributo de clase\n",
    "    ruedas = 4\n",
    "    \n",
    "    def __init__(self, potencia, velocidad_max, color):\n",
    "        '''Constructor de Coche'''\n",
    "        # Inicializamos atributos propios del nuevo objeto\n",
    "        self.potencia = potencia\n",
    "        self.velocidad_max = velocidad_max\n",
    "        self.color = color\n",
    "    \n",
    "    # Método de clase\n",
    "    def comprueba_coche():\n",
    "        print(\"Soy un coche.\")"
   ]
  },
  {
   "cell_type": "markdown",
   "metadata": {},
   "source": [
    "El método constructor recibe siempre como primer argumento una referencia al nuevo objeto (argumento `self`). Adicionalmente, podemos añadir más argumentos arbitrarios. El propósito principal de un constructor es declarar e inicializar los atributos del objeto.\n",
    "\n",
    "La forma de definir los atributos es creándolos a través del objeto `self`, como nuevas propiedades."
   ]
  },
  {
   "cell_type": "code",
   "execution_count": null,
   "metadata": {},
   "outputs": [
    {
     "name": "stdout",
     "output_type": "stream",
     "text": [
      "rojo\n"
     ]
    }
   ],
   "source": [
    "# Creamos un nuevo objeto\n",
    "coche_1 = Coche(120, 200, \"rojo\")\n",
    "\n",
    "# Accedemos a sus atributos directamente\n",
    "print(coche_1.color)"
   ]
  },
  {
   "cell_type": "markdown",
   "metadata": {},
   "source": [
    "Ten en cuenta que los atributos de dos instancias distintas no comparten el valor de sus atributos."
   ]
  },
  {
   "cell_type": "code",
   "execution_count": null,
   "metadata": {},
   "outputs": [
    {
     "name": "stdout",
     "output_type": "stream",
     "text": [
      "azul\n"
     ]
    }
   ],
   "source": [
    "# Creamos un nuevo objeto\n",
    "coche_2 = Coche(150, 220, \"azul\")\n",
    "\n",
    "# Accedemos a sus atributos directamente\n",
    "print(coche_2.color)"
   ]
  },
  {
   "cell_type": "markdown",
   "metadata": {},
   "source": [
    "### Definiendo métodos\n",
    "\n",
    "Para definir métodos aplicables a los objetos solo tenemos que añadir primero el argumento para pasar la referencia al objeto (`self`)."
   ]
  },
  {
   "cell_type": "code",
   "execution_count": null,
   "metadata": {
    "collapsed": true
   },
   "outputs": [],
   "source": [
    "class Coche:\n",
    "    '''Esta clase representa un coche'''\n",
    "    \n",
    "    # Atributo de clase\n",
    "    ruedas = 4\n",
    "    \n",
    "    def __init__(self, potencia, velocidad_max, color):\n",
    "        '''Constructor de Coche'''\n",
    "        # Inicializamos atributos propios del nuevo objeto\n",
    "        self.potencia = potencia\n",
    "        self.velocidad_max = velocidad_max\n",
    "        self.color = color\n",
    "        self.velocidad = 0\n",
    "    \n",
    "    def acelera(self, incremento):\n",
    "        '''Método para acelerar el coche `self`'''\n",
    "        self.velocidad = self.velocidad + incremento\n",
    "        if (self.velocidad > self.velocidad_max):\n",
    "            print(\"Voy a todo gas!!\")\n",
    "            self.velocidad = self.velocidad_max\n",
    "        else:\n",
    "            print(\"Voy a %d\" % self.velocidad)\n",
    "    \n",
    "    # Método de clase\n",
    "    def comprueba_coche():\n",
    "        print(\"Soy un coche.\")"
   ]
  },
  {
   "cell_type": "code",
   "execution_count": null,
   "metadata": {},
   "outputs": [
    {
     "name": "stdout",
     "output_type": "stream",
     "text": [
      "Voy a 50\n",
      "Voy a 110\n",
      "Voy a todo gas!!\n"
     ]
    }
   ],
   "source": [
    "coche_1 = Coche(120, 200, \"rojo\")\n",
    "coche_1.acelera(50)\n",
    "coche_1.acelera(60)\n",
    "coche_1.acelera(100)"
   ]
  },
  {
   "cell_type": "markdown",
   "metadata": {},
   "source": [
    "Un método de instancia puede acceder a los atributos particulares del objeto a través de la referencia `self`. En cambio, un método de clase solamente tiene acceso a los atributos de clase (los compartidos por todos los objetos). Es más, un método de clase no se puede ejecutar a través de una instancia, unicamente a través de su clase."
   ]
  },
  {
   "cell_type": "markdown",
   "metadata": {},
   "source": [
    "### Herencia\n",
    "\n",
    "Una de las características más importantes de la orientación a objetos es el concepto de _herencia_. Esencialmente consiste en definir una nueva clase _derivándola_ de una existente, de la que hereda por defecto todas sus características, métodos y atributos.\n",
    "\n",
    "La forma de especificar que una clase hereda de otra clase _base_ es indicando su nombre entre paréntesis."
   ]
  },
  {
   "cell_type": "code",
   "execution_count": null,
   "metadata": {
    "collapsed": true
   },
   "outputs": [],
   "source": [
    "# Definimos la clase Familiar\n",
    "# que hereda de la clase Coche\n",
    "class Familiar(Coche):\n",
    "    \n",
    "    def __init__(self, potencia, velocidad_max, color, maletero):\n",
    "        '''Constructor para coche familiar'''\n",
    "        # primero inicializamos los atributos heredados\n",
    "        # llamando al constructor de la superclase\n",
    "        super().__init__(potencia, velocidad_max, color)\n",
    "        # y ahora inicializamos atributos propios \n",
    "        # de esta clase unicamente\n",
    "        self.maletero = maletero\n",
    "        self.carga = 0\n",
    "    \n",
    "    def pon_carga(self, peso):\n",
    "        '''Método para cargar el maletero'''\n",
    "        # En un coche familiar tenemos más capacidad de carga\n",
    "        self.carga = self.carga + peso\n",
    "        if (self.carga > self.maletero):\n",
    "            print(\"No cabe nada más!!\")\n",
    "            self.carga = self.maletero\n",
    "        else:\n",
    "            print(\"Llevo %d kg\" % self.carga)\n",
    "        "
   ]
  },
  {
   "cell_type": "code",
   "execution_count": null,
   "metadata": {},
   "outputs": [
    {
     "name": "stdout",
     "output_type": "stream",
     "text": [
      "<__main__.Familiar object at 0x7f9d942d60f0>\n"
     ]
    }
   ],
   "source": [
    "fam_1 = Familiar(130,  180, 'gris', 300)\n",
    "print(fam_1)"
   ]
  },
  {
   "cell_type": "markdown",
   "metadata": {},
   "source": [
    "Como hemos dicho, una clase derivada hereda todos los métodos y atributos de la clase _padre_ (también conocida como _superclase_).\n",
    "\n",
    "Sin embargo, la potencia de este mecanismo viene al ampliar o redefinir los elementos heredados de la _superclase_.\n",
    "\n",
    "En este ejemplo, ampliamos los atributos para nuevas instancias de esta clase, añadiendo el atributo `maletero` en el constructor. Además, en el constructor de `Familiar` empezamos por inicializar los atributos heredados de la clase _padre_, llamando a su constructor. Decimos que hemos _sobrecargado_ el constructor.\n",
    "\n",
    "También aprovechamos para añadir un nuevo método (`pon_carga()`) para los objetos de la clase `Familiar`. A esto lo llamamos _extender_ la clase. Eso sí, seguimos teniendo acceso a todos los demás atributos y métodos heredados."
   ]
  },
  {
   "cell_type": "code",
   "execution_count": null,
   "metadata": {},
   "outputs": [
    {
     "name": "stdout",
     "output_type": "stream",
     "text": [
      "Voy a 40\n",
      "Llevo 50 kg\n"
     ]
    }
   ],
   "source": [
    "fam_1.acelera(40)\n",
    "fam_1.pon_carga(50)"
   ]
  },
  {
   "cell_type": "markdown",
   "metadata": {},
   "source": [
    "#### Redefinición o _sobrecarga_ de métodos\n",
    "\n",
    "No solo podemos _sobrecargar_ el constructor de una clase derivada. La sobrecarga aplica a cualquier método. De esta forma alteramos el comportamiento heredado para adaptarlo a las características de la nueva clase."
   ]
  },
  {
   "cell_type": "code",
   "execution_count": null,
   "metadata": {
    "collapsed": true
   },
   "outputs": [],
   "source": [
    "# Definimos la clase Familiar\n",
    "# que hereda de la clase Coche\n",
    "class Familiar(Coche):\n",
    "    \n",
    "    def __init__(self, potencia, velocidad_max, color, maletero):\n",
    "        '''Constructor para coche familiar'''\n",
    "        # primero inicializamos los atributos heredados\n",
    "        # llamando al constructor de la superclase\n",
    "        super().__init__(potencia, velocidad_max, color)\n",
    "        # y ahora inicializamos atributos propios \n",
    "        # de esta clase unicamente\n",
    "        self.maletero = maletero\n",
    "        self.carga = 0\n",
    "    \n",
    "    def pon_carga(self, peso):\n",
    "        '''Método para cargar el maletero'''\n",
    "        # En un coche familiar tenemos más capacidad de carga\n",
    "        self.carga = self.carga + peso\n",
    "        if (self.carga > self.maletero):\n",
    "            print(\"No cabe nada más!!\")\n",
    "            self.carga = self.maletero\n",
    "        else:\n",
    "            print(\"Llevo %d kg\" % self.carga)\n",
    "\n",
    "    def acelera(self, incremento):\n",
    "        '''Método sobrecargado para acelerar un familiar'''\n",
    "        self.velocidad = self.velocidad + 0.5*incremento\n",
    "        if (self.velocidad > 120):\n",
    "            print(\"Dónde vas, Fitipaldi!!\")\n",
    "            self.velocidad = self.velocidad_max\n",
    "        else:\n",
    "            print(\"He subido solo a %d\" % self.velocidad)\n",
    "    \n"
   ]
  },
  {
   "cell_type": "code",
   "execution_count": null,
   "metadata": {},
   "outputs": [
    {
     "name": "stdout",
     "output_type": "stream",
     "text": [
      "He subido solo a 35\n",
      "He subido solo a 75\n",
      "Dónde vas, Fitipaldi!!\n"
     ]
    }
   ],
   "source": [
    "fam_2 = Familiar(120, 180, \"negro\", 250)\n",
    "fam_2.acelera(70)\n",
    "fam_2.acelera(80)\n",
    "fam_2.acelera(100)"
   ]
  },
  {
   "cell_type": "markdown",
   "metadata": {},
   "source": [
    "Para decidir qué atributo o método debe usar, Python usa un mecanismo de resolución con el que va explorando desde la clase más baja en el árbol de herencia hacia las clases superiores. Es decir, comienza buscando un método en la propia clase del objeto. Si no lo encuentra, asciende a sus clases _padre_ para continuar la busqueda."
   ]
  }
 ],
 "metadata": {
  "language_info": {
   "name": "python"
  },
  "orig_nbformat": 4
 },
 "nbformat": 4,
 "nbformat_minor": 2
}
