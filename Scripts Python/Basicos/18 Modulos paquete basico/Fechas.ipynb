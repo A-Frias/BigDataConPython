{
 "cells": [
  {
   "cell_type": "markdown",
   "metadata": {},
   "source": [
    "#### `datetime`\n",
    "Este módulo incluye clases y funciones básicas para manipular fechas y horas\n",
    "\n",
    "`import datetime as dt`\n",
    "\n",
    "|              | Descripción                                                          |\n",
    "|:-------------|:---------------------------------------------------------------------|\n",
    "| `dt.date()` | Crea un objeto que representa una fecha (con año, mes y día) |\n",
    "| `dt.time()` | Crea un objeto que representa una hora del día (con horas, minutos y segundos) |\n",
    "| `dt.datetime()` | Combinación de `date` y `time` |\n",
    "| `dt.date.today()` | Devuelve un objeto `date` con la fecha de hoy |\n",
    "| `dt.datetime.now()` | Devuelve un objeto `datetime` que representa el instante actual |\n",
    "\n",
    "\n",
    "#### `calendar`\n",
    "Este módulo permite formatear y hacer operaciones con fechas de calendario\n"
   ]
  }
 ],
 "metadata": {
  "language_info": {
   "name": "python"
  },
  "orig_nbformat": 4
 },
 "nbformat": 4,
 "nbformat_minor": 2
}
