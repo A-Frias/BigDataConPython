{
 "cells": [
  {
   "cell_type": "markdown",
   "metadata": {},
   "source": [
    "## Instalación de librerías externas\n",
    "\n",
    "En muchos casos, Python y su biblioteca estándar nos proporcionarán todos los elementos que necesitamos para construir nuestros programas.\n",
    "\n",
    "Sin embargo, conforme tengamos que resolver tareas más complejas, acabaremos necesitando incluir librerías y módulos desarrollados por terceros. Como ya comentamos al principio de esta unidad, Python cuenta con una enorme comunidad de usuarios que colaboran y aportan nuevos módulos de forma libre para que todo el mundo pueda beneficiarse. Puedes empezar a explorar toda la variedad de librerías disponibles en la web de Pypi (_The Python Package Index_ - https://pypi.python.org/pypi).\n",
    "\n",
    "Para instalar y administrar los módulos que tenemos en nuestra máquina, contamos con la herramienta `pip`. Actualmente, `pip` está incluida ya en las instalaciones de Python a partir de las versiones 2.7.9 (para Python 2) y 3.4 (para Python 3). En versiones anteriores, es posible instalar `pip` siguiendo las instrucciones incluidas en la página web https://pip.pypa.io/en/stable/installing/\n",
    "\n",
    "Una vez que la herramienta está instalada, utilizar `pip` es muy sencillo. Se trata de una utilidad de línea de comandos, así que tendremos que abrir una consola o terminal.\n",
    "\n",
    "Para instalar un nuevo módulo utilizamos el comando `install` de `pip`:\n",
    "\n",
    "`$ pip install ModuloNuevo`\n",
    "\n",
    "Como ves, ni siquiera es necesario descargar los ficheros del módulo. Este comando automáticamente se conecta al repositorio de Pypi para obtener el módulo y procede a instalarlo. Si el nuevo módulo a su vez depende de otros para funcionar, estas dependencias también se descargarán e instalarán de forma automática.\n",
    "\n",
    "En la tabla siguiente tienes un listado de los comandos más habituales de `pip`\n",
    "\n",
    "| Comando                        | Descripción                    |\n",
    "|:-------------------------------|:-------------------------------|\n",
    "| `pip install Modulo`           | Instalar un módulo obtenido del repositorio |\n",
    "| `pip install --upgrade Modulo` | Actualizar la versión de un módulo ya instalado |\n",
    "| `pip uninstall Modulo`         | Desinstalar un módulo  |\n",
    "| `pip list`                     | Listar los módulos instalados |\n",
    "| `pip show Modulo`              | Mostrar información sobre un módulo instalado |\n",
    "| `pip search patron`            | Buscar información sobre módulos en el repositorio |\n"
   ]
  }
 ],
 "metadata": {
  "kernelspec": {
   "display_name": "Python 3 (ipykernel)",
   "language": "python",
   "name": "python3"
  },
  "language_info": {
   "name": "python",
   "version": ""
  },
  "orig_nbformat": 4
 },
 "nbformat": 4,
 "nbformat_minor": 2
}
