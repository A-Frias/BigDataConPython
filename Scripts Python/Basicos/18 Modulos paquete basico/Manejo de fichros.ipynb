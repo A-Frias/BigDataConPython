{
 "cells": [
  {
   "cell_type": "markdown",
   "metadata": {},
   "source": [
    "### Módulos para ficheros\n",
    "#### `fileinput`\n",
    "Este módulo proporciona funciones para iterar leyendo líneas de uno o más ficheros de entrada.\n",
    "\n",
    "`import fileinput as fin`\n",
    "\n",
    "|              | Descripción                                                          |\n",
    "|:-------------|:---------------------------------------------------------------------|\n",
    "| `fin.input()` | Itera leyendo línea a línea de todos los ficheros de entrada indicados |\n",
    "\n",
    "#### `csv`\n",
    "Este módulo proporciona funciones para leer y escribir ficheros en formato CSV.\n",
    "\n",
    "`import csv`\n",
    "\n",
    "|              | Descripción                                                          |\n",
    "|:-------------|:---------------------------------------------------------------------|\n",
    "| `csv.reader()` | Devuelve un objeto para leer el contenido de un fichero CSV determinado |\n",
    "| `csv.writer()` | Devuelve un objeto para escribir datos en un fichero con formato CSV |\n"
   ]
  }
 ],
 "metadata": {
  "kernelspec": {
   "display_name": "Python 3 (ipykernel)",
   "language": "python",
   "name": "python3"
  },
  "language_info": {
   "name": "python",
   "version": ""
  },
  "orig_nbformat": 4
 },
 "nbformat": 4,
 "nbformat_minor": 2
}
