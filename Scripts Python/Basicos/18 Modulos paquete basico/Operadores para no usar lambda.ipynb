{
 "cells": [
  {
   "cell_type": "markdown",
   "metadata": {},
   "source": [
    "#### `operator`\n",
    "Este módulo proporciona operadores comunes para su uso con funciones de orden superior, en lugar de expresiones _lambda_. Enumeramos solo algunos de los que incluye.\n",
    "\n",
    "`import operator as op`\n",
    "\n",
    "|              | Descripción                                                          |\n",
    "|:-------------|:---------------------------------------------------------------------|\n",
    "| `op.le` | Operación $x \\le y$ |\n",
    "| `op.eq` | Operación $x = y$ |\n",
    "| `op.abs` | Operación _valor absoluto_ |\n",
    "| `op.add` | Operación $x + y$ |\n",
    "| `op.sub` | Operación $x - y$ |\n",
    "| `op.mul` | Operación $x * y$ |\n",
    "| `op.pow` | Operación $x^y$ |\n"
   ]
  }
 ],
 "metadata": {
  "kernelspec": {
   "display_name": "Python 3 (ipykernel)",
   "language": "python",
   "name": "python3"
  },
  "language_info": {
   "name": "python",
   "version": ""
  },
  "orig_nbformat": 4
 },
 "nbformat": 4,
 "nbformat_minor": 2
}
