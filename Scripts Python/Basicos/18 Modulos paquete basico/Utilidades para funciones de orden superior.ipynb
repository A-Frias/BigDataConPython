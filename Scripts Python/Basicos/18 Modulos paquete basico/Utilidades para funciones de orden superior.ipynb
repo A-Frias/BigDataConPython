{
 "cells": [
  {
   "cell_type": "markdown",
   "metadata": {},
   "source": [
    "#### `functools`\n",
    "Este módulo incluye utilidades para facilitar el trabajo con funciones de orden superior\n",
    "\n",
    "`import functools as fn`\n",
    "\n",
    "|              | Descripción                                                          |\n",
    "|:-------------|:---------------------------------------------------------------------|\n",
    "| `fn.reduce()` | Implementa la función de orden superior de _reducción_ |\n"
   ]
  }
 ],
 "metadata": {
  "language_info": {
   "name": "python"
  },
  "orig_nbformat": 4
 },
 "nbformat": 4,
 "nbformat_minor": 2
}
