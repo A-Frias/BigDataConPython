{
 "cells": [
  {
   "cell_type": "markdown",
   "metadata": {},
   "source": [
    "#### `math`\n",
    "Este módulo ofrece varias funciones matemáticas de uso extendido\n",
    "\n",
    "`import math`\n",
    "\n",
    "|              | Descripción                                                          |\n",
    "|:-------------|:---------------------------------------------------------------------|\n",
    "| `math.ceil()` | Devuelve el número entero más pequeño que es mayor o igual que un valor |\n",
    "| `math.floor()` | Devuelve el número entero más grande que es menor o igual que un valor |\n",
    "| `math.gdc()` | Devuelve el máximo común divisor de dos números |\n",
    "| `math.isinf()` | Comprueba si es un valor infinito |\n",
    "| `math.trunc()` | Devuelve la parte entera de un número en punto flotante |\n",
    "| `math.exp()` | Devuelve el valor de $e^x$ |\n",
    "| `math.log()` | Devuelve el logaritmo de x (en base $e$) |\n",
    "| `math.sqrt()` | Devuelve la la raíz cuadrada de un valor |\n",
    "| `math.cos()` | Devuelve el coseno de un valor |\n",
    "| `math.sin()` | Devuelve el seno de un valor |\n",
    "| `math.tan()` | Devuelve la tangente de un valor |\n",
    "| `math.pi` | Constante con el valor del número $\\pi$ |\n",
    "| `math.e` | Constante con el valor del número $e$ |\n",
    "| `math.inf` | Constante que representa Infinito |\n"
   ]
  }
 ],
 "metadata": {
  "language_info": {
   "name": "python"
  },
  "orig_nbformat": 4
 },
 "nbformat": 4,
 "nbformat_minor": 2
}
