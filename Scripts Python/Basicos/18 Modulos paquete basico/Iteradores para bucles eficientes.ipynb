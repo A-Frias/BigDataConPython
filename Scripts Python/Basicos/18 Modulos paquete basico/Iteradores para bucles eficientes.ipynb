{
 "cells": [
  {
   "cell_type": "markdown",
   "metadata": {},
   "source": [
    "#### `itertools`\n",
    "Este módulo ofrece una serie de _iteradores_ muy útiles para construir ciertos bucles de forma eficiente\n",
    "\n",
    "`import itertools as it`\n",
    "\n",
    "|              | Descripción                                                          |\n",
    "|:-------------|:---------------------------------------------------------------------|\n",
    "| `it.cycle()` | Itera indefinidamente de forma cíclica sobre los elementos de una secuencia |\n",
    "| `it.repeat()` | Itera repitiendo un mismo valor |\n",
    "| `it.accumulate()` | Itera sobre los valores acumulados de una secuencia |\n",
    "| `it.product()` | Itera sobre el producto cartesiano de dos secuencias |\n",
    "| `it.permutations()` | Itera sobre las permutaciones de _k_ elementos de una secuencia |\n",
    "| `it.combinations()` | Itera sobre las combinaciones únicas ordenadas de _k_ elementos de una secuencia |\n"
   ]
  }
 ],
 "metadata": {
  "kernelspec": {
   "display_name": "Python 3 (ipykernel)",
   "language": "python",
   "name": "python3"
  },
  "language_info": {
   "name": "python",
   "version": ""
  },
  "orig_nbformat": 4
 },
 "nbformat": 4,
 "nbformat_minor": 2
}
