{
 "cells": [
  {
   "cell_type": "markdown",
   "metadata": {},
   "source": [
    "### Módulos adicionales para cadenas de texto\n",
    "#### `string`\n",
    "Este módulo proporciona constantes y funciones adicionales para formatear cadenas de texto\n",
    "\n",
    "`import string`\n",
    "\n",
    "|              | Descripción                                                          |\n",
    "|:-------------|:---------------------------------------------------------------------|\n",
    "| `string.ascii_lowercase` | Secuencia de caracteres alfabéticos en minúscula |\n",
    "| `string.ascii_uppercase` | Secuencia de caracteres alfabéticos en mayúscula |\n",
    "| `string.digits` | Secuencia de caracteres numéricos |\n",
    "| `string.Formatter` | Clase para dar formatos avanzados a cadenas de texto  |\n",
    "\n",
    "#### `re`\n",
    "Este módulo proporciona las funcionalidades para trabajar con expresiones regulares en Python.\n",
    "Las expresiones regulares son una forma de expresar patrones de búsqueda mediante una secuencia de caracteres. Se trata de una herramienta muy potente para realizar búsquedas, extracciones, sustituciones y otras operaciones de edición sobre cadenas de texto.\n",
    "Si no las has usado nunca y no conoces cómo funcionan, no te preocupes, tarde o temprano te toparás con ellas. Solo recuerda que Python te permite usarlas.\n",
    "\n",
    "`import re`\n",
    "\n",
    "|              | Descripción                                                          |\n",
    "|:-------------|:---------------------------------------------------------------------|\n",
    "| `re.compile()` | Compila una expresión regular para poder utilizarla en búsquedas |\n",
    "| `re.search()` | Busca la primera ocurrencia de una expresión regular |\n",
    "| `re.match()` | Busca la expresión regular y devuelve los elementos con correspondencia al patrón |\n",
    "| `re.split()` | Divide una cadena de texto en porciones en base al patrón |\n"
   ]
  }
 ],
 "metadata": {
  "language_info": {
   "name": "python"
  },
  "orig_nbformat": 4
 },
 "nbformat": 4,
 "nbformat_minor": 2
}
