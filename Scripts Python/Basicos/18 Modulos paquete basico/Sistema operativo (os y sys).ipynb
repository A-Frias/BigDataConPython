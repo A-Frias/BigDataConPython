{
 "cells": [
  {
   "cell_type": "markdown",
   "metadata": {},
   "source": [
    "### Módulos del sistema\n",
    "#### `os`\n",
    "Este módulo incluye funciones básicas para acceder e interactuar al sistema operativo.\n",
    "\n",
    "`import os`\n",
    "\n",
    "|                | Descripción                                                          |\n",
    "|:---------------|:---------------------------------------------------------------------|\n",
    "| `os.environ`   | Permite acceder a las variables de entorno; p.ej. os.environ['HOME'] |\n",
    "| `os.chdir()`   | Cambiar el directorio de trabajo de la sesión actual                 |\n",
    "| `os.mkdir()`   | Crear nuevos directorios                                             |\n",
    "| `os.rmdir()`   | Borrar directorios                                                   |\n",
    "| `os.listdir()` | Devuelve un listado con el contenido de un directorio                |\n",
    "| `os.open()`    | Abrir un fichero                                                     |\n",
    "| `os.close()`   | Cerrar un fichero                                                    |\n",
    "\n",
    "\n",
    "\n",
    "#### `os.path`\n",
    "Este módulo nos permite realizar consultas sobre nombres de ficheros y directorios\n",
    "\n",
    "`import os.path`\n",
    "\n",
    "|              | Descripción                                                          |\n",
    "|:-------------|:---------------------------------------------------------------------|\n",
    "| `os.path.basename()` | Devuelve el nombre del último elemento (directorio/fichero) de una ruta |\n",
    "| `os.path.dirname()` | Devuelve la cadena de directorios hasta el último elemento de la ruta |\n",
    "| `os.path.absname()`  | Devuelve la ruta absoluta completa hasta un directorio o fichero |\n",
    "| `os.path.isdir()` | Comprueba si una ruta corresponde a un directorio |\n",
    "| `os.path.isfile()` | Comprueba si una ruta corresponde a un fichero |\n",
    "\n",
    "\n",
    "#### `sys`\n",
    "Este módulo da acceso a variables y funciones relacionadas con el intérprete y su estado\n",
    "\n",
    "`import sys`\n",
    "\n",
    "|              | Descripción                                                          |\n",
    "|:-------------|:---------------------------------------------------------------------|\n",
    "| `sys.path` | Listado de directorios de búsqueda de módulos |\n",
    "| `sys.modules` | Diccionario con los módulos cargados actualmente |\n",
    "| `sys.version` | Versión de Python ejecutándose |\n",
    "| `sys.argv` | Listado de parámetros pasados al _script_ Python por línea de comandos |\n",
    "| `sys.stdin` | Referencia a la entrada estándar de datos |\n",
    "| `sys.stdout` | Referencia a la salida estándar de datos |\n",
    "| `sys.stderr` | Referencia a la salida estándar de errores |\n",
    "| `sys.exit()` | Terminar la ejecución de Python y salir al sistema operativo |\n",
    "\n",
    "\n"
   ]
  }
 ],
 "metadata": {
  "language_info": {
   "name": "python"
  },
  "orig_nbformat": 4
 },
 "nbformat": 4,
 "nbformat_minor": 2
}
