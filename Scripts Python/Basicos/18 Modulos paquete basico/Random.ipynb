{
 "cells": [
  {
   "cell_type": "markdown",
   "metadata": {},
   "source": [
    "#### `random`\n",
    "Este módulo proporciona funcionalidades para generar números pseudo-aleatorios, trabajar con diferentes distribuciones de probabilidad y simular procesos y muestreos estocásticos.\n",
    "\n",
    "`import random`\n",
    "\n",
    "|              | Descripción                                                          |\n",
    "|:-------------|:---------------------------------------------------------------------|\n",
    "| `random.seed()` | Inicializar la _semilla_ del generador de números aleatorios |\n",
    "| `random.randint()` | Devuelve un número entero aleatorio entre dos valores |\n",
    "| `random.choice()` | Devuelve un elemento elegido aleatoriamente de una secuencia |\n",
    "| `random.shuffle()` | Mezcla aleatoriamente los elementos de una secuencia |\n",
    "| `random.sample()` | Extrae una muestra aleatoria de _k_ elementos de una secuencia |\n",
    "| `random.random()` | Devuelve un número aleatorio en punto flotante entre 0 y 1 |\n",
    "| `random.uniform()` | Devuelve un número aleatorio a partir de una distribución uniforme |\n",
    "| `random.expovariate()` | Devuelve un número aleatorio a partir de una distribución exponencial |\n",
    "| `random.gauss()` | Devuelve un número aleatorio a partir de una distribución normal |\n"
   ]
  }
 ],
 "metadata": {
  "language_info": {
   "name": "python"
  },
  "orig_nbformat": 4
 },
 "nbformat": 4,
 "nbformat_minor": 2
}
