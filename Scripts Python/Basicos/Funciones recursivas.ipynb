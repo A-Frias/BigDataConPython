{
 "cells": [
  {
   "cell_type": "code",
   "execution_count": null,
   "metadata": {},
   "outputs": [],
   "source": []
  },
  {
   "cell_type": "markdown",
   "metadata": {},
   "source": [
    "## Recursión\n",
    "\n",
    "En el cuerpo de una función se puede llamar a otras funciones. Y naturalmente una función también se puede llamarse a sí misma. Es lo que se llama una definición recursiva.\n",
    "\n",
    "Este tipo de construcciones son habituales en definiciones de series o progresiones matemáticas, o para recorrer determinados tipos de estructuras de datos.\n",
    "\n",
    "Tomemos por ejemplo la conocida [_Sucesión de Fibonacci_](https://es.wikipedia.org/wiki/Sucesi%C3%B3n_de_Fibonacci), que se define así"
   ]
  },
  {
   "cell_type": "markdown",
   "metadata": {},
   "source": [
    "$$ Fib\\left(0\\right) = 0 $$\n",
    "$$ Fib\\left(1\\right) = 1 $$\n",
    "$$ Fib\\left(n\\right) = Fib\\left(n-1\\right) + Fib\\left(n-2\\right) $$"
   ]
  },
  {
   "cell_type": "markdown",
   "metadata": {},
   "source": [
    "El elemento _n-ésimo_ de la sucesión (para n >= 2) se construye sumando los elementos para _(n-1)_ y _(n-2)_. Esto es una definición recursiva. Escribamos unos cuantos términos:\n",
    "\n",
    "$$ Fib\\left(0\\right) = 0 $$\n",
    "$$ Fib\\left(1\\right) = 1 $$\n",
    "$$ Fib\\left(2\\right) = Fib\\left(1\\right) + Fib\\left(0\\right) = 1 + 0 = 1 $$\n",
    "$$ Fib\\left(3\\right) = Fib\\left(2\\right) + Fib\\left(1\\right) = 1 + 1 = 2 $$\n",
    "$$ Fib\\left(4\\right) = Fib\\left(3\\right) + Fib\\left(2\\right) = 2 + 1 = 3 $$\n",
    "$$ Fib\\left(5\\right) = Fib\\left(4\\right) + Fib\\left(3\\right) = 3 + 2 = 5 $$\n",
    "$$ Fib\\left(6\\right) = Fib\\left(5\\right) + Fib\\left(4\\right) = 5 + 3 = 8 $$\n",
    "\n",
    "En Python podemos construir una función que implemente esta definición recursiva"
   ]
  },
  {
   "cell_type": "code",
   "execution_count": null,
   "metadata": {},
   "outputs": [
    {
     "data": {
      "text/plain": [
       "2"
      ]
     },
     "metadata": {},
     "output_type": "display_data"
    },
    {
     "data": {
      "text/plain": [
       "8"
      ]
     },
     "metadata": {},
     "output_type": "display_data"
    }
   ],
   "source": [
    "def fibonacci(n):\n",
    "    \"\"\"Calcula el n-ésimo elemento de la serie de Fibonacci\"\"\"\n",
    "    if n == 0:\n",
    "        return 0\n",
    "    elif n == 1:\n",
    "        return 1\n",
    "    else:\n",
    "        return fibonacci(n-1) + fibonacci(n-2)\n",
    "\n",
    "\n",
    "fibonacci(3)\n",
    "fibonacci(6)"
   ]
  },
  {
   "cell_type": "markdown",
   "metadata": {},
   "source": [
    "¿Cuáles son las ventajas de las funciones recursivas? Bueno, como puedes ver el código es sencillo y fácil de entender. Si quisieramos hacer lo mismo usando bucles tendríamos que utilizar más variables para iterar y para almacenar resultados intermedios. Las funciones recursivas encajan muy bien para este tipo de casos.\n",
    "\n",
    "Sin embargo, también tienen inconvenientes. Las funciones recursivas suelen consumir mucha más memoria y tiempo de ejecución cuando el número de veces que se tienen que llamar a sí mismas es grande. Esto hace que además sean más complicadas de depurar si hay algún error. Es más, si no se tiene cuidado al programarlas podemos caer en una recursión infinita, de la que no se pueda salir sin un error o una interrupción externa."
   ]
  }
 ],
 "metadata": {
  "language_info": {
   "name": "python"
  },
  "orig_nbformat": 4
 },
 "nbformat": 4,
 "nbformat_minor": 2
}
