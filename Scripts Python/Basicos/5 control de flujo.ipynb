{
 "cells": [
  {
   "cell_type": "code",
   "execution_count": null,
   "metadata": {},
   "outputs": [],
   "source": []
  },
  {
   "cell_type": "markdown",
   "metadata": {},
   "source": [
    "# Control de flujo\n",
    "\n",
    "Para empezar a resolver tareas más complejas necesitaremos poder indicar no solo qué queremos calcular, también cuándo y cómo ejecutar los cálculos. En Python disponemos de instrucciones para controlar el flujo de ejecución, similares a las que encontramos en otros lenguajes de programación.\n",
    "\n",
    "## Ejecución condicional\n",
    "La primera estructura de control que vamos a ver es la ejecución condicional.\n",
    "Esta estructura nos permite decidir si ejecutamos o no una operación (o varias) dependiendo de si una condición se cumple o no.\n",
    "\n",
    "En Python esto se consigue con la sentencia `if`, que sigue esta estructura básica\n",
    "\n",
    "```\n",
    "if condicion:\n",
    "    instruccion_1\n",
    "    ...\n",
    "    instruccion_n\n",
    "```\n"
   ]
  },
  {
   "cell_type": "code",
   "execution_count": null,
   "metadata": {},
   "outputs": [
    {
     "name": "stdout",
     "output_type": "stream",
     "text": [
      "Tengo 100 euros.\n",
      "Voy a seguir mirando\n",
      "La chaqueta cuesta menos de 100 euros\n",
      "Puedo comprar la chaqueta\n",
      "Ya no miro más\n"
     ]
    }
   ],
   "source": [
    "precio_chaqueta = 59.95\n",
    "precio_abrigo = 140\n",
    "dinero_disponible = 100\n",
    "\n",
    "print(\"Tengo {} euros.\".format(dinero_disponible))\n",
    "\n",
    "# Comprobamos la condición\n",
    "if (precio_abrigo <= dinero_disponible):\n",
    "    # Si es cierta, ejecutamos este bloque (1) de instrucciones\n",
    "    print(\"El abrigo cuesta menos de {} euros\".format(dinero_disponible))\n",
    "    print(\"Puedo comprar el abrigo\")\n",
    "    # Este bloque (1) termina aquí\n",
    "print(\"Voy a seguir mirando\")\n",
    "\n",
    "# Comprobamos otra condición\n",
    "if (precio_chaqueta <= dinero_disponible):\n",
    "    # Si es cierta, ejecutamos este bloque (2) de instrucciones\n",
    "    print(\"La chaqueta cuesta menos de {} euros\".format(dinero_disponible))\n",
    "    print(\"Puedo comprar la chaqueta\")\n",
    "    # Este bloque (2) termina aquí\n",
    "print(\"Ya no miro más\")\n"
   ]
  },
  {
   "cell_type": "markdown",
   "metadata": {},
   "source": [
    "Sencillo, ¿verdad? Este ejemplo nos sirve además para explicar alguna característica adicional de Python. Prueba a ejecutarlo y repasemos lo que ocurre.\n",
    "\n",
    "Después de declarar las variables que vamos a usar, nos encontramos con el primer `if` y la condición que tiene que comprobar. La condición puede ser cualquier expresión que al evaluarla devuelva un valor booleano (verdadero o falso). La sentencia termina seguida de dos puntos (`:`). Este símbolo marca el fin de la expresión a evaluar, y a continuación el inicio de un bloque de una o más instrucciones que se ejecutarán si la condición se cumple.\n",
    "\n",
    "Como ves, el bloque de instrucciones dentro del `if` está indentado. En otros lenguajes de programación esto es solo cuestión de estilo y legibilidad. Sin embargo, en Python es obligatorio.\n",
    "\n",
    "> **Importante** La sangría o indentación es la forma que tiene Python de delimitar y agrupar bloques de código. Python considera que todas las líneas con un mismo nivel de indentación pertenecen a un mismo bloque o cuerpo de código. En cuanto detecta una línea con menos indentación, asume que el bloque ha terminado.\n",
    "\n",
    "Así pues, es muy importante que todas las líneas dentro de un mismo bloque estén indentadas de la misma forma. Se puede usar el tabulador o espacios, pero debe ser igual en todas las líneas. \n",
    "\n",
    "¡Pero no te asustes pensando que vas a tener que andar contando espacios en blanco todo el tiempo! Hoy en día la mayoría de los entornos y editores de código para Python se encargan de insertar y controlar la indentación adecuada de forma automática. Si detecta que alguna línea no encaja bien, te lo indicará.\n",
    "\n",
    "Volvamos a las sentencias `if`. En el ejemplo anterior comprobábamos una condición (`precio_abrigo <= dinero_disponible`) y después otra (`precio_chaqueta <= dinero_disponible`) de forma independiente. No hay ningún problema en hacerlo así. Pero en muchas ocasiones, las condiciones que tenemos que validar dependerán unas de otras o serán excluyentes entre sí. En Python podemos hacerlo así\n"
   ]
  },
  {
   "cell_type": "code",
   "execution_count": null,
   "metadata": {},
   "outputs": [
    {
     "name": "stdout",
     "output_type": "stream",
     "text": [
      "Me voy a comprar la chaqueta\n"
     ]
    }
   ],
   "source": [
    "if precio_abrigo <= dinero_disponible:\n",
    "    # si se cumple la condición (1), ejecuta este bloque\n",
    "    print(\"Me voy a comprar el abrigo\")\n",
    "elif precio_chaqueta <= dinero_disponible:\n",
    "    # si no, si se cumple la condicion (2) ejecuta este bloque\n",
    "    print(\"Me voy a comprar la chaqueta\")\n",
    "else:\n",
    "    # si no se cumplió ninguna, ejecuta este bloque\n",
    "    print(\"Me voy con las manos vacías :-(\")\n",
    "\n"
   ]
  },
  {
   "cell_type": "markdown",
   "metadata": {},
   "source": [
    "Generalizando, esta estructura de código seguiría este esquema\n",
    "\n",
    "```\n",
    "if condicion_1:\n",
    "   bloque_1\n",
    "elif condicion_2:\n",
    "   bloque_2\n",
    "...\n",
    "elif condicion_n:\n",
    "   bloque_n\n",
    "else:\n",
    "   bloque_por_defecto\n",
    "```\n",
    "\n",
    "En este esquema, las sentencias se van evaluando de forma secuencial hasta que se encuentre una condición que se cumpla. Cada sentencia `elif condicion_i:` indica una condición alternativa a comprobar y sólo se evalua si no se han cumplido ninguna de las (i - 1) condiciones previas.\n",
    "\n",
    "La primera condición que resulte ser verdadera provocará que se ejecute su bloque correspondiente. Después se saltará hasta el final del grupo `if .. elif .. else`, sin comprobar ninguna otra condición.\n",
    "\n",
    "La sentencia `else:` nos sirve para indicar qué hacer cuando ninguna de las condiciones previas se ha cumplido.\n",
    "\n",
    "Podemos encadenar todas las sentencias `elif` que necesitemos. La sentencia `else` solamente puede aparecer una vez al final del grupo `if`."
   ]
  }
 ],
 "metadata": {
  "language_info": {
   "name": "python"
  },
  "orig_nbformat": 4
 },
 "nbformat": 4,
 "nbformat_minor": 2
}
