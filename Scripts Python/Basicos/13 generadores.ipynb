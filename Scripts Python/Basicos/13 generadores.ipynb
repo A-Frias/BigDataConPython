{
 "cells": [
  {
   "cell_type": "markdown",
   "metadata": {},
   "source": [
    "## Generadores\n",
    "\n",
    "Un par de párrafos más arriba acabamos de ver que si queremos crear una tupla definida por comprensión no basta con reemplazar los corchetes por paréntesis, tenemos que usar el constructor `tuple()`.\n",
    "\n",
    "Bueno, ¿y qué obtenemos entonces si usamos solamente los paréntesis?\n",
    "\n",
    "En este caso, en lugar de devolver inmediatamente una secuencia completa con todos los valores, Python nos devuelve un tipo especial de objeto que denominamos _generador_. \n",
    "\n",
    "Digamos que un _generador_ es un objeto que se encarga de hacer los cálculos para _generar_ los valores resultantes uno a uno conforme los necesitemos y los vayamos pidiendo, _iterando_ sobre la colección de entrada, en lugar de construir la secuencia entera de golpe.\n",
    "\n",
    "La utilidad de este mecanismo es que así se ahorra espacio de memoria (no tenemos que almacenar todos los resultados) y resulta más eficiente en los casos en los que no necesitamos la secuencia resultado completa de una vez, por ejemplo si queremos iterar los valores en un bucle.\n"
   ]
  },
  {
   "cell_type": "code",
   "execution_count": null,
   "metadata": {},
   "outputs": [
    {
     "name": "stdout",
     "output_type": "stream",
     "text": [
      "<generator object <genexpr> at 0x7f9d9438dca8>\n"
     ]
    }
   ],
   "source": [
    "# construimos un generador para la tabla de multiplicar del 7\n",
    "gen_tabla_7 = ( 7 * x for x in range(0, 10) )\n",
    "\n",
    "# si intentamos imprimir el contenido de 'gen_tabla_7'...\n",
    "print(gen_tabla_7)\n",
    "# no veremos una secuencia, si no un mensaje \n",
    "# indicando que es un objeto de tipo 'generator'"
   ]
  },
  {
   "cell_type": "code",
   "execution_count": null,
   "metadata": {},
   "outputs": [
    {
     "name": "stdout",
     "output_type": "stream",
     "text": [
      "0\n",
      "7\n",
      "14\n",
      "21\n",
      "28\n",
      "35\n",
      "42\n",
      "49\n",
      "56\n",
      "63\n"
     ]
    }
   ],
   "source": [
    "# vamos a usarlo en un bucle\n",
    "for v in gen_tabla_7:\n",
    "    print(v)\n",
    "\n",
    "# el generador va devolviendo un nuevo valor \n",
    "# cada vez que se le pide\n",
    "# hasta que agota todos los valores de su dominio de entrada"
   ]
  },
  {
   "cell_type": "markdown",
   "metadata": {},
   "source": [
    "Si tenemos un generador y queremos extraer sus valores a una lista, podemos utilizar el constructor `list`"
   ]
  },
  {
   "cell_type": "code",
   "execution_count": null,
   "metadata": {},
   "outputs": [
    {
     "name": "stdout",
     "output_type": "stream",
     "text": [
      "[0, 3, 6, 9, 12, 15, 18, 21, 24, 27]\n"
     ]
    }
   ],
   "source": [
    "# si tenemos un generador\n",
    "gen_tabla_3 = ( 3 * x for x in range(0, 10) )\n",
    "# y queremos pasar todos sus elementos a una lista, usamos 'list'\n",
    "lista_tabla_3 = list(gen_tabla_3)\n",
    "print(lista_tabla_3)"
   ]
  },
  {
   "cell_type": "markdown",
   "metadata": {},
   "source": [
    "Fíjate que si intentas volver a utilizar el generador después de haber iterado todos sus elementos (en un bucle o al extraerlos a una lista), no obtendrás nada, excepto posiblemente un error. El generador ha quedado vacío, está agotado, ya no tiene valores que devolver."
   ]
  },
  {
   "cell_type": "code",
   "execution_count": null,
   "metadata": {},
   "outputs": [
    {
     "name": "stdout",
     "output_type": "stream",
     "text": [
      "[]\n"
     ]
    }
   ],
   "source": [
    "otra_lista_tabla_3 = list(gen_tabla_3)\n",
    "\n",
    "# obtienes una lista vacía []\n",
    "print(otra_lista_tabla_3)"
   ]
  }
 ],
 "metadata": {
  "kernelspec": {
   "display_name": "Python 3.9.13",
   "language": "python",
   "name": "python3"
  },
  "language_info": {
   "name": "python",
   "version": "3.9.13"
  },
  "orig_nbformat": 4,
  "vscode": {
   "interpreter": {
    "hash": "eb6fcc4987d40a8a7a9bcbb3f79366e5006f70e69b6b24b8b7e2973ccc311291"
   }
  }
 },
 "nbformat": 4,
 "nbformat_minor": 2
}
