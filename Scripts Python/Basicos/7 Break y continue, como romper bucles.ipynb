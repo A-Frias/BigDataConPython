{
 "cells": [
  {
   "cell_type": "markdown",
   "metadata": {},
   "source": [
    "## `break`, `continue` y bucles anidados\n",
    "\n",
    "Naturalmente podemos anidar bucles dentro de otros cuando lo necesitemos en nuestros programas.\n"
   ]
  },
  {
   "cell_type": "code",
   "execution_count": null,
   "metadata": {},
   "outputs": [
    {
     "name": "stdout",
     "output_type": "stream",
     "text": [
      "1\n",
      "12\n",
      "123\n",
      "1234\n"
     ]
    }
   ],
   "source": [
    "for i in range(1, 5):        # bucle exterior\n",
    "    for j in range(1, i+1):  # bucle interior\n",
    "        print(j, end = '')   # `end` indica el caracter a usar al final de la cadena\n",
    "    print()                  # sin argumentos solo imprime un salto de linea\n"
   ]
  },
  {
   "cell_type": "markdown",
   "metadata": {},
   "source": [
    "Sin embargo, en algunas ocasiones querremos alterar el flujo normal de ejecución de un bucle. Para ello disponemos de las sentencias `break` y `continue`.\n",
    "\n",
    "La sentencia `break` sirve para interrumpir la ejecución del bucle más interno en el que se encuentre y devolver el flujo fuera del bucle inmediatamente a la siguente instrucción. Lo entenderás más fácil con un ejemplo:"
   ]
  },
  {
   "cell_type": "code",
   "execution_count": null,
   "metadata": {
    "collapsed": true
   },
   "outputs": [],
   "source": [
    "# calcular qué números son primos entre 10 y 19\n",
    "for n in range(10, 20):            # Bucle Externo: iteramos de 10 a 19\n",
    "    print(\"n =\", n)\n",
    "    tiene_divisor = False          #   al inicio, aun no hemos encontrado un divisor de n\n",
    "    for d in range(2, n):          # Bucle Interno: nums entre 2 y (n-1) ¿son divisores de n?\n",
    "        print(\"* d =\", d)\n",
    "        if n % d == 0:             #   si d es divisor de n, el resto es cero\n",
    "            tiene_divisor = True   #   en este caso n no es primo, tiene un divisor\n",
    "            break                  #   podemos pasar al siguiente numero n (saltar a bucle externo)\n",
    "    if not tiene_divisor:          # si no hemos encontrado divisor en el bucle interno\n",
    "        print(\"\\t>\",n, 'es primo') # entonces n es primo!\n"
   ]
  },
  {
   "cell_type": "markdown",
   "metadata": {},
   "source": [
    "La orden `break` interrumpe la ejecución y sale del bucle interno (donde buscamos divisores para n) en cuanto encontramos el primer divisor. Si probamos todos los posibles candidatos a divisor en el bucle interno y ninguno es un divisor válido, entonces el bucle interno terminará normalmente y podremos decir que n es primo.\n",
    "\n",
    "Para casos así en los que queremos hacer algo cuando el bucle termina normalmente (al agotar todos los valores), Python nos permite usar la sentencia `else`. Sí, como lo oyes (bueno, como lo lees), los bucles en Python también pueden tener `else`. Vamos a usarlo para ajustar el ejemplo anterior"
   ]
  },
  {
   "cell_type": "code",
   "execution_count": null,
   "metadata": {
    "collapsed": true
   },
   "outputs": [],
   "source": [
    "# calcular qué números son primos entre 10 y 19\n",
    "for n in range(10, 20):            # Bucle Externo: iteramos de 10 a 19\n",
    "    print(\"n =\", n)\n",
    "    for d in range(2, n):          # Bucle Interno: nums entre 2 y (n-1) ¿son divisores de n?\n",
    "        print(\"* d =\", d)\n",
    "        if n % d == 0:             #   si d es divisor de n, el resto es cero\n",
    "            break                  #   luego n no es primo, pasar al siguiente numero n\n",
    "    else:                          # Else: solo llegamos al agotar la secuencia del Bucle Interno\n",
    "        print(\"\\t>\",n, 'es primo') # entonces no hemos encontrado divisor, y n es primo!\n"
   ]
  },
  {
   "cell_type": "markdown",
   "metadata": {},
   "source": [
    "¿Ves las diferencias en el código? Ya no necesitamos usar la variable `tiene_divisor` para controlar si hemos encontrado uno o no. Tampoco nos hace falta el `if` al terminar el bucle interno. La sentencia `else` ya se encarga de ejecutar su bloque solamente si hemos agotado la iteración del bucle hasta el final. El código es más sencillo, y el resultado es el mismo.\n",
    "\n",
    "Para terminar con los bucles, la sentencia `continue` nos permite saltar a la siguiente iteración sin salir del bucle, pero descartando el resto de cálculos pendientes en el ciclo actual."
   ]
  },
  {
   "cell_type": "code",
   "execution_count": null,
   "metadata": {
    "collapsed": true
   },
   "outputs": [],
   "source": [
    "# queremos calcular la nota media de un alumno\n",
    "calificaciones = [\"10\", \"notable\", None, \"8\", \"6\"]   # Tenemos una lista de notas de asignaturas\n",
    "                                                     # algunas son numéricas, otras texto\n",
    "                                                     # Hay un 'None', esto representa un valor ausente\n",
    "\n",
    "suma = n = 0                                         # Inicializamos variables auxiliares\n",
    "\n",
    "for nota in calificaciones:                          # Recorremos las calificaciones\n",
    "    if nota is None:                                 #   si la nota está ausente,\n",
    "        continue                                     #      pasamos a la siguiente\n",
    "    elif not nota.isnumeric():                       #   si la nota no es un número\n",
    "        continue                                     #      pasamos a la siguiente también\n",
    "    else:                                            #   en caso contrario\n",
    "        suma = suma + float(nota)                    #      podemos computar la nota\n",
    "        n = n + 1                                    #      para la media\n",
    "\n",
    "print(\"La nota media es\", (suma/n))\n"
   ]
  },
  {
   "cell_type": "markdown",
   "metadata": {},
   "source": [
    "\n",
    "> **El experto opina** Para algunos programadores, el uso de las sentencias `break` y `continue` es desaconsejable porque interrumpe el flujo normal del código, puede hacerlo más difícil de entender y en general siempre es posible hacer lo mismo añadiendo condicionales. En mi opinión, hay casos en los que resultan muy útiles y no solo no enturbian el código, si no que lo hacen más sucinto y claro de entender. Entonces, ¿cuándo usarlas? Bueno, es una cuestión de gustos y experiencia. Mi recomendación es que si simplifica el código y no lo vuelve más confuso para alguien que lo lea, no hay problema en utilizar `break` o `continue`.\n",
    "\n",
    "> Y si, un código legible y fácil de entender por otra persona es algo muy recomendable. Tus programas no solo los va a ejecutar una máquina. Normalmente tú mismo tendrás que volver a modificarlo tarde o temprano. Por no hablar de otras personas con las que colabores. Programar un código elegante y comprensible es una gran virtud. ¡Y Python es un lenguaje fantástico para conseguirlo! \n",
    "\n"
   ]
  }
 ],
 "metadata": {
  "kernelspec": {
   "display_name": "Python 3.10.4 ('my-librerias_conda')",
   "language": "python",
   "name": "python3"
  },
  "language_info": {
   "name": "python",
   "version": "3.10.4"
  },
  "orig_nbformat": 4,
  "vscode": {
   "interpreter": {
    "hash": "e2c8164b09c84a4296ce44202d86ea351204bdb089cdae6c644b73eda2883856"
   }
  }
 },
 "nbformat": 4,
 "nbformat_minor": 2
}
