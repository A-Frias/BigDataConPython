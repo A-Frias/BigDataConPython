{
 "cells": [
  {
   "cell_type": "markdown",
   "metadata": {},
   "source": [
    "## Un pez llamado `lambda`...\n",
    "\n",
    "En ocasiones, necesitamos utilizar una pequeña función para realizar algún cálculo en un punto específico de nuestro programa y nada más. En casos como éste y otros que te vamos a presentar, sería más cómodo si pudiéramos expresar la función de una forma más sencilla, sin tener que definir el encabezado con su `def`, su nombre, ...\n",
    "\n",
    "En Python podemos conseguir esto utilizando las funciones _anónimas_, también llamadas funciones o expresiones _lambda_, por la cláusula que se utiliza para definirlas.\n",
    "\n",
    "Una función _anónima_ efectivamente comienza con la palabra clave `lambda` (en lugar de `def` como las funciones normales) y no tiene un nombre identificador (de ahí lo de _anónima_). Una función _lambda_ puede tener cualquier número de argumentos, pero su cuerpo solamente puede constar de una expresión que devuelva un valor."
   ]
  },
  {
   "cell_type": "code",
   "execution_count": null,
   "metadata": {},
   "outputs": [
    {
     "data": {
      "text/plain": [
       "15"
      ]
     },
     "metadata": {},
     "output_type": "display_data"
    }
   ],
   "source": [
    "# creamos una función anónima \n",
    "# y se la asignamos a la variable 'triple'\n",
    "triple = lambda x: 3 * x\n",
    "\n",
    "triple(5)"
   ]
  },
  {
   "cell_type": "markdown",
   "metadata": {},
   "source": [
    "Después de la palabra clave `lambda` colocamos todos los parámetros separados por comas. Fíjate que no ponemos paréntesis. Después de la lista de parámetros se ponen dos puntos (`:`) y seguidamente la expresión que calcula el resultado a devolver.\n",
    "\n",
    "En este ejemplo, hemos asignado la función anónima que hemos creado a una variable. Después utilizamos esta variable para llamar a la función. Probablemente estarás preguntándote _\"¿y para esto hace falta crear las funciones lambda? ¿No hacen ya este papel las funciones normales?\"_\n",
    "\n",
    "Si es así, ¡estarás haciendo muy bien!\n",
    "\n",
    "El ejemplo anterior era solamente una forma sencilla de mostrarte la sintáxis para definir una función anónima.\n",
    "\n",
    "Sin embargo, la verdadera utilidad viene cuando tenemos funciones que pueden recibir otras funciones como parámetros. O funciones que devuelven como resultado otra función. Veamos un ejemplo para entender de qué hablamos."
   ]
  },
  {
   "cell_type": "code",
   "execution_count": null,
   "metadata": {
    "collapsed": true
   },
   "outputs": [],
   "source": [
    "def genera_multiplicador(n):\n",
    "    \"\"\"Esta función crea y devuelve a su vez \n",
    "       una nueva función que multiplicará \n",
    "       cualquier valor por n\"\"\"\n",
    "    return lambda x: x * n\n",
    "\n",
    "# vamos a generar una nueva función \n",
    "# que multiplique su entrada por 2\n",
    "doble = genera_multiplicador(2)\n",
    "# la variable 'doble' apunta ahora \n",
    "# a una función anónima que devuelve \n",
    "# su entrada multiplicada por 2\n",
    "print( doble(3) )\n",
    "print( doble(5) )\n",
    "\n",
    "# ahora generamos una nueva función \n",
    "# que multiplique su entrada por 3\n",
    "triple = genera_multiplicador(3)\n",
    "# la variable 'triple' apunta ahora \n",
    "# a una función anónima que devuelve \n",
    "# su entrada multiplicada por 3\n",
    "print( triple(7) )\n",
    "print( triple(9) )"
   ]
  },
  {
   "cell_type": "markdown",
   "metadata": {},
   "source": [
    "¿Un poco complicado? Repasemos el código paso a paso.\n",
    "\n",
    "Empezamos definiendo la función `genera_multiplicador`. Es una función normal, con su `def` y que recibe un parámetro `n`.\n",
    "\n",
    "Lo complejo viene en el cuerpo. En lugar de devolver un valor _\"normal\"_, como habíamos visto hasta ahora, esta función devuelve una expresión `lambda`, devuelve _otra función_.\n",
    "\n",
    "En este caso, devuelve una función _lambda_ que, a su vez, lo que hace es tomar su parámetro `x` y devolverlo multiplicado por `n`.\n",
    "\n",
    "Imaginemos este ejemplo de otra manera. Supón que tenemos un almacen en el que vendemos herramientas preparadas para construir formas geométricas. Tenemos una máquina configurable con la que podemos preparar estas herramientas a medida para construir las formas geométricas que necesiten los clientes. \n",
    "Viene un cliente y nos pide una herramienta para construir triángulos de cualquier tamaño. Nosotros vamos a nuestra máquina, la configuramos y producimos una nueva herramienta que está ajustada para construir triángulos, el cliente solo tendrá que indicar el tamaño. \n",
    "Otro cliente nos pide después una herramienta para construir cuadrados de cualquier tamaño. Volvemos a configurar nuestro aparato y obtenemos una nueva herramienta ajustada para que el cliente construya cuadrados del tamaño que le plazca.\n",
    "\n",
    "Algo parecido es lo que ocurre en este ejemplo. La función `genera_multiplicador` sería nuestra máquina _\"configurable\"_ (mediante el parámetro `n`) y las funciones anónimas que devuelve serían las _\"herramientas\"_ preparadas para cada caso concreto.\n",
    "\n",
    "Solamente hay una sutileza más, que tal vez ya te haya rondado la cabeza.\n",
    "Si el parámetro `n` en realidad está definido en la función `genera_multiplicador`, ¿cómo es que la función _lambda_ se acuerda del valor correcto de `n` que tiene que utilizar?\n",
    "En el ejemplo llamamos primero a `genera_multiplicador` con `n=2` y asignamos la función anónima a la variable `doble`.\n",
    "Y después volvemos a llamar a `genera_multiplicador` con `n=3` y asignamos la función anónima devuelta a la variable `triple`.\n",
    "\n",
    "Muy bien pero, ¿por qué la función anónima que hay en `doble` mantiene el valor `n=2` (lo _\"recuerda\"_) y no ha cambiado a `n=3`?\n",
    "\n",
    "De esta especie de _\"magia\"_ se encarga Python. En realidad, al devolver la función _lambda_ dentro de `genera_multiplicador`, Python no solo devuelve una función anónima, si no que la _\"empaqueta\"_ con un _contexto_, es decir, con los valores que tenía cada variable visible en ese momento."
   ]
  },
  {
   "cell_type": "markdown",
   "metadata": {},
   "source": [
    "### ... y funciones de orden superior\n",
    "\n",
    "A las funciones que reciben como parámetro otra función, o que devuelven como resultado otra función, se las denomina _funciones de orden superior_.\n",
    "\n",
    "Existen algunas funciones de orden superior cuyo uso está tan extendido que suelen estar ya incluidas en muchos lenguajes de programación. Se trata de las funciones `map`, `filter` y `reduce`. En Python 2 todas están soportadas de forma nativa. En Python 3 las dos primeras siguen estando incluidas, mientras que la función `reduce` se ha colocado en una librería aparte.\n",
    "\n",
    "Vamos a explicar cada una de ellas.\n",
    "\n",
    "#### `map`\n",
    "\n",
    "La función `map` sirve para aplicar (o _mapear_) otra función $f$ (que recibe como parámetro) a todos los elementos de una secuencia o colección."
   ]
  },
  {
   "cell_type": "code",
   "execution_count": null,
   "metadata": {},
   "outputs": [
    {
     "data": {
      "text/plain": [
       "[1, 4, 9, 16, 25]"
      ]
     },
     "metadata": {},
     "output_type": "display_data"
    }
   ],
   "source": [
    "cuadrados = map(lambda x: x**2, [1,2,3,4,5])\n",
    "\n",
    "list(cuadrados)"
   ]
  },
  {
   "cell_type": "markdown",
   "metadata": {},
   "source": [
    "Como ves, a `map` le pasamos como primer argumento una función. En este caso, una función anónima usando una expresión _lambda_ (`lambda x: x**2`) que devuelve su valor de entrada elevado al cuadrado. El segundo argumento de `map` es una colección de elementos. Aquí le pasamos una lista de números (`[1,2,3,4,5]`) que queremos elevar al cuadrado.\n",
    "\n",
    "Lo que va a hacer la función `map` es ir tomando uno a uno los valores de la secuencia y ejecutar la función que le hemos pasado como primer argumento con cada uno de estos valores.\n",
    "\n",
    "`map` no devuelve inmediatamente la lista con los valores resultantes. En Python 3 lo que devuelve `map` es un tipo especial de objeto que se denomina _iterador_, que es una variante de los _generadores_ que explicamos anteriormente.\n",
    "\n",
    "Como recordatorio, es un objeto que se encarga de hacer los cálculos para _generar_ los valores resultantes uno a uno conforme los necesites y se los vayas pidiendo, _iterando_ sobre la colección de entrada, en lugar de construir la secuencia entera de golpe, lo que permite ahorrar espacio de memoria ya que no tenemos que almacenar todos los resultados de una vez.\n",
    "\n",
    "Si realmente queremos tener una lista con todos los valores resultado, basta con hacer lo que aparece en la última línea del ejemplo, construir una lista con `list`."
   ]
  },
  {
   "cell_type": "markdown",
   "metadata": {},
   "source": [
    "#### `filter`\n",
    "La función `filter` sirve para seleccionar (o _filtrar_) aquellos elementos de una secuencia o colección que cumplen una condición determinada. La condición se le pasa a `filter` en forma de otra función."
   ]
  },
  {
   "cell_type": "code",
   "execution_count": null,
   "metadata": {},
   "outputs": [
    {
     "data": {
      "text/plain": [
       "[2, 4]"
      ]
     },
     "metadata": {},
     "output_type": "display_data"
    }
   ],
   "source": [
    "pares = filter(lambda x: x % 2 == 0, [1,2,3,4,5])\n",
    "\n",
    "list(pares)"
   ]
  },
  {
   "cell_type": "markdown",
   "metadata": {},
   "source": [
    "Al igual que `map`, a `filter` le pasamos como primer argumento una función. En el ejemplo, le pasamos una función anónima (`lambda x: x % 2 == 0`) que devuelve _verdadero_ si su valor de entrada es un número par, y _falso_ en caso contrario. La función que le pasemos a `filter` siempre debe devolver valores `True` o `False`. El segundo argumento de `filter` es de nuevo una colección de elementos.\n",
    "\n",
    "Lo que va a hacer `filter` en este caso es ir tomando cada uno de los valores de la secuencia y ejecutar la función que le pasamos como primer argumento con cada uno de dichos valores, devolviendo solamente los elementos para los que el resultado sea `True`.\n",
    "\n",
    "En realidad, `filter` devuelve también un objeto de tipo _iterador_, como ocurre con `map`. Por eso utilizamos `list` al final del ejemplo para obtener una lista con los resultados."
   ]
  },
  {
   "cell_type": "markdown",
   "metadata": {},
   "source": [
    "#### `reduce`\n",
    "\n",
    "La función `reduce` sirve para ejecutar otra función $f$ de forma acumulativa sobre una colección de elementos. Dicho así, a lo mejor no te hemos aclarado demasiado. Mucho mejor con un ejemplo"
   ]
  },
  {
   "cell_type": "code",
   "execution_count": null,
   "metadata": {},
   "outputs": [
    {
     "name": "stdout",
     "output_type": "stream",
     "text": [
      "15\n"
     ]
    }
   ],
   "source": [
    "import functools\n",
    "\n",
    "suma = functools.reduce(lambda x,y: x + y, [1,2,3,4,5])\n",
    "\n",
    "print(suma)"
   ]
  },
  {
   "cell_type": "markdown",
   "metadata": {},
   "source": [
    "En la primera línea estamos cargando el _módulo_ `functools`. Como te decíamos al empezar a hablar de las funciones de orden superior, la función `reduce` estaba incluida por defecto en Python 2, pero en Python 3 se pasó a una librería aparte, en este caso al módulo `functools`. Para cargar componentes de una librería en Python utilizamos la palabra reservada `import`. Más adelante te contaremos más acerca de las librerías en Python.\n",
    "\n",
    "En la segunda línea ya usamos la función `reduce` del módulo `functools`. Si te fijas, el primer argumento de `reduce` es nuevamente una función (en el ejemplo, la función anónima `lambda x,y: x + y`). El segundo argumento vuelve a ser una colección de valores.\n",
    "\n",
    "La diferencia aquí reside en que la función que le pasemos a `reduce` debe ser una función que tome _dos argumentos_ y devuelva _un solo valor_. En este caso, la función anónima recibe dos valores en `x` e `y` y devuelve la suma de ambos.\n",
    "\n",
    "¿Y qué hace exáctamente `reduce`? Pues empieza tomando los dos primeros elementos de la lista de entrada (`[1,2,3,4,5]`) y ejecuta la función. A continuación, toma el resultado y el siguiente elemento de la lista y vuelve a ejecutar la función. A continuación, toma el nuevo resultado y el siguiente elemento de la lista y vuelve a ejecutar la función. A continuación... Bueno, ya ves como sigue. `reduce` continuará con el proceso hasta agotar todos los elementos de la lista. Al terminar, devolverá el resultado final que haya dado la última evaluación de la función.\n",
    "\n",
    "Tal vez este diagrama explique más claramente la secuencia de operaciones."
   ]
  },
  {
   "cell_type": "markdown",
   "metadata": {},
   "source": [
    "<img src=\"./img/fig_reduce_suma.png\" width=250px />"
   ]
  },
  {
   "cell_type": "markdown",
   "metadata": {},
   "source": [
    "#### Utilidad de las funciones de orden superior\n",
    "\n",
    "Las funciones de orden superior pueden ser unas herramientas muy útiles y potentes para ayudarte a resolver algunos problemas.\n",
    "\n",
    "No obstante, en buena parte de los casos Python te ofrece formas alternativas de conseguir el mismo resultado de una forma más sencilla y legible, utilizando algunas de las construcciones que ya hemos visto a lo largo de esta unidad.\n",
    "\n",
    "Fijémonos en los ejemplos de `map`, `filter` o `reduce` que hemos mostrado. ¿Se te ocurre cómo podrías resolver cada caso aplicando lo que ya has aprendido?\n",
    "\n",
    "Empecemos con `map`. En el ejemplo, queríamos elevar los elementos de una lista al cuadrado."
   ]
  },
  {
   "cell_type": "code",
   "execution_count": null,
   "metadata": {},
   "outputs": [
    {
     "name": "stdout",
     "output_type": "stream",
     "text": [
      "[1, 4, 9, 16, 25]\n"
     ]
    }
   ],
   "source": [
    "# calcular cuadrados usando 'map'\n",
    "cuadrados = map(lambda x: x**2, [1,2,3,4,5])\n",
    "print( list(cuadrados) )"
   ]
  },
  {
   "cell_type": "code",
   "execution_count": null,
   "metadata": {},
   "outputs": [
    {
     "name": "stdout",
     "output_type": "stream",
     "text": [
      "[1, 4, 9, 16, 25]\n"
     ]
    }
   ],
   "source": [
    "# calcular cuadrados usando un generador\n",
    "cuadrados_2 = ( x**2 for x in [1,2,3,4,5] )\n",
    "print( list(cuadrados_2) )"
   ]
  },
  {
   "cell_type": "code",
   "execution_count": null,
   "metadata": {},
   "outputs": [
    {
     "name": "stdout",
     "output_type": "stream",
     "text": [
      "[1, 4, 9, 16, 25]\n"
     ]
    }
   ],
   "source": [
    "# si queremos directamente una lista, \n",
    "# podemos definirla por comprensión\n",
    "lista_cuadrados = [ x**2 for x in [1,2,3,4,5] ]\n",
    "print(lista_cuadrados)"
   ]
  },
  {
   "cell_type": "markdown",
   "metadata": {},
   "source": [
    "Podemos conseguir el mismo resultado utilizando una expresión de tipo _generador_ con una expresión por comprensión. O si queremos directamente guardar el resultado como una lista, usar una lista por comprensión.\n",
    "\n",
    "Si recuerdas cuando hablamos de los _generadores_, si intentas volver a extraer valores de un _generador_ que ya ha sido _agotado_, obtendrás una lista vacía (`[]`). Esto mismo te ocurrirá con el _iterador_ devuelto por `map`. Una vez que ya los has usado, _generando_ todos los elementos hasta agotar la secuencia de entrada, ya no hay más valores que devolver.\n",
    "\n",
    "En cambio con la lista por comprensión, efectivamente, obtienes una lista (no un _generador_) y la tienes disponible mientras la necesites. Tenlo en cuenta cuando vayas a decidir si usar una estructura u otra.\n",
    "\n",
    "Pasemos al ejemplo con `filter`. El objetivo era quedarnos con los números pares de una lista."
   ]
  },
  {
   "cell_type": "code",
   "execution_count": null,
   "metadata": {},
   "outputs": [
    {
     "name": "stdout",
     "output_type": "stream",
     "text": [
      "[2, 4]\n"
     ]
    }
   ],
   "source": [
    "# extraer los números pares usando 'filter'\n",
    "pares = filter(lambda x: x % 2 == 0, [1,2,3,4,5])\n",
    "print( list(pares) )"
   ]
  },
  {
   "cell_type": "code",
   "execution_count": null,
   "metadata": {},
   "outputs": [
    {
     "name": "stdout",
     "output_type": "stream",
     "text": [
      "[2, 4]\n"
     ]
    }
   ],
   "source": [
    "# hacemos lo mismo usando un generador\n",
    "pares_2 = ( x for x in [1,2,3,4,5] if x % 2 == 0 )\n",
    "print( list(pares_2) )"
   ]
  },
  {
   "cell_type": "code",
   "execution_count": null,
   "metadata": {},
   "outputs": [
    {
     "name": "stdout",
     "output_type": "stream",
     "text": [
      "[2, 4]\n"
     ]
    }
   ],
   "source": [
    "# o si queremos una lista, \n",
    "# la definimos por comprensión\n",
    "lista_pares = [ x for x in [1,2,3,4,5] if x % 2 == 0 ]\n",
    "print(lista_pares)"
   ]
  },
  {
   "cell_type": "markdown",
   "metadata": {},
   "source": [
    "Otra vez conseguimos lo mismo utilizando definiciones por comprensión, solo que esta vez añadiendo una cláusula `if` con la misma condición que en la función de filtrado.\n",
    "\n",
    "Y por último, el ejemplo de `reduce`. En este caso queremos calcular la suma de todos los elementos de una lista."
   ]
  },
  {
   "cell_type": "code",
   "execution_count": null,
   "metadata": {},
   "outputs": [
    {
     "name": "stdout",
     "output_type": "stream",
     "text": [
      "15\n"
     ]
    }
   ],
   "source": [
    "import functools\n",
    "\n",
    "# calcular la suma de elementos usando 'reduce'\n",
    "suma = functools.reduce(lambda x,y: x + y, [1,2,3,4,5])\n",
    "print(suma)"
   ]
  },
  {
   "cell_type": "code",
   "execution_count": null,
   "metadata": {},
   "outputs": [
    {
     "name": "stdout",
     "output_type": "stream",
     "text": [
      "15\n"
     ]
    }
   ],
   "source": [
    "# la forma alternativa de aplicar una función \n",
    "# de forma acumulativa \n",
    "# es usando un bucle\n",
    "otra_suma = 0\n",
    "for x in [1,2,3,4,5]:\n",
    "    otra_suma = otra_suma + x\n",
    "\n",
    "print(otra_suma)"
   ]
  },
  {
   "cell_type": "markdown",
   "metadata": {},
   "source": [
    "Si queremos aplicar una función a una colección de valores, acumulando o combinando los resultados, la forma general de hacerlo será mediante un bucle.\n",
    "\n",
    "Claro que este tipo de operaciones de cálculo acumulado o de reducción a un único valor, como obtener la suma, el mínimo o el máximo, son tan comunes que Python proporciona directamente estas funciones."
   ]
  },
  {
   "cell_type": "code",
   "execution_count": null,
   "metadata": {},
   "outputs": [
    {
     "name": "stdout",
     "output_type": "stream",
     "text": [
      "15\n"
     ]
    }
   ],
   "source": [
    "print( sum([1,2,3,4,5]) )"
   ]
  },
  {
   "cell_type": "code",
   "execution_count": null,
   "metadata": {},
   "outputs": [
    {
     "name": "stdout",
     "output_type": "stream",
     "text": [
      "1\n"
     ]
    }
   ],
   "source": [
    "print( min([1,2,3,4,5]) )"
   ]
  },
  {
   "cell_type": "code",
   "execution_count": null,
   "metadata": {},
   "outputs": [
    {
     "name": "stdout",
     "output_type": "stream",
     "text": [
      "5\n"
     ]
    }
   ],
   "source": [
    "print( max([1,2,3,4,5]) )"
   ]
  },
  {
   "cell_type": "markdown",
   "metadata": {},
   "source": [
    "Visto que en Python tenemos alternativas _a priori_ más simples y fáciles de entender que las funciones de orden superior, la cuestión ahora es ¿cuándo usar las funciones `map`, `filter` o `reduce`?\n",
    "\n",
    "A diferencia de otros lenguajes, Python incorpora el mecanismo de definiciones por comprensión, que como hemos visto resulta muy potente a la par que fácil de utilizar.\n",
    "\n",
    "Los ejemplos que hemos visto son casos típicos para resolverlos utilizando estos generadores o listas por comprensión en Python. De hecho, es la solución más habitual y extendida.\n",
    "\n",
    "Sin embargo, también habrá casos en los que los cálculos o funciones a aplicar no sean tan simples. Las funciones `map`, `filter` y `reduce` no solo aceptan funciones _lambda_, también aceptan las funciones habituales, siempre que respeten el número de parámetros y el tipo de resultado a devolver.\n",
    "\n",
    "Es más, la potencia más grande viene normalmente cuando hay que combinar estas operaciones de filtrado, _mapeo_ y reducción o acumulación. Se trata de un esquema bastante típico en procesamiento de datos, y en el que podemos aplicar las funciones `map`, `filter` y `reduce` de forma encadenada.\n",
    "\n",
    "Así que, como en otras ocasiones, la respuesta a cuándo usarlas es _\"depende\"_. Depende del tipo de problema, se adaptará mejor un tipo de solución u otra.\n",
    "\n",
    "> **El experto opina** ¿Recuerdas las recomendaciones sobre el estilo de programación que hemos ido haciendo? Cuando tengas que decidir entre varias formas de resolver la misma tarea, intenta elegir la solución que simplifique el código aprovechando las herramientas que tienes, haciéndolo también fácil de entender. Python ofrece alternativas para programar de forma elegante, concisa y comprensible.\n",
    "\n",
    "> No obstante, en caso de duda y si el tiempo apremia, utiliza la técnica que mejor domines. Si no estás totalmente seguro de cómo implementar algo con una técnica alternativa, te costará más esfuerzo y es más probable que cometas un error. Si tienes tiempo, entonces ¡adelante, prueba, equivócate y aprende!\n"
   ]
  }
 ],
 "metadata": {
  "kernelspec": {
   "display_name": "Python 3.9.13",
   "language": "python",
   "name": "python3"
  },
  "language_info": {
   "name": "python",
   "version": "3.9.13"
  },
  "orig_nbformat": 4,
  "vscode": {
   "interpreter": {
    "hash": "eb6fcc4987d40a8a7a9bcbb3f79366e5006f70e69b6b24b8b7e2973ccc311291"
   }
  }
 },
 "nbformat": 4,
 "nbformat_minor": 2
}
