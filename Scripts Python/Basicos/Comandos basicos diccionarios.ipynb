{
 "cells": [
  {
   "cell_type": "markdown",
   "metadata": {},
   "source": [
    "## Diccionarios\n",
    "\n",
    "Los diccionarios son otro de los tipos de datos compuestos más útiles, y que Python proporciona de forma nativa.\n",
    "\n",
    "La principal característica de los diccionarios es que almacenan parejas de elementos formadas por una _clave_ o elemento identificador y el _valor_ que queremos asociarle. Si piensas en un diccionario de los que usas normalmente para consultar la definición de una palabra, tendríamos que las _claves_ son los términos o palabras, y los _valores_ asociados serían las definiciones de esas palabras.\n",
    "\n",
    "> **Importante** Al contrario de lo que pueda parecer, los diccionarios no son un tipo _ordenado_ (o no tienen por qué serlo). Lo importante en un tipo diccionario es poder añadir una _clave_ y su _valor_ asociado, y que luego buscar por la _clave_ para obtener su _valor_ sea una operación rápida y eficiente. Para conseguirlo, el lenguaje gestiona y organiza internamente las _claves_ para optimizar el funcionamiento. Cómo lo hace es algo más complejo de explicar. Por ahora, simplemente necesitas saber que las claves no tienen por qué estar en el orden que tú pensarías después de añadir datos nuevos. ¡Ten esto en cuenta cuando uses los diccionarios! \n",
    "\n",
    "Las claves en un diccionario deben ser únicas, no puede haber claves repetidas. Además, una clave tiene que estar formada por un elemento _inmutable_, no puede cambiar una vez que se ha añadido junto con su valor al diccionario. Por ejemplo, una cadena de texto, un número o una tupla pueden usarse como claves. Pero una lista no, porque es posible modificar los elementos de la lista _a posteriori_.\n",
    "\n",
    "Para crear un diccionario inicialmente vacío utilizamos una pareja de llaves '`{}`'. \n",
    "Si quieres añadir elementos en la propia inicialización, sólo tienes que poner parejas `clave : valor` separadas por comas dentro de las llaves. Fíjate que separamos la clave de su valor utilizando dos puntos ('`:`').\n",
    "Para acceder a un valor, utilizamos los corchetes como haríamos en una lista o una tupla, solo que en este caso indicamos la _clave_ y no un índice de posición.\n",
    "\n",
    "Lo vemos más fácil con ejemplos."
   ]
  },
  {
   "cell_type": "code",
   "execution_count": null,
   "metadata": {
    "collapsed": true
   },
   "outputs": [],
   "source": [
    "# Si queremos crear un diccionario vacío, usamos una pareja de llaves\n",
    "libreta_telefonos = {}"
   ]
  },
  {
   "cell_type": "code",
   "execution_count": null,
   "metadata": {
    "collapsed": true
   },
   "outputs": [],
   "source": [
    "# También podemos incluir elementos en la inicialización, poniendo pares  clave : valor\n",
    "libreta_telefonos = { \"Carlos\" : 5556045, \"Luis\" : 5556048 , \"Javier\" : 5556051 }"
   ]
  },
  {
   "cell_type": "code",
   "execution_count": null,
   "metadata": {},
   "outputs": [
    {
     "data": {
      "text/plain": [
       "5556048"
      ]
     },
     "metadata": {},
     "output_type": "display_data"
    }
   ],
   "source": [
    "# Para acceder a un valor, utilizamos la clave entre corchetes\n",
    "libreta_telefonos[\"Luis\"]"
   ]
  },
  {
   "cell_type": "code",
   "execution_count": null,
   "metadata": {
    "collapsed": true
   },
   "outputs": [],
   "source": [
    "# Podemos añadir una nueva clave y asignarle un valor\n",
    "libreta_telefonos[\"Daniel\"] = 5556056"
   ]
  },
  {
   "cell_type": "code",
   "execution_count": null,
   "metadata": {
    "collapsed": true
   },
   "outputs": [],
   "source": [
    "# Si asignamos un valor a una clave existente, reemplazaremos el valor antiguo\n",
    "libreta_telefonos[\"Carlos\"] = 5556033"
   ]
  },
  {
   "cell_type": "code",
   "execution_count": null,
   "metadata": {},
   "outputs": [
    {
     "name": "stdout",
     "output_type": "stream",
     "text": [
      "{'Carlos': 5556033, 'Luis': 5556048, 'Javier': 5556051, 'Daniel': 5556056}\n"
     ]
    }
   ],
   "source": [
    "print(libreta_telefonos)"
   ]
  },
  {
   "cell_type": "code",
   "execution_count": null,
   "metadata": {},
   "outputs": [
    {
     "data": {
      "text/plain": [
       "True"
      ]
     },
     "metadata": {},
     "output_type": "display_data"
    }
   ],
   "source": [
    "# Podemos comprobar si una clave está en el diccionario\n",
    "\"Luis\" in libreta_telefonos"
   ]
  },
  {
   "cell_type": "code",
   "execution_count": null,
   "metadata": {
    "collapsed": true
   },
   "outputs": [],
   "source": [
    "# Y podemos eliminar una pareja clave valor indicando la clave\n",
    "del libreta_telefonos[\"Luis\"]"
   ]
  },
  {
   "cell_type": "code",
   "execution_count": null,
   "metadata": {},
   "outputs": [
    {
     "name": "stdout",
     "output_type": "stream",
     "text": [
      "{'Carlos': 5556033, 'Javier': 5556051, 'Daniel': 5556056}\n"
     ]
    }
   ],
   "source": [
    "print(libreta_telefonos)"
   ]
  },
  {
   "cell_type": "markdown",
   "metadata": {},
   "source": [
    "Tenemos distintas formas de iterar un diccionario. Podemos iterar sobre las claves del diccionario de forma directa. También podemos iterar sobre las parejas (_clave_, _valor_).\n"
   ]
  },
  {
   "cell_type": "code",
   "execution_count": null,
   "metadata": {},
   "outputs": [
    {
     "name": "stdout",
     "output_type": "stream",
     "text": [
      "Carlos = 5556033\n",
      "Javier = 5556051\n",
      "Daniel = 5556056\n"
     ]
    }
   ],
   "source": [
    "# Podemos iterar directamente sobre las claves de un diccionario así\n",
    "for nombre in libreta_telefonos:\n",
    "    print(nombre, \"=\", libreta_telefonos[nombre])\n",
    "# O podemos iterar sobre las parejas clave,valor\n",
    "for nombre, telefono in libreta_telefonos.items():\n",
    "    print(nombre, \"=\", telefono)\n",
    "# Y si lo que queremos es iterar solo los valores, podemos hacerlo así\n",
    "for telefono in libreta_telefonos.values():\n",
    "    print(telefono)"
   ]
  }
 ],
 "metadata": {
  "language_info": {
   "name": "python"
  },
  "orig_nbformat": 4
 },
 "nbformat": 4,
 "nbformat_minor": 2
}
