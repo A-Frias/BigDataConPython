{
 "cells": [
  {
   "cell_type": "markdown",
   "metadata": {},
   "source": [
    "# Entrada y salida de datos\n",
    "\n",
    "En la mayoría de los programas es necesario poder cargar unos datos de entrada y almacenar los resultados de salida. En esta sección vamos a ver cómo utilizar los mecanismos básicos de manejo de ficheros en Python para realizar estas tareas.\n",
    "\n",
    "Python nos permite trabajar con un fichero a través de un objeto `File`. Un objeto `File` representa una conexión a un fichero determinado, y nos permite leer su contenido o escribir en él.\n",
    "\n",
    "Veamos un ejemplo sencillo."
   ]
  },
  {
   "cell_type": "code",
   "execution_count": null,
   "metadata": {},
   "outputs": [
    {
     "name": "stdout",
     "output_type": "stream",
     "text": [
      "Lorem ipsum dolor sit amet,\n",
      "\n",
      "c:\\Users\\alber\\OneDrive\\Documentos\\GitHub\\BigDataConPython\\Master BD Python\\Material\n"
     ]
    }
   ],
   "source": [
    "# Ajusta la ubicación del directorio `U09_aux`\n",
    "# incluido en el material de la unidad\n",
    "# que descargaste del campus !!\n",
    "DIR_U09_AUX = os.path.join(\".\", \"U09_aux\")\n",
    "\n",
    "nombre_fichero = os.path.join(DIR_U09_AUX, \"lorem_ipsum.txt\")\n",
    "\n",
    "# Abrimos un fichero de texto con la función open()\n",
    "f = open(nombre_fichero, \"r\")\n",
    "\n",
    "# Tenemos un objeto file en la variable f\n",
    "# Leemos una línea del fichero usando readline()\n",
    "linea_1 = f.readline()\n",
    "print(linea_1)\n",
    "\n",
    "# Cuando hemos terminado, debemos cerrar el fichero\n",
    "f.close()\n"
   ]
  },
  {
   "cell_type": "markdown",
   "metadata": {},
   "source": [
    "Para empezar, tenemos que abrir el fichero. Para ello utilizamos la función `open()`. El primer argumento de esta función es el nombre del fichero que queremos abrir. Si el fichero está en un directorio diferente de donde se ejecuta la sesión de Python, tendremos que indicar la ruta completa de directorios. El segundo argumento indica _en qué modo_ queremos abrir el fichero, esto es, si queremos abrirlo solo para lectura (pero no podremos escribir en él), o para lectura y escritura, si queremos vaciar su contenido antes de empezar a escribir, o queremos añadir contenido al final...\n",
    "\n",
    "A continuación indicamos los códigos que se utilizan para los distintos _modos_ aceptados\n",
    "\n",
    "| Modo | Descripción |\n",
    "|:-----|:------------|\n",
    "| `r`  | Abrir solo para lectura, desde el inicio del fichero |\n",
    "| `r+` | Abrir para lectura y escritura, desde el inicio del fichero |\n",
    "| `w`  | Abrir solo para escritura. Si el fichero no existe, lo crea primero. Si ya existe, sobreescribe el contenido |\n",
    "| `w+` | Abrir para escritura y lectura. Si el fichero no existe, lo crea primero. Si ya existe, sobreescribe el contenido |\n",
    "| `a`  | Abrir para añadir al final del fichero. Si el fichero no existe, lo crea primero. |\n",
    "| `a+` | Abrir para añadir al final del fichero y para lectura. Si el fichero no existe, lo crea primero. |\n",
    "\n",
    "Estos modos sirver para trabajar con ficheros cuyo contenido esté codificado como texto. Si queremos trabajar con datos binarios (por ejemplo, una imagen), añadimos el modificador `b` a la primera letra del modo (p.ej. `\"rb\"`, `\"rb+\"` o `\"wb+\"`).\n",
    "\n",
    "La función `open()` nos devuelve un objeto `file` que usaremos para acceder y manipular su contenido.\n",
    "\n",
    "Para leer el contenido, disponemos de varias funciones\n",
    "\n",
    "| Función                 | Descripción                            |\n",
    "|:------------------------|:---------------------------------------|\n",
    "| `f.read(n)`             | Lee `n` caracteres o bytes del fichero |\n",
    "| `f.readline()`          | Lee una nueva línea del fichero        |\n",
    "| `f.readlines()`         | Lee todas las líneas del fichero       |\n",
    "\n",
    "Veamos un ejemplo de cómo leer el contenido completo de un fichero de texto."
   ]
  },
  {
   "cell_type": "code",
   "execution_count": null,
   "metadata": {
    "collapsed": true
   },
   "outputs": [
    {
     "ename": "SyntaxError",
     "evalue": "EOL while scanning string literal (625112469.py, line 12)",
     "output_type": "error",
     "traceback": [
      "\u001b[1;36m  Input \u001b[1;32mIn [23]\u001b[1;36m\u001b[0m\n",
      "\u001b[1;33m    print(\"Hola\u001b[0m\n",
      "\u001b[1;37m               ^\u001b[0m\n",
      "\u001b[1;31mSyntaxError\u001b[0m\u001b[1;31m:\u001b[0m EOL while scanning string literal\n"
     ]
    }
   ],
   "source": [
    "# Abrimos un fichero de texto con la función open()\n",
    "f = open(nombre_fichero, \"r\")\n",
    "\n",
    "# Leemos todas las lineas del fichero\n",
    "lineas = f.readlines()\n",
    "print(lineas)\n",
    "\n",
    "# Cuando hemos terminado, debemos cerrar el fichero\n",
    "f.close()\n",
    "\n"
   ]
  },
  {
   "cell_type": "markdown",
   "metadata": {},
   "source": [
    "La función `f.readlines()` lee todas las líneas y las devuelve en una lista. En realidad, si lo que necesitamos es iterar y procesar secuencialmente cada una de las líneas, cargar todo el contenido del fichero de golpe en memoria no suele ser la mejor opción, sobre todo si el fichero es grande. Una forma más eficiente y rápida es la siguiente."
   ]
  },
  {
   "cell_type": "code",
   "execution_count": null,
   "metadata": {
    "collapsed": true
   },
   "outputs": [
    {
     "name": "stdout",
     "output_type": "stream",
     "text": [
      "Lorem ipsum dolor sit amet,\n",
      "\n",
      "consectetur adipiscing elit,\n",
      "\n",
      "sed eiusmod tempor incidunt\n",
      "\n",
      "ut labore et dolore magna aliqua.\n",
      "\n"
     ]
    }
   ],
   "source": [
    "# Abrimos un fichero de texto con la función open()\n",
    "f = open(nombre_fichero, \"r\")\n",
    "\n",
    "# Iteramos sobre las lineas del fichero\n",
    "for linea in f:\n",
    "    print(linea)\n",
    "\n",
    "# Cerramos el fichero\n",
    "f.close()"
   ]
  },
  {
   "cell_type": "markdown",
   "metadata": {},
   "source": [
    "Para escribir datos en un fichero podemos usar las siguientes funciones\n",
    "\n",
    "| Función                 | Descripción                                                |\n",
    "|:------------------------|:-----------------------------------------------------------|\n",
    "| `f.write(datos)`        | Escribe el contenido de `datos` en el fichero              |\n",
    "| `f.writelines(lineas)`  | Escribe el contenido de la lista de `lineas` en el fichero |\n",
    "\n",
    "Cuando utilicemos estas funciones tenemos que saber que no añaden los caracteres delimitadores de líneas al final de cada una de forma automática. Si el propio contenido no incluye los caracteres de fin de línea, tendremos que añadirlos nosotros antes (si es que estamos escribiendo ficheros de texto, claro).\n"
   ]
  },
  {
   "cell_type": "code",
   "execution_count": null,
   "metadata": {
    "collapsed": true
   },
   "outputs": [],
   "source": [
    "# Abrimos el fichero con los datos de entrada\n",
    "f_in = open(nombre_fichero, \"r\")\n",
    "# y un fichero en el que guardar los resultados\n",
    "f_out = open(\"resultado.txt\", \"w\")\n",
    "\n",
    "# Iteramos cada línea del fichero de entrada\n",
    "for linea in f_in:\n",
    "    # Dividimos cada línea en palabras\n",
    "    palabras = linea.split()\n",
    "    # Contamos cuantas palabras hay\n",
    "    n_palabras = len(palabras)\n",
    "    # Escribimos el número de palabras en el fichero de salida\n",
    "    f_out.write(str(palabras) )\n",
    "    f_out.write( str(n_palabras))\n",
    "    # Añadimos el carácter de fin de línea\n",
    "    f_out.write(\"\\n\")\n",
    "\n",
    "# Cuando hemos terminado, debemos cerrar los fichero\n",
    "f_in.close()\n",
    "f_out.close()"
   ]
  },
  {
   "cell_type": "markdown",
   "metadata": {},
   "source": [
    "Cuando ejecutes este fragmento de código, busca y abre el fichero `resultado.txt` y comprueba su contenido. Fíjate también en cómo escribimos en el fichero el número de palabras que hemos contado en cada línea. No escribimos directamente la variable `n_palabras`. Convertimos el valor a cadena de texto utilizando `str()`. La razón es que si abrimos un fichero para escritura en modo texto (`\"w\"`), debemos pasar cadenas de texto a la función `f.write()`. De lo contrario, se producirá un error.\n",
    "\n",
    "Como habrás visto, cada nueva operación de lectura y escritura que ejecutamos comienza a partir de la última posición accedida del fichero. Esto es el comportamiento que necesitaremos habitualmente. En algunos casos, puede que queramos volver al inicio del fichero, o saber en qué posición del fichero nos encontramos. Para eso tenemos las funciones `f.seek()` y `f.tell()`.\n",
    "\n",
    "| Función                       | Descripción                                                |\n",
    "|:------------------------------|:-----------------------------------------------------------|\n",
    "| `f.seek(posicion [, origen])` | Desplazarse a una `posicion` dentro del fichero, relativa al `origen` |\n",
    "| `f.tell()`                    | Devolver la posición actual dentro del fichero |\n",
    "\n",
    "En la función `f.seek()` el argumento `origen` es opcional y puede tomar los siguientes valores\n",
    "\n",
    "| Origen en `f.seek()` | Descripción                                      |\n",
    "|:---------------------|:-------------------------------------------------|\n",
    "| 0                    | Desplazarse desde el inicio del fichero          |\n",
    "| 1                    | Desplazarse desde la posición actual del fichero |\n",
    "| 2                    | Desplazarse desde el final del fichero           |\n",
    "\n",
    "En los dos últimos casos, el argumento `posicion` de `f.seek()` puede tomar valores negativos. Así le indicamos que queremos desplazarnos hacia atrás desde la posición actual (`origen = 1`) o desde el final del fichero (`origen = 2`). Veamos un ejemplo sencillo."
   ]
  },
  {
   "cell_type": "code",
   "execution_count": null,
   "metadata": {
    "collapsed": true
   },
   "outputs": [],
   "source": [
    "# Abrimos un fichero de texto con la función open()\n",
    "f = open(nombre_fichero, \"r\")"
   ]
  },
  {
   "cell_type": "code",
   "execution_count": null,
   "metadata": {},
   "outputs": [
    {
     "name": "stdout",
     "output_type": "stream",
     "text": [
      "Pos. inicial: 0\n"
     ]
    }
   ],
   "source": [
    "# Nada más abrir el fichero para lectura estaremos en la posición cero\n",
    "pos_0 = f.tell()\n",
    "print(\"Pos. inicial:\", pos_0)"
   ]
  },
  {
   "cell_type": "code",
   "execution_count": null,
   "metadata": {},
   "outputs": [
    {
     "name": "stdout",
     "output_type": "stream",
     "text": [
      "Linea 1:  Lorem ipsum dolor sit amet,\n",
      "\n",
      "Tras leer linea 1, pos: 28\n"
     ]
    }
   ],
   "source": [
    "# Leemos la primera línea del fichero\n",
    "linea_1 = f.readline()\n",
    "pos_1 = f.tell()\n",
    "print(\"Linea 1: \", linea_1)\n",
    "print(\"Tras leer linea 1, pos:\", pos_1)"
   ]
  },
  {
   "cell_type": "code",
   "execution_count": null,
   "metadata": {},
   "outputs": [
    {
     "name": "stdout",
     "output_type": "stream",
     "text": [
      "Linea 2:  consectetur adipiscing elit,\n",
      "\n",
      "Tras leer linea 2, pos: 57\n"
     ]
    }
   ],
   "source": [
    "# Leemos la segunda línea del fichero\n",
    "linea_2 = f.readline()\n",
    "pos_2 = f.tell()\n",
    "print(\"Linea 2: \", linea_2)\n",
    "print(\"Tras leer linea 2, pos:\", pos_2)"
   ]
  },
  {
   "cell_type": "code",
   "execution_count": null,
   "metadata": {},
   "outputs": [
    {
     "data": {
      "text/plain": [
       "0"
      ]
     },
     "metadata": {},
     "output_type": "display_data"
    },
    {
     "name": "stdout",
     "output_type": "stream",
     "text": [
      "Volvemos al inicio del fichero\n"
     ]
    }
   ],
   "source": [
    "# Nos volvemos a colocar al inicio del fichero\n",
    "f.seek(0)\n",
    "print(\"Volvemos al inicio del fichero\")"
   ]
  },
  {
   "cell_type": "code",
   "execution_count": null,
   "metadata": {},
   "outputs": [
    {
     "name": "stdout",
     "output_type": "stream",
     "text": [
      "Linea 1 (bis): Lorem ipsum dolor sit amet,\n",
      "\n",
      "Tras leer linea 1 (bis), pos: 28\n"
     ]
    }
   ],
   "source": [
    "# Leemos la primera linea de nuevo\n",
    "linea_1_bis = f.readline()\n",
    "pos_1_bis = f.tell()\n",
    "print(\"Linea 1 (bis):\", linea_1_bis)\n",
    "print(\"Tras leer linea 1 (bis), pos:\", pos_1_bis)"
   ]
  },
  {
   "cell_type": "code",
   "execution_count": null,
   "metadata": {},
   "outputs": [
    {
     "data": {
      "text/plain": [
       "57"
      ]
     },
     "metadata": {},
     "output_type": "display_data"
    },
    {
     "name": "stdout",
     "output_type": "stream",
     "text": [
      "Saltamos tras la linea 2\n",
      "Linea 3:  sed eiusmod tempor incidunt\n",
      "\n",
      "Tras leer linea 3, pos: 85\n"
     ]
    }
   ],
   "source": [
    "# Ahora nos desplazamos a continuación de la segunda línea\n",
    "f.seek(pos_2)\n",
    "print(\"Saltamos tras la linea 2\")\n",
    "linea_3 = f.readline()\n",
    "pos_3 = f.tell()\n",
    "print(\"Linea 3: \", linea_3)\n",
    "print(\"Tras leer linea 3, pos:\", pos_3)"
   ]
  },
  {
   "cell_type": "code",
   "execution_count": null,
   "metadata": {
    "collapsed": true
   },
   "outputs": [],
   "source": [
    "# Cuando hemos terminado, debemos cerrar el fichero\n",
    "f.close()"
   ]
  },
  {
   "cell_type": "markdown",
   "metadata": {},
   "source": [
    "A lo largo de todos estos ejemplos hemos visto que debemos asegurarnos de cerrar un fichero una vez que hemos terminado de trabajar con él. Existe una forma alternativa de trabajar con ficheros en Python, más elegante y que se encarga de cerrar automáticamente el fichero, utilizando la cláusula `with`. Veamos cómo.\n"
   ]
  },
  {
   "cell_type": "code",
   "execution_count": null,
   "metadata": {},
   "outputs": [
    {
     "name": "stdout",
     "output_type": "stream",
     "text": [
      "Lorem ipsum dolor sit amet,\n",
      "\n",
      "consectetur adipiscing elit,\n",
      "\n",
      "sed eiusmod tempor incidunt\n",
      "\n",
      "ut labore et dolore magna aliqua.\n",
      "\n",
      "¿El fichero está cerrado? True\n"
     ]
    }
   ],
   "source": [
    "# Abrimos el fichero dentro de un bloque `with`\n",
    "with open(nombre_fichero, \"r\") as f:\n",
    "    # Dentro del bloque, podemos usar el objeto File de forma normal\n",
    "    for linea in f:\n",
    "        print(linea)\n",
    "\n",
    "# Al salir del bloque `with`, el fichero se cierra automáticamente\n",
    "print(\"¿El fichero está cerrado?\", f.closed)"
   ]
  },
  {
   "cell_type": "markdown",
   "metadata": {},
   "source": [
    "La cláusula `with` nos permite definir e inicializar un _alias_ a partir de un objeto o expresión, de forma que podamos utilizarlo dentro del bloque de código que sigue a la cláusula. Al terminar el bloque, se ejecutan de forma automática las operaciones de finalización que tenga asociadas el objeto.\n",
    "\n",
    "En este caso, usamos la cláusula `with` asociando el objeto `File` devuelto por la función `open()` al _alias_ `f`. Dentro del bloque `with` podemos acceder al fichero usando `f` como una variable normal, de las formas que ya hemos visto. La diferencia viene cuando se terminan de ejecutar todas las operaciones del bloque `with`. Cuando se llega al final del bloque, este se encarga de hacer el `close()` sobre el fichero de forma automática.\n",
    "\n",
    "## La entrada y salida estándar\n",
    "\n",
    "Si eres un usuario habitual de Linux o Unix (o incluso de Mac OS), probablemente ya estarás familiarizado con los conceptos de la entrada y salida estándar de un proceso.\n",
    "\n",
    "Sin embargo, si solo has sido usuario de Windows o de Mac OS sin utilizar mucho la consola o terminal de línea de comandos, es fácil que no sepas a qué nos estamos refiriendo.\n",
    "\n",
    "Podemos ver la entrada y salida estándar como unas conexiones a ficheros que se abren de forma automática para cualquier proceso del que se lance la ejecución. \n",
    "\n",
    "<img src=\"./img/fig_process_standard_io.png\" width=350px />\n",
    "\n",
    "La entrada estándar (comunmente `stdin`, por _standard input_) es una conexión solo de lectura a través de la que un programa puede recibir y leer datos generados desde el entorno en el que se lanzó. Por ejemplo, cuando lanzamos un programa desde el terminal o consola de texto, la conexión `stdin` recibe la entrada generada desde el teclado.  \n",
    "\n",
    "La salida estándar (`stdout`, por _standard output_) es la conexión solo de escritura en la que se escribe por defecto cualquier mensaje o resultado de salida, cuando no se utiliza explícitamente otro fichero o conexión. Por ejemplo, cuando hacemos un `print()` en Python, se escribe en `stdout`. Si estamos ejecutando el programa desde un terminal o consola de texto, veremos la salida en el terminal.\n",
    "\n",
    "Existe además una tercera conexión, la salida de error estándar o `stderr`. Es una conexión similar a `stdout`, solo de escritura, y que se utiliza como el canal por defecto en el que se escriben los mensajes de error, excepciones, etc.\n",
    "\n",
    "En Python podemos acceder a estos ficheros a través del módulo `sys`. \n",
    "\n",
    "| Objeto     | Funciones |\n",
    "|:-----------|:----------|\n",
    "| sys.stdin  | sys.stdin.read()<br/>sys.stdin.readline()<br/>sys.stdin.readlines() |\n",
    "| sys.stdout | sys.stdout.write()<br/>sys.stdout.writelines() |\n",
    "| sys.stderr | sys.stderr.write()<br/>sys.stderr.writelines() |\n",
    "\n",
    "\n",
    "El programa `loop_lee_stdin.py` es un pequeño ejemplo de cómo utilizar `stdin` y `stdout`."
   ]
  }
 ],
 "metadata": {
  "language_info": {
   "name": "python"
  },
  "orig_nbformat": 4
 },
 "nbformat": 4,
 "nbformat_minor": 2
}
