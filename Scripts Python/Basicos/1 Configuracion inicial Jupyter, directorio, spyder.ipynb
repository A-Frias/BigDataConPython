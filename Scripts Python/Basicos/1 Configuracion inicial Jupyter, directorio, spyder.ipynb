{
 "cells": [
  {
   "cell_type": "code",
   "execution_count": null,
   "metadata": {},
   "outputs": [],
   "source": []
  },
  {
   "cell_type": "markdown",
   "metadata": {},
   "source": [
    "# Introducción\n",
    "\n",
    "El objetivo en esta unidad es presentar los fundamentos del lenguaje Python y las herramientas que ofrece para facilitar el trabajo del análisis de datos.\n",
    "\n",
    "Para intentar adaptarnos a los conocimientos de todas las personas que hacéis este curso, hemos dividido esta unidad en dos partes.\n",
    "\n",
    "En la primera parte de la unidad repasaremos las principales características y funcionalidades que ofrece el propio lenguaje Python y su enorme biblioteca de librerías. Nos centraremos en los conceptos más importantes para entender cómo funciona y aprender a aprovechar sus virtudes en nuestros programas.\n",
    "\n",
    "En la segunda parte, visitaremos algunas de las principales librerías de terceros creadas para facilitar la vida de los usuarios científicos en tareas como el cálculo, manipulación de datos, visualización y modelado estadístico."
   ]
  },
  {
   "cell_type": "markdown",
   "metadata": {},
   "source": [
    "## ¿Qué es Python?\n",
    "\n",
    "Python es uno de los lenguajes de programación más populares y extendidos hoy en día. Se trata de un lenguaje de propósito general, utilizado en infinidad de ámbitos y tareas, desde el desarrollo de aplicaciones y servicios web haste en la programación de sistemas operativos.\n",
    "\n",
    "Python es un lenguaje interpretado. Es decir, no es necesario compilar el código para obtener un programa ejecutable. El intérprete de Python se encarga de leer el código que nosotros introducimos y evaluarlo. Esta característica nos va a facilitar mucho poder escribir nuestro programa y probar qué resultado genera de forma interactiva. Además, también hace que podamos copiar nuestro mismo programa de un ordenador con Windows a un ordenador con Linux o un Mac OS y ejecutarlo sin cambiar nada, solo hace falta que esté instalado el intérprete. Decimos que Python es un lenguaje multiplataforma.\n",
    "\n",
    "Python es un lenguaje de alto nivel, con una sintaxis que prima la sencillez y la legibilidad. Una de las ideas detrás de este lenguaje es simplificar la vida del usuario y permitirle programar en unas pocas líneas de código algoritmos bastante complejos de una forma clara.\n",
    "\n",
    "Otra punto importante es la biblioteca estándar que incorpora de serie, un conjunto de librerías que proporciona gran cantidad de herramientas y componentes que abarcan múltiples funcionalidades (desde el acceso a ficheros, a conectarte a páginas web u otros ordenadores, o el procesamiento de cadenas de texto) y que sirven como base para ayudarte a construir nuevas aplicaciones.\n",
    "\n",
    "Además, tendrás disponible una ingente colección de librerías y proyectos de código abierto aportadas por la enorme comunidad de usuarios de Python. Será muy dificil que no encuentres una librería que te ayude a solucionar alguna de tus necesidades.\n",
    "\n",
    "> **Ojo al dato** Una curiosidad sobre Python. Guido van Rossum, principal creador del lenguaje, lo bautizó con este nombre en honor al grupo de humoristas británicos Monty Python, famosos por sus programas para TV _Monty Python's Flying Circus_ o sus películas _La vida de Brian_ o _Los caballeros de la mesa cuadrada_. ¿Cómo, no los conoces? Ya tienes una tarea, buscar y ver sus películas."
   ]
  },
  {
   "cell_type": "markdown",
   "metadata": {},
   "source": [
    "### Python y el análisis de datos\n",
    "\n",
    "Todas las virtudes que acabamos de enumerar ya nos hacen ver que Python es un lenguaje muy potente con infinidad de aplicaciones, y que se adapta perfectamente para ayudarnos a resolver casi cualquier problema que se nos presente.\n",
    "\n",
    "Si nos centramos en el análisis de datos, a estas virtudes sumamos que existen un número cada vez mayor de librerías avanzadas para la extracción y procesado de datos, cálculo matemático, análisis y modelado estadístico, aprendizaje automático (_machine learning_), inteligencia artificial y visualización gráfica.\n",
    "\n",
    "Además, existen librerías para integrarlo con plataformas _big data_ como Hadoop o Spark, y para conectarlo con todo tipo de fuentes y bases de datos, tanto SQL como NoSQL.\n",
    "\n",
    "Por todos estos motivos, la popularidad de Python entre los campos de la ciencia de datos y el _big data_ no para de crecer."
   ]
  },
  {
   "cell_type": "markdown",
   "metadata": {},
   "source": [
    "## ¿Python 2 o Python 3?\n",
    "\n",
    "Esta pregunta requiere una explicación.\n",
    "\n",
    "Piensa en un lenguaje de programación como en un lenguaje humano cualquiera. Con el tiempo las formas en que usamos un idioma, las palabras, las expresiones, hasta las mismas reglas de la gramática o la ortografía sufren algunos cambios. El idioma evoluciona para adaptarse a nuevas necesidades, nuevos conceptos o formas que expresar. Con los lenguajes de programación ocurre igual.\n",
    "\n",
    "Aunque Python no sea un lenguaje de programación tan _\"veterano\"_ si lo comparamos con otros históricos (_Fortran_ nace en 1955, _LISP_ en 1958, o _C_ en 1972), ciertamente sí es un lenguaje _adulto_; ya ha pasado por múltiples revisiones y cambios desde que se publicó la versión 1.0 allá por 1994. Python 2 apareción en el año 2000, y Python 3 (la última gran revisión del lenguaje) se lanzó en 2008.\n",
    "\n",
    "Los cambios entre las versiones 2 y 3 del lenguaje fueron importantes en algunos puntos. Como ya te hemos contado, Python es un lenguaje interpretado; es el intérprete de Python quien se encarga de leer un programa, evaluar el código y traducirlo a instrucciones que la máquina puede ejecutar. Debido a algunos de estos cambios que se introdujeron de la versión 2 a la 3, se perdió la compatibilidad hacia atrás. Es decir, los intérpretes de la versión 2 no eran capaces de _\"entender\"_ algunas de las nuevas expresiones de Python 3 y no podían ejecutar los programas escritos en la nueva versión.\n",
    "\n",
    "Como había mucha (pero mucha) gente y empresas que habían creado sus programas y librerías usando Python 2, se decidió seguir manteniendo y mejorando esta versión del lenguaje en paralelo a Python 3 durante un periodo de tiempo. Así se daba un margen para poder ir migrando a la nueva versión. La última versión de Python 2, la 2.7, se publicó en 2010 (¡dos años después de que saliera Python 3!) y se ha decidido mantenerla hasta 2020. A partir de ahí, el equipo responsable del lenguaje dejará de desarrollar y resolver problemas para la versión 2.7.\n",
    "\n",
    "Es cierto que todavía hay muchos programas y librerías escritas usando Python 2.7. Pero a día de hoy, más o menos un 95% de este software está disponible también escrito en Python 3. Y la mayor parte de todo el código nuevo ya se crea usando Python 3.\n",
    "\n",
    "Así que volviendo a la pregunta que nos hacíamos, la respuesta es que para este curso vamos a usar Python 3. Y en concreto, trabajaremos con la versión más reciente, la 3.6.\n",
    "\n",
    "De todas formas, si en algún momento te encuentras con código escrito en Python 2 no debes preocuparte. A nivel de un programador, apenas notarás diferencias, la mayor parte del código será igual. Los cambios más fundamentales afectan más al intérprete."
   ]
  },
  {
   "cell_type": "markdown",
   "metadata": {},
   "source": [
    "## Configuración del entorno de trabajo\n",
    "\n",
    "### Material de la unidad\n",
    "\n",
    "Para seguir el contenido de esta unidad tendrás que descargarte material auxiliar que tienes disponible en el campus. Incluye versiones interactivas de esta unidad para ejecutar en los entornos de desarrollo, así como ficheros de código y datos que usaremos en algunos ejemplos.\n",
    "\n",
    "Te recomendamos que crees una carpeta para esta unidad (p.ej. dentro de tu carpeta de Documentos o en otra carpeta que estés usando para seguir el curso) y descargues todos los ficheros.\n",
    "\n",
    "### Instalación de Python y entorno de desarrollo\n",
    "\n",
    "Ahora tenemos que instalar Python en nuestro ordenador.\n",
    "\n",
    "Una opción sería descargar la versión de Python para nuestro sistema operativo de la página oficial (https://www.python.org/downloads/). Después de instalarlo tendríamos que instalar también todas las librerías externas que vamos a necesitar. Pero espera un poco...\n",
    "\n",
    "Nosotros vamos a elegir una opción más cómoda, que consiste en utilizar Anaconda (https://www.anaconda.com/). Se trata de una distribución de Python especialmente orientada para la ciencia de datos. Viene de serie con un gran número de librerías, incluyendo las principales que necesitaremos para cálculo, análisis de datos, crear modelos estadísticos y generar gráficos de nuestros datos y resultados.\n",
    "\n",
    "Además, la distribución de Anaconda viene con varias herramientas para obtener y configurar nuevos paquetes, programas y librerías de forma muy sencilla. ¡Incluso nos permite tener instaladas distintas versiones de Python a la vez sin que haya conflictos!\n",
    "\n",
    "Una vez que hayamos instalado nuestra distribución de Python, tendremos que configurar también un entorno de desarrollo para poder ir creando y probando nuestros programas. Te presentamos dos opciones especialmente pensadas para trabajar en análisis de datos (aunque hay muchos más entornos disponibles en Internet).\n",
    "\n",
    ">**Vídeo** En el campus podrás encontrar vídeos de apoyo con la explicación paso a paso del proceso de instalación y un paseo por las distintos entornos de desarrollo."
   ]
  },
  {
   "cell_type": "markdown",
   "metadata": {},
   "source": [
    "### Instalación de Anaconda\n",
    "\n",
    "La instalación de Anaconda es sencilla. Vamos a ver los pasos para S.O. Windows, pero está disponible para Linux y Mac OS.\n",
    "\n",
    "- En tu navegador, accede a la página de descargas de Anaconda: https://www.anaconda.com/download/\n",
    "- Selecciona tu sistema operativo y después elige la opción que incluye Python 3 (actualmente la versión 3.6). Si no lo detecta automáticamente, tendrás que seleccionar también si tu plataforma es de 32 o 64 bits. Procede a descargar el instalador (puede costarle unos minutos dependiendo de tu conexión a Internet).\n",
    "- Una vez descargado, ejecuta el instalador. Sigue las instrucciones, manteniendo las opciones por defecto que te ofrezca en cadad paso.\n",
    "\n",
    "<img src=\"./img/fig_anaconda_install.png\" />\n",
    "\n",
    "- Al terminar la instalación en Windows, podrás acceder a las distintas herramientas incluidas con Anaconda a través del menú de inicio. Entre otras cosas, tendrás los accesos directos a Jupyter y Spyder, dos entornos de desarrollo."
   ]
  },
  {
   "cell_type": "markdown",
   "metadata": {},
   "source": [
    "### Jupyter Notebook\n",
    "\n",
    "Jupyter Notebook es una aplicación web que nos permite editar y ejecutar documentos (_notebooks_) en los que podemos combinar texto formateado con trozos de código Python que podemos ejecutar interactivamente y ver los resultados integrados también en el propio documento.\n",
    "\n",
    "Al ser una aplicación web, el visor y editor de documentos se carga en nuestro navegador web como cualquier otra página. Pero para poder mostrar correctamente el contenido y ejecutar el código Python, debe conectarse a un proceso servidor, que es quien realmente ejecutará el código y devolverá el resultado.\n",
    "\n",
    "Una de las principales ventajas de este formato de documentos es que permite compartir y distribuir nuestros análisis integrando textos explicativos, figuras y el código utilizado, lo que facilita la reproducibilidad de nuestro trabajo.\n",
    "\n",
    "Jupyter se basa en IPython, un intérprete de Python con una consola interactiva que extiende y mejora las funcionalidades de la consola básica de Python, incluyendo autocompletado, depuración, resaltado de sintaxis, etc.\n",
    "\n",
    "#### Abrir Jupyter\n",
    "\n",
    "Tras instalar Anaconda, en Windows podemos lanzar Jupyter desde la lista de programas instalados en el menú de inicio. Si no, abrimos un terminal o consola de comandos y ejecutamos\n",
    "\n",
    "`> jupyter notebook`\n",
    "\n",
    "\n",
    "En cuanto el servidor complete su inicialización, se nos abrirá una nueva pestaña en el navegador con la interfaz del cliente Jupyter.\n",
    "\n",
    "<img src=\"./img/fig_jupyter_windows.png\" width=600/>\n",
    "\n",
    "Desde aquí tendremos que navegar por las carpetas hasta llegar a donde se encuentren nuestros _cuadernos_. Los cuadernos o _notebooks_ de Jupyter se distinguen por su extensión de fichero (_.ipynb_) y porque aparecen con un icono con forma de libro a la izquierda del nombre.\n",
    "\n",
    "Si hacemos doble click en el cuaderno, su contenido se cargará en una nueva pestaña del navegador, a la que el servidor asociará una nueva sesión Python.\n",
    "\n",
    "#### Navegando y ejecutando el contenido\n",
    "\n",
    "El contenido de un cuaderno de Jupyter se compone de _celdas_. Una celda puede contener o bien texto o bien código interpretable. \n",
    "\n",
    "Podemos ejecutar el contenido de una de estas celdas seleccionándola (quedará resaltada) y pulsando la combinación de teclas `Ctrl+Enter`. Los mensajes que se generen como resultado de la ejecución se imprimirán justo debajo de la celda.\n",
    "\n",
    "Puedes editar el contenido de una celda (sea texto o código) seleccionándola y pulsando `Enter`, o haciendo doble click sobre ella.\n",
    "\n",
    "<img src=\"./img/fig_jupyter_session_windows.png\" width=600/>\n",
    "\n",
    "#### Añadiendo nuevas celdas\n",
    "\n",
    "Mediante la barra superior podemos acceder al menú _Insert_, que nos permite añadir una nueva celda en nuestro cuaderno.\n",
    "\n",
    "Por defecto, la nueva celda será de tipo código (_code_). Estas celdas sirven para que introduzcamos las líneas con el fragmento de código que queremos probar y ejecutar en cada paso.\n",
    "\n",
    "Podemos cambiar el tipo de contenido a través del menú _Cell_, seleccionando la opción _Cell Type -> Markdown_. De esta forma configuraremos la celda para que acepte contenido de texto formateado con la sintaxis de Markdown.\n",
    "Cuando pulsemos `Ctrl+Enter` para _\"ejecutar\"_ el contenido de una celda tipo Markdown, se renderizará su contenido en formato HTML.\n",
    "\n",
    "#### Controlando los resultados del código\n",
    "\n",
    "Por defecto, al ejecutar una celda de código Python, el valor resultante que se mostrará será el de la última expresión evaluada. Si quieres que Jupyter muestre el resultado de todas las expresiones, nada más comenzar una sesión de trabajo tendrás que ejecutar este código."
   ]
  },
  {
   "cell_type": "code",
   "execution_count": null,
   "metadata": {
    "collapsed": true
   },
   "outputs": [],
   "source": [
    "from IPython.core.interactiveshell import InteractiveShell\n",
    "InteractiveShell.ast_node_interactivity = \"all\""
   ]
  },
  {
   "cell_type": "markdown",
   "metadata": {},
   "source": [
    "Ten en cuenta que esto no es necesario cuando ejecutemos cualquier comando para imprimir mensajes (p.ej. con la instrucción `print()`). Jupyter se encargará de imprimir en el cuaderno todos los mensajes sin necesidad de configurar nada más.\n",
    "\n",
    "#### Cerrando una sesión en Jupyter\n",
    "\n",
    "Cuando vayas a dejar de trabajar con un cuaderno en Jupyter, es conveniente que no cierres la pestaña del navegador directamente. En su lugar, ves al menú _File_ y selecciona la opción _Close and Halt_. De esta forma, el proceso servidor se encarga de cerrar limpiamente el documento y la sesión Python asociada. Después recuerda cerrar también la ventana con el proceso Jupyter.\n",
    "\n",
    "#### Para saber más...\n",
    "https://jupyter-notebook-beginner-guide.readthedocs.io/en/latest/"
   ]
  },
  {
   "cell_type": "markdown",
   "metadata": {},
   "source": [
    "### Spyder\n",
    "\n",
    "Spyder (_Scientific PYthon Development EnviRonment_) es un entorno de desarrollo para Python, pensado especialmente para su uso en tareas de programación científica y análisis de datos. Presenta un diseño y funcionalidades similares a las que has visto en RStudio, así que no te costará mucho esfuerzo habituarte a su manejo.\n",
    "\n",
    "<img src=\"./img/fig_spyder_windows.png\" />\n",
    "\n",
    "El panel principal (a la izquierda en la imagen) lo ocupa el editor de código. Aquí puedes abrir los ficheros de Python, examinarlos y editar su contenido. El editor incluye ayudas para autocompletar código (con `Tab`), resaltar sintaxis, control de errores, etc. \n",
    "\n",
    "A la derecha tenemos dos paneles. En uno de ellos (el superior en la imagen) está el el explorador de variables, el explorador de archivos y el visor de la ayuda. \n",
    "\n",
    "En el panel inferior encontrarás la consola interactiva de Python, que utiliza IPython como motor (igual que Jupyter). En esta consola podrás introducir manualmente las instrucciones que quieras probar y ejecutar directamente. Pero también podrás ejecutar el código que tengas abierto en el editor. Para ello tan solo tienes que seleccionar las líneas que quieres evaluar y pulsar `Ctrl+Enter`.\n",
    "\n",
    "#### Para saber más...\n",
    "https://pythonhosted.org/spyder/\n"
   ]
  },
  {
   "cell_type": "markdown",
   "metadata": {},
   "source": [
    "### Intérprete de línea de comandos - IPython\n",
    "\n",
    "Podemos lanzar una consola con el intérprete interactivo de Python simplemente abriendo un terminal y ejecutando  el comando `python` (`python.exe` en Windows).\n",
    "\n",
    "No obstante, con la instalación de Anaconda disponemos de un intérprete más versátil y cómodo de usar: IPython, Como ya te hemos adelantado, IPython es un intérprete de Python con una consola interactiva que extiende y mejora las funcionalidades de la consola básica de Python, incluyendo autocompletado, depuración, resaltado de sintaxis, etc.\n",
    "\n",
    "Si trabajas en Windows, puedes acceder al intérprete de IPython abriendo el _Anaconda Prompt_ que te aparecerá dentro del grupo de programas de Anaconda, accediendo desde el menú de inicio.\n",
    "\n",
    "Para salir de cualquiera de estos intérpretes, puedes usar el comando `quit()`.\n",
    "\n",
    "\n",
    "### Ejecución de scripts\n",
    "\n",
    "Para programar y probar nuestro código es muy útil (casi imprescindible) utilizar alguno de estos entornos de desarrollo. Pero en algún momento tendremos que ejecutar algunos de nuestros desarrollos como programas de forma directa y autónoma.\n",
    "\n",
    "Asumiendo que tenemos el código de nuestro programa en un fichero con extensión `.py`, para ejecutarlo simplemente llamamos al intérprete de Python con nuestro script.\n",
    "\n",
    "`> python.exe U09_src\\hola_mundo.py`\n",
    "\n"
   ]
  },
  {
   "cell_type": "markdown",
   "metadata": {},
   "source": [
    "### Configuración del directorios\n",
    "\n",
    "A lo largo de esta unidad veremos algunos ejemplos que requieren utilizar ficheros de código que incluimos con el material disponible en el campus. El código se encuentra dentro del subdirectorio `U09_src`.\n",
    "\n",
    "Para que Python sepa acceder al directorio donde guardes los ficheros fuente, tendrás que ejecutar los siguientes comandos para añadirlo a las rutas donde busca el código fuente. A lo largo de esta unidad te explicaremos más sobre cómo busca y resuelve Python la ubicación de código, librerías y otros elementos."
   ]
  },
  {
   "cell_type": "code",
   "execution_count": null,
   "metadata": {
    "collapsed": true
   },
   "outputs": [
    {
     "name": "stdout",
     "output_type": "stream",
     "text": [
      "['c:\\\\Users\\\\alber\\\\OneDrive\\\\Documentos\\\\GitHub\\\\BigDataConPython\\\\Master BD Python\\\\Material', 'c:\\\\Users\\\\alber\\\\AppData\\\\Local\\\\R-MINI~1\\\\python39.zip', 'c:\\\\Users\\\\alber\\\\AppData\\\\Local\\\\R-MINI~1\\\\DLLs', 'c:\\\\Users\\\\alber\\\\AppData\\\\Local\\\\R-MINI~1\\\\lib', 'c:\\\\Users\\\\alber\\\\AppData\\\\Local\\\\R-MINI~1', '', 'c:\\\\Users\\\\alber\\\\AppData\\\\Local\\\\R-MINI~1\\\\lib\\\\site-packages', 'c:\\\\Users\\\\alber\\\\AppData\\\\Local\\\\R-MINI~1\\\\lib\\\\site-packages\\\\win32', 'c:\\\\Users\\\\alber\\\\AppData\\\\Local\\\\R-MINI~1\\\\lib\\\\site-packages\\\\win32\\\\lib', 'c:\\\\Users\\\\alber\\\\AppData\\\\Local\\\\R-MINI~1\\\\lib\\\\site-packages\\\\Pythonwin', 'C:/Users/alber/OneDrive/Documentos/Formacion informatica/Python/Master BD Python/Material\\\\09PythonParaAnalisisDatos\\\\U09_src', 'C:/Users/alber/OneDrive/Documentos/Formacion informatica/Python/Master BD Python/Material\\\\09PythonParaAnalisisDatos\\\\U09_src', 'C:/Users/alber/OneDrive/Documentos/Formacion informatica/Python/Master BD Python/Material\\\\09PythonParaAnalisisDatos\\\\U09_src', 'C:/Users/alber/OneDrive/Documentos/Formacion informatica/Python/Master BD Python/Material\\\\09PythonParaAnalisisDatos\\\\U09_src', 'C:/Users/alber/OneDrive/Documentos/Formacion informatica/Python/Master BD Python/Material\\\\U09_src']\n"
     ]
    }
   ],
   "source": [
    "import sys\n",
    "import os.path\n",
    "\n",
    "# Tan solo modifica la cadena de texto entre comillas\n",
    "# de DIR_FICHEROS_CURSO\n",
    "# Sustituye por la ruta completa hasta el directorio base\n",
    "# donde descargues el material del campus\n",
    "DIR_FICHEROS_CURSO = \"C:/Users/alber/OneDrive/Documentos/Formacion informatica/Python/Master BD Python/Material\"\n",
    "DIR_U09 = os.path.join(DIR_FICHEROS_CURSO, \"09PythonParaAnalisisDatos\")\n",
    "DIR_U09_SRC = os.path.join(DIR_FICHEROS_CURSO, \"U09_src\")\n",
    "\n",
    "sys.path.append(DIR_U09_SRC)\n",
    "print(sys.path)\n"
   ]
  }
 ],
 "metadata": {
  "language_info": {
   "name": "python"
  },
  "orig_nbformat": 4
 },
 "nbformat": 4,
 "nbformat_minor": 2
}
