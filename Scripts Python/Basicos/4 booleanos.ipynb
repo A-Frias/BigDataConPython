{
 "cells": [
  {
   "cell_type": "markdown",
   "metadata": {},
   "source": [
    "## Valores booleanos\n",
    "\n",
    "En Python tenemos un tipo booleano para representar los valores _verdadero_ y _falso_. Veamos cómo se codifican estos valores y las operaciones lógicas habituales.\n"
   ]
  },
  {
   "cell_type": "code",
   "execution_count": null,
   "metadata": {
    "collapsed": true
   },
   "outputs": [],
   "source": [
    "#IMPORTANTE ESCRIBIR LAS CONDICIÒNES ENTRE PARENTESIS\n",
    "\n",
    "soy_rico = False\n",
    "soy_listo = True\n",
    "# operación AND (Y) lógica\n",
    "soy_rico and soy_listo\n",
    "# operación OR (O) lógica\n",
    "soy_rico or soy_listo\n",
    "# negación\n",
    "not soy_rico"
   ]
  },
  {
   "cell_type": "markdown",
   "metadata": {},
   "source": [
    "También tenemos los operadores de comparación, que nos devuelven un valor de verdadero o falso\n"
   ]
  },
  {
   "cell_type": "code",
   "execution_count": null,
   "metadata": {},
   "outputs": [
    {
     "data": {
      "text/plain": [
       "True"
      ]
     },
     "metadata": {},
     "output_type": "display_data"
    }
   ],
   "source": [
    "# Mayor que\n",
    "10 > 3.0   # True\n",
    "# Menor que\n",
    "10 < 3.0   # False\n",
    "# Mayor o igual que\n",
    "10 >= 3.0   # True\n",
    "# Menor o igual que\n",
    "10 <= 3.0   # False\n",
    "# Igualdad\n",
    "6/3 == 2   # True\n",
    "# Distintos\n",
    "\"Rojo\" != \"Verde\"   # True"
   ]
  }
 ],
 "metadata": {
  "kernelspec": {
   "display_name": "Python ('my-env')",
   "language": "python",
   "name": "python3"
  },
  "language_info": {
   "name": "python",
   "version": ""
  },
  "orig_nbformat": 4,
  "vscode": {
   "interpreter": {
    "hash": "25a19fbe0a9132dfb9279d48d161753c6352f8f9478c2e74383d340069b907c3"
   }
  }
 },
 "nbformat": 4,
 "nbformat_minor": 2
}
