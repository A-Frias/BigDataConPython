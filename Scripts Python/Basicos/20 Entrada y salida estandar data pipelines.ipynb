{
 "cells": [
  {
   "cell_type": "code",
   "execution_count": null,
   "metadata": {},
   "outputs": [],
   "source": []
  },
  {
   "cell_type": "markdown",
   "metadata": {},
   "source": [
    "\n",
    "## La entrada y salida estándar\n",
    "\n",
    "Si eres un usuario habitual de Linux o Unix (o incluso de Mac OS), probablemente ya estarás familiarizado con los conceptos de la entrada y salida estándar de un proceso.\n",
    "\n",
    "Sin embargo, si solo has sido usuario de Windows o de Mac OS sin utilizar mucho la consola o terminal de línea de comandos, es fácil que no sepas a qué nos estamos refiriendo.\n",
    "\n",
    "Podemos ver la entrada y salida estándar como unas conexiones a ficheros que se abren de forma automática para cualquier proceso del que se lance la ejecución. \n",
    "\n",
    "<img src=\"./img/fig_process_standard_io.png\" width=350px />\n",
    "\n",
    "La entrada estándar (comunmente `stdin`, por _standard input_) es una conexión solo de lectura a través de la que un programa puede recibir y leer datos generados desde el entorno en el que se lanzó. Por ejemplo, cuando lanzamos un programa desde el terminal o consola de texto, la conexión `stdin` recibe la entrada generada desde el teclado.  \n",
    "\n",
    "La salida estándar (`stdout`, por _standard output_) es la conexión solo de escritura en la que se escribe por defecto cualquier mensaje o resultado de salida, cuando no se utiliza explícitamente otro fichero o conexión. Por ejemplo, cuando hacemos un `print()` en Python, se escribe en `stdout`. Si estamos ejecutando el programa desde un terminal o consola de texto, veremos la salida en el terminal.\n",
    "\n",
    "Existe además una tercera conexión, la salida de error estándar o `stderr`. Es una conexión similar a `stdout`, solo de escritura, y que se utiliza como el canal por defecto en el que se escriben los mensajes de error, excepciones, etc.\n",
    "\n",
    "En Python podemos acceder a estos ficheros a través del módulo `sys`. \n",
    "\n",
    "| Objeto     | Funciones |\n",
    "|:-----------|:----------|\n",
    "| sys.stdin  | sys.stdin.read()<br/>sys.stdin.readline()<br/>sys.stdin.readlines() |\n",
    "| sys.stdout | sys.stdout.write()<br/>sys.stdout.writelines() |\n",
    "| sys.stderr | sys.stderr.write()<br/>sys.stderr.writelines() |\n",
    "\n",
    "\n",
    "El programa `loop_lee_stdin.py` es un pequeño ejemplo de cómo utilizar `stdin` y `stdout`."
   ]
  },
  {
   "cell_type": "code",
   "execution_count": null,
   "metadata": {
    "collapsed": true
   },
   "outputs": [
    {
     "name": "stdout",
     "output_type": "stream",
     "text": [
      "Prueba a escribir (una línea vacía sirve para salir) ...\n"
     ]
    }
   ],
   "source": [
    "# %load U09_src/loop_lee_stdin.py\n",
    "\"\"\"\n",
    "Ejemplo de lectura de datos de la entrada estándar,\n",
    "capturada desde teclado al lanzar el script por linea de comandos\n",
    "\"\"\"\n",
    "\n",
    "import sys\n",
    "\n",
    "# Escribimos un mensaje inicial para el usuario en STDOUT\n",
    "sys.stdout.write(\"Prueba a escribir (una línea vacía sirve para salir) ...\\n\")\n",
    "\n",
    "while True:\n",
    "  \n",
    "    # Leemos de STDIN\n",
    "    x = sys.stdin.readline()\n",
    "    \n",
    "    # Comprobamos si no es una línea vacía\n",
    "    if (len(x) > 0) and (x != '') and (x != '\\n'):\n",
    "        mensaje = \"He leído {}\".format(x)\n",
    "        sys.stdout.write(mensaje)\n",
    "    else:\n",
    "        # Es una línea vacía, salimos\n",
    "        sys.stderr.write(\"No hay más datos\\n\")\n",
    "        break\n"
   ]
  },
  {
   "cell_type": "markdown",
   "metadata": {},
   "source": [
    "Para probar el programa, abre un terminal, ve al directorio con el material de la unidad donde se encuentran los ficheros con código fuente y ejecuta\n",
    "\n",
    "`$ python loop_lee_stdin.py`\n",
    "\n",
    "Al ejecutarlo, el programa mostrará en la consola el mensaje inicial y se quedará esperando a que escribas algo utilizando el teclado. Cuando pulses INTRO, se completará la línea y la función `readline()` de `sys.stdin` devolverá la cadena a la variable `x`, para escribir a continuación un mensaje en la salida estándar con el contenido leído. Esto se repetirá infinitamente, hasta que introduzcas una línea vacía.\n",
    "\n",
    "> **Importante**. Aunque este ejemplo no te parezca muy útil, la entrada y salida estándar se utilizan en multitud de programas para procesar datos. Especialmente para encadenar la salida de un proceso (`stdout`) y usarla como entrada de otro proceso (`stdin`) y construir secuencias de procesamiento de datos complejas a partir de procesos individuales muy sencillos. Esta técnica recibe el nombre de _data pipelines_ o tuberías de datos, y es una de las bases del procesamiento _Big Data_. \n"
   ]
  }
 ],
 "metadata": {
  "language_info": {
   "name": "python"
  },
  "orig_nbformat": 4
 },
 "nbformat": 4,
 "nbformat_minor": 2
}
