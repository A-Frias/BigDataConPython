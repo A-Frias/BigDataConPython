{
 "cells": [
  {
   "cell_type": "markdown",
   "metadata": {},
   "source": [
    "## Definiciones por comprensión\n",
    "\n",
    "Ahora que ya hemos visto los principales tipos compuestos de datos que ofrece Python de forma nativa, vamos a presentarte un tipo de expresiones muy útiles y potentes para crear y trabajar con estas estructuras de datos.\n",
    "\n",
    "Las definiciones por comprensión son una forma muy concisa y simple de generar colecciones de datos de forma automática. Se utilizan sobre todo con listas, pero son aplicables a todos los tipos compuestos haciendo los debidos ajustes. En inglés aparecen normalmente como _list comprehensions_, y en español unos autores denominan a estas expresiones _listas por comprensión_ o también _comprensión de listas_. Todos hacen referencia al mismo concepto.\n",
    "\n",
    "Las definiciones por comprensión son expresiones que permiten construir una nueva colección definiéndola a partir de otra colección de partida, una expresión generadora de los nuevos elementos a incluir y un predicado o condición. Escrito así, a lo mejor te parece complejo, pero verás como es muy sencillo.\n",
    "\n",
    "Lo mejor será comenzar con un caso de ejemplo. Imagina que queremos guardar en una lista la tabla de multiplicar del 7. Una forma de hacerlo con lo que has aprendido hasta ahora sería mediante un bucle."
   ]
  },
  {
   "cell_type": "code",
   "execution_count": null,
   "metadata": {},
   "outputs": [
    {
     "name": "stdout",
     "output_type": "stream",
     "text": [
      "[0, 7, 14, 21, 28, 35, 42, 49, 56, 63]\n"
     ]
    }
   ],
   "source": [
    "# Preparamos una lista vacía para ir poniendo los resultados\n",
    "tabla_7 = []\n",
    "\n",
    "# Iteramos los números del 0 al 9\n",
    "for x in range(0, 10):\n",
    "    # añadimos a la lista el siguiente valor de la tabla de multiplicar del 7\n",
    "    tabla_7.append(7 * x)\n",
    "\n",
    "print(tabla_7)\n"
   ]
  },
  {
   "cell_type": "markdown",
   "metadata": {},
   "source": [
    "Hemos tenido que crear una variable con una lista vacía al principio, y después utilizar un bucle `for` para iterar por los valores de 0 a 9 e ir modificando en cada paso la lista, para añadir cada valor de la tabla de multiplicar.\n",
    "\n",
    "No es que sea un código muy complicado ni largo. Pero Python nos permite hacer esto de forma más sencilla y breve."
   ]
  },
  {
   "cell_type": "code",
   "execution_count": null,
   "metadata": {},
   "outputs": [
    {
     "name": "stdout",
     "output_type": "stream",
     "text": [
      "[0, 7, 14, 21, 28, 35, 42, 49, 56, 63]\n"
     ]
    }
   ],
   "source": [
    "tabla_7 = [ 7 * x for x in range(0, 10) ]\n",
    "\n",
    "print(tabla_7)"
   ]
  },
  {
   "cell_type": "markdown",
   "metadata": {},
   "source": [
    "¿Qué te parece? ¿Se entiende bien? Vamos a examinar la expresión trozo a trozo para aclarar cómo funciona.\n",
    "\n",
    "Para empezar, la expresión está entre corchetes. Esto indica que vamos a construir una lista, rellenándola con los elementos que genere la expresión. Enseguida te contamos también cómo hacer para crear un conjunto, o una tupla o un diccionario.\n",
    "\n",
    "Vamos con el código dentro de los corchetes. La primera parte (`7 * x`) es la expresión que genera los nuevos elementos a partir de los valores que tome `x`, mientras que la expresión `for` nos dice cuál es el _dominio_ de valores de entrada que va a tomar `x` (en este caso la secuencia de 0 hasta 9).\n",
    "\n",
    "Podemos ampliar la definición incorporando una o más condiciones con una cláusula `if`. Supongamos que queremos guardar los valores de la tabla de multiplicar del 7 solo cuando el factor multiplicador es un número par (7\\*2, 7\\*4, 7\\*6...). Fácil."
   ]
  },
  {
   "cell_type": "code",
   "execution_count": null,
   "metadata": {
    "collapsed": true
   },
   "outputs": [],
   "source": [
    "# usamos un if para comprobar si x es par\n",
    "# (utilizando el operador módulo o resto, ¿lo recuerdas?)\n",
    "tabla_7_pares = [ 7 * x for x in range(0, 10) if x % 2 == 0 ]"
   ]
  },
  {
   "cell_type": "markdown",
   "metadata": {},
   "source": [
    "Como ves en el ejemplo, simplemente hemos añadido la cláusula condicional '`if x%2 == 0`' al final de la construcción. Para cada valor de `x` en el rango especificado (de 0 a 9 en este caso), se comprueba si se cumple la condición (`x % 2 == 0`, es decir, que el resto de dividir `x` entre 2 sea cero, luego que `x` sea par). Si se cumple el predicado, entonces se genera un nuevo valor (`7 * x`) para la lista; y si no, ese valor de `x` se descarta.\n",
    "\n",
    "El dominio de valores de entrada puede ser cualquier objeto o expresión _iterable_."
   ]
  },
  {
   "cell_type": "code",
   "execution_count": null,
   "metadata": {},
   "outputs": [
    {
     "data": {
      "text/plain": [
       "['CIRUELA', 'CEREZA']"
      ]
     },
     "metadata": {},
     "output_type": "display_data"
    }
   ],
   "source": [
    "lista_frutas = [\"pera\", \"manzana\", \"ciruela\", \"cereza\"]\n",
    "\n",
    "[ fruta.upper() for fruta in lista_frutas if fruta.startswith(\"c\") ]"
   ]
  },
  {
   "cell_type": "markdown",
   "metadata": {},
   "source": [
    "Podemos combinar dos o más cláusulas `for` con sus dominios de entrada para construir la colección."
   ]
  },
  {
   "cell_type": "code",
   "execution_count": null,
   "metadata": {},
   "outputs": [
    {
     "data": {
      "text/plain": [
       "[4, 5, 6, 8, 10, 12, 12, 15, 18]"
      ]
     },
     "metadata": {},
     "output_type": "display_data"
    }
   ],
   "source": [
    "[ x * y for x in (1, 2, 3) for y in (4, 5, 6) ]"
   ]
  },
  {
   "cell_type": "markdown",
   "metadata": {},
   "source": [
    "Esta expresión se evalúa para todas las combinaciones de valores de `x` e `y`. Si lo piensas, es como si tuvieras dos bucles `for` anidados. Vamos a incluir en cada elemento generado los valores de `x` e `y`, así quedará más claro."
   ]
  },
  {
   "cell_type": "code",
   "execution_count": null,
   "metadata": {},
   "outputs": [
    {
     "data": {
      "text/plain": [
       "[(1, 4, 4),\n",
       " (1, 5, 5),\n",
       " (1, 6, 6),\n",
       " (2, 4, 8),\n",
       " (2, 5, 10),\n",
       " (2, 6, 12),\n",
       " (3, 4, 12),\n",
       " (3, 5, 15),\n",
       " (3, 6, 18)]"
      ]
     },
     "metadata": {},
     "output_type": "display_data"
    }
   ],
   "source": [
    "[ (x, y, x * y) for x in (1, 2, 3) for y in (4, 5, 6) ]"
   ]
  },
  {
   "cell_type": "markdown",
   "metadata": {},
   "source": [
    "En este caso hemos hecho que la expresión generadora devuelva una tupla con los valores de `x`, `y` y de `x * y`. Puede utilizarse cualquier expresión, todo lo compleja que se necesite, siempre que devuelva un elemento válido."
   ]
  },
  {
   "cell_type": "markdown",
   "metadata": {},
   "source": [
    "Si en lugar de generar una lista queremos construir un conjunto, solamente tenemos que reemplazar los corchetes por llaves."
   ]
  },
  {
   "cell_type": "code",
   "execution_count": null,
   "metadata": {},
   "outputs": [
    {
     "data": {
      "text/plain": [
       "{1, 3, 5, 7, 9}"
      ]
     },
     "metadata": {},
     "output_type": "display_data"
    }
   ],
   "source": [
    "{ x for x in range(10) if x % 2 != 0 }"
   ]
  },
  {
   "cell_type": "markdown",
   "metadata": {},
   "source": [
    "Si queremos una tupla, no será suficiente con utilizar paréntesis. Tendremos que utilizar el constructor `tuple()`"
   ]
  },
  {
   "cell_type": "code",
   "execution_count": null,
   "metadata": {},
   "outputs": [
    {
     "data": {
      "text/plain": [
       "(0, 1, 2, 3, 4)"
      ]
     },
     "metadata": {},
     "output_type": "display_data"
    }
   ],
   "source": [
    "tuple( x for x in range(5) )"
   ]
  },
  {
   "cell_type": "markdown",
   "metadata": {},
   "source": [
    "Y para construir un diccionario utilizando el mecanismo de comprensión, además de utilizar las llaves en lugar de los corchetes, la expresión generadora deberá tener la forma `clave : valor`"
   ]
  },
  {
   "cell_type": "code",
   "execution_count": null,
   "metadata": {},
   "outputs": [
    {
     "name": "stdout",
     "output_type": "stream",
     "text": [
      "{0: 0, 1: 7, 2: 14, 3: 21, 4: 28, 5: 35, 6: 42, 7: 49, 8: 56, 9: 63}\n"
     ]
    }
   ],
   "source": [
    "# aquí la clave es el factor multiplicador, y el valor es el resultado de la multiplicación\n",
    "dict_tabla_7 = { num : 7 * num for num in range(0, 10) }\n",
    "\n",
    "print(dict_tabla_7)"
   ]
  }
 ],
 "metadata": {
  "language_info": {
   "name": "python"
  },
  "orig_nbformat": 4
 },
 "nbformat": 4,
 "nbformat_minor": 2
}
