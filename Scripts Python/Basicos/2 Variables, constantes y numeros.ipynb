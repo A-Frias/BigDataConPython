{
 "cells": [
  {
   "cell_type": "markdown",
   "metadata": {},
   "source": [
    "# Tu reto en esta unidad\n",
    "\n",
    "En todo lo que llevamos de curso has aprendido a utilizar el lenguaje R para realizar todo tipo de tareas con datos, desde el análisis y manipulación básicas, pasando por la visualización y generación de gráficos, hasta construir y validar modelos estadísticos para estimar y predecir distintos fenómenos.\n",
    "\n",
    "Pero no solo de R vive el científico de datos. En esta unidad vamos a enseñarte cómo un lenguaje de propósito general como Python se ha convertido, gracias a sus características propias y a unas potentes librerías desarrolladas por la comunidad de usuarios, en una de las herramientas más útiles y polivalentes para nuestro trabajo con datos.\n",
    "\n",
    "En esta unidad repasaremos muchos elementos del lenguaje y de estas librerías, el contenido es largo. ¡Pero no te asustes! No hay teoría compleja, la mayoría de conceptos de programación te serán familiares de otros lenguajes, y los conceptos de análisis estádistico los conoces ya de las unidades anteriores. El objetivo es darte una visión global de Python y su uso en ciencia de datos, no que te conviertas en un experto gurú.\n",
    "\n",
    "Por cierto, ¿conoces las películas 'La vida de Brian' o 'Los caballeros de la mesa cuadrada'? Muy pronto te contaremos qué relación pueden tener estas películas y un lenguaje de programación (si no lo has averiguado tú ya, claro)."
   ]
  },
  {
   "cell_type": "markdown",
   "metadata": {},
   "source": [
    "## Sobre variables y constantes\n",
    "\n",
    "Si has trabajado con otros lenguajes de programación como C++ o Java, tal vez te llame la atención que no hayamos necesitado declarar la variable de ninguna forma especial, ni definir previamente qué tipo de dato va a almacenar (¿un número, una cadena de texto?).\n",
    "\n",
    "Python es un lenguaje con _tipado dinámico_. Esto quiere decir que él se encarga de averiguar el tipo que debe tener una variable en cada momento, en función del valor que le hayamos asignado. Fíjate que esto significa que podemos asignar a una misma variable un valor de otro tipo distinto en cualquier momento y Python no protestará. Simplemente asumirá que el tipo de la variable ha cambiado.\n",
    "\n",
    "> **Atención** Que podamos hacer esto no significa que sea recomendable hacerlo en cualquier situación. Aunque en muchos casos podemos sacar provecho de esta característica para simplificar nuestros programas, en otras ocasiones será mejor no mezclar tipos en una misma variable para evitar errores y que el código sea más fácil de entender.\n",
    "\n",
    "La asignación de un valor a una variable se hace con el signo igual '`=`'. Python nos permite asignar el mismo valor a múltiples variables de una sóla vez.\n",
    "\n",
    "Aunque Python no impone ningún formato estricto, como recomendación de estilo los nombres de las variables se suelen escribir en minúsculas. Si se quiere usar un nombre compuesto, utilizaremos el guión bajo para separar las palabras. El nombre de una variable no puede empezar con un número.\n"
   ]
  },
  {
   "cell_type": "code",
   "execution_count": null,
   "metadata": {
    "collapsed": true
   },
   "outputs": [],
   "source": [
    "nombre = \"Papu\"\n",
    "nombre_completo = \"Giorgi Papunashvili\"\n",
    "edad_jugador = 21\n",
    "goles_marcados = goles_fallados = 0        # Asignación multiple, mismo valor para las dos variables !!\n",
    "tarjetas_amarillas, tarjetas_rojas = 1, 0  # Asignación simultánea, valores distintos a cada variable !!"
   ]
  },
  {
   "cell_type": "markdown",
   "metadata": {},
   "source": [
    "Las dos últimas líneas son ejemplos de asignación múltiple. En el primer caso, asignamos el mismo valor (cero) a las dos variables (`goles_marcados` y `goles_fallados`). En el segundo caso asignamos un valor distinto a cada variable (`tarjetas_amarillas` valdrá `1` y `tarjetas_rojas` valdrá `0`).\n",
    "\n",
    "Fíjate que la asignación múltiple de valores de forma simultánea nos permite hacer cosas como intercambiar valores de variables de forma muy sencila"
   ]
  },
  {
   "cell_type": "code",
   "execution_count": null,
   "metadata": {},
   "outputs": [
    {
     "name": "stdout",
     "output_type": "stream",
     "text": [
      "x = 10 y = 20\n"
     ]
    }
   ],
   "source": [
    "# Tenemos dos variables\n",
    "x = 10\n",
    "y = 20\n",
    "print(\"x =\", x, \"y =\", y)"
   ]
  },
  {
   "cell_type": "code",
   "execution_count": null,
   "metadata": {},
   "outputs": [
    {
     "name": "stdout",
     "output_type": "stream",
     "text": [
      "x = 20 y = 10\n"
     ]
    }
   ],
   "source": [
    "# En otros lenguajes, utilizaríamos una variable auxiliar para intercambiar los valores\n",
    "aux = x    # variable auxiliar, guardamos el valor original de \"x\"\n",
    "x = y      # le damos a \"x\" el valor de \"y\"\n",
    "y = aux    # y ahora le damos a \"y\" el antiguo valor de \"x\"\n",
    "print(\"x =\", x, \"y =\", y)"
   ]
  },
  {
   "cell_type": "code",
   "execution_count": null,
   "metadata": {},
   "outputs": [
    {
     "name": "stdout",
     "output_type": "stream",
     "text": [
      "x = 10 y = 20\n"
     ]
    }
   ],
   "source": [
    "# Volvamos a las dos variables originales\n",
    "x = 10\n",
    "y = 20\n",
    "print(\"x =\", x, \"y =\", y)"
   ]
  },
  {
   "cell_type": "code",
   "execution_count": null,
   "metadata": {},
   "outputs": [
    {
     "name": "stdout",
     "output_type": "stream",
     "text": [
      "x = 20 y = 10\n"
     ]
    }
   ],
   "source": [
    "# ¡En Python podemos hacer esto de una sola vez!\n",
    "x, y = y, x   # intercambiamos los valores\n",
    "print(\"x =\", x, \"y =\", y)   # ¡Tachaaaaan!"
   ]
  },
  {
   "cell_type": "markdown",
   "metadata": {},
   "source": [
    "En Python no existen las constantes tal cual, no hay una forma de especificar que una variable no puede cambiar su contenido una vez que ha sido asignada.\n",
    "\n",
    "Como convención, lo que hacemos es utilizar nombres en mayúsculas para diferenciar los identificadores de las constantes que queramos definir. Así nos resultará más sencillo reconocerlos en el código (aunque para Python no habrá ninguna diferencia con cualquier otra variable).\n"
   ]
  },
  {
   "cell_type": "code",
   "execution_count": null,
   "metadata": {
    "collapsed": true
   },
   "outputs": [],
   "source": [
    "VERSION = \"1.0\"\n",
    "PI = 3.14159265359"
   ]
  },
  {
   "cell_type": "markdown",
   "metadata": {
    "collapsed": true
   },
   "source": [
    "## Números\n",
    "\n",
    "Python nos permite trabajar con distintos tipos numéricos, como enteros (tipo _int_) o números reales o en punto flotante (tipo _float_). Disponemos de las operaciones matemáticas habituales con estos tipos. Vamos a verlo."
   ]
  },
  {
   "cell_type": "code",
   "execution_count": null,
   "metadata": {},
   "outputs": [
    {
     "data": {
      "text/plain": [
       "8"
      ]
     },
     "metadata": {},
     "output_type": "display_data"
    }
   ],
   "source": [
    "# Suma de enteros, devuelve un entero\n",
    "3 + 5"
   ]
  },
  {
   "cell_type": "code",
   "execution_count": null,
   "metadata": {},
   "outputs": [
    {
     "data": {
      "text/plain": [
       "3"
      ]
     },
     "metadata": {},
     "output_type": "display_data"
    }
   ],
   "source": [
    "# Resta de enteros, devuelve un entero\n",
    "10 - 7"
   ]
  },
  {
   "cell_type": "code",
   "execution_count": null,
   "metadata": {},
   "outputs": [
    {
     "data": {
      "text/plain": [
       "12"
      ]
     },
     "metadata": {},
     "output_type": "display_data"
    }
   ],
   "source": [
    "# Multiplicación de enteros, devuelve un entero\n",
    "3 * 4"
   ]
  },
  {
   "cell_type": "code",
   "execution_count": null,
   "metadata": {},
   "outputs": [
    {
     "data": {
      "text/plain": [
       "8.5"
      ]
     },
     "metadata": {},
     "output_type": "display_data"
    }
   ],
   "source": [
    "# Pero si uno de los números tiene decimales (punto flotante), \n",
    "# el resultado también será un float\n",
    "3 + 5.5"
   ]
  },
  {
   "cell_type": "code",
   "execution_count": null,
   "metadata": {},
   "outputs": [
    {
     "data": {
      "text/plain": [
       "10.3"
      ]
     },
     "metadata": {},
     "output_type": "display_data"
    }
   ],
   "source": [
    "12.3 - 2"
   ]
  },
  {
   "cell_type": "code",
   "execution_count": null,
   "metadata": {},
   "outputs": [
    {
     "data": {
      "text/plain": [
       "12.0"
      ]
     },
     "metadata": {},
     "output_type": "display_data"
    }
   ],
   "source": [
    "3.0 * 4"
   ]
  },
  {
   "cell_type": "code",
   "execution_count": null,
   "metadata": {},
   "outputs": [
    {
     "data": {
      "text/plain": [
       "2.0"
      ]
     },
     "metadata": {},
     "output_type": "display_data"
    }
   ],
   "source": [
    "# La división siempre devuelve un valor en punto flotante\n",
    "6 / 3"
   ]
  },
  {
   "cell_type": "code",
   "execution_count": null,
   "metadata": {},
   "outputs": [
    {
     "data": {
      "text/plain": [
       "6.5"
      ]
     },
     "metadata": {},
     "output_type": "display_data"
    }
   ],
   "source": [
    "13 / 2"
   ]
  },
  {
   "cell_type": "code",
   "execution_count": null,
   "metadata": {},
   "outputs": [
    {
     "data": {
      "text/plain": [
       "6"
      ]
     },
     "metadata": {},
     "output_type": "display_data"
    }
   ],
   "source": [
    "# Si lo que queremos es la división entera, se hace así\n",
    "13 // 2"
   ]
  },
  {
   "cell_type": "code",
   "execution_count": null,
   "metadata": {},
   "outputs": [
    {
     "data": {
      "text/plain": [
       "1"
      ]
     },
     "metadata": {},
     "output_type": "display_data"
    }
   ],
   "source": [
    "# Módulo (resto de la división entera)\n",
    "13 % 2"
   ]
  },
  {
   "cell_type": "code",
   "execution_count": null,
   "metadata": {},
   "outputs": [
    {
     "data": {
      "text/plain": [
       "9"
      ]
     },
     "metadata": {},
     "output_type": "display_data"
    }
   ],
   "source": [
    "# Potencia\n",
    "3 ** 2"
   ]
  },
  {
   "cell_type": "code",
   "execution_count": null,
   "metadata": {},
   "outputs": [
    {
     "data": {
      "text/plain": [
       "3.2"
      ]
     },
     "metadata": {},
     "output_type": "display_data"
    }
   ],
   "source": [
    "# Valor absoluto\n",
    "abs(-3.2)"
   ]
  },
  {
   "cell_type": "code",
   "execution_count": null,
   "metadata": {},
   "outputs": [
    {
     "data": {
      "text/plain": [
       "0.7"
      ]
     },
     "metadata": {},
     "output_type": "display_data"
    }
   ],
   "source": [
    "# Redondear un número en punto flotante\n",
    "round(2/3, 1)   # una cifra decimal"
   ]
  },
  {
   "cell_type": "code",
   "execution_count": null,
   "metadata": {},
   "outputs": [
    {
     "data": {
      "text/plain": [
       "0.67"
      ]
     },
     "metadata": {},
     "output_type": "display_data"
    }
   ],
   "source": [
    "round(2/3, 2)   # dos cifras decimales"
   ]
  }
 ],
 "metadata": {
  "kernelspec": {
   "display_name": "Python ('my-env')",
   "language": "python",
   "name": "python3"
  },
  "language_info": {
   "name": "python",
   "version": ""
  },
  "orig_nbformat": 4,
  "vscode": {
   "interpreter": {
    "hash": "25a19fbe0a9132dfb9279d48d161753c6352f8f9478c2e74383d340069b907c3"
   }
  }
 },
 "nbformat": 4,
 "nbformat_minor": 2
}
