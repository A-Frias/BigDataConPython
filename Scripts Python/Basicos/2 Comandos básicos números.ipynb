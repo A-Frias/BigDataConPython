{
 "cells": [
  {
   "cell_type": "markdown",
   "metadata": {
    "collapsed": true
   },
   "source": [
    "## Números\n",
    "\n",
    "Python nos permite trabajar con distintos tipos numéricos, como enteros (tipo _int_) o números reales o en punto flotante (tipo _float_). Disponemos de las operaciones matemáticas habituales con estos tipos. Vamos a verlo."
   ]
  },
  {
   "cell_type": "code",
   "execution_count": null,
   "metadata": {},
   "outputs": [],
   "source": [
    "# Suma de enteros, devuelve un entero\n",
    "3 + 5\n",
    "\n",
    "# Resta de enteros, devuelve un entero\n",
    "10 - 7\n",
    "# Multiplicación de enteros, devuelve un entero\n",
    "3 * 4\n",
    "# Pero si uno de los números tiene decimales (punto flotante), \n",
    "# el resultado también será un float\n",
    "3 + 5.5\n",
    "12.3 - 2\n",
    "3.0 * 4\n",
    "# La división siempre devuelve un valor en punto flotante\n",
    "6 / 3\n",
    "13 / 2\n",
    "# Si lo que queremos es la división entera, se hace así\n",
    "13 // 2\n",
    "# Módulo (resto de la división entera)\n",
    "13 % 2\n",
    "# Potencia\n",
    "3 ** 2\n",
    "# Valor absoluto\n",
    "abs(-3.2)\n",
    "# Redondear un número en punto flotante\n",
    "round(2/3, 1)   # una cifra decimal\n",
    "round(2/3, 2)   # dos cifras decimales"
   ]
  }
 ],
 "metadata": {
  "kernelspec": {
   "display_name": "Python 3.10.6 64-bit",
   "language": "python",
   "name": "python3"
  },
  "language_info": {
   "name": "python",
   "version": "3.10.6"
  },
  "orig_nbformat": 4,
  "vscode": {
   "interpreter": {
    "hash": "7600a12950a547366bb7a6732117e300ffd26224351912980486e1126c5d0f9a"
   }
  }
 },
 "nbformat": 4,
 "nbformat_minor": 2
}
