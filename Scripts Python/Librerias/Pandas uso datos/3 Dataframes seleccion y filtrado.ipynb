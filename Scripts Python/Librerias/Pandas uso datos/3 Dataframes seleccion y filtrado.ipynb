{
 "cells": [
  {
   "cell_type": "markdown",
   "metadata": {},
   "source": [
    "### Más sobre selección y filtrado\n",
    "\n",
    "Ya habíamos visto las formas básicas de seleccionar elementos en una Serie. Con los DataFrames también podemos seleccionar por posición, o mediante las etiquetas, o usando máscaras. La diferencia está en que un DataFrame tiene (al menos) dos ejes o dimensiones, por lo que hay algún cambio en la forma de seleccionar y filtrar.\n",
    "\n",
    "Podemos seleccionar una columna por su nombre, utilizando los corchetes `[]` o la notación con punto (como si accediéramos a un atributo del DataFrame)."
   ]
  },
  {
   "cell_type": "code",
   "execution_count": null,
   "metadata": {},
   "outputs": [
    {
     "data": {
      "text/plain": [
       "Ene    21\n",
       "Feb    22\n",
       "Mar    19\n",
       "Abr    39\n",
       "May    44\n",
       "Jun    26\n",
       "Jul    17\n",
       "Ago    17\n",
       "Sep    30\n",
       "Oct    36\n",
       "Nov    30\n",
       "Dic    21\n",
       "Name: lluvia_mm, dtype: int64"
      ]
     },
     "metadata": {},
     "output_type": "display_data"
    }
   ],
   "source": [
    "df_meteo = DataFrame({\n",
    "                 'imes' : np.arange(1, 13),\n",
    "                 'temp_c' : [7.2, 7.3, 12.1, 15.7, 20.3, 24.8, \n",
    "                             28.2, 25.6, 20.8, 16.8, 12.3, 7.8],\n",
    "                 'lluvia_mm' : [21, 22, 19, 39, 44, 26, \n",
    "                                17, 17, 30, 36, 30, 21],\n",
    "                 'humedad' : [75, 67, 59, 57, 54, 49, \n",
    "                              47, 51, 57, 67, 73, 76]\n",
    "                }, \n",
    "                columns = ['imes','temp_c','lluvia_mm','humedad'],\n",
    "                index = [\"Ene\",\"Feb\",\"Mar\",\"Abr\",\"May\",\"Jun\",\n",
    "                         \"Jul\",\"Ago\",\"Sep\",\"Oct\",\"Nov\",\"Dic\"])\n",
    "\n",
    "# Podemos acceder a una columna con su nombre entre corchetes\n",
    "df_meteo[\"lluvia_mm\"]"
   ]
  },
  {
   "cell_type": "code",
   "execution_count": null,
   "metadata": {},
   "outputs": [
    {
     "data": {
      "text/plain": [
       "Ene     7.2\n",
       "Feb     7.3\n",
       "Mar    12.1\n",
       "Abr    15.7\n",
       "May    20.3\n",
       "Jun    24.8\n",
       "Jul    28.2\n",
       "Ago    25.6\n",
       "Sep    20.8\n",
       "Oct    16.8\n",
       "Nov    12.3\n",
       "Dic     7.8\n",
       "Name: temp_c, dtype: float64"
      ]
     },
     "metadata": {},
     "output_type": "display_data"
    }
   ],
   "source": [
    "# También podemos acceder a una columna como si fuera un atributo,\n",
    "# usando la notación con punto\n",
    "df_meteo.temp_c"
   ]
  },
  {
   "cell_type": "markdown",
   "metadata": {},
   "source": [
    "No obstante, aunque el acceso a una columna del DataFrame como si fuera un atributo puede resultar un atajo muy cómodo, hay que tener cuidado. Si el nombre de una columna coincide con el nombre de alguno de los atributos o métodos propios de la clase DataFrame, será esto a lo que estaremos accediendo, no a la columna. "
   ]
  },
  {
   "cell_type": "code",
   "execution_count": null,
   "metadata": {},
   "outputs": [
    {
     "data": {
      "text/plain": [
       "0    triangle\n",
       "1      square\n",
       "2      circle\n",
       "Name: shape, dtype: object"
      ]
     },
     "metadata": {},
     "output_type": "display_data"
    }
   ],
   "source": [
    "# Un DataFrame de ejemplo con fórmulas para el área\n",
    "# de distintas figuras geométricas\n",
    "df_geom = DataFrame({\n",
    "            'shape' : [\"triangle\",\"square\",\"circle\"],\n",
    "            'area' : [\"b*h/2\", \"a*a\", \"PI*r*r\"]\n",
    "})\n",
    "\n",
    "# Accedemos a la columna \"shape\" con corchetes\n",
    "df_geom[\"shape\"]"
   ]
  },
  {
   "cell_type": "code",
   "execution_count": null,
   "metadata": {},
   "outputs": [
    {
     "data": {
      "text/plain": [
       "(3, 2)"
      ]
     },
     "metadata": {},
     "output_type": "display_data"
    }
   ],
   "source": [
    "# Así accedemos a un atributo propio de la clase DataFrame\n",
    "# que nos dice el número de filas y columnas que tiene\n",
    "# (su \"forma\")\n",
    "df_geom.shape"
   ]
  },
  {
   "cell_type": "markdown",
   "metadata": {},
   "source": [
    "Como ves, el atajo para acceder a una columna como un atributo no siempre va a funcionar. Te recomendamos que utilices los corchetes como opción preferente. Y en especial, cuando tengas que asignar valores a una columna, habrás de utilizar siempre la notación con corchetes.\n",
    "\n",
    "Además, utilizando los corchetes podemos dar una lista de nombres de columnas para elegir varias a la vez."
   ]
  },
  {
   "cell_type": "code",
   "execution_count": null,
   "metadata": {},
   "outputs": [
    {
     "data": {
      "text/html": [
       "<div>\n",
       "<style>\n",
       "    .dataframe thead tr:only-child th {\n",
       "        text-align: right;\n",
       "    }\n",
       "\n",
       "    .dataframe thead th {\n",
       "        text-align: left;\n",
       "    }\n",
       "\n",
       "    .dataframe tbody tr th {\n",
       "        vertical-align: top;\n",
       "    }\n",
       "</style>\n",
       "<table border=\"1\" class=\"dataframe\">\n",
       "  <thead>\n",
       "    <tr style=\"text-align: right;\">\n",
       "      <th></th>\n",
       "      <th>imes</th>\n",
       "      <th>temp_c</th>\n",
       "    </tr>\n",
       "  </thead>\n",
       "  <tbody>\n",
       "    <tr>\n",
       "      <th>Ene</th>\n",
       "      <td>1</td>\n",
       "      <td>7.2</td>\n",
       "    </tr>\n",
       "    <tr>\n",
       "      <th>Feb</th>\n",
       "      <td>2</td>\n",
       "      <td>7.3</td>\n",
       "    </tr>\n",
       "    <tr>\n",
       "      <th>Mar</th>\n",
       "      <td>3</td>\n",
       "      <td>12.1</td>\n",
       "    </tr>\n",
       "    <tr>\n",
       "      <th>Abr</th>\n",
       "      <td>4</td>\n",
       "      <td>15.7</td>\n",
       "    </tr>\n",
       "    <tr>\n",
       "      <th>May</th>\n",
       "      <td>5</td>\n",
       "      <td>20.3</td>\n",
       "    </tr>\n",
       "    <tr>\n",
       "      <th>Jun</th>\n",
       "      <td>6</td>\n",
       "      <td>24.8</td>\n",
       "    </tr>\n",
       "    <tr>\n",
       "      <th>Jul</th>\n",
       "      <td>7</td>\n",
       "      <td>28.2</td>\n",
       "    </tr>\n",
       "    <tr>\n",
       "      <th>Ago</th>\n",
       "      <td>8</td>\n",
       "      <td>25.6</td>\n",
       "    </tr>\n",
       "    <tr>\n",
       "      <th>Sep</th>\n",
       "      <td>9</td>\n",
       "      <td>20.8</td>\n",
       "    </tr>\n",
       "    <tr>\n",
       "      <th>Oct</th>\n",
       "      <td>10</td>\n",
       "      <td>16.8</td>\n",
       "    </tr>\n",
       "    <tr>\n",
       "      <th>Nov</th>\n",
       "      <td>11</td>\n",
       "      <td>12.3</td>\n",
       "    </tr>\n",
       "    <tr>\n",
       "      <th>Dic</th>\n",
       "      <td>12</td>\n",
       "      <td>7.8</td>\n",
       "    </tr>\n",
       "  </tbody>\n",
       "</table>\n",
       "</div>"
      ],
      "text/plain": [
       "     imes  temp_c\n",
       "Ene     1     7.2\n",
       "Feb     2     7.3\n",
       "Mar     3    12.1\n",
       "Abr     4    15.7\n",
       "May     5    20.3\n",
       "Jun     6    24.8\n",
       "Jul     7    28.2\n",
       "Ago     8    25.6\n",
       "Sep     9    20.8\n",
       "Oct    10    16.8\n",
       "Nov    11    12.3\n",
       "Dic    12     7.8"
      ]
     },
     "metadata": {},
     "output_type": "display_data"
    }
   ],
   "source": [
    "df_meteo[[\"imes\",\"temp_c\"]]"
   ]
  },
  {
   "cell_type": "markdown",
   "metadata": {},
   "source": [
    "Pero los corchetes también tienen otra funcionalidad. Si lo que indicamos entre corchetes es un rango o _rebanada_ utilizando el operador '`:`' (como hacemos con las listas normales), ¡entonces no seleccionamos columnas, sino filas!"
   ]
  },
  {
   "cell_type": "code",
   "execution_count": null,
   "metadata": {},
   "outputs": [
    {
     "data": {
      "text/html": [
       "<div>\n",
       "<style>\n",
       "    .dataframe thead tr:only-child th {\n",
       "        text-align: right;\n",
       "    }\n",
       "\n",
       "    .dataframe thead th {\n",
       "        text-align: left;\n",
       "    }\n",
       "\n",
       "    .dataframe tbody tr th {\n",
       "        vertical-align: top;\n",
       "    }\n",
       "</style>\n",
       "<table border=\"1\" class=\"dataframe\">\n",
       "  <thead>\n",
       "    <tr style=\"text-align: right;\">\n",
       "      <th></th>\n",
       "      <th>imes</th>\n",
       "      <th>temp_c</th>\n",
       "      <th>lluvia_mm</th>\n",
       "      <th>humedad</th>\n",
       "    </tr>\n",
       "  </thead>\n",
       "  <tbody>\n",
       "    <tr>\n",
       "      <th>Ene</th>\n",
       "      <td>1</td>\n",
       "      <td>7.2</td>\n",
       "      <td>21</td>\n",
       "      <td>75</td>\n",
       "    </tr>\n",
       "    <tr>\n",
       "      <th>Feb</th>\n",
       "      <td>2</td>\n",
       "      <td>7.3</td>\n",
       "      <td>22</td>\n",
       "      <td>67</td>\n",
       "    </tr>\n",
       "    <tr>\n",
       "      <th>Mar</th>\n",
       "      <td>3</td>\n",
       "      <td>12.1</td>\n",
       "      <td>19</td>\n",
       "      <td>59</td>\n",
       "    </tr>\n",
       "    <tr>\n",
       "      <th>Abr</th>\n",
       "      <td>4</td>\n",
       "      <td>15.7</td>\n",
       "      <td>39</td>\n",
       "      <td>57</td>\n",
       "    </tr>\n",
       "  </tbody>\n",
       "</table>\n",
       "</div>"
      ],
      "text/plain": [
       "     imes  temp_c  lluvia_mm  humedad\n",
       "Ene     1     7.2         21       75\n",
       "Feb     2     7.3         22       67\n",
       "Mar     3    12.1         19       59\n",
       "Abr     4    15.7         39       57"
      ]
     },
     "metadata": {},
     "output_type": "display_data"
    }
   ],
   "source": [
    "# Indicamos un rango o \"rebanada\" de índices\n",
    "df_meteo[0:4]"
   ]
  },
  {
   "cell_type": "code",
   "execution_count": null,
   "metadata": {},
   "outputs": [
    {
     "data": {
      "text/html": [
       "<div>\n",
       "<style>\n",
       "    .dataframe thead tr:only-child th {\n",
       "        text-align: right;\n",
       "    }\n",
       "\n",
       "    .dataframe thead th {\n",
       "        text-align: left;\n",
       "    }\n",
       "\n",
       "    .dataframe tbody tr th {\n",
       "        vertical-align: top;\n",
       "    }\n",
       "</style>\n",
       "<table border=\"1\" class=\"dataframe\">\n",
       "  <thead>\n",
       "    <tr style=\"text-align: right;\">\n",
       "      <th></th>\n",
       "      <th>imes</th>\n",
       "      <th>temp_c</th>\n",
       "      <th>lluvia_mm</th>\n",
       "      <th>humedad</th>\n",
       "    </tr>\n",
       "  </thead>\n",
       "  <tbody>\n",
       "    <tr>\n",
       "      <th>Ene</th>\n",
       "      <td>1</td>\n",
       "      <td>7.2</td>\n",
       "      <td>21</td>\n",
       "      <td>75</td>\n",
       "    </tr>\n",
       "    <tr>\n",
       "      <th>Feb</th>\n",
       "      <td>2</td>\n",
       "      <td>7.3</td>\n",
       "      <td>22</td>\n",
       "      <td>67</td>\n",
       "    </tr>\n",
       "    <tr>\n",
       "      <th>Mar</th>\n",
       "      <td>3</td>\n",
       "      <td>12.1</td>\n",
       "      <td>19</td>\n",
       "      <td>59</td>\n",
       "    </tr>\n",
       "  </tbody>\n",
       "</table>\n",
       "</div>"
      ],
      "text/plain": [
       "     imes  temp_c  lluvia_mm  humedad\n",
       "Ene     1     7.2         21       75\n",
       "Feb     2     7.3         22       67\n",
       "Mar     3    12.1         19       59"
      ]
     },
     "metadata": {},
     "output_type": "display_data"
    }
   ],
   "source": [
    "# También podemos usar \"rebanadas\" de etiquetas\n",
    "# si el índice del DataFrame está etiquetado\n",
    "df_meteo[\"Ene\":\"Mar\"]       # Seleccionar filas de enero a marzo"
   ]
  },
  {
   "cell_type": "markdown",
   "metadata": {},
   "source": [
    "Lo mismo ocurre si entre corchetes escribimos una expresión o máscara booleana. La máscara resultante se aplicará a las filas."
   ]
  },
  {
   "cell_type": "code",
   "execution_count": null,
   "metadata": {},
   "outputs": [
    {
     "data": {
      "text/html": [
       "<div>\n",
       "<style>\n",
       "    .dataframe thead tr:only-child th {\n",
       "        text-align: right;\n",
       "    }\n",
       "\n",
       "    .dataframe thead th {\n",
       "        text-align: left;\n",
       "    }\n",
       "\n",
       "    .dataframe tbody tr th {\n",
       "        vertical-align: top;\n",
       "    }\n",
       "</style>\n",
       "<table border=\"1\" class=\"dataframe\">\n",
       "  <thead>\n",
       "    <tr style=\"text-align: right;\">\n",
       "      <th></th>\n",
       "      <th>imes</th>\n",
       "      <th>temp_c</th>\n",
       "      <th>lluvia_mm</th>\n",
       "      <th>humedad</th>\n",
       "    </tr>\n",
       "  </thead>\n",
       "  <tbody>\n",
       "    <tr>\n",
       "      <th>May</th>\n",
       "      <td>5</td>\n",
       "      <td>20.3</td>\n",
       "      <td>44</td>\n",
       "      <td>54</td>\n",
       "    </tr>\n",
       "    <tr>\n",
       "      <th>Jun</th>\n",
       "      <td>6</td>\n",
       "      <td>24.8</td>\n",
       "      <td>26</td>\n",
       "      <td>49</td>\n",
       "    </tr>\n",
       "    <tr>\n",
       "      <th>Jul</th>\n",
       "      <td>7</td>\n",
       "      <td>28.2</td>\n",
       "      <td>17</td>\n",
       "      <td>47</td>\n",
       "    </tr>\n",
       "    <tr>\n",
       "      <th>Ago</th>\n",
       "      <td>8</td>\n",
       "      <td>25.6</td>\n",
       "      <td>17</td>\n",
       "      <td>51</td>\n",
       "    </tr>\n",
       "    <tr>\n",
       "      <th>Sep</th>\n",
       "      <td>9</td>\n",
       "      <td>20.8</td>\n",
       "      <td>30</td>\n",
       "      <td>57</td>\n",
       "    </tr>\n",
       "  </tbody>\n",
       "</table>\n",
       "</div>"
      ],
      "text/plain": [
       "     imes  temp_c  lluvia_mm  humedad\n",
       "May     5    20.3         44       54\n",
       "Jun     6    24.8         26       49\n",
       "Jul     7    28.2         17       47\n",
       "Ago     8    25.6         17       51\n",
       "Sep     9    20.8         30       57"
      ]
     },
     "metadata": {},
     "output_type": "display_data"
    }
   ],
   "source": [
    "# Seleccionar las filas (meses) \n",
    "# en las que la temperatura supere los 20ºC\n",
    "df_meteo[df_meteo.temp_c > 20.0]"
   ]
  },
  {
   "cell_type": "markdown",
   "metadata": {},
   "source": [
    "> **Importante** Si usas un nombre (o una lista de nombres) entre corchetes, seleccionas columnas. Si indicas un rango o _rebanada_ usando '`:`', o una máscara booleana, seleccionas filas.\n",
    "\n",
    "Si te parece algo confuso, no te preocupes. ¡Realmente lo es!. Este comportamiento está heredado de las primeras versiones de la librería. La idea era primar los usos más típicos de selección de columnas o filas con una sintaxis más abreviada y cómoda. En cuanto te habitúes, verás como te resulta útil en muchas ocasiones.\n",
    "\n",
    "No obstante, para evitar ambigüedades, existen dos mecanismos adicionales para seleccionar filas y columnas: `df.loc` y `df.iloc`.\n",
    "\n",
    "| Método de Acceso           | Descripción             |\n",
    "|:--------------------------:|:-----------------------:|\n",
    "| `df.loc[filas, columnas]`  | Selección por etiquetas |\n",
    "| `df.iloc[filas, columnas]` | Selección por posición (índices enteros) |\n",
    "\n",
    "Con `df.loc` podemos seleccionar filas y columnas indicando sus nombres o etiquetas. "
   ]
  },
  {
   "cell_type": "code",
   "execution_count": null,
   "metadata": {},
   "outputs": [
    {
     "data": {
      "text/plain": [
       "44"
      ]
     },
     "metadata": {},
     "output_type": "display_data"
    }
   ],
   "source": [
    "# Acceso mediante etiquetas con df.loc\n",
    "\n",
    "# Podemos seleccionar un elemento concreto ([fila, columna]) ...\n",
    "df_meteo.loc[\"May\", \"lluvia_mm\"]           "
   ]
  },
  {
   "cell_type": "code",
   "execution_count": null,
   "metadata": {},
   "outputs": [
    {
     "data": {
      "text/plain": [
       "imes          5.0\n",
       "temp_c       20.3\n",
       "lluvia_mm    44.0\n",
       "humedad      54.0\n",
       "Name: May, dtype: float64"
      ]
     },
     "metadata": {},
     "output_type": "display_data"
    }
   ],
   "source": [
    "# ... seleccionar una fila entera\n",
    "df_meteo.loc[\"May\", ]"
   ]
  },
  {
   "cell_type": "code",
   "execution_count": null,
   "metadata": {},
   "outputs": [
    {
     "data": {
      "text/plain": [
       "Ene    75\n",
       "Feb    67\n",
       "Mar    59\n",
       "Abr    57\n",
       "May    54\n",
       "Jun    49\n",
       "Jul    47\n",
       "Ago    51\n",
       "Sep    57\n",
       "Oct    67\n",
       "Nov    73\n",
       "Dic    76\n",
       "Name: humedad, dtype: int64"
      ]
     },
     "metadata": {},
     "output_type": "display_data"
    }
   ],
   "source": [
    "# ... seleccionar una columna entera\n",
    "df_meteo.loc[:, \"humedad\"]"
   ]
  },
  {
   "cell_type": "code",
   "execution_count": null,
   "metadata": {},
   "outputs": [
    {
     "data": {
      "text/html": [
       "<div>\n",
       "<style>\n",
       "    .dataframe thead tr:only-child th {\n",
       "        text-align: right;\n",
       "    }\n",
       "\n",
       "    .dataframe thead th {\n",
       "        text-align: left;\n",
       "    }\n",
       "\n",
       "    .dataframe tbody tr th {\n",
       "        vertical-align: top;\n",
       "    }\n",
       "</style>\n",
       "<table border=\"1\" class=\"dataframe\">\n",
       "  <thead>\n",
       "    <tr style=\"text-align: right;\">\n",
       "      <th></th>\n",
       "      <th>lluvia_mm</th>\n",
       "      <th>humedad</th>\n",
       "    </tr>\n",
       "  </thead>\n",
       "  <tbody>\n",
       "    <tr>\n",
       "      <th>Feb</th>\n",
       "      <td>22</td>\n",
       "      <td>67</td>\n",
       "    </tr>\n",
       "    <tr>\n",
       "      <th>Mar</th>\n",
       "      <td>19</td>\n",
       "      <td>59</td>\n",
       "    </tr>\n",
       "    <tr>\n",
       "      <th>Abr</th>\n",
       "      <td>39</td>\n",
       "      <td>57</td>\n",
       "    </tr>\n",
       "  </tbody>\n",
       "</table>\n",
       "</div>"
      ],
      "text/plain": [
       "     lluvia_mm  humedad\n",
       "Feb         22       67\n",
       "Mar         19       59\n",
       "Abr         39       57"
      ]
     },
     "metadata": {},
     "output_type": "display_data"
    }
   ],
   "source": [
    "# o un subconjunto de filas y columnas\n",
    "df_meteo.loc[\"Feb\":\"Abr\", [\"lluvia_mm\",\"humedad\"]]"
   ]
  },
  {
   "cell_type": "markdown",
   "metadata": {},
   "source": [
    "Mientras que `df.iloc` está pensado para seleccionar indicando la posición (como en una lista o un array de NumPy)."
   ]
  },
  {
   "cell_type": "code",
   "execution_count": null,
   "metadata": {},
   "outputs": [
    {
     "data": {
      "text/plain": [
       "17"
      ]
     },
     "metadata": {},
     "output_type": "display_data"
    }
   ],
   "source": [
    "# Acceso mediante índices de posición con df.iloc\n",
    "\n",
    "# Podemos seleccionar un elemento concreto ([fila, columna]) ...\n",
    "df_meteo.iloc[6, 2]            "
   ]
  },
  {
   "cell_type": "code",
   "execution_count": null,
   "metadata": {},
   "outputs": [
    {
     "data": {
      "text/plain": [
       "imes          7.0\n",
       "temp_c       28.2\n",
       "lluvia_mm    17.0\n",
       "humedad      47.0\n",
       "Name: Jul, dtype: float64"
      ]
     },
     "metadata": {},
     "output_type": "display_data"
    }
   ],
   "source": [
    "# ... seleccionar una fila entera\n",
    "df_meteo.iloc[6, ]"
   ]
  },
  {
   "cell_type": "code",
   "execution_count": null,
   "metadata": {},
   "outputs": [
    {
     "data": {
      "text/plain": [
       "Ene     7.2\n",
       "Feb     7.3\n",
       "Mar    12.1\n",
       "Abr    15.7\n",
       "May    20.3\n",
       "Jun    24.8\n",
       "Jul    28.2\n",
       "Ago    25.6\n",
       "Sep    20.8\n",
       "Oct    16.8\n",
       "Nov    12.3\n",
       "Dic     7.8\n",
       "Name: temp_c, dtype: float64"
      ]
     },
     "metadata": {},
     "output_type": "display_data"
    }
   ],
   "source": [
    "# ... seleccionar una columna entera\n",
    "df_meteo.iloc[:, 1]"
   ]
  },
  {
   "cell_type": "code",
   "execution_count": null,
   "metadata": {},
   "outputs": [
    {
     "data": {
      "text/html": [
       "<div>\n",
       "<style>\n",
       "    .dataframe thead tr:only-child th {\n",
       "        text-align: right;\n",
       "    }\n",
       "\n",
       "    .dataframe thead th {\n",
       "        text-align: left;\n",
       "    }\n",
       "\n",
       "    .dataframe tbody tr th {\n",
       "        vertical-align: top;\n",
       "    }\n",
       "</style>\n",
       "<table border=\"1\" class=\"dataframe\">\n",
       "  <thead>\n",
       "    <tr style=\"text-align: right;\">\n",
       "      <th></th>\n",
       "      <th>temp_c</th>\n",
       "      <th>lluvia_mm</th>\n",
       "    </tr>\n",
       "  </thead>\n",
       "  <tbody>\n",
       "    <tr>\n",
       "      <th>Ene</th>\n",
       "      <td>7.2</td>\n",
       "      <td>21</td>\n",
       "    </tr>\n",
       "    <tr>\n",
       "      <th>Feb</th>\n",
       "      <td>7.3</td>\n",
       "      <td>22</td>\n",
       "    </tr>\n",
       "    <tr>\n",
       "      <th>Mar</th>\n",
       "      <td>12.1</td>\n",
       "      <td>19</td>\n",
       "    </tr>\n",
       "  </tbody>\n",
       "</table>\n",
       "</div>"
      ],
      "text/plain": [
       "     temp_c  lluvia_mm\n",
       "Ene     7.2         21\n",
       "Feb     7.3         22\n",
       "Mar    12.1         19"
      ]
     },
     "metadata": {},
     "output_type": "display_data"
    }
   ],
   "source": [
    "# o un subconjunto de filas y columnas\n",
    "df_meteo.iloc[0:3, 1:3]"
   ]
  },
  {
   "cell_type": "markdown",
   "metadata": {},
   "source": [
    "> **Atención** Fíjate en que, a diferencia de lo que ocurre con las _rebanadas_ de índices numéricos, cuando seleccionamos un rango o _rebanada_ con etiquetas también se incluye el elemento del límite superior del rango.\n",
    "\n",
    "Tanto con `df.loc` como con `df.iloc` podemos utilizar también máscaras booleanas para seleccionar tanto filas como columnas si queremos.\n",
    "\n",
    "Naturalmente, podemos utilizar estos selectores para asignar valores a elementos del DataFrame."
   ]
  },
  {
   "cell_type": "code",
   "execution_count": null,
   "metadata": {},
   "outputs": [
    {
     "name": "stdout",
     "output_type": "stream",
     "text": [
      "     imes  temp_c  lluvia_mm  humedad\n",
      "Ene     1     7.2         21       75\n",
      "Feb     2     7.3         22       67\n",
      "Mar     3    12.1         19       59\n",
      "Abr     4    15.7         39       57\n",
      "May     5    20.3         44       54\n",
      "Jun     6    25.8         26       49\n",
      "Jul     7    29.2         17       47\n",
      "Ago     8    26.6         17       51\n",
      "Sep     9    20.8         30       57\n",
      "Oct    10    16.8         36       67\n",
      "Nov    11    12.3         30       73\n",
      "Dic    12     7.8         21       76\n"
     ]
    }
   ],
   "source": [
    "# Aumentar en 1ºC la temperatura de los meses de Junio a Agosto\n",
    "df_meteo.loc[\"Jun\":\"Ago\", \"temp_c\"] = df_meteo.loc[\"Jun\":\"Ago\", \"temp_c\"] + 1\n",
    "print(df_meteo)"
   ]
  },
  {
   "cell_type": "markdown",
   "metadata": {},
   "source": [
    "También podemos añadir e inicializar una columna nueva de forma sencilla usando los corchetes."
   ]
  },
  {
   "cell_type": "code",
   "execution_count": null,
   "metadata": {},
   "outputs": [
    {
     "name": "stdout",
     "output_type": "stream",
     "text": [
      "     imes  temp_c  lluvia_mm  humedad  limite_temp_c  temp_F\n",
      "Ene     1     7.2         21       75             50   44.96\n",
      "Feb     2     7.3         22       67             50   45.14\n",
      "Mar     3    12.1         19       59             50   53.78\n",
      "Abr     4    15.7         39       57             50   60.26\n",
      "May     5    20.3         44       54             50   68.54\n",
      "Jun     6    25.8         26       49             50   78.44\n",
      "Jul     7    29.2         17       47             50   84.56\n",
      "Ago     8    26.6         17       51             50   79.88\n",
      "Sep     9    20.8         30       57             50   69.44\n",
      "Oct    10    16.8         36       67             50   62.24\n",
      "Nov    11    12.3         30       73             50   54.14\n",
      "Dic    12     7.8         21       76             50   46.04\n"
     ]
    }
   ],
   "source": [
    "# Añadir una columna, con un mismo valor para todas las filas\n",
    "df_meteo[\"limite_temp_c\"] = 50\n",
    "\n",
    "# Añadir una columna, dando valores individuales a cada elemento\n",
    "# mediante una lista o una expresión\n",
    "# Ej. pasar la temperatura a grados Fahrenheit\n",
    "df_meteo[\"temp_F\"] = 1.8 * df_meteo[\"temp_c\"] + 32\n",
    "\n",
    "print(df_meteo)"
   ]
  }
 ],
 "metadata": {
  "language_info": {
   "name": "python"
  },
  "orig_nbformat": 4
 },
 "nbformat": 4,
 "nbformat_minor": 2
}
