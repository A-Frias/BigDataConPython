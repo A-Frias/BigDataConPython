{
 "cells": [
  {
   "cell_type": "code",
   "execution_count": null,
   "metadata": {},
   "outputs": [],
   "source": []
  },
  {
   "cell_type": "markdown",
   "metadata": {},
   "source": [
    "#### Funciones básicas de agregación y estadísticas\n",
    "\n",
    "Además de las funciones matemáticas de NumPy, Pandas también incluye las operaciones básicas estadísticas y de cálculo de agregados."
   ]
  },
  {
   "cell_type": "code",
   "execution_count": null,
   "metadata": {},
   "outputs": [
    {
     "data": {
      "text/plain": [
       "p1    80.35\n",
       "p2    64.18\n",
       "p3    71.60\n",
       "dtype: float64"
      ]
     },
     "metadata": {},
     "output_type": "display_data"
    }
   ],
   "source": [
    "# Supongamos que tenemos medidas del peso \n",
    "# de varias personas (p1, p2, p3)\n",
    "# a lo largo de varios años (2012..2016)\n",
    "# FIJATE en el valor `None`\n",
    "df_pesos = DataFrame({\n",
    "        \"p1\" : [ 82.9,  79.5,  80.1,  None,  78.9], \n",
    "        \"p2\" : [ 63.8,  63. ,  63.7,  65.2,  65.2],\n",
    "        \"p3\" : [ 73.5,  72.3,  71.8,  71.4,  69. ]\n",
    "        }, index = [2012, 2013, 2014, 2015, 2016])\n",
    "\n",
    "# Podemos calcular el peso medio de cada persona a lo largo del tiempo\n",
    "# (promedio de valores de todas las filas para cada columna)\n",
    "df_pesos.mean()\n",
    "# es equivalente a `df_pesos.mean(axis = 'rows')`"
   ]
  },
  {
   "cell_type": "code",
   "execution_count": null,
   "metadata": {},
   "outputs": [
    {
     "data": {
      "text/plain": [
       "2012    73.400000\n",
       "2013    71.600000\n",
       "2014    71.866667\n",
       "2015    68.300000\n",
       "2016    71.033333\n",
       "dtype: float64"
      ]
     },
     "metadata": {},
     "output_type": "display_data"
    }
   ],
   "source": [
    "# O calcular la media de los pesos observados cada año\n",
    "# (promedio por valores de todas las columnas para cada fila, \n",
    "#  usando `axis = columns`)\n",
    "df_pesos.mean(axis = 'columns')"
   ]
  },
  {
   "cell_type": "markdown",
   "metadata": {},
   "source": [
    "El comportamiento por defecto de las funciones estadísticas es calcular los agregados tomando los valores de todas las filas, a lo largo de cada columna, reduciendo el resultado a una sola fila o serie (equivalente a usar el argumento `axis = 'rows'`). \n",
    "\n",
    "Si queremos calcular el agregado basado en los valores de todas las columnas a lo largo de cada fila, utilizamos el argumento `axis = 'columns'`.\n",
    "\n",
    "¿Te has fijado en el valor `None` que hemos metido en el DataFrame? Pandas lo transforma directamente a `NaN`. Sin embargo, no afecta a los cálculos de `mean()`. En estas funciones de agregación, Pandas descarta por defecto los elementos con valor `NaN`. Si preferimos que los tenga en cuenta, podemos utilizar el argumento '`skipna = False`'. Ten en cuenta que en este caso, las columnas (o filas) que tengan algún valor `NaN` darán como resultado otro `NaN`."
   ]
  },
  {
   "cell_type": "code",
   "execution_count": null,
   "metadata": {},
   "outputs": [
    {
     "data": {
      "text/plain": [
       "p1      NaN\n",
       "p2    64.18\n",
       "p3    71.60\n",
       "dtype: float64"
      ]
     },
     "metadata": {},
     "output_type": "display_data"
    }
   ],
   "source": [
    "df_pesos.mean(skipna = False)"
   ]
  },
  {
   "cell_type": "markdown",
   "metadata": {},
   "source": [
    "Aquí tienes un cuadro resumen de las principales funciones de agregación y estadísticas que puedes usar con Series y DataFrames.\n",
    "\n",
    "| Función              | Descripción       |\n",
    "|:---------------------|:------------------|\n",
    "| `count()`            | Número total de elementos (no nulos) |\n",
    "| `sum()`              | Suma de todos los elementos |\n",
    "| `prod()`             | Producto de todos los elementos |\n",
    "| `mean()`             | Valor medio |\n",
    "| `median()`           | Mediana |\n",
    "| `std()`              | Desviación típica |\n",
    "| `var()`              | Varianza                |\n",
    "| `quantile(q)`        | cuantil q-ésimo |\n",
    "| `min()`, `max()`     | Valores mínimo y máximo |\n",
    "| `first()`, `last()`  | Valor inicial y final |\n"
   ]
  }
 ],
 "metadata": {
  "kernelspec": {
   "display_name": "Python 3.9.13",
   "language": "python",
   "name": "python3"
  },
  "language_info": {
   "name": "python",
   "version": "3.9.13"
  },
  "orig_nbformat": 4,
  "vscode": {
   "interpreter": {
    "hash": "eb6fcc4987d40a8a7a9bcbb3f79366e5006f70e69b6b24b8b7e2973ccc311291"
   }
  }
 },
 "nbformat": 4,
 "nbformat_minor": 2
}
