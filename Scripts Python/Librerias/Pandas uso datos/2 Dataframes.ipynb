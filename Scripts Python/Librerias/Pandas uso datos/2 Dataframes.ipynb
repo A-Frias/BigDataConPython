{
 "cells": [
  {
   "cell_type": "code",
   "execution_count": null,
   "metadata": {},
   "outputs": [],
   "source": []
  },
  {
   "cell_type": "markdown",
   "metadata": {},
   "source": [
    "#### DataFrames\n",
    "\n",
    "Un `DataFrame` de la librería Pandas es análogo a los _data frames_ del lenguaje R que viste en unidades anteriores de este curso. Representa un conjunto de datos en forma _tabular_, muy similar a una tabla en base de datos o también a una hoja de cálculo. Puedes verlo como una colección de columnas o series alineadas, cada columna con su propio nombre o etiqueta, y además pudiendo ser cada una de un tipo de dato distinto."
   ]
  },
  {
   "cell_type": "code",
   "execution_count": null,
   "metadata": {},
   "outputs": [
    {
     "name": "stdout",
     "output_type": "stream",
     "text": [
      "    humedad  lluvia_mm  mes  temp_c\n",
      "0        75         21  Ene     7.2\n",
      "1        67         22  Feb     7.3\n",
      "2        59         19  Mar    12.1\n",
      "3        57         39  Abr    15.7\n",
      "4        54         44  May    20.3\n",
      "5        49         26  Jun    24.8\n",
      "6        47         17  Jul    28.2\n",
      "7        51         17  Ago    25.6\n",
      "8        57         30  Sep    20.8\n",
      "9        67         36  Oct    16.8\n",
      "10       73         30  Nov    12.3\n",
      "11       76         21  Dic     7.8\n"
     ]
    }
   ],
   "source": [
    "# Creamos un `DataFrame` utilizando un diccionario\n",
    "df1 = DataFrame({'mes' : [\"Ene\",\"Feb\",\"Mar\",\"Abr\",\"May\",\"Jun\",\n",
    "                          \"Jul\",\"Ago\",\"Sep\",\"Oct\",\"Nov\",\"Dic\"],\n",
    "                 'temp_c' : [7.2, 7.3, 12.1, 15.7, 20.3, 24.8, \n",
    "                             28.2, 25.6, 20.8, 16.8, 12.3, 7.8],\n",
    "                 'lluvia_mm' : [21, 22, 19, 39, 44, 26, \n",
    "                                17, 17, 30, 36, 30, 21],\n",
    "                 'humedad' : [75, 67, 59, 57, 54, 49, \n",
    "                              47, 51, 57, 67, 73, 76]\n",
    "                })\n",
    "\n",
    "print(df1)"
   ]
  },
  {
   "cell_type": "markdown",
   "metadata": {},
   "source": [
    "Una de las formas más comunes y rápidas de crear un `DataFrame` es utilizando un diccionario, como en el ejemplo que acabas de ver. Cada _clave_ del diccionario se toma como una columna. Y los _valores_ asociados a cada _clave_ son a su vez listas que contienen los valores de cada columna. Para que no haya problemas, las listas deben tener todas la misma longitud.\n",
    "\n",
    "Si te has fijado, las columnas no salen en el mismo orden en el que las hemos definido, si no que aparecen en orden alfabético. Podemos pasar una secuencia con los nombres de las columnas para indicar el orden exacto que queremos."
   ]
  },
  {
   "cell_type": "code",
   "execution_count": null,
   "metadata": {},
   "outputs": [
    {
     "name": "stdout",
     "output_type": "stream",
     "text": [
      "    mes  temp_c  lluvia_mm  humedad\n",
      "0   Ene     7.2         21       75\n",
      "1   Feb     7.3         22       67\n",
      "2   Mar    12.1         19       59\n",
      "3   Abr    15.7         39       57\n",
      "4   May    20.3         44       54\n",
      "5   Jun    24.8         26       49\n",
      "6   Jul    28.2         17       47\n",
      "7   Ago    25.6         17       51\n",
      "8   Sep    20.8         30       57\n",
      "9   Oct    16.8         36       67\n",
      "10  Nov    12.3         30       73\n",
      "11  Dic     7.8         21       76\n"
     ]
    }
   ],
   "source": [
    "# Creamos un `DataFrame` utilizando un diccionario\n",
    "# utilizamos el argumento `columns` para especificar el orden de las columnas\n",
    "df1 = DataFrame({'mes' : [\"Ene\",\"Feb\",\"Mar\",\"Abr\",\"May\",\"Jun\",\n",
    "                          \"Jul\",\"Ago\",\"Sep\",\"Oct\",\"Nov\",\"Dic\"],\n",
    "                 'temp_c' : [7.2, 7.3, 12.1, 15.7, 20.3, 24.8, \n",
    "                             28.2, 25.6, 20.8, 16.8, 12.3, 7.8],\n",
    "                 'lluvia_mm' : [21, 22, 19, 39, 44, 26, \n",
    "                                17, 17, 30, 36, 30, 21],\n",
    "                 'humedad' : [75, 67, 59, 57, 54, 49, \n",
    "                              47, 51, 57, 67, 73, 76]\n",
    "                }, columns = ['mes','temp_c','lluvia_mm','humedad'])\n",
    "print(df1)"
   ]
  },
  {
   "cell_type": "markdown",
   "metadata": {},
   "source": [
    "También podemos utilizar un array de Numpy o una serie para definir los valores de una columna."
   ]
  },
  {
   "cell_type": "code",
   "execution_count": null,
   "metadata": {},
   "outputs": [
    {
     "name": "stdout",
     "output_type": "stream",
     "text": [
      "    mes  imes  temp_c  lluvia_mm  humedad\n",
      "0   Ene     1     7.2         21       75\n",
      "1   Feb     2     7.3         22       67\n",
      "2   Mar     3    12.1         19       59\n",
      "3   Abr     4    15.7         39       57\n",
      "4   May     5    20.3         44       54\n",
      "5   Jun     6    24.8         26       49\n",
      "6   Jul     7    28.2         17       47\n",
      "7   Ago     8    25.6         17       51\n",
      "8   Sep     9    20.8         30       57\n",
      "9   Oct    10    16.8         36       67\n",
      "10  Nov    11    12.3         30       73\n",
      "11  Dic    12     7.8         21       76\n"
     ]
    }
   ],
   "source": [
    "import numpy as np\n",
    "\n",
    "temp_mensual = Series([7.2, 7.3, 12.1, 15.7, 20.3, 24.8, \n",
    "                       28.2, 25.6, 20.8, 16.8, 12.3, 7.8])\n",
    "\n",
    "df2 = DataFrame({'mes' : [\"Ene\",\"Feb\",\"Mar\",\"Abr\",\"May\",\"Jun\",\n",
    "                          \"Jul\",\"Ago\",\"Sep\",\"Oct\",\"Nov\",\"Dic\"],\n",
    "                 'imes' : np.arange(1, 13),\n",
    "                 'temp_c' : temp_mensual,\n",
    "                 'lluvia_mm' : [21, 22, 19, 39, 44, 26, \n",
    "                                17, 17, 30, 36, 30, 21],\n",
    "                 'humedad' : [75, 67, 59, 57, 54, 49, \n",
    "                              47, 51, 57, 67, 73, 76]\n",
    "                }, columns = ['mes','imes','temp_c','lluvia_mm','humedad'])\n",
    "print(df2)"
   ]
  },
  {
   "cell_type": "markdown",
   "metadata": {},
   "source": [
    "De forma similar a las Series, los DataFrames también incorporan un índice que permite acceder a las filas. Por defecto se asigna la secuencia de índices posicionales habitual, comenzando en cero. Pero también es posible especificar cualquier otra secuencia de etiquetas para indexar el contenido del DataFrame."
   ]
  },
  {
   "cell_type": "code",
   "execution_count": null,
   "metadata": {},
   "outputs": [
    {
     "name": "stdout",
     "output_type": "stream",
     "text": [
      "     imes  temp_c  lluvia_mm  humedad\n",
      "Ene     1     7.2         21       75\n",
      "Feb     2     7.3         22       67\n",
      "Mar     3    12.1         19       59\n",
      "Abr     4    15.7         39       57\n",
      "May     5    20.3         44       54\n",
      "Jun     6    24.8         26       49\n",
      "Jul     7    28.2         17       47\n",
      "Ago     8    25.6         17       51\n",
      "Sep     9    20.8         30       57\n",
      "Oct    10    16.8         36       67\n",
      "Nov    11    12.3         30       73\n",
      "Dic    12     7.8         21       76\n"
     ]
    }
   ],
   "source": [
    "# Vimos como crear una serie con etiquetas como índice\n",
    "temp_mensual = Series([7.2, 7.3, 12.1, 15.7, 20.3, 24.8, \n",
    "                       28.2, 25.6, 20.8, 16.8, 12.3, 7.8],\n",
    "                     index = [\"Ene\",\"Feb\",\"Mar\",\"Abr\",\"May\",\"Jun\",\n",
    "                              \"Jul\",\"Ago\",\"Sep\",\"Oct\",\"Nov\",\"Dic\"])\n",
    "\n",
    "# También podemos definir el índice en un DataFrame\n",
    "df3 = DataFrame({'imes' : np.arange(1, 13),\n",
    "                 'temp_c' : temp_mensual,\n",
    "                 'lluvia_mm' : [21, 22, 19, 39, 44, 26, \n",
    "                                17, 17, 30, 36, 30, 21],\n",
    "                 'humedad' : [75, 67, 59, 57, 54, 49, \n",
    "                              47, 51, 57, 67, 73, 76]}, \n",
    "                columns = ['imes','temp_c','lluvia_mm','humedad'],\n",
    "                index = [\"Ene\",\"Feb\",\"Mar\",\"Abr\",\"May\",\"Jun\",\n",
    "                         \"Jul\",\"Ago\",\"Sep\",\"Oct\",\"Nov\",\"Dic\"])\n",
    "print(df3)"
   ]
  },
  {
   "cell_type": "markdown",
   "metadata": {},
   "source": [
    "Podemos listar la secuencia de etiquetas que forman el índice, o la secuencia de etiquetas con los nombres de las columnas de un DataFrame."
   ]
  },
  {
   "cell_type": "code",
   "execution_count": null,
   "metadata": {},
   "outputs": [
    {
     "data": {
      "text/plain": [
       "Index(['Ene', 'Feb', 'Mar', 'Abr', 'May', 'Jun', 'Jul', 'Ago', 'Sep', 'Oct',\n",
       "       'Nov', 'Dic'],\n",
       "      dtype='object')"
      ]
     },
     "metadata": {},
     "output_type": "display_data"
    }
   ],
   "source": [
    "# Índice asociado al DataFrame\n",
    "df3.index"
   ]
  },
  {
   "cell_type": "code",
   "execution_count": null,
   "metadata": {},
   "outputs": [
    {
     "data": {
      "text/plain": [
       "Index(['imes', 'temp_c', 'lluvia_mm', 'humedad'], dtype='object')"
      ]
     },
     "metadata": {},
     "output_type": "display_data"
    }
   ],
   "source": [
    "# Columnas del DataFrame\n",
    "df3.columns"
   ]
  },
  {
   "cell_type": "markdown",
   "metadata": {},
   "source": [
    "Como ves, la información de los nombres del índice (filas) y de los nombres de las columnas se almacenan ambas en objetos de tipo `Index`.\n",
    "\n",
    "Veamos algunas operaciones básicas para una primera inspección del contenido de un DataFrame."
   ]
  },
  {
   "cell_type": "code",
   "execution_count": null,
   "metadata": {},
   "outputs": [
    {
     "data": {
      "text/plain": [
       "(12, 4)"
      ]
     },
     "metadata": {},
     "output_type": "display_data"
    }
   ],
   "source": [
    "# Tamaño del DataFrame (num. filas, num. columnas)\n",
    "df3.shape"
   ]
  },
  {
   "cell_type": "code",
   "execution_count": null,
   "metadata": {},
   "outputs": [
    {
     "data": {
      "text/plain": [
       "12"
      ]
     },
     "metadata": {},
     "output_type": "display_data"
    }
   ],
   "source": [
    "# La forma más rápida de sacar el número de filas\n",
    "df3.shape[0]"
   ]
  },
  {
   "cell_type": "code",
   "execution_count": null,
   "metadata": {},
   "outputs": [
    {
     "data": {
      "text/plain": [
       "48"
      ]
     },
     "metadata": {},
     "output_type": "display_data"
    }
   ],
   "source": [
    "# Tamaño total (num. total de elementos)\n",
    "df3.size"
   ]
  },
  {
   "cell_type": "code",
   "execution_count": null,
   "metadata": {},
   "outputs": [
    {
     "data": {
      "text/html": [
       "<div>\n",
       "<style>\n",
       "    .dataframe thead tr:only-child th {\n",
       "        text-align: right;\n",
       "    }\n",
       "\n",
       "    .dataframe thead th {\n",
       "        text-align: left;\n",
       "    }\n",
       "\n",
       "    .dataframe tbody tr th {\n",
       "        vertical-align: top;\n",
       "    }\n",
       "</style>\n",
       "<table border=\"1\" class=\"dataframe\">\n",
       "  <thead>\n",
       "    <tr style=\"text-align: right;\">\n",
       "      <th></th>\n",
       "      <th>imes</th>\n",
       "      <th>temp_c</th>\n",
       "      <th>lluvia_mm</th>\n",
       "      <th>humedad</th>\n",
       "    </tr>\n",
       "  </thead>\n",
       "  <tbody>\n",
       "    <tr>\n",
       "      <th>Ene</th>\n",
       "      <td>1</td>\n",
       "      <td>7.2</td>\n",
       "      <td>21</td>\n",
       "      <td>75</td>\n",
       "    </tr>\n",
       "    <tr>\n",
       "      <th>Feb</th>\n",
       "      <td>2</td>\n",
       "      <td>7.3</td>\n",
       "      <td>22</td>\n",
       "      <td>67</td>\n",
       "    </tr>\n",
       "    <tr>\n",
       "      <th>Mar</th>\n",
       "      <td>3</td>\n",
       "      <td>12.1</td>\n",
       "      <td>19</td>\n",
       "      <td>59</td>\n",
       "    </tr>\n",
       "    <tr>\n",
       "      <th>Abr</th>\n",
       "      <td>4</td>\n",
       "      <td>15.7</td>\n",
       "      <td>39</td>\n",
       "      <td>57</td>\n",
       "    </tr>\n",
       "    <tr>\n",
       "      <th>May</th>\n",
       "      <td>5</td>\n",
       "      <td>20.3</td>\n",
       "      <td>44</td>\n",
       "      <td>54</td>\n",
       "    </tr>\n",
       "  </tbody>\n",
       "</table>\n",
       "</div>"
      ],
      "text/plain": [
       "     imes  temp_c  lluvia_mm  humedad\n",
       "Ene     1     7.2         21       75\n",
       "Feb     2     7.3         22       67\n",
       "Mar     3    12.1         19       59\n",
       "Abr     4    15.7         39       57\n",
       "May     5    20.3         44       54"
      ]
     },
     "metadata": {},
     "output_type": "display_data"
    }
   ],
   "source": [
    "# Mostrar las N primeras filas (5 por defecto)\n",
    "df3.head()"
   ]
  },
  {
   "cell_type": "code",
   "execution_count": null,
   "metadata": {},
   "outputs": [
    {
     "data": {
      "text/html": [
       "<div>\n",
       "<style>\n",
       "    .dataframe thead tr:only-child th {\n",
       "        text-align: right;\n",
       "    }\n",
       "\n",
       "    .dataframe thead th {\n",
       "        text-align: left;\n",
       "    }\n",
       "\n",
       "    .dataframe tbody tr th {\n",
       "        vertical-align: top;\n",
       "    }\n",
       "</style>\n",
       "<table border=\"1\" class=\"dataframe\">\n",
       "  <thead>\n",
       "    <tr style=\"text-align: right;\">\n",
       "      <th></th>\n",
       "      <th>imes</th>\n",
       "      <th>temp_c</th>\n",
       "      <th>lluvia_mm</th>\n",
       "      <th>humedad</th>\n",
       "    </tr>\n",
       "  </thead>\n",
       "  <tbody>\n",
       "    <tr>\n",
       "      <th>Oct</th>\n",
       "      <td>10</td>\n",
       "      <td>16.8</td>\n",
       "      <td>36</td>\n",
       "      <td>67</td>\n",
       "    </tr>\n",
       "    <tr>\n",
       "      <th>Nov</th>\n",
       "      <td>11</td>\n",
       "      <td>12.3</td>\n",
       "      <td>30</td>\n",
       "      <td>73</td>\n",
       "    </tr>\n",
       "    <tr>\n",
       "      <th>Dic</th>\n",
       "      <td>12</td>\n",
       "      <td>7.8</td>\n",
       "      <td>21</td>\n",
       "      <td>76</td>\n",
       "    </tr>\n",
       "  </tbody>\n",
       "</table>\n",
       "</div>"
      ],
      "text/plain": [
       "     imes  temp_c  lluvia_mm  humedad\n",
       "Oct    10    16.8         36       67\n",
       "Nov    11    12.3         30       73\n",
       "Dic    12     7.8         21       76"
      ]
     },
     "metadata": {},
     "output_type": "display_data"
    }
   ],
   "source": [
    "# o las N últimas\n",
    "df3.tail(3)"
   ]
  },
  {
   "cell_type": "code",
   "execution_count": null,
   "metadata": {},
   "outputs": [
    {
     "data": {
      "text/plain": [
       "imes         12\n",
       "temp_c       12\n",
       "lluvia_mm    12\n",
       "humedad      12\n",
       "dtype: int64"
      ]
     },
     "metadata": {},
     "output_type": "display_data"
    }
   ],
   "source": [
    "# Conteo de elementos no nulos\n",
    "# en cada columna\n",
    "df3.count()"
   ]
  },
  {
   "cell_type": "code",
   "execution_count": null,
   "metadata": {},
   "outputs": [
    {
     "data": {
      "text/html": [
       "<div>\n",
       "<style>\n",
       "    .dataframe thead tr:only-child th {\n",
       "        text-align: right;\n",
       "    }\n",
       "\n",
       "    .dataframe thead th {\n",
       "        text-align: left;\n",
       "    }\n",
       "\n",
       "    .dataframe tbody tr th {\n",
       "        vertical-align: top;\n",
       "    }\n",
       "</style>\n",
       "<table border=\"1\" class=\"dataframe\">\n",
       "  <thead>\n",
       "    <tr style=\"text-align: right;\">\n",
       "      <th></th>\n",
       "      <th>imes</th>\n",
       "      <th>temp_c</th>\n",
       "      <th>lluvia_mm</th>\n",
       "      <th>humedad</th>\n",
       "    </tr>\n",
       "  </thead>\n",
       "  <tbody>\n",
       "    <tr>\n",
       "      <th>count</th>\n",
       "      <td>12.000000</td>\n",
       "      <td>12.00000</td>\n",
       "      <td>12.000000</td>\n",
       "      <td>12.000000</td>\n",
       "    </tr>\n",
       "    <tr>\n",
       "      <th>mean</th>\n",
       "      <td>6.500000</td>\n",
       "      <td>16.57500</td>\n",
       "      <td>26.833333</td>\n",
       "      <td>61.000000</td>\n",
       "    </tr>\n",
       "    <tr>\n",
       "      <th>std</th>\n",
       "      <td>3.605551</td>\n",
       "      <td>7.42234</td>\n",
       "      <td>9.013458</td>\n",
       "      <td>10.277955</td>\n",
       "    </tr>\n",
       "    <tr>\n",
       "      <th>min</th>\n",
       "      <td>1.000000</td>\n",
       "      <td>7.20000</td>\n",
       "      <td>17.000000</td>\n",
       "      <td>47.000000</td>\n",
       "    </tr>\n",
       "    <tr>\n",
       "      <th>25%</th>\n",
       "      <td>3.750000</td>\n",
       "      <td>11.02500</td>\n",
       "      <td>20.500000</td>\n",
       "      <td>53.250000</td>\n",
       "    </tr>\n",
       "    <tr>\n",
       "      <th>50%</th>\n",
       "      <td>6.500000</td>\n",
       "      <td>16.25000</td>\n",
       "      <td>24.000000</td>\n",
       "      <td>58.000000</td>\n",
       "    </tr>\n",
       "    <tr>\n",
       "      <th>75%</th>\n",
       "      <td>9.250000</td>\n",
       "      <td>21.80000</td>\n",
       "      <td>31.500000</td>\n",
       "      <td>68.500000</td>\n",
       "    </tr>\n",
       "    <tr>\n",
       "      <th>max</th>\n",
       "      <td>12.000000</td>\n",
       "      <td>28.20000</td>\n",
       "      <td>44.000000</td>\n",
       "      <td>76.000000</td>\n",
       "    </tr>\n",
       "  </tbody>\n",
       "</table>\n",
       "</div>"
      ],
      "text/plain": [
       "            imes    temp_c  lluvia_mm    humedad\n",
       "count  12.000000  12.00000  12.000000  12.000000\n",
       "mean    6.500000  16.57500  26.833333  61.000000\n",
       "std     3.605551   7.42234   9.013458  10.277955\n",
       "min     1.000000   7.20000  17.000000  47.000000\n",
       "25%     3.750000  11.02500  20.500000  53.250000\n",
       "50%     6.500000  16.25000  24.000000  58.000000\n",
       "75%     9.250000  21.80000  31.500000  68.500000\n",
       "max    12.000000  28.20000  44.000000  76.000000"
      ]
     },
     "metadata": {},
     "output_type": "display_data"
    }
   ],
   "source": [
    "# Resumen con estadísticas básicas de cada columna\n",
    "df3.describe()"
   ]
  }
 ],
 "metadata": {
  "kernelspec": {
   "display_name": "Python 3.9.12 ('base')",
   "language": "python",
   "name": "python3"
  },
  "language_info": {
   "name": "python",
   "version": "3.9.12"
  },
  "orig_nbformat": 4,
  "vscode": {
   "interpreter": {
    "hash": "7c39e21a772e99c1a7e3fb7ef3402580462d255e64df51b314942f2f47217269"
   }
  }
 },
 "nbformat": 4,
 "nbformat_minor": 2
}
