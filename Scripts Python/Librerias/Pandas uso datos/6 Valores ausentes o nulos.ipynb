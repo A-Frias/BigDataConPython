{
 "cells": [
  {
   "cell_type": "markdown",
   "metadata": {},
   "source": [
    "#### Trabajando con valores ausentes o nulos\n",
    "\n",
    "Ya hemos explicado en los ejemplos anteriores cómo Pandas utiliza el elemento especial `NaN` para indicar que cierto valor está ausente o bien que no ha podido realizarse un cálculo.\n",
    "\n",
    "Al trabajar con datos en problemas reales, es normal (y casi inevitable) que aparezcan huecos en los datos, valores no definidos o no válidos. Pandas incluye algunas funcionalidades muy útiles para lidiar con estos casos.\n",
    "\n",
    "Para empezar, podemos saber qué elementos son nulos utilizando `isnull()` (o su complementario, `notnull()`)."
   ]
  },
  {
   "cell_type": "code",
   "execution_count": null,
   "metadata": {},
   "outputs": [
    {
     "data": {
      "text/plain": [
       "manzanas    False\n",
       "naranjas    False\n",
       "peras       False\n",
       "uva          True\n",
       "dtype: bool"
      ]
     },
     "metadata": {},
     "output_type": "display_data"
    }
   ],
   "source": [
    "# Teníamos estas dos Series\n",
    "fruta_kg = Series({'peras': 2, 'manzanas': 1, 'naranjas': 3})\n",
    "fruta_precio = Series({'manzanas': 1.95, 'naranjas': 1.90, 'peras': 1.50, 'uva': 2.60})\n",
    "\n",
    "# Multiplicamos...\n",
    "fruta_res = fruta_kg * fruta_precio\n",
    "# y vemos qué elementos son nulos\n",
    "fruta_res.isnull()"
   ]
  },
  {
   "cell_type": "code",
   "execution_count": null,
   "metadata": {},
   "outputs": [
    {
     "data": {
      "text/plain": [
       "manzanas     True\n",
       "naranjas     True\n",
       "peras        True\n",
       "uva         False\n",
       "dtype: bool"
      ]
     },
     "metadata": {},
     "output_type": "display_data"
    }
   ],
   "source": [
    "# O al revés, cuáles son válidos\n",
    "fruta_res.notnull()"
   ]
  },
  {
   "cell_type": "markdown",
   "metadata": {},
   "source": [
    "En ocasiones, nos puede convenir quitarnos de en medio los valores nulos para que no nos molesten mientras trabajamos. Para ello usamos `dropna()`."
   ]
  },
  {
   "cell_type": "code",
   "execution_count": null,
   "metadata": {},
   "outputs": [
    {
     "data": {
      "text/plain": [
       "manzanas    1.95\n",
       "naranjas    5.70\n",
       "peras       3.00\n",
       "dtype: float64"
      ]
     },
     "metadata": {},
     "output_type": "display_data"
    }
   ],
   "source": [
    "fruta_res.dropna()"
   ]
  },
  {
   "cell_type": "markdown",
   "metadata": {},
   "source": [
    "Si utilizamos `dropna()` con un DataFrame, podemos indicar si queremos descartar las filas con algún `NaN` (comportamiento por defecto), o si queremos descartar las columnas con algún `NaN`."
   ]
  },
  {
   "cell_type": "code",
   "execution_count": null,
   "metadata": {},
   "outputs": [
    {
     "data": {
      "text/html": [
       "<div>\n",
       "<style>\n",
       "    .dataframe thead tr:only-child th {\n",
       "        text-align: right;\n",
       "    }\n",
       "\n",
       "    .dataframe thead th {\n",
       "        text-align: left;\n",
       "    }\n",
       "\n",
       "    .dataframe tbody tr th {\n",
       "        vertical-align: top;\n",
       "    }\n",
       "</style>\n",
       "<table border=\"1\" class=\"dataframe\">\n",
       "  <thead>\n",
       "    <tr style=\"text-align: right;\">\n",
       "      <th></th>\n",
       "      <th>tienda_1</th>\n",
       "      <th>tienda_2</th>\n",
       "      <th>tienda_3</th>\n",
       "    </tr>\n",
       "  </thead>\n",
       "  <tbody>\n",
       "    <tr>\n",
       "      <th>naranjas</th>\n",
       "      <td>5.70</td>\n",
       "      <td>5.85</td>\n",
       "      <td>5.7</td>\n",
       "    </tr>\n",
       "    <tr>\n",
       "      <th>peras</th>\n",
       "      <td>2.25</td>\n",
       "      <td>2.40</td>\n",
       "      <td>2.3</td>\n",
       "    </tr>\n",
       "  </tbody>\n",
       "</table>\n",
       "</div>"
      ],
      "text/plain": [
       "          tienda_1  tienda_2  tienda_3\n",
       "naranjas      5.70      5.85       5.7\n",
       "peras         2.25      2.40       2.3"
      ]
     },
     "metadata": {},
     "output_type": "display_data"
    }
   ],
   "source": [
    "# Si trabajamos con DataFrames\n",
    "df_cuenta = DataFrame({\n",
    "                \"tienda_1\" : Series({\"peras\" : 2.25, \"naranjas\" : 5.70}),\n",
    "                \"tienda_2\" : Series({\"peras\" : 2.40, \"naranjas\" : 5.85, \"uva\" : 2.60}),\n",
    "                \"tienda_3\" : Series({\"manzanas\" : 1.70, \"peras\" : 2.30, \"naranjas\" : 5.70, \"uva\" : 3})\n",
    "})\n",
    "\n",
    "# podemos descartar las filas con NAs\n",
    "df_cuenta.dropna()"
   ]
  },
  {
   "cell_type": "code",
   "execution_count": null,
   "metadata": {},
   "outputs": [
    {
     "data": {
      "text/html": [
       "<div>\n",
       "<style>\n",
       "    .dataframe thead tr:only-child th {\n",
       "        text-align: right;\n",
       "    }\n",
       "\n",
       "    .dataframe thead th {\n",
       "        text-align: left;\n",
       "    }\n",
       "\n",
       "    .dataframe tbody tr th {\n",
       "        vertical-align: top;\n",
       "    }\n",
       "</style>\n",
       "<table border=\"1\" class=\"dataframe\">\n",
       "  <thead>\n",
       "    <tr style=\"text-align: right;\">\n",
       "      <th></th>\n",
       "      <th>tienda_3</th>\n",
       "    </tr>\n",
       "  </thead>\n",
       "  <tbody>\n",
       "    <tr>\n",
       "      <th>manzanas</th>\n",
       "      <td>1.7</td>\n",
       "    </tr>\n",
       "    <tr>\n",
       "      <th>naranjas</th>\n",
       "      <td>5.7</td>\n",
       "    </tr>\n",
       "    <tr>\n",
       "      <th>peras</th>\n",
       "      <td>2.3</td>\n",
       "    </tr>\n",
       "    <tr>\n",
       "      <th>uva</th>\n",
       "      <td>3.0</td>\n",
       "    </tr>\n",
       "  </tbody>\n",
       "</table>\n",
       "</div>"
      ],
      "text/plain": [
       "          tienda_3\n",
       "manzanas       1.7\n",
       "naranjas       5.7\n",
       "peras          2.3\n",
       "uva            3.0"
      ]
     },
     "metadata": {},
     "output_type": "display_data"
    }
   ],
   "source": [
    "# o bien las columnas con NAs\n",
    "df_cuenta.dropna(axis=1)"
   ]
  },
  {
   "cell_type": "markdown",
   "metadata": {},
   "source": [
    "Claro que también podemos preferir mantener todos los elementos, pero reemplazar los NA por algún otro valor (p.ej. por un cero). Eso lo hacemos con `fillna()`."
   ]
  },
  {
   "cell_type": "code",
   "execution_count": null,
   "metadata": {},
   "outputs": [
    {
     "data": {
      "text/plain": [
       "manzanas    1.95\n",
       "naranjas    5.70\n",
       "peras       3.00\n",
       "uva         0.00\n",
       "dtype: float64"
      ]
     },
     "metadata": {},
     "output_type": "display_data"
    }
   ],
   "source": [
    "# Reemplazar NaN por otro valor (en este caso, con ceros)\n",
    "fruta_res.fillna(0)"
   ]
  },
  {
   "cell_type": "markdown",
   "metadata": {},
   "source": [
    "De hecho, esta operación es tan común que Pandas incluye un argumento `fill_value` en sus métodos aritméticos para poder sustituir los `NaN` del resultado con el valor que le indiquemos."
   ]
  },
  {
   "cell_type": "code",
   "execution_count": null,
   "metadata": {},
   "outputs": [
    {
     "data": {
      "text/plain": [
       "manzanas    1.95\n",
       "naranjas    5.70\n",
       "peras       3.00\n",
       "uva         0.00\n",
       "dtype: float64"
      ]
     },
     "metadata": {},
     "output_type": "display_data"
    }
   ],
   "source": [
    "# Si usamos el método aritmético (`mul`) en lugar del operador (`*`)\n",
    "# podemos utilizar el argumento `fill_value` directamente\n",
    "fruta_kg.mul(fruta_precio, fill_value=0)"
   ]
  }
 ],
 "metadata": {
  "language_info": {
   "name": "python"
  },
  "orig_nbformat": 4
 },
 "nbformat": 4,
 "nbformat_minor": 2
}
