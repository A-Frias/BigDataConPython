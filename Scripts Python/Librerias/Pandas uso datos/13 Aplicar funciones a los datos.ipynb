{
 "cells": [
  {
   "cell_type": "markdown",
   "metadata": {},
   "source": [
    "#### Aplicando funciones\n",
    "\n",
    "Podemos necesitar aplicar una función recorriendo uno de los ejes de nuestros datos. Por ejemplo, fila a fila en un DataFrame (o columna a columna). Pandas nos permite hacer esto mismo mediante el método `apply()`."
   ]
  },
  {
   "cell_type": "code",
   "execution_count": null,
   "metadata": {},
   "outputs": [
    {
     "data": {
      "text/plain": [
       "title\n",
       "Snatch                  24093107.0\n",
       "Alice in Wonderland    134185206.0\n",
       "District B13           -10802214.0\n",
       "Metropolis              -5973565.0\n",
       "The Puffy Chair           177467.0\n",
       "dtype: float64"
      ]
     },
     "metadata": {},
     "output_type": "display_data"
    }
   ],
   "source": [
    "# Calcular la diferencia entre ingresos y presupuesto de cada película\n",
    "peliculas.apply(lambda p: p.gross - p.budget, axis=\"columns\").head()"
   ]
  },
  {
   "cell_type": "markdown",
   "metadata": {},
   "source": [
    "En este ejemplo hemos usado una expresión `lambda` sencilla, pero podemos utilizar una expresión o función todo lo compleja que necesitemos para nuestros cálculos.\n",
    "\n",
    "> **Pregunta top**¿Te resulta familiar este tipo de operación? ¿A qué construcción estándar de Python te recuerda? Pista: ¿qué tipo de funciones tomaban expresiones lambda como argumento habitual?"
   ]
  }
 ],
 "metadata": {
  "language_info": {
   "name": "python"
  },
  "orig_nbformat": 4
 },
 "nbformat": 4,
 "nbformat_minor": 2
}
