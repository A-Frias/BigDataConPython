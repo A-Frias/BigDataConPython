{
 "cells": [
  {
   "cell_type": "markdown",
   "metadata": {},
   "source": [
    "### Agrupando y agregando datos\n",
    "\n",
    "Hasta ahora nos hemos centrado sobre todo en operaciones para manipular y transformar los datos contenidos en Series y DataFrames, en su conjunto o filtrando algunos valores.\n",
    "\n",
    "Uno de los procedimientos de análisis de datos más común consiste en dividir nuestro conjunto de datos en grupos disjuntos en base a algún criterio o variables y realizar algún tipo de operación o análisis sobre cada grupo, como calcular estadísticas del grupo (valores medios, mínimos, máximos, etc.).\n",
    "\n",
    "Este tipo de procesos sobre grupos de datos te resultará familiar si has trabajado con bases de datos, ya que es similar a las cláusulas tipo `GROUP BY` de `SQL`. Hadley Wickham (autor de multitud de paquetes en R para manejo y análisis de datos) se refiere a este tipo de procesos como \"_split, apply, combine_\" (divide, aplica y combina). En el mundo del _Big Data_ este modelo de computación es conocido como _map-reduce_.\n",
    "\n",
    "Veamos un ejemplo gráfico. La siguiente figura ilustra este mecanismo _split, apply, combine_ para calcular la temperatura media de unas ciudades a partir de varias observaciones.\n",
    "\n",
    "<img src=\"./img/fig_split_apply_combine.png\" />\n",
    "\n",
    "En Pandas, los objetos de tipo DataFrame incorporan el método `groupby()` para ejecutar estos procesos."
   ]
  },
  {
   "cell_type": "code",
   "execution_count": null,
   "metadata": {},
   "outputs": [
    {
     "data": {
      "text/html": [
       "<div>\n",
       "<style>\n",
       "    .dataframe thead tr:only-child th {\n",
       "        text-align: right;\n",
       "    }\n",
       "\n",
       "    .dataframe thead th {\n",
       "        text-align: left;\n",
       "    }\n",
       "\n",
       "    .dataframe tbody tr th {\n",
       "        vertical-align: top;\n",
       "    }\n",
       "</style>\n",
       "<table border=\"1\" class=\"dataframe\">\n",
       "  <thead>\n",
       "    <tr style=\"text-align: right;\">\n",
       "      <th></th>\n",
       "      <th>año</th>\n",
       "      <th>mes</th>\n",
       "      <th>temp_c</th>\n",
       "      <th>viento_vel_kmh</th>\n",
       "    </tr>\n",
       "    <tr>\n",
       "      <th>ciudad</th>\n",
       "      <th></th>\n",
       "      <th></th>\n",
       "      <th></th>\n",
       "      <th></th>\n",
       "    </tr>\n",
       "  </thead>\n",
       "  <tbody>\n",
       "    <tr>\n",
       "      <th>Barcelona</th>\n",
       "      <td>2015.5</td>\n",
       "      <td>6.5</td>\n",
       "      <td>17.012500</td>\n",
       "      <td>14.250000</td>\n",
       "    </tr>\n",
       "    <tr>\n",
       "      <th>Bilbao</th>\n",
       "      <td>2015.5</td>\n",
       "      <td>6.5</td>\n",
       "      <td>15.404167</td>\n",
       "      <td>8.862500</td>\n",
       "    </tr>\n",
       "    <tr>\n",
       "      <th>La Coruña</th>\n",
       "      <td>2015.5</td>\n",
       "      <td>6.5</td>\n",
       "      <td>14.412500</td>\n",
       "      <td>10.437500</td>\n",
       "    </tr>\n",
       "    <tr>\n",
       "      <th>Madrid</th>\n",
       "      <td>2015.5</td>\n",
       "      <td>6.5</td>\n",
       "      <td>15.637500</td>\n",
       "      <td>10.079167</td>\n",
       "    </tr>\n",
       "    <tr>\n",
       "      <th>Malaga</th>\n",
       "      <td>2015.5</td>\n",
       "      <td>6.5</td>\n",
       "      <td>19.083333</td>\n",
       "      <td>11.495833</td>\n",
       "    </tr>\n",
       "    <tr>\n",
       "      <th>Sevilla</th>\n",
       "      <td>2015.5</td>\n",
       "      <td>6.5</td>\n",
       "      <td>19.183333</td>\n",
       "      <td>9.266667</td>\n",
       "    </tr>\n",
       "    <tr>\n",
       "      <th>Valencia</th>\n",
       "      <td>2015.5</td>\n",
       "      <td>6.5</td>\n",
       "      <td>18.275000</td>\n",
       "      <td>10.529167</td>\n",
       "    </tr>\n",
       "    <tr>\n",
       "      <th>Zaragoza</th>\n",
       "      <td>2015.5</td>\n",
       "      <td>6.5</td>\n",
       "      <td>15.429167</td>\n",
       "      <td>16.670833</td>\n",
       "    </tr>\n",
       "  </tbody>\n",
       "</table>\n",
       "</div>"
      ],
      "text/plain": [
       "              año  mes     temp_c  viento_vel_kmh\n",
       "ciudad                                           \n",
       "Barcelona  2015.5  6.5  17.012500       14.250000\n",
       "Bilbao     2015.5  6.5  15.404167        8.862500\n",
       "La Coruña  2015.5  6.5  14.412500       10.437500\n",
       "Madrid     2015.5  6.5  15.637500       10.079167\n",
       "Malaga     2015.5  6.5  19.083333       11.495833\n",
       "Sevilla    2015.5  6.5  19.183333        9.266667\n",
       "Valencia   2015.5  6.5  18.275000       10.529167\n",
       "Zaragoza   2015.5  6.5  15.429167       16.670833"
      ]
     },
     "metadata": {},
     "output_type": "display_data"
    }
   ],
   "source": [
    "# Volvamos a cargar los datos meteorológicos\n",
    "meteo_mes = pd.read_csv(\"../U09_datasets/meteo_mes_agg.csv\", sep = \";\")\n",
    "\n",
    "# Calculamos valores promedio agrupando por ciudad\n",
    "meteo_mes.groupby('ciudad').mean()"
   ]
  },
  {
   "cell_type": "markdown",
   "metadata": {},
   "source": [
    "En este ejemplo hemos agrupado las filas según la columna `ciudad` y después hemos pedido calcular los valores promedio para cada grupo. Como ves, la función `mean()` se ha aplicado a todas las columnas (en este caso, a las de tipo numérico). Este es el comportamiento por defecto cuando usamos funciones de agregación sobre el resultado de `df.groupby()`.\n",
    "\n",
    "Podemos seleccionar las columnas sobre las que queremos aplicar la función, indexando como haríamos con un DataFrame."
   ]
  },
  {
   "cell_type": "code",
   "execution_count": null,
   "metadata": {},
   "outputs": [
    {
     "data": {
      "text/plain": [
       "ciudad\n",
       "Barcelona    17.012500\n",
       "Bilbao       15.404167\n",
       "La Coruña    14.412500\n",
       "Madrid       15.637500\n",
       "Malaga       19.083333\n",
       "Sevilla      19.183333\n",
       "Valencia     18.275000\n",
       "Zaragoza     15.429167\n",
       "Name: temp_c, dtype: float64"
      ]
     },
     "metadata": {},
     "output_type": "display_data"
    }
   ],
   "source": [
    "# Indexamos columnas sobre el resultado de `df.groupby()\n",
    "# antes de aplicar la función\n",
    "meteo_mes.groupby('ciudad')['temp_c'].mean()"
   ]
  },
  {
   "cell_type": "markdown",
   "metadata": {},
   "source": [
    "Ell método `df.groupby()` también nos permite especificar varias columnas como criterio de agrupación. En este caso, utilizamos una lista con los nombres de las columnas para agrupar."
   ]
  },
  {
   "cell_type": "code",
   "execution_count": null,
   "metadata": {},
   "outputs": [
    {
     "data": {
      "text/plain": [
       "ciudad     año \n",
       "Barcelona  2015    17.033333\n",
       "           2016    16.991667\n",
       "Bilbao     2015    15.608333\n",
       "           2016    15.200000\n",
       "La Coruña  2015    14.808333\n",
       "Name: temp_c, dtype: float64"
      ]
     },
     "metadata": {},
     "output_type": "display_data"
    }
   ],
   "source": [
    "# Valor promedio agrupando por ciudad y año\n",
    "meteo_mes.groupby(['ciudad','año'])['temp_c'].mean().head()"
   ]
  },
  {
   "cell_type": "markdown",
   "metadata": {},
   "source": [
    "¿Te has fijado? Al agrupar por varias columnas, tenemos un índice jerárquico para las filas."
   ]
  },
  {
   "cell_type": "code",
   "execution_count": null,
   "metadata": {},
   "outputs": [
    {
     "data": {
      "text/plain": [
       "MultiIndex(levels=[['Barcelona', 'Bilbao', 'La Coruña', 'Madrid', 'Malaga', 'Sevilla', 'Valencia', 'Zaragoza'], [2015, 2016]],\n",
       "           labels=[[0, 0, 1, 1, 2, 2, 3, 3, 4, 4, 5, 5, 6, 6, 7, 7], [0, 1, 0, 1, 0, 1, 0, 1, 0, 1, 0, 1, 0, 1, 0, 1]],\n",
       "           names=['ciudad', 'año'])"
      ]
     },
     "metadata": {},
     "output_type": "display_data"
    }
   ],
   "source": [
    "meteo_mes.groupby(['ciudad','año'])['temp_c'].mean().index"
   ]
  },
  {
   "cell_type": "markdown",
   "metadata": {},
   "source": [
    "El método `df.groupby()` devuelve un objeto de tipo `DataFrameGroupBy`. A efectos prácticos, podemos considerarlo como una colección de DataFrames, uno por grupo creado."
   ]
  },
  {
   "cell_type": "code",
   "execution_count": null,
   "metadata": {},
   "outputs": [
    {
     "data": {
      "text/plain": [
       "<pandas.core.groupby.DataFrameGroupBy object at 0x0000025C364D91D0>"
      ]
     },
     "metadata": {},
     "output_type": "display_data"
    }
   ],
   "source": [
    "meteo_mes.groupby('ciudad')"
   ]
  },
  {
   "cell_type": "markdown",
   "metadata": {},
   "source": [
    "Sobre los grupos resultantes podemos aplicar directamente cualquiera de las funciones de agregación y  estadísticas que ya te hemos presentado.\n",
    "\n",
    "Pero hay mucho más. Disponemos de varios métodos para realizar distintos tipos de operaciones sobre cada grupo.\n",
    "\n",
    "#### Agregados sobre grupos\n",
    "\n",
    "Empecemos por el método `aggregate()`. Este método nos permite calcular múltiples valores agregados de forma simultánea, indicando en una lista las funciones de agregación a utilizar (ya sean proporcionadas por la librería o definidas por el usuario)."
   ]
  },
  {
   "cell_type": "code",
   "execution_count": null,
   "metadata": {},
   "outputs": [
    {
     "data": {
      "text/html": [
       "<div>\n",
       "<style>\n",
       "    .dataframe thead tr:only-child th {\n",
       "        text-align: right;\n",
       "    }\n",
       "\n",
       "    .dataframe thead th {\n",
       "        text-align: left;\n",
       "    }\n",
       "\n",
       "    .dataframe tbody tr th {\n",
       "        vertical-align: top;\n",
       "    }\n",
       "</style>\n",
       "<table border=\"1\" class=\"dataframe\">\n",
       "  <thead>\n",
       "    <tr>\n",
       "      <th></th>\n",
       "      <th colspan=\"3\" halign=\"left\">temp_c</th>\n",
       "      <th colspan=\"3\" halign=\"left\">viento_vel_kmh</th>\n",
       "    </tr>\n",
       "    <tr>\n",
       "      <th></th>\n",
       "      <th>mean</th>\n",
       "      <th>median</th>\n",
       "      <th>&lt;lambda&gt;</th>\n",
       "      <th>mean</th>\n",
       "      <th>median</th>\n",
       "      <th>&lt;lambda&gt;</th>\n",
       "    </tr>\n",
       "    <tr>\n",
       "      <th>ciudad</th>\n",
       "      <th></th>\n",
       "      <th></th>\n",
       "      <th></th>\n",
       "      <th></th>\n",
       "      <th></th>\n",
       "      <th></th>\n",
       "    </tr>\n",
       "  </thead>\n",
       "  <tbody>\n",
       "    <tr>\n",
       "      <th>Barcelona</th>\n",
       "      <td>17.012500</td>\n",
       "      <td>16.00</td>\n",
       "      <td>9.0</td>\n",
       "      <td>14.250000</td>\n",
       "      <td>14.45</td>\n",
       "      <td>5.0</td>\n",
       "    </tr>\n",
       "    <tr>\n",
       "      <th>Bilbao</th>\n",
       "      <td>15.404167</td>\n",
       "      <td>15.90</td>\n",
       "      <td>8.0</td>\n",
       "      <td>8.862500</td>\n",
       "      <td>8.70</td>\n",
       "      <td>6.1</td>\n",
       "    </tr>\n",
       "    <tr>\n",
       "      <th>La Coruña</th>\n",
       "      <td>14.412500</td>\n",
       "      <td>14.45</td>\n",
       "      <td>9.3</td>\n",
       "      <td>10.437500</td>\n",
       "      <td>10.20</td>\n",
       "      <td>5.8</td>\n",
       "    </tr>\n",
       "    <tr>\n",
       "      <th>Madrid</th>\n",
       "      <td>15.637500</td>\n",
       "      <td>14.85</td>\n",
       "      <td>4.4</td>\n",
       "      <td>10.079167</td>\n",
       "      <td>10.35</td>\n",
       "      <td>5.4</td>\n",
       "    </tr>\n",
       "    <tr>\n",
       "      <th>Malaga</th>\n",
       "      <td>19.083333</td>\n",
       "      <td>18.20</td>\n",
       "      <td>11.4</td>\n",
       "      <td>11.495833</td>\n",
       "      <td>11.20</td>\n",
       "      <td>8.5</td>\n",
       "    </tr>\n",
       "    <tr>\n",
       "      <th>Sevilla</th>\n",
       "      <td>19.183333</td>\n",
       "      <td>18.75</td>\n",
       "      <td>9.6</td>\n",
       "      <td>9.266667</td>\n",
       "      <td>9.00</td>\n",
       "      <td>6.4</td>\n",
       "    </tr>\n",
       "    <tr>\n",
       "      <th>Valencia</th>\n",
       "      <td>18.275000</td>\n",
       "      <td>17.65</td>\n",
       "      <td>10.1</td>\n",
       "      <td>10.529167</td>\n",
       "      <td>10.00</td>\n",
       "      <td>5.0</td>\n",
       "    </tr>\n",
       "    <tr>\n",
       "      <th>Zaragoza</th>\n",
       "      <td>15.429167</td>\n",
       "      <td>15.15</td>\n",
       "      <td>6.0</td>\n",
       "      <td>16.670833</td>\n",
       "      <td>17.45</td>\n",
       "      <td>5.9</td>\n",
       "    </tr>\n",
       "  </tbody>\n",
       "</table>\n",
       "</div>"
      ],
      "text/plain": [
       "              temp_c                 viento_vel_kmh                \n",
       "                mean median <lambda>           mean median <lambda>\n",
       "ciudad                                                             \n",
       "Barcelona  17.012500  16.00      9.0      14.250000  14.45      5.0\n",
       "Bilbao     15.404167  15.90      8.0       8.862500   8.70      6.1\n",
       "La Coruña  14.412500  14.45      9.3      10.437500  10.20      5.8\n",
       "Madrid     15.637500  14.85      4.4      10.079167  10.35      5.4\n",
       "Malaga     19.083333  18.20     11.4      11.495833  11.20      8.5\n",
       "Sevilla    19.183333  18.75      9.6       9.266667   9.00      6.4\n",
       "Valencia   18.275000  17.65     10.1      10.529167  10.00      5.0\n",
       "Zaragoza   15.429167  15.15      6.0      16.670833  17.45      5.9"
      ]
     },
     "metadata": {},
     "output_type": "display_data"
    }
   ],
   "source": [
    "# Agrupamos por ciudad\n",
    "# y calculamos los valores de media y mediana\n",
    "# de temperatura y velocidad de viento para cada ciudad\n",
    "meteo_mes.groupby('ciudad')['temp_c','viento_vel_kmh'].aggregate(['mean', np.median, lambda x: min(x)])"
   ]
  },
  {
   "cell_type": "markdown",
   "metadata": {},
   "source": [
    "¿Has prestado atención cómo hemos usado el método `aggregate()`? Este ejemplo te muestra distintas formas de especificar las funciones de agregación a aplicar. En el primer elemento hemos escrito una cadena de texto para referirnos a la media. Pandas permite hacer esto con las operaciones comunes incluidas, él se encarga de traducir la cadena de texto a la función correspondiente. En el segundo elemento hemos utilizado directamente el nombre de una función y no una cadena de texto (en este caso el método para calcular la mediana de la librería NumPy). Y en el último elemento incluimos una expresión _lambda_ a medida (también podríamos haber puesto el nombre de una función definida por nosotros.\n",
    "\n",
    "¿Qué me dices del resultado? Ha creado un índice jerárquico para las columnas. En el primer nivel tienes los nombres de las columnas originales y en el segundo nivel el nombre de los agregados que hemos calculado."
   ]
  }
 ],
 "metadata": {
  "language_info": {
   "name": "python"
  },
  "orig_nbformat": 4
 },
 "nbformat": 4,
 "nbformat_minor": 2
}
