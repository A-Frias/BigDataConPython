{
 "cells": [
  {
   "cell_type": "code",
   "execution_count": null,
   "metadata": {},
   "outputs": [],
   "source": []
  },
  {
   "cell_type": "markdown",
   "metadata": {},
   "source": [
    "### Índices jerárquicos\n",
    "\n",
    "Hasta ahora hemos trabajado con datos _longitudinales_ (Series) con un índice, y con datos _tabulares_ (DataFrames), con dos índices, uno por dimensión o eje (filas y columnas). Estos son los casos más comunes, y podremos acomodar la mayoría de los datos con los que tengamos que trabajar a estas estructuras.\n",
    "\n",
    "Sin embargo, en algunas ocasiones nos vamos a encontrar con datos que encajarían mejor en una estructura con más dimensiones, o en los que una de sus dimensiones esté compuesta por varios niveles o jerarquías. Pandas ofrece la posibilidad de definir índices multinivel o jerárquicos en cualquiera de las dimensiones de sus objetos.\n",
    "\n",
    "Para mostrarte cómo funcionan estos índices vamos a cargar uno de los ficheros de datos incluidos con el material de la unidad."
   ]
  },
  {
   "cell_type": "code",
   "execution_count": null,
   "metadata": {},
   "outputs": [
    {
     "data": {
      "text/html": [
       "<div>\n",
       "<style>\n",
       "    .dataframe thead tr:only-child th {\n",
       "        text-align: right;\n",
       "    }\n",
       "\n",
       "    .dataframe thead th {\n",
       "        text-align: left;\n",
       "    }\n",
       "\n",
       "    .dataframe tbody tr th {\n",
       "        vertical-align: top;\n",
       "    }\n",
       "</style>\n",
       "<table border=\"1\" class=\"dataframe\">\n",
       "  <thead>\n",
       "    <tr style=\"text-align: right;\">\n",
       "      <th></th>\n",
       "      <th>año</th>\n",
       "      <th>mes</th>\n",
       "      <th>ciudad</th>\n",
       "      <th>temp_c</th>\n",
       "      <th>viento_vel_kmh</th>\n",
       "    </tr>\n",
       "  </thead>\n",
       "  <tbody>\n",
       "    <tr>\n",
       "      <th>0</th>\n",
       "      <td>2015</td>\n",
       "      <td>1</td>\n",
       "      <td>Barcelona</td>\n",
       "      <td>9.1</td>\n",
       "      <td>17.7</td>\n",
       "    </tr>\n",
       "    <tr>\n",
       "      <th>1</th>\n",
       "      <td>2015</td>\n",
       "      <td>1</td>\n",
       "      <td>Bilbao</td>\n",
       "      <td>9.1</td>\n",
       "      <td>8.7</td>\n",
       "    </tr>\n",
       "    <tr>\n",
       "      <th>2</th>\n",
       "      <td>2015</td>\n",
       "      <td>1</td>\n",
       "      <td>La Coruña</td>\n",
       "      <td>9.6</td>\n",
       "      <td>10.8</td>\n",
       "    </tr>\n",
       "    <tr>\n",
       "      <th>3</th>\n",
       "      <td>2015</td>\n",
       "      <td>1</td>\n",
       "      <td>Madrid</td>\n",
       "      <td>4.4</td>\n",
       "      <td>9.0</td>\n",
       "    </tr>\n",
       "    <tr>\n",
       "      <th>4</th>\n",
       "      <td>2015</td>\n",
       "      <td>1</td>\n",
       "      <td>Malaga</td>\n",
       "      <td>11.4</td>\n",
       "      <td>13.6</td>\n",
       "    </tr>\n",
       "    <tr>\n",
       "      <th>5</th>\n",
       "      <td>2015</td>\n",
       "      <td>1</td>\n",
       "      <td>Sevilla</td>\n",
       "      <td>9.6</td>\n",
       "      <td>8.9</td>\n",
       "    </tr>\n",
       "    <tr>\n",
       "      <th>6</th>\n",
       "      <td>2015</td>\n",
       "      <td>1</td>\n",
       "      <td>Valencia</td>\n",
       "      <td>10.1</td>\n",
       "      <td>11.3</td>\n",
       "    </tr>\n",
       "    <tr>\n",
       "      <th>7</th>\n",
       "      <td>2015</td>\n",
       "      <td>1</td>\n",
       "      <td>Zaragoza</td>\n",
       "      <td>6.0</td>\n",
       "      <td>18.8</td>\n",
       "    </tr>\n",
       "  </tbody>\n",
       "</table>\n",
       "</div>"
      ],
      "text/plain": [
       "    año  mes     ciudad  temp_c  viento_vel_kmh\n",
       "0  2015    1  Barcelona     9.1            17.7\n",
       "1  2015    1     Bilbao     9.1             8.7\n",
       "2  2015    1  La Coruña     9.6            10.8\n",
       "3  2015    1     Madrid     4.4             9.0\n",
       "4  2015    1     Malaga    11.4            13.6\n",
       "5  2015    1    Sevilla     9.6             8.9\n",
       "6  2015    1   Valencia    10.1            11.3\n",
       "7  2015    1   Zaragoza     6.0            18.8"
      ]
     },
     "metadata": {},
     "output_type": "display_data"
    }
   ],
   "source": [
    "import numpy as np\n",
    "import pandas as pd\n",
    "from pandas import Series, DataFrame\n",
    "\n",
    "# Recuerda ajustar la ruta de directorios para que apunte \n",
    "# adonde hayas descargado los ficheros\n",
    "meteo_mes = pd.read_csv(\"../U09_datasets/meteo_mes_agg.csv\", sep = \";\")\n",
    "\n",
    "meteo_mes.head(8)"
   ]
  },
  {
   "cell_type": "markdown",
   "metadata": {},
   "source": [
    "Este _dataset_ incluye valores promedio mensuales de temperatura y velocidad del viento para varias ciudades españolas. Como ves, tenemos una columna con el año y otra con el mes. Las filas del DataFrame llevan la indexación secuencial por defecto. En este caso, podría ser más natural que el año y el mes sirvieran de índice. Vamos a hacerlo, utilizando el método `set_index()`."
   ]
  },
  {
   "cell_type": "code",
   "execution_count": null,
   "metadata": {},
   "outputs": [
    {
     "data": {
      "text/html": [
       "<div>\n",
       "<style>\n",
       "    .dataframe thead tr:only-child th {\n",
       "        text-align: right;\n",
       "    }\n",
       "\n",
       "    .dataframe thead th {\n",
       "        text-align: left;\n",
       "    }\n",
       "\n",
       "    .dataframe tbody tr th {\n",
       "        vertical-align: top;\n",
       "    }\n",
       "</style>\n",
       "<table border=\"1\" class=\"dataframe\">\n",
       "  <thead>\n",
       "    <tr style=\"text-align: right;\">\n",
       "      <th></th>\n",
       "      <th></th>\n",
       "      <th>ciudad</th>\n",
       "      <th>temp_c</th>\n",
       "      <th>viento_vel_kmh</th>\n",
       "    </tr>\n",
       "    <tr>\n",
       "      <th>año</th>\n",
       "      <th>mes</th>\n",
       "      <th></th>\n",
       "      <th></th>\n",
       "      <th></th>\n",
       "    </tr>\n",
       "  </thead>\n",
       "  <tbody>\n",
       "    <tr>\n",
       "      <th rowspan=\"10\" valign=\"top\">2015</th>\n",
       "      <th>1</th>\n",
       "      <td>Barcelona</td>\n",
       "      <td>9.1</td>\n",
       "      <td>17.7</td>\n",
       "    </tr>\n",
       "    <tr>\n",
       "      <th>1</th>\n",
       "      <td>Bilbao</td>\n",
       "      <td>9.1</td>\n",
       "      <td>8.7</td>\n",
       "    </tr>\n",
       "    <tr>\n",
       "      <th>1</th>\n",
       "      <td>La Coruña</td>\n",
       "      <td>9.6</td>\n",
       "      <td>10.8</td>\n",
       "    </tr>\n",
       "    <tr>\n",
       "      <th>1</th>\n",
       "      <td>Madrid</td>\n",
       "      <td>4.4</td>\n",
       "      <td>9.0</td>\n",
       "    </tr>\n",
       "    <tr>\n",
       "      <th>1</th>\n",
       "      <td>Malaga</td>\n",
       "      <td>11.4</td>\n",
       "      <td>13.6</td>\n",
       "    </tr>\n",
       "    <tr>\n",
       "      <th>1</th>\n",
       "      <td>Sevilla</td>\n",
       "      <td>9.6</td>\n",
       "      <td>8.9</td>\n",
       "    </tr>\n",
       "    <tr>\n",
       "      <th>1</th>\n",
       "      <td>Valencia</td>\n",
       "      <td>10.1</td>\n",
       "      <td>11.3</td>\n",
       "    </tr>\n",
       "    <tr>\n",
       "      <th>1</th>\n",
       "      <td>Zaragoza</td>\n",
       "      <td>6.0</td>\n",
       "      <td>18.8</td>\n",
       "    </tr>\n",
       "    <tr>\n",
       "      <th>2</th>\n",
       "      <td>Barcelona</td>\n",
       "      <td>9.0</td>\n",
       "      <td>15.4</td>\n",
       "    </tr>\n",
       "    <tr>\n",
       "      <th>2</th>\n",
       "      <td>Bilbao</td>\n",
       "      <td>8.0</td>\n",
       "      <td>11.5</td>\n",
       "    </tr>\n",
       "  </tbody>\n",
       "</table>\n",
       "</div>"
      ],
      "text/plain": [
       "             ciudad  temp_c  viento_vel_kmh\n",
       "año  mes                                   \n",
       "2015 1    Barcelona     9.1            17.7\n",
       "     1       Bilbao     9.1             8.7\n",
       "     1    La Coruña     9.6            10.8\n",
       "     1       Madrid     4.4             9.0\n",
       "     1       Malaga    11.4            13.6\n",
       "     1      Sevilla     9.6             8.9\n",
       "     1     Valencia    10.1            11.3\n",
       "     1     Zaragoza     6.0            18.8\n",
       "     2    Barcelona     9.0            15.4\n",
       "     2       Bilbao     8.0            11.5"
      ]
     },
     "metadata": {},
     "output_type": "display_data"
    }
   ],
   "source": [
    "# Ajustamos el índice del DataFrame\n",
    "# para que use las columnas 'año' y 'mes'\n",
    "meteo_mes.set_index([\"año\",\"mes\"], inplace=True)\n",
    "\n",
    "meteo_mes.head(10)"
   ]
  },
  {
   "cell_type": "markdown",
   "metadata": {},
   "source": [
    "Con `set_index()` le pedimos que utilice una o más columnas como nuevo índice para las filas. En este ejemplo puedes comprobar como los valores de año y mes han reemplazado al índice secuencial de las filas, a la izquierda de la tabla, dejando las columnas restantes del DataFrame como estaban.\n",
    "\n",
    "Este nuevo índice decimos que es _jerárquico_ porque está organizado en varios niveles. Cada columna indicada al definir el índice pasa a ser un nuevo nivel, organizados en el mismo orden en el que se hayan especificado. Aquí el primer nivel del índice lo forman los valores del año, y un segundo nivel lo forman los valores del mes.\n",
    "\n",
    "> **Atención** Fíjate que en `set_index()` hemos incluido el argumento `inplace=True`. Con esta opción le indicamos que queremos que modifique el contenido o estructura de la propia variable. Sin esta opción, el comportamiento por defecto es devolver una copia del DataFrame (o Series) con la modificación aplicada, dejando la variable original intacta. Pandas ofrece esta opción en muchas de las operaciones con Series y DataFrames. Dependiendo de la situación te convendrá un modo u otro, pero tenlo en cuenta para no encontrarte con resultados inesperados.\n",
    "\n",
    "Examinemos la definición del índice."
   ]
  },
  {
   "cell_type": "code",
   "execution_count": null,
   "metadata": {},
   "outputs": [
    {
     "data": {
      "text/plain": [
       "MultiIndex(levels=[[2015, 2016], [1, 2, 3, 4, 5, 6, 7, 8, 9, 10, 11, 12]],\n",
       "           labels=[[0, 0, 0, 0, 0, 0, 0, 0, 0, 0, 0, 0, 0, 0, 0, 0, 0, 0, 0, 0, 0, 0, 0, 0, 0, 0, 0, 0, 0, 0, 0, 0, 0, 0, 0, 0, 0, 0, 0, 0, 0, 0, 0, 0, 0, 0, 0, 0, 0, 0, 0, 0, 0, 0, 0, 0, 0, 0, 0, 0, 0, 0, 0, 0, 0, 0, 0, 0, 0, 0, 0, 0, 0, 0, 0, 0, 0, 0, 0, 0, 0, 0, 0, 0, 0, 0, 0, 0, 0, 0, 0, 0, 0, 0, 0, 0, 1, 1, 1, 1, 1, 1, 1, 1, 1, 1, 1, 1, 1, 1, 1, 1, 1, 1, 1, 1, 1, 1, 1, 1, 1, 1, 1, 1, 1, 1, 1, 1, 1, 1, 1, 1, 1, 1, 1, 1, 1, 1, 1, 1, 1, 1, 1, 1, 1, 1, 1, 1, 1, 1, 1, 1, 1, 1, 1, 1, 1, 1, 1, 1, 1, 1, 1, 1, 1, 1, 1, 1, 1, 1, 1, 1, 1, 1, 1, 1, 1, 1, 1, 1, 1, 1, 1, 1, 1, 1, 1, 1, 1, 1, 1, 1], [0, 0, 0, 0, 0, 0, 0, 0, 1, 1, 1, 1, 1, 1, 1, 1, 2, 2, 2, 2, 2, 2, 2, 2, 3, 3, 3, 3, 3, 3, 3, 3, 4, 4, 4, 4, 4, 4, 4, 4, 5, 5, 5, 5, 5, 5, 5, 5, 6, 6, 6, 6, 6, 6, 6, 6, 7, 7, 7, 7, 7, 7, 7, 7, 8, 8, 8, 8, 8, 8, 8, 8, 9, 9, 9, 9, 9, 9, 9, 9, 10, 10, 10, 10, 10, 10, 10, 10, 11, 11, 11, 11, 11, 11, 11, 11, 0, 0, 0, 0, 0, 0, 0, 0, 1, 1, 1, 1, 1, 1, 1, 1, 2, 2, 2, 2, 2, 2, 2, 2, 3, 3, 3, 3, 3, 3, 3, 3, 4, 4, 4, 4, 4, 4, 4, 4, 5, 5, 5, 5, 5, 5, 5, 5, 6, 6, 6, 6, 6, 6, 6, 6, 7, 7, 7, 7, 7, 7, 7, 7, 8, 8, 8, 8, 8, 8, 8, 8, 9, 9, 9, 9, 9, 9, 9, 9, 10, 10, 10, 10, 10, 10, 10, 10, 11, 11, 11, 11, 11, 11, 11, 11]],\n",
       "           names=['año', 'mes'])"
      ]
     },
     "metadata": {},
     "output_type": "display_data"
    }
   ],
   "source": [
    "meteo_mes.index"
   ]
  },
  {
   "cell_type": "markdown",
   "metadata": {},
   "source": [
    "Los índices jerárquicos son objetos de clase `MultiIndex`. Podemos ver que está formado por dos niveles (`levels`), el primer nivel con los valores de los años (`[2015, 2016]`) y el segundo nivel con los valores de los meses (`[1, 2, 3, 4, 5, 6, 7, 8, 9, 10, 11, 12]`).\n",
    "\n",
    "En realidad, en este ejemplo las columnas con las variables de observaciones o medidas son la temperatura y la velocidad del viento. Podemos considerar a la columna `'ciudad'` como otro nivel para indexar. Pero antes de incluirla, tenemos que _limpiar_ la actual definición del índice."
   ]
  },
  {
   "cell_type": "code",
   "execution_count": null,
   "metadata": {},
   "outputs": [
    {
     "data": {
      "text/html": [
       "<div>\n",
       "<style>\n",
       "    .dataframe thead tr:only-child th {\n",
       "        text-align: right;\n",
       "    }\n",
       "\n",
       "    .dataframe thead th {\n",
       "        text-align: left;\n",
       "    }\n",
       "\n",
       "    .dataframe tbody tr th {\n",
       "        vertical-align: top;\n",
       "    }\n",
       "</style>\n",
       "<table border=\"1\" class=\"dataframe\">\n",
       "  <thead>\n",
       "    <tr style=\"text-align: right;\">\n",
       "      <th></th>\n",
       "      <th>año</th>\n",
       "      <th>mes</th>\n",
       "      <th>ciudad</th>\n",
       "      <th>temp_c</th>\n",
       "      <th>viento_vel_kmh</th>\n",
       "    </tr>\n",
       "  </thead>\n",
       "  <tbody>\n",
       "    <tr>\n",
       "      <th>0</th>\n",
       "      <td>2015</td>\n",
       "      <td>1</td>\n",
       "      <td>Barcelona</td>\n",
       "      <td>9.1</td>\n",
       "      <td>17.7</td>\n",
       "    </tr>\n",
       "    <tr>\n",
       "      <th>1</th>\n",
       "      <td>2015</td>\n",
       "      <td>1</td>\n",
       "      <td>Bilbao</td>\n",
       "      <td>9.1</td>\n",
       "      <td>8.7</td>\n",
       "    </tr>\n",
       "    <tr>\n",
       "      <th>2</th>\n",
       "      <td>2015</td>\n",
       "      <td>1</td>\n",
       "      <td>La Coruña</td>\n",
       "      <td>9.6</td>\n",
       "      <td>10.8</td>\n",
       "    </tr>\n",
       "    <tr>\n",
       "      <th>3</th>\n",
       "      <td>2015</td>\n",
       "      <td>1</td>\n",
       "      <td>Madrid</td>\n",
       "      <td>4.4</td>\n",
       "      <td>9.0</td>\n",
       "    </tr>\n",
       "    <tr>\n",
       "      <th>4</th>\n",
       "      <td>2015</td>\n",
       "      <td>1</td>\n",
       "      <td>Malaga</td>\n",
       "      <td>11.4</td>\n",
       "      <td>13.6</td>\n",
       "    </tr>\n",
       "  </tbody>\n",
       "</table>\n",
       "</div>"
      ],
      "text/plain": [
       "    año  mes     ciudad  temp_c  viento_vel_kmh\n",
       "0  2015    1  Barcelona     9.1            17.7\n",
       "1  2015    1     Bilbao     9.1             8.7\n",
       "2  2015    1  La Coruña     9.6            10.8\n",
       "3  2015    1     Madrid     4.4             9.0\n",
       "4  2015    1     Malaga    11.4            13.6"
      ]
     },
     "metadata": {},
     "output_type": "display_data"
    }
   ],
   "source": [
    "# Para poder redefinir el índice, primero tenemos que hacer `reset`\n",
    "meteo_mes.reset_index(inplace=True)\n",
    "# Volvemos a tener el DataFrame como al principio\n",
    "meteo_mes.head()"
   ]
  },
  {
   "cell_type": "markdown",
   "metadata": {},
   "source": [
    "Y ahora definimos de nuevo el índice."
   ]
  },
  {
   "cell_type": "code",
   "execution_count": null,
   "metadata": {},
   "outputs": [
    {
     "data": {
      "text/html": [
       "<div>\n",
       "<style>\n",
       "    .dataframe thead tr:only-child th {\n",
       "        text-align: right;\n",
       "    }\n",
       "\n",
       "    .dataframe thead th {\n",
       "        text-align: left;\n",
       "    }\n",
       "\n",
       "    .dataframe tbody tr th {\n",
       "        vertical-align: top;\n",
       "    }\n",
       "</style>\n",
       "<table border=\"1\" class=\"dataframe\">\n",
       "  <thead>\n",
       "    <tr style=\"text-align: right;\">\n",
       "      <th></th>\n",
       "      <th></th>\n",
       "      <th></th>\n",
       "      <th>temp_c</th>\n",
       "      <th>viento_vel_kmh</th>\n",
       "    </tr>\n",
       "    <tr>\n",
       "      <th>ciudad</th>\n",
       "      <th>año</th>\n",
       "      <th>mes</th>\n",
       "      <th></th>\n",
       "      <th></th>\n",
       "    </tr>\n",
       "  </thead>\n",
       "  <tbody>\n",
       "    <tr>\n",
       "      <th>Barcelona</th>\n",
       "      <th>2015</th>\n",
       "      <th>1</th>\n",
       "      <td>9.1</td>\n",
       "      <td>17.7</td>\n",
       "    </tr>\n",
       "    <tr>\n",
       "      <th>Bilbao</th>\n",
       "      <th>2015</th>\n",
       "      <th>1</th>\n",
       "      <td>9.1</td>\n",
       "      <td>8.7</td>\n",
       "    </tr>\n",
       "    <tr>\n",
       "      <th>La Coruña</th>\n",
       "      <th>2015</th>\n",
       "      <th>1</th>\n",
       "      <td>9.6</td>\n",
       "      <td>10.8</td>\n",
       "    </tr>\n",
       "    <tr>\n",
       "      <th>Madrid</th>\n",
       "      <th>2015</th>\n",
       "      <th>1</th>\n",
       "      <td>4.4</td>\n",
       "      <td>9.0</td>\n",
       "    </tr>\n",
       "    <tr>\n",
       "      <th>Malaga</th>\n",
       "      <th>2015</th>\n",
       "      <th>1</th>\n",
       "      <td>11.4</td>\n",
       "      <td>13.6</td>\n",
       "    </tr>\n",
       "    <tr>\n",
       "      <th>Sevilla</th>\n",
       "      <th>2015</th>\n",
       "      <th>1</th>\n",
       "      <td>9.6</td>\n",
       "      <td>8.9</td>\n",
       "    </tr>\n",
       "    <tr>\n",
       "      <th>Valencia</th>\n",
       "      <th>2015</th>\n",
       "      <th>1</th>\n",
       "      <td>10.1</td>\n",
       "      <td>11.3</td>\n",
       "    </tr>\n",
       "    <tr>\n",
       "      <th>Zaragoza</th>\n",
       "      <th>2015</th>\n",
       "      <th>1</th>\n",
       "      <td>6.0</td>\n",
       "      <td>18.8</td>\n",
       "    </tr>\n",
       "    <tr>\n",
       "      <th>Barcelona</th>\n",
       "      <th>2015</th>\n",
       "      <th>2</th>\n",
       "      <td>9.0</td>\n",
       "      <td>15.4</td>\n",
       "    </tr>\n",
       "    <tr>\n",
       "      <th>Bilbao</th>\n",
       "      <th>2015</th>\n",
       "      <th>2</th>\n",
       "      <td>8.0</td>\n",
       "      <td>11.5</td>\n",
       "    </tr>\n",
       "  </tbody>\n",
       "</table>\n",
       "</div>"
      ],
      "text/plain": [
       "                    temp_c  viento_vel_kmh\n",
       "ciudad    año  mes                        \n",
       "Barcelona 2015 1       9.1            17.7\n",
       "Bilbao    2015 1       9.1             8.7\n",
       "La Coruña 2015 1       9.6            10.8\n",
       "Madrid    2015 1       4.4             9.0\n",
       "Malaga    2015 1      11.4            13.6\n",
       "Sevilla   2015 1       9.6             8.9\n",
       "Valencia  2015 1      10.1            11.3\n",
       "Zaragoza  2015 1       6.0            18.8\n",
       "Barcelona 2015 2       9.0            15.4\n",
       "Bilbao    2015 2       8.0            11.5"
      ]
     },
     "metadata": {},
     "output_type": "display_data"
    }
   ],
   "source": [
    "meteo_mes.set_index([\"ciudad\",\"año\",\"mes\"], inplace=True)\n",
    "meteo_mes.head(10)"
   ]
  },
  {
   "cell_type": "markdown",
   "metadata": {},
   "source": [
    "#### Seleccionando elementos\n",
    "\n",
    "¿Cómo accedemos a los elementos cuando tenemos un índice jerárquico? Es fácil si piensas en cada elemento de este índice como en una tupla ordenada de sus valores. En nuestro ejemplo, una tupla de la forma `(ciudad, año, mes)`."
   ]
  },
  {
   "cell_type": "code",
   "execution_count": null,
   "metadata": {},
   "outputs": [
    {
     "data": {
      "text/plain": [
       "temp_c            9.1\n",
       "viento_vel_kmh    8.7\n",
       "Name: (Bilbao, 2015, 1), dtype: float64"
      ]
     },
     "metadata": {},
     "output_type": "display_data"
    }
   ],
   "source": [
    "# Para seleccionar un elemento mediante etiquetas\n",
    "# debemos usar `loc`\n",
    "meteo_mes.loc[(\"Bilbao\", 2015, 1), :]"
   ]
  },
  {
   "cell_type": "markdown",
   "metadata": {},
   "source": [
    "¿Y si queremos todas las filas para Bilbao? Fácil, omitimos el valor para los restantes niveles del índice."
   ]
  },
  {
   "cell_type": "code",
   "execution_count": null,
   "metadata": {},
   "outputs": [
    {
     "name": "stderr",
     "output_type": "stream",
     "text": [
      "C:\\Users\\rubmor\\AppData\\Local\\Continuum\\anaconda3\\lib\\site-packages\\pandas\\core\\indexing.py:1325: PerformanceWarning: indexing past lexsort depth may impact performance.\n",
      "  return self._getitem_tuple(key)\n"
     ]
    },
    {
     "data": {
      "text/html": [
       "<div>\n",
       "<style>\n",
       "    .dataframe thead tr:only-child th {\n",
       "        text-align: right;\n",
       "    }\n",
       "\n",
       "    .dataframe thead th {\n",
       "        text-align: left;\n",
       "    }\n",
       "\n",
       "    .dataframe tbody tr th {\n",
       "        vertical-align: top;\n",
       "    }\n",
       "</style>\n",
       "<table border=\"1\" class=\"dataframe\">\n",
       "  <thead>\n",
       "    <tr style=\"text-align: right;\">\n",
       "      <th></th>\n",
       "      <th></th>\n",
       "      <th>temp_c</th>\n",
       "      <th>viento_vel_kmh</th>\n",
       "    </tr>\n",
       "    <tr>\n",
       "      <th>año</th>\n",
       "      <th>mes</th>\n",
       "      <th></th>\n",
       "      <th></th>\n",
       "    </tr>\n",
       "  </thead>\n",
       "  <tbody>\n",
       "    <tr>\n",
       "      <th rowspan=\"5\" valign=\"top\">2015</th>\n",
       "      <th>1</th>\n",
       "      <td>9.1</td>\n",
       "      <td>8.7</td>\n",
       "    </tr>\n",
       "    <tr>\n",
       "      <th>2</th>\n",
       "      <td>8.0</td>\n",
       "      <td>11.5</td>\n",
       "    </tr>\n",
       "    <tr>\n",
       "      <th>3</th>\n",
       "      <td>10.9</td>\n",
       "      <td>8.7</td>\n",
       "    </tr>\n",
       "    <tr>\n",
       "      <th>4</th>\n",
       "      <td>15.8</td>\n",
       "      <td>9.9</td>\n",
       "    </tr>\n",
       "    <tr>\n",
       "      <th>5</th>\n",
       "      <td>16.9</td>\n",
       "      <td>10.6</td>\n",
       "    </tr>\n",
       "  </tbody>\n",
       "</table>\n",
       "</div>"
      ],
      "text/plain": [
       "          temp_c  viento_vel_kmh\n",
       "año  mes                        \n",
       "2015 1       9.1             8.7\n",
       "     2       8.0            11.5\n",
       "     3      10.9             8.7\n",
       "     4      15.8             9.9\n",
       "     5      16.9            10.6"
      ]
     },
     "metadata": {},
     "output_type": "display_data"
    }
   ],
   "source": [
    "# ahora restringimos solo el primer nivel del índice\n",
    "meteo_mes.loc[(\"Bilbao\", ), :].head()"
   ]
  },
  {
   "cell_type": "markdown",
   "metadata": {},
   "source": [
    "Antes de continuar, ¿te ha salido un mensaje de aviso? Algo como\n",
    "\n",
    "> `PerformanceWarning: indexing past lexsort depth may impact performance.`\n",
    "\n",
    "Con este mensaje Pandas viene a decirnos que estamos filtrando por un índice que no tiene sus valores correctamente ordenados. La operación va a funcionar igual, pero puede ser mucho más lenta que se tuviéramos el índice ordenado nivel a nivel.\n",
    "\n",
    "Podemos reordenar el índice del DataFrame usando `sort_index()`."
   ]
  },
  {
   "cell_type": "code",
   "execution_count": null,
   "metadata": {},
   "outputs": [
    {
     "data": {
      "text/html": [
       "<div>\n",
       "<style>\n",
       "    .dataframe thead tr:only-child th {\n",
       "        text-align: right;\n",
       "    }\n",
       "\n",
       "    .dataframe thead th {\n",
       "        text-align: left;\n",
       "    }\n",
       "\n",
       "    .dataframe tbody tr th {\n",
       "        vertical-align: top;\n",
       "    }\n",
       "</style>\n",
       "<table border=\"1\" class=\"dataframe\">\n",
       "  <thead>\n",
       "    <tr style=\"text-align: right;\">\n",
       "      <th></th>\n",
       "      <th></th>\n",
       "      <th>temp_c</th>\n",
       "      <th>viento_vel_kmh</th>\n",
       "    </tr>\n",
       "    <tr>\n",
       "      <th>año</th>\n",
       "      <th>mes</th>\n",
       "      <th></th>\n",
       "      <th></th>\n",
       "    </tr>\n",
       "  </thead>\n",
       "  <tbody>\n",
       "    <tr>\n",
       "      <th rowspan=\"5\" valign=\"top\">2015</th>\n",
       "      <th>1</th>\n",
       "      <td>9.1</td>\n",
       "      <td>8.7</td>\n",
       "    </tr>\n",
       "    <tr>\n",
       "      <th>2</th>\n",
       "      <td>8.0</td>\n",
       "      <td>11.5</td>\n",
       "    </tr>\n",
       "    <tr>\n",
       "      <th>3</th>\n",
       "      <td>10.9</td>\n",
       "      <td>8.7</td>\n",
       "    </tr>\n",
       "    <tr>\n",
       "      <th>4</th>\n",
       "      <td>15.8</td>\n",
       "      <td>9.9</td>\n",
       "    </tr>\n",
       "    <tr>\n",
       "      <th>5</th>\n",
       "      <td>16.9</td>\n",
       "      <td>10.6</td>\n",
       "    </tr>\n",
       "  </tbody>\n",
       "</table>\n",
       "</div>"
      ],
      "text/plain": [
       "          temp_c  viento_vel_kmh\n",
       "año  mes                        \n",
       "2015 1       9.1             8.7\n",
       "     2       8.0            11.5\n",
       "     3      10.9             8.7\n",
       "     4      15.8             9.9\n",
       "     5      16.9            10.6"
      ]
     },
     "metadata": {},
     "output_type": "display_data"
    }
   ],
   "source": [
    "# Reordenamos el índice de filas (axis=0)\n",
    "# empezando por el primer nivel (level=0)\n",
    "meteo_mes.sort_index(level=0, axis=0, inplace=True)\n",
    "meteo_mes.loc[(\"Bilbao\", ), :].head()"
   ]
  },
  {
   "cell_type": "markdown",
   "metadata": {},
   "source": [
    "El mismo resultado, pero más eficiente y sin avisos molestos.\n",
    "\n",
    "Esta forma abreviada de seleccionar elementos especificando parcialmente los niveles del índice tiene un límite. No podemos restringir un nivel intermedio sin especificar un valor para todos los niveles superiores.\n",
    "\n",
    "Es decir, lo siguiente no funciona."
   ]
  },
  {
   "cell_type": "code",
   "execution_count": null,
   "metadata": {},
   "outputs": [
    {
     "ename": "SyntaxError",
     "evalue": "invalid syntax (<ipython-input-202-14733724cdc5>, line 2)",
     "output_type": "error",
     "traceback": [
      "\u001b[1;36m  File \u001b[1;32m\"<ipython-input-202-14733724cdc5>\"\u001b[1;36m, line \u001b[1;32m2\u001b[0m\n",
      "\u001b[1;33m    meteo_mes.loc[(,2015,), :]\u001b[0m\n",
      "\u001b[1;37m                   ^\u001b[0m\n",
      "\u001b[1;31mSyntaxError\u001b[0m\u001b[1;31m:\u001b[0m invalid syntax\n"
     ]
    }
   ],
   "source": [
    "# Así no podemos seleccionar todos los valores para el año 2015\n",
    "meteo_mes.loc[(,2015,), :]"
   ]
  },
  {
   "cell_type": "markdown",
   "metadata": {},
   "source": [
    "Ni esto tampoco."
   ]
  },
  {
   "cell_type": "code",
   "execution_count": null,
   "metadata": {},
   "outputs": [
    {
     "ename": "SyntaxError",
     "evalue": "invalid syntax (<ipython-input-203-931f07f5a0bc>, line 2)",
     "output_type": "error",
     "traceback": [
      "\u001b[1;36m  File \u001b[1;32m\"<ipython-input-203-931f07f5a0bc>\"\u001b[1;36m, line \u001b[1;32m2\u001b[0m\n",
      "\u001b[1;33m    meteo_mes.loc[(:,2015,), :]\u001b[0m\n",
      "\u001b[1;37m                   ^\u001b[0m\n",
      "\u001b[1;31mSyntaxError\u001b[0m\u001b[1;31m:\u001b[0m invalid syntax\n"
     ]
    }
   ],
   "source": [
    "# Poniendo `:` en el primer nivel tampoco funciona.\n",
    "meteo_mes.loc[(:,2015,), :]"
   ]
  }
 ],
 "metadata": {
  "language_info": {
   "name": "python"
  },
  "orig_nbformat": 4
 },
 "nbformat": 4,
 "nbformat_minor": 2
}
