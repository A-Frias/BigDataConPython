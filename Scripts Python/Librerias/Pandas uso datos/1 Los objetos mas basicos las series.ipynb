{
 "cells": [
  {
   "cell_type": "code",
   "execution_count": null,
   "metadata": {},
   "outputs": [],
   "source": []
  },
  {
   "cell_type": "markdown",
   "metadata": {},
   "source": [
    "# Procesamiento y análisis de datos: Pandas\n",
    "\n",
    "Pandas es una librería Python de código abierto especialmente diseñada para proporcionar estructuras de datos y herramientas de manipulación y análisis potentes, flexibles y sencillas de usar, que facilitan muchas de las tareas cotidianas para el científico de datos\n",
    "\n",
    "- Leer y cargar datos de diferentes tipos de fuentes\n",
    "- Manejar estructuras de datos de tipo longitudinal (series o arrays de datos) y tabular\n",
    "- Operaciones de limpieza, filtrado y transformación eficiente de datos\n",
    "- Operaciones de agregación y ordenación\n",
    "- Operaciones de cruce y fusión de múltiples datos\n",
    "- Exportar resultados con distintos tipos de formatos\n",
    "\n",
    "A día de hoy, es probablemente la librería para procesamiento y análisis de datos más potente y utilizada en Python.\n",
    "\n",
    "### Estructuras de datos básicas\n",
    "\n",
    "La librería Pandas nos permite trabajar con dos estructuras de datos principales: _Series_ para datos unidimensionales, y _DataFrames_ para datos tabulares.\n",
    "\n",
    "#### Series\n",
    "\n",
    "La primera estructura de datos básica en Pandas son los objetos `Series`. Puedes ver las series como una especie de _array_ unidimensional (un vector) con todos los elementos de un mismo tipo. De hecho, los objetos `Series` utilizan internamente un _array_ de NumPy para almacenar los valores. Veamos la forma más simple de construir una serie con Pandas."
   ]
  },
  {
   "cell_type": "code",
   "execution_count": null,
   "metadata": {},
   "outputs": [
    {
     "name": "stdout",
     "output_type": "stream",
     "text": [
      "0    3\n",
      "1    5\n",
      "2    7\n",
      "3    9\n",
      "dtype: int64\n"
     ]
    }
   ],
   "source": [
    "# Cargamos las librería Pandas y NumPy (también la usaremos en ejemplos)\n",
    "import numpy as np\n",
    "import pandas as pd\n",
    "# Como Series y DataFrame se utilizan a menudo,\n",
    "# podemos importarlos en el espacio de nombres directamente\n",
    "from pandas import Series, DataFrame\n",
    "\n",
    "# Creamos una serie a partir de una lista de valores\n",
    "s1 = Series([3,5,7,9])\n",
    "print(s1)\n"
   ]
  },
  {
   "cell_type": "markdown",
   "metadata": {},
   "source": [
    "Como ves, para construir una serie es suficiente con proporcionar la lista de datos que la componen, todos del mismo tipo. Si te fijas, al imprimir la serie aparecen dos columnas. A la derecha los valores que hemos indicado. \n",
    "\n",
    "Pero además, en la primera columna aparecen los índices de posición de cada elemento en la serie. Esto no es un detalle menor. Los objetos `Series` almacenan tanto la secuencia de valores como una secuencia de etiquetas asociadas a cada elemento, a la que nos referimos como el _índice_ de la serie. Por defecto, si no lo definimos de otra forma, el _índice_ tomará la secuencia de valores indicando la posición de cada elemento en la serie, empezando en cero. Como ya sabes, esto es equivalente a cómo funcionan los índices de posición en las listas o en los _arrays_ de NumPy. Pero podemos decidir etiquetar de otras maneras a los elementos de la serie."
   ]
  },
  {
   "cell_type": "code",
   "execution_count": null,
   "metadata": {},
   "outputs": [
    {
     "name": "stdout",
     "output_type": "stream",
     "text": [
      "2011    16.6\n",
      "2012    16.2\n",
      "2013    15.5\n",
      "2014    17.0\n",
      "2015    16.6\n",
      "2016    16.5\n",
      "dtype: float64\n"
     ]
    }
   ],
   "source": [
    "# Podemos utilizar valores que representen otra cosa para los índices\n",
    "# P.ej. en una serie de temperaturas medias anuales\n",
    "# usamos Años como índices \n",
    "temp_anual = Series([16.6, 16.2, 15.5, 17.0, 16.6, 16.5], \n",
    "                    index = [2011, 2012, 2013, 2014, 2015, 2016])\n",
    "print(temp_anual)"
   ]
  },
  {
   "cell_type": "code",
   "execution_count": null,
   "metadata": {},
   "outputs": [
    {
     "name": "stdout",
     "output_type": "stream",
     "text": [
      "Ene     7.2\n",
      "Feb     7.3\n",
      "Mar    12.1\n",
      "Abr    15.7\n",
      "May    20.3\n",
      "Jun    24.8\n",
      "Jul    28.2\n",
      "Ago    25.6\n",
      "Sep    20.8\n",
      "Oct    16.8\n",
      "Nov    12.3\n",
      "Dic     7.8\n",
      "dtype: float64\n"
     ]
    }
   ],
   "source": [
    "# Los índices son etiquetas, también pueden ser texto\n",
    "# P.ej. en una serie de temperaturas medias mensuales\n",
    "# usamos los meses como índices\n",
    "temp_mensual = Series([7.2, 7.3, 12.1, 15.7, 20.3, 24.8, \n",
    "                       28.2, 25.6, 20.8, 16.8, 12.3, 7.8],\n",
    "                     index = [\"Ene\",\"Feb\",\"Mar\",\"Abr\",\"May\",\"Jun\",\n",
    "                              \"Jul\",\"Ago\",\"Sep\",\"Oct\",\"Nov\",\"Dic\"])\n",
    "print(temp_mensual)"
   ]
  },
  {
   "cell_type": "markdown",
   "metadata": {},
   "source": [
    "Que demos etiquetas distintas para los índices al crear la serie no significa que los elementos cambien su posición. Como puedes comprobar, los valores quedan en el mismo orden en el que los hayas especificado.\n",
    "\n",
    "Podemos seleccionar elementos de una serie igual que hacíamos con los _arrays_ en NumPy."
   ]
  },
  {
   "cell_type": "code",
   "execution_count": null,
   "metadata": {
    "collapsed": true
   },
   "outputs": [],
   "source": [
    "s1 = Series([3,5,7,9])"
   ]
  },
  {
   "cell_type": "code",
   "execution_count": null,
   "metadata": {},
   "outputs": [
    {
     "data": {
      "text/plain": [
       "7"
      ]
     },
     "metadata": {},
     "output_type": "display_data"
    }
   ],
   "source": [
    "# Seleccionamos un elemento por su posición\n",
    "s1[2]"
   ]
  },
  {
   "cell_type": "code",
   "execution_count": null,
   "metadata": {},
   "outputs": [
    {
     "data": {
      "text/plain": [
       "1    5\n",
       "2    7\n",
       "dtype: int64"
      ]
     },
     "metadata": {},
     "output_type": "display_data"
    }
   ],
   "source": [
    "# También podemos seleccionar una \"rebanada\"\n",
    "s1[1:3]"
   ]
  },
  {
   "cell_type": "code",
   "execution_count": null,
   "metadata": {},
   "outputs": [
    {
     "data": {
      "text/plain": [
       "0    3\n",
       "1    5\n",
       "dtype: int64"
      ]
     },
     "metadata": {},
     "output_type": "display_data"
    }
   ],
   "source": [
    "# O utilizar una expresión o máscara booleana\n",
    "s1[s1 < 6]"
   ]
  },
  {
   "cell_type": "markdown",
   "metadata": {},
   "source": [
    "Pero además, a diferencia de las listas o de los _arrays_ de NumPy, podemos utilizar las etiquetas como índices para seleccionar elementos de las series."
   ]
  },
  {
   "cell_type": "code",
   "execution_count": null,
   "metadata": {},
   "outputs": [
    {
     "data": {
      "text/plain": [
       "7.2"
      ]
     },
     "metadata": {},
     "output_type": "display_data"
    }
   ],
   "source": [
    "# Seleccionar un valor por índice\n",
    "temp_mensual[\"Ene\"]"
   ]
  },
  {
   "cell_type": "code",
   "execution_count": null,
   "metadata": {},
   "outputs": [
    {
     "data": {
      "text/plain": [
       "Mar    12.1\n",
       "Abr    15.7\n",
       "May    20.3\n",
       "dtype: float64"
      ]
     },
     "metadata": {},
     "output_type": "display_data"
    }
   ],
   "source": [
    "# Seleccionar usando una lista de etiquetas o índices\n",
    "temp_mensual[[\"Mar\",\"Abr\",\"May\"]]"
   ]
  },
  {
   "cell_type": "markdown",
   "metadata": {},
   "source": [
    "Siguiendo con la herencia de funcionalidades de los _arrays_ de NumPy, también podemos realizar las mismas operaciones matemáticas con una serie y un valor escalar (un valor entero o en coma flotante) o bien elemento a elemento entre dos series, o aplicar las operaciones de agregación."
   ]
  },
  {
   "cell_type": "code",
   "execution_count": null,
   "metadata": {},
   "outputs": [
    {
     "name": "stdout",
     "output_type": "stream",
     "text": [
      "0     6\n",
      "1    10\n",
      "2    14\n",
      "3    18\n",
      "dtype: int64\n"
     ]
    }
   ],
   "source": [
    "s1 = Series([3,5,7,9])\n",
    "\n",
    "# Podemos realizar las operaciones comunes con escalares...\n",
    "print(s1 * 2)"
   ]
  },
  {
   "cell_type": "code",
   "execution_count": null,
   "metadata": {},
   "outputs": [
    {
     "name": "stdout",
     "output_type": "stream",
     "text": [
      "0    1\n",
      "1    2\n",
      "2    3\n",
      "3    4\n",
      "dtype: int64\n"
     ]
    }
   ],
   "source": [
    "# ... operaciones elemento a elemento entre series\n",
    "s2 = Series([2,3,4,5])\n",
    "print(s1 - s2)"
   ]
  },
  {
   "cell_type": "code",
   "execution_count": null,
   "metadata": {},
   "outputs": [
    {
     "data": {
      "text/plain": [
       "24"
      ]
     },
     "metadata": {},
     "output_type": "display_data"
    }
   ],
   "source": [
    "# ... y operaciones de agregación\n",
    "# suma de elementos\n",
    "s1.sum()"
   ]
  },
  {
   "cell_type": "code",
   "execution_count": null,
   "metadata": {},
   "outputs": [
    {
     "data": {
      "text/plain": [
       "120"
      ]
     },
     "metadata": {},
     "output_type": "display_data"
    }
   ],
   "source": [
    "# producto de elementos\n",
    "s2.prod()"
   ]
  }
 ],
 "metadata": {
  "kernelspec": {
   "display_name": "Python 3.9.13",
   "language": "python",
   "name": "python3"
  },
  "language_info": {
   "name": "python",
   "version": "3.9.13"
  },
  "orig_nbformat": 4,
  "vscode": {
   "interpreter": {
    "hash": "eb6fcc4987d40a8a7a9bcbb3f79366e5006f70e69b6b24b8b7e2973ccc311291"
   }
  }
 },
 "nbformat": 4,
 "nbformat_minor": 2
}
