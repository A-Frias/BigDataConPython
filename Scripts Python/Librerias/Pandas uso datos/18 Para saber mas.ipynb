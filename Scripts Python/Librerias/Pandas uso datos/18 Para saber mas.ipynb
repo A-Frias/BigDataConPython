{
 "cells": [
  {
   "cell_type": "code",
   "execution_count": null,
   "metadata": {},
   "outputs": [],
   "source": []
  },
  {
   "cell_type": "markdown",
   "metadata": {},
   "source": [
    "El primer argumento indica las columnas con los valores que queremos procesar. Con el segundo argumento (`index`) especificamos los valores para el eje de filas, y con el tercero el eje de columnas. Por último, indicamos la función de agregación a aplicar a cada grupo (por defecto calcula la media).\n",
    "\n",
    "### Para saber más ...\n",
    "\n",
    "http://pandas.pydata.org/\n",
    "\n",
    "http://pandas.pydata.org/pandas-docs/stable/10min.html\n",
    "\n",
    "https://pandas.pydata.org/pandas-docs/stable/tutorials.html\n",
    "\n",
    "https://jakevdp.github.io/PythonDataScienceHandbook/03.00-introduction-to-pandas.html"
   ]
  }
 ],
 "metadata": {
  "language_info": {
   "name": "python"
  },
  "orig_nbformat": 4
 },
 "nbformat": 4,
 "nbformat_minor": 2
}
