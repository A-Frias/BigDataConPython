{
 "cells": [
  {
   "cell_type": "markdown",
   "metadata": {},
   "source": [
    "### Operaciones con datos\n",
    "\n",
    "Como ya hemos visto, la librería Pandas está construida sobre la base de NumPy, que sirve de soporte para Series y DataFrames. Una de las características claves de NumPy era su capacidad para ejecutar operaciones y funciones matemáticas directamente sobre sus _arrays_, de forma rápida y sencilla. Pandas aprovecha también estas capacidades y las extiende para adaptarse a las funcionalidades de Series y DataFrames.\n",
    "\n",
    "#### Operaciones binarias. Alineación de índices.\n",
    "\n",
    "Podemos aplicar los operadores aritméticos comunes a Series y DataFrames, como hacemos con los _arrays_ en NumPy. Solo que en el caso de Pandas, antes de efectuar la operación se _alinean_ los índices de las dos estruturas de datos sobre las que se esté trabajando.\n",
    "\n",
    "¿En qué consiste esa _alineación_? Ya sabes que tanto Series como DataFrames en Pandas tienen índices. Pueden ser los índices posicionales que se crean automáticamente por defecto, o bien etiquetas especificadas de forma explícita por nosotros.\n",
    "\n",
    "Cuando utilizamos dos variables (Series o DataFrames) en una de estas operaciones, lo primero que va a hacer la librería Pandas de forma automática es _alinear_ o _emparejar_ los elementos de ambas variables que tengan el mismo índice. Mira el siguiente ejemplo."
   ]
  },
  {
   "cell_type": "code",
   "execution_count": null,
   "metadata": {},
   "outputs": [
    {
     "data": {
      "text/plain": [
       "manzanas    1.95\n",
       "naranjas    5.70\n",
       "peras       3.00\n",
       "uva          NaN\n",
       "dtype: float64"
      ]
     },
     "metadata": {},
     "output_type": "display_data"
    }
   ],
   "source": [
    "# Definimos dos series\n",
    "fruta_kg = Series({'peras': 2, 'manzanas': 1, 'naranjas': 3})\n",
    "\n",
    "fruta_precio = Series({'manzanas': 1.95, 'naranjas': 1.90, 'peras': 1.50, 'uva': 2.60})\n",
    "\n",
    "# Multiplicamos\n",
    "fruta_kg * fruta_precio"
   ]
  },
  {
   "cell_type": "markdown",
   "metadata": {},
   "source": [
    "Antes de realizar la multiplicación, Pandas ha _alineado_ los elementos de ambas Series utilizando sus índices, de manera que la operación se aplique entre los pares de elementos correctos. El resultado incluye todos los índices que aparecen en cualquiera de las dos Series. ¿Pero qué pasa con los elementos que están solo en una de las variables (como la uva en el ejemplo)? En estos casos, Pandas da como resultado un valor especial:`NaN`.\n",
    "\n",
    "> **Importante** El valor **`NaN`** (_Not a Number_) es la forma que tiene Pandas de indicar que  faltan datos o que no se ha podido calcular el valor. En general, es un valor intercambiable con `None`, y es similar al valor `NA` (_not available_) de R. Cualquier operación con `NaN` devuelve otro `NaN`."
   ]
  },
  {
   "cell_type": "code",
   "execution_count": null,
   "metadata": {},
   "outputs": [
    {
     "data": {
      "text/plain": [
       "nan"
      ]
     },
     "metadata": {},
     "output_type": "display_data"
    }
   ],
   "source": [
    "# Si intentas sumar (o restar, multiplicar, dividir, etc)\n",
    "# un número con un valor no definido o ausente (NaN)\n",
    "# el resultado tampoco está definido\n",
    "1 + np.NaN"
   ]
  },
  {
   "cell_type": "markdown",
   "metadata": {},
   "source": [
    "Un poco más adelante te explicamos distintas formas de tratar con estos valores."
   ]
  },
  {
   "cell_type": "markdown",
   "metadata": {},
   "source": [
    "Si operamos con DataFrames ocurre lo mismo, con la diferencia de que la _alineación_ de índices ocurre tanto para filas como para columnas."
   ]
  },
  {
   "cell_type": "code",
   "execution_count": null,
   "metadata": {},
   "outputs": [
    {
     "data": {
      "text/html": [
       "<div>\n",
       "<style>\n",
       "    .dataframe thead tr:only-child th {\n",
       "        text-align: right;\n",
       "    }\n",
       "\n",
       "    .dataframe thead th {\n",
       "        text-align: left;\n",
       "    }\n",
       "\n",
       "    .dataframe tbody tr th {\n",
       "        vertical-align: top;\n",
       "    }\n",
       "</style>\n",
       "<table border=\"1\" class=\"dataframe\">\n",
       "  <thead>\n",
       "    <tr style=\"text-align: right;\">\n",
       "      <th></th>\n",
       "      <th>tienda_1</th>\n",
       "      <th>tienda_2</th>\n",
       "    </tr>\n",
       "  </thead>\n",
       "  <tbody>\n",
       "    <tr>\n",
       "      <th>manzanas</th>\n",
       "      <td>NaN</td>\n",
       "      <td>1.8</td>\n",
       "    </tr>\n",
       "    <tr>\n",
       "      <th>naranjas</th>\n",
       "      <td>5.70</td>\n",
       "      <td>NaN</td>\n",
       "    </tr>\n",
       "    <tr>\n",
       "      <th>peras</th>\n",
       "      <td>2.25</td>\n",
       "      <td>NaN</td>\n",
       "    </tr>\n",
       "    <tr>\n",
       "      <th>uvas</th>\n",
       "      <td>NaN</td>\n",
       "      <td>NaN</td>\n",
       "    </tr>\n",
       "  </tbody>\n",
       "</table>\n",
       "</div>"
      ],
      "text/plain": [
       "          tienda_1  tienda_2\n",
       "manzanas       NaN       1.8\n",
       "naranjas      5.70       NaN\n",
       "peras         2.25       NaN\n",
       "uvas           NaN       NaN"
      ]
     },
     "metadata": {},
     "output_type": "display_data"
    }
   ],
   "source": [
    "# Preparamos un DataFrame con precios de dos tiendas\n",
    "df_precio_fruta = DataFrame({\n",
    "                'tienda_1' : [1.95, 1.90, 1.50, 2.60],\n",
    "                'tienda_2' : [1.80, 1.95, 1.60, 2.40]\n",
    "                },\n",
    "                index = [\"manzanas\",\"naranjas\",\"peras\",\"uvas\"])\n",
    "\n",
    "# y otro DataFrame con la compra en cada una de las tiendas\n",
    "lista_compra_1 = Series({\"peras\" : 1.5, \"naranjas\" : 3})\n",
    "lista_compra_2 = Series({\"manzanas\" : 1})\n",
    "\n",
    "df_lista_compra = DataFrame({\n",
    "                    'tienda_1' : lista_compra_1,\n",
    "                    'tienda_2' : lista_compra_2\n",
    "        })\n",
    "\n",
    "# y operamos con ambos DataFrames\n",
    "df_precio_fruta * df_lista_compra"
   ]
  },
  {
   "cell_type": "markdown",
   "metadata": {},
   "source": [
    "También podemos utilizar un objeto Series para operar sobre todas las filas o todas las columnas de un DataFrame. En estos casos, Pandas aplica el mismo mecanismo de propagación o _broadcasting_ que veíamos con las operaciones de arrays en NumPy."
   ]
  },
  {
   "cell_type": "code",
   "execution_count": null,
   "metadata": {},
   "outputs": [
    {
     "data": {
      "text/html": [
       "<div>\n",
       "<style>\n",
       "    .dataframe thead tr:only-child th {\n",
       "        text-align: right;\n",
       "    }\n",
       "\n",
       "    .dataframe thead th {\n",
       "        text-align: left;\n",
       "    }\n",
       "\n",
       "    .dataframe tbody tr th {\n",
       "        vertical-align: top;\n",
       "    }\n",
       "</style>\n",
       "<table border=\"1\" class=\"dataframe\">\n",
       "  <thead>\n",
       "    <tr style=\"text-align: right;\">\n",
       "      <th></th>\n",
       "      <th>tienda_1</th>\n",
       "      <th>tienda_2</th>\n",
       "    </tr>\n",
       "  </thead>\n",
       "  <tbody>\n",
       "    <tr>\n",
       "      <th>manzanas</th>\n",
       "      <td>1.95</td>\n",
       "      <td>1.80</td>\n",
       "    </tr>\n",
       "    <tr>\n",
       "      <th>naranjas</th>\n",
       "      <td>5.70</td>\n",
       "      <td>5.85</td>\n",
       "    </tr>\n",
       "    <tr>\n",
       "      <th>peras</th>\n",
       "      <td>2.25</td>\n",
       "      <td>2.40</td>\n",
       "    </tr>\n",
       "    <tr>\n",
       "      <th>uvas</th>\n",
       "      <td>NaN</td>\n",
       "      <td>NaN</td>\n",
       "    </tr>\n",
       "  </tbody>\n",
       "</table>\n",
       "</div>"
      ],
      "text/plain": [
       "          tienda_1  tienda_2\n",
       "manzanas      1.95      1.80\n",
       "naranjas      5.70      5.85\n",
       "peras         2.25      2.40\n",
       "uvas           NaN       NaN"
      ]
     },
     "metadata": {},
     "output_type": "display_data"
    }
   ],
   "source": [
    "lista_compra = Series({\"peras\" : 1.5, \"naranjas\" : 3, \"manzanas\" : 1})\n",
    "# Multiplicamos la lista de la compra por los precios de cada tienda\n",
    "df_precio_fruta.multiply(lista_compra, axis=0)"
   ]
  },
  {
   "cell_type": "markdown",
   "metadata": {},
   "source": [
    "Como ves, en este caso no hemos utilizado directamente el operador de multiplicación '`*`', sino el método `multiply()`. El motivo es que el comportamiento por defecto es efectuar la operación por filas. En este caso, nosotros queríamos multiplicar cada columna del DataFrame por el objeto Series. Para ello, los métodos equivalentes a los operadores matemáticos incluyen un argumento `axis` que nos permite indicar si queremos propagar la operación por filas (opción por defecto) o por columnas del DataFrame (indicando '`axis = 0`').\n",
    "\n",
    "En la tabla siguiente tienes un resumen de los principales operadores y sus métodos equivalentes para Series y DataFrames.\n",
    "\n",
    "|  Operador  | Método para Series/DataFrame |\n",
    "|:----------:|:-----------------------------|\n",
    "| `+`        | `add()`                      |\n",
    "| `-`        | `sub(), substract()`         |\n",
    "| `*`        | `mul(), multiply()`          |\n",
    "| `/`        | `div(), divide()`            |\n",
    "| `//`       | `floordiv()`                 |\n",
    "| `%`        | `mod()`                      |\n",
    "| `**`       | `pow()`                      |\n",
    "| `+`        | `add()`                      |\n"
   ]
  },
  {
   "cell_type": "markdown",
   "metadata": {},
   "source": [
    "#### Utilizando funciones matemáticas universales\n",
    "\n",
    "Ya viste que la librería NumPy incluye un gran número de funciones mátemáticas, adaptadas especialmente para trabajar con arrays. \n",
    "\n",
    "Al estar construido sobre las bases de NumPy, Pandas nos permite utilizar todo este catálogo de funciones matemáticas universales _vectorizadas_ directamente sobre Series y DataFrames (vuelve a consular la sección correspondiente de NumPy para ver un listado más completo de las funciones disponibles)."
   ]
  },
  {
   "cell_type": "code",
   "execution_count": null,
   "metadata": {},
   "outputs": [
    {
     "ename": "NameError",
     "evalue": "name 'Series' is not defined",
     "output_type": "error",
     "traceback": [
      "\u001b[1;31m---------------------------------------------------------------------------\u001b[0m",
      "\u001b[1;31mNameError\u001b[0m                                 Traceback (most recent call last)",
      "Cell \u001b[1;32mIn [1], line 3\u001b[0m\n\u001b[0;32m      1\u001b[0m \u001b[38;5;28;01mimport\u001b[39;00m \u001b[38;5;21;01mnumpy\u001b[39;00m \u001b[38;5;28;01mas\u001b[39;00m \u001b[38;5;21;01mnp\u001b[39;00m\n\u001b[1;32m----> 3\u001b[0m s1 \u001b[38;5;241m=\u001b[39m \u001b[43mSeries\u001b[49m([\u001b[38;5;241m1\u001b[39m, \u001b[38;5;241m2\u001b[39m, \u001b[38;5;241m3\u001b[39m, \u001b[38;5;241m4\u001b[39m])\n\u001b[0;32m      5\u001b[0m \u001b[38;5;66;03m# Podemos aplicar cualquiera de las funciones universales de NumPy\u001b[39;00m\n\u001b[0;32m      6\u001b[0m \u001b[38;5;66;03m# sobre un objeto Series\u001b[39;00m\n\u001b[0;32m      7\u001b[0m np\u001b[38;5;241m.\u001b[39msqrt(s1)\n",
      "\u001b[1;31mNameError\u001b[0m: name 'Series' is not defined"
     ]
    }
   ],
   "source": [
    "import numpy as np\n",
    "\n",
    "s1 = Series([1, 2, 3, 4])\n",
    "\n",
    "# Podemos aplicar cualquiera de las funciones universales de NumPy\n",
    "# sobre un objeto Series\n",
    "np.sqrt(s1)"
   ]
  },
  {
   "cell_type": "code",
   "execution_count": null,
   "metadata": {},
   "outputs": [
    {
     "data": {
      "text/html": [
       "<div>\n",
       "<style>\n",
       "    .dataframe thead tr:only-child th {\n",
       "        text-align: right;\n",
       "    }\n",
       "\n",
       "    .dataframe thead th {\n",
       "        text-align: left;\n",
       "    }\n",
       "\n",
       "    .dataframe tbody tr th {\n",
       "        vertical-align: top;\n",
       "    }\n",
       "</style>\n",
       "<table border=\"1\" class=\"dataframe\">\n",
       "  <thead>\n",
       "    <tr style=\"text-align: right;\">\n",
       "      <th></th>\n",
       "      <th>x</th>\n",
       "      <th>y</th>\n",
       "    </tr>\n",
       "  </thead>\n",
       "  <tbody>\n",
       "    <tr>\n",
       "      <th>0</th>\n",
       "      <td>0.000000</td>\n",
       "      <td>-0.272341</td>\n",
       "    </tr>\n",
       "    <tr>\n",
       "      <th>1</th>\n",
       "      <td>0.693147</td>\n",
       "      <td>-0.036635</td>\n",
       "    </tr>\n",
       "    <tr>\n",
       "      <th>2</th>\n",
       "      <td>1.098612</td>\n",
       "      <td>-0.004958</td>\n",
       "    </tr>\n",
       "    <tr>\n",
       "      <th>3</th>\n",
       "      <td>1.386294</td>\n",
       "      <td>-0.000671</td>\n",
       "    </tr>\n",
       "  </tbody>\n",
       "</table>\n",
       "</div>"
      ],
      "text/plain": [
       "          x         y\n",
       "0  0.000000 -0.272341\n",
       "1  0.693147 -0.036635\n",
       "2  1.098612 -0.004958\n",
       "3  1.386294 -0.000671"
      ]
     },
     "metadata": {},
     "output_type": "display_data"
    }
   ],
   "source": [
    "df1 = DataFrame({\n",
    "    \"x\" : s1,\n",
    "    \"y\" : np.tanh(s1)\n",
    "})\n",
    "\n",
    "# o sobre un DataFrame\n",
    "np.log(df1)"
   ]
  }
 ],
 "metadata": {
  "kernelspec": {
   "display_name": "Python 3.9.12 ('base')",
   "language": "python",
   "name": "python3"
  },
  "language_info": {
   "codemirror_mode": {
    "name": "ipython",
    "version": 3
   },
   "file_extension": ".py",
   "mimetype": "text/x-python",
   "name": "python",
   "nbconvert_exporter": "python",
   "pygments_lexer": "ipython3",
   "version": "3.9.12"
  },
  "orig_nbformat": 4,
  "vscode": {
   "interpreter": {
    "hash": "7c39e21a772e99c1a7e3fb7ef3402580462d255e64df51b314942f2f47217269"
   }
  }
 },
 "nbformat": 4,
 "nbformat_minor": 2
}
