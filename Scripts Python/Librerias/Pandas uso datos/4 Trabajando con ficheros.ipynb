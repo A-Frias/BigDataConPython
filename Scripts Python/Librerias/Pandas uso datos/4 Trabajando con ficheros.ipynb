{
 "cells": [
  {
   "cell_type": "markdown",
   "metadata": {},
   "source": [
    "### Trabajando con datos en fichero\n",
    "\n",
    "Antes de seguir profundizando en las funcionalidades de manejo de datos, conviene saber cómo podemos cargar y guardar los datos que vayamos a utilizar. A fin de cuentas, sin datos esto no tendría mucha utilidad.\n",
    "\n",
    "Por ahora nos centraremos en trabajar con datos en fichero de texto, que es la opción más sencilla y está soportada directamente por la librería Pandas.\n",
    "\n",
    "#### Leyendo datos de fichero\n",
    "\n",
    "Pandas incluye varias funciones para leer datos tabulares de ficheros de texto:\n",
    "\n",
    "| Función           | Descripción |\n",
    "|:------------------|:------------|\n",
    "| `pd.read_csv()`   | Carga datos de un fichero de tipo CSV, con los campos separados por comas ',' |\n",
    "| `pd.read_table()` | Carga datos de un fichero de texto tabular, con los campos separados por tabuladores ('`\\t`') |\n",
    "| `pd.read_fwf()`   | Carga datos de un fichero de texto con columnas de ancho fijo (sin delimitadores) |\n",
    "\n",
    "Cuando tenemos que leer de algún fichero de texto con datos en columnas, podemos emplear `read_csv` o `read_table`. En realidad, internamente ambos métodos acaban ejecutando las mismas operaciones. Lo único que cambia es alguna opción por defecto, principalmente el carácter delimitador de los campos. En ambos casos podemos definir manualmente tanto el delimitador como el resto de opciones, por lo que en la práctica su uso es intercambiable.\n",
    "\n",
    "Para ver cómo funcionan, vamos a leer los datos de uno de los ficheros CSV que están incluidos en el material de la unidad. En este caso, vamos a cargar el fichero `NYC_flights_2013_MINI.csv`, que contiene una muestra de datos de vuelos que pasaron por el aeropuerto de Nueva York en 2013, un _dataset_ que suele utilizarse en muchos ejemplos (los datos originales proceden del portal Bureau of Transportation Statistics, http://www.transtats.bts.gov/DL_SelectFields.asp?Table_ID=236 ). Te invito a que abras el fichero con tu aplicación de hojas de cálculo favorita o con cualquier editor de texto básico (como Notepad) para que veas su contenido antes de cargarlo con Pandas (_¡Ten cuidado! No grabes y sobreescribas el fichero, o el ejemplo no funcionará._)"
   ]
  },
  {
   "cell_type": "code",
   "execution_count": null,
   "metadata": {},
   "outputs": [
    {
     "data": {
      "text/plain": [
       "(33670, 20)"
      ]
     },
     "metadata": {},
     "output_type": "display_data"
    }
   ],
   "source": [
    "# Ajusta la ruta de directorios para que apunte \n",
    "# adonde hayas descargado los ficheros\n",
    "df_flights = pd.read_csv(\"../U09_datasets/NYC_flights_2013_MINI.csv\", sep = \";\")\n",
    "\n",
    "# Vemos qué tamaño tiene (filas, columnas)\n",
    "df_flights.shape"
   ]
  },
  {
   "cell_type": "code",
   "execution_count": null,
   "metadata": {},
   "outputs": [
    {
     "data": {
      "text/html": [
       "<div>\n",
       "<style>\n",
       "    .dataframe thead tr:only-child th {\n",
       "        text-align: right;\n",
       "    }\n",
       "\n",
       "    .dataframe thead th {\n",
       "        text-align: left;\n",
       "    }\n",
       "\n",
       "    .dataframe tbody tr th {\n",
       "        vertical-align: top;\n",
       "    }\n",
       "</style>\n",
       "<table border=\"1\" class=\"dataframe\">\n",
       "  <thead>\n",
       "    <tr style=\"text-align: right;\">\n",
       "      <th></th>\n",
       "      <th>year</th>\n",
       "      <th>month</th>\n",
       "      <th>day</th>\n",
       "      <th>level_3</th>\n",
       "      <th>air_time</th>\n",
       "      <th>arr_delay</th>\n",
       "      <th>arr_time</th>\n",
       "      <th>carrier</th>\n",
       "      <th>dep_delay</th>\n",
       "      <th>dep_time</th>\n",
       "    </tr>\n",
       "  </thead>\n",
       "  <tbody>\n",
       "    <tr>\n",
       "      <th>0</th>\n",
       "      <td>2013</td>\n",
       "      <td>1</td>\n",
       "      <td>1</td>\n",
       "      <td>135</td>\n",
       "      <td>160.0</td>\n",
       "      <td>51.0</td>\n",
       "      <td>1136.0</td>\n",
       "      <td>AA</td>\n",
       "      <td>71.0</td>\n",
       "      <td>826.0</td>\n",
       "    </tr>\n",
       "    <tr>\n",
       "      <th>1</th>\n",
       "      <td>2013</td>\n",
       "      <td>1</td>\n",
       "      <td>1</td>\n",
       "      <td>3</td>\n",
       "      <td>183.0</td>\n",
       "      <td>-18.0</td>\n",
       "      <td>1004.0</td>\n",
       "      <td>B6</td>\n",
       "      <td>-1.0</td>\n",
       "      <td>544.0</td>\n",
       "    </tr>\n",
       "    <tr>\n",
       "      <th>2</th>\n",
       "      <td>2013</td>\n",
       "      <td>1</td>\n",
       "      <td>1</td>\n",
       "      <td>639</td>\n",
       "      <td>154.0</td>\n",
       "      <td>138.0</td>\n",
       "      <td>2008.0</td>\n",
       "      <td>MQ</td>\n",
       "      <td>103.0</td>\n",
       "      <td>1803.0</td>\n",
       "    </tr>\n",
       "    <tr>\n",
       "      <th>3</th>\n",
       "      <td>2013</td>\n",
       "      <td>1</td>\n",
       "      <td>1</td>\n",
       "      <td>505</td>\n",
       "      <td>41.0</td>\n",
       "      <td>-33.0</td>\n",
       "      <td>1701.0</td>\n",
       "      <td>9E</td>\n",
       "      <td>-6.0</td>\n",
       "      <td>1554.0</td>\n",
       "    </tr>\n",
       "    <tr>\n",
       "      <th>4</th>\n",
       "      <td>2013</td>\n",
       "      <td>1</td>\n",
       "      <td>1</td>\n",
       "      <td>327</td>\n",
       "      <td>137.0</td>\n",
       "      <td>5.0</td>\n",
       "      <td>1410.0</td>\n",
       "      <td>WN</td>\n",
       "      <td>-2.0</td>\n",
       "      <td>1238.0</td>\n",
       "    </tr>\n",
       "  </tbody>\n",
       "</table>\n",
       "</div>"
      ],
      "text/plain": [
       "   year  month  day  level_3  air_time  arr_delay  arr_time carrier  \\\n",
       "0  2013      1    1      135     160.0       51.0    1136.0      AA   \n",
       "1  2013      1    1        3     183.0      -18.0    1004.0      B6   \n",
       "2  2013      1    1      639     154.0      138.0    2008.0      MQ   \n",
       "3  2013      1    1      505      41.0      -33.0    1701.0      9E   \n",
       "4  2013      1    1      327     137.0        5.0    1410.0      WN   \n",
       "\n",
       "   dep_delay  dep_time  \n",
       "0       71.0     826.0  \n",
       "1       -1.0     544.0  \n",
       "2      103.0    1803.0  \n",
       "3       -6.0    1554.0  \n",
       "4       -2.0    1238.0  "
      ]
     },
     "metadata": {},
     "output_type": "display_data"
    }
   ],
   "source": [
    "# Mostramos las primeras filas y columnas del DataFrame\n",
    "df_flights.iloc[0:5, 0:10]"
   ]
  },
  {
   "cell_type": "markdown",
   "metadata": {},
   "source": [
    "Las funciones `read_csv` y `read_table` permiten especificar un gran número de opciones mediante sus argumentos. A continuación te mostramos algunos de los principales. Para ver la lista completa, puedes consultar https://pandas.pydata.org/pandas-docs/stable/generated/pandas.read_csv.html o https://pandas.pydata.org/pandas-docs/stable/generated/pandas.read_table.html\n",
    "\n",
    "| Argumentos de `pd.read_csv()` | Descripción                            |\n",
    "|:------------------------------|:---------------------------------------|\n",
    "| `filepath`                    | Fichero a cargar. Puede ser una ruta de fichero local o una URL |\n",
    "| `sep`                         | Carácter delimitador de campos. Por defecto '`,`' para `read_csv` y '`\\t`' para `read_table` |\n",
    "| `header`                      | Indica si el fichero contiene una fila con los nombres de las columnas. Se puede indicar el número de la fila (empieza en cero). Por defecto, trata de inferir si hay nombres. |\n",
    "| `names`                       | Lista opcional de nombres para las columnas |\n",
    "| `na_values`                   | Lista de cadenas que representan valores ausentes (NAs) en el fichero |\n",
    "| `quotechar`                   | Carácter utilizado en el fichero para entrecomillar cadenas de texto |\n",
    "| `encoding`                    | Codificación o juego de caracteres utilizado en el fichero (p.ej. _ascii_, _latin1_, _utf8_) |\n",
    "\n"
   ]
  },
  {
   "cell_type": "markdown",
   "metadata": {},
   "source": [
    "#### Escribiendo los datos a fichero\n",
    "\n",
    "También podemos salvar el contenido de nuestros DataFrames y Series a un fichero de texto tipo CSV o tabulado. La forma más rápida y simple es utilizando el método `to_csv`."
   ]
  },
  {
   "cell_type": "code",
   "execution_count": null,
   "metadata": {
    "collapsed": true
   },
   "outputs": [],
   "source": [
    "# Seleccionamos las primeras filas para el ejemplo\n",
    "df_mini = df_flights.head()\n",
    "\n",
    "# Guardamos en fichero\n",
    "df_mini.to_csv(\"./Prueba_export_pandas.csv\", \n",
    "               sep = \";\", na_rep = \"\", header = True, \n",
    "               index = False, index_label = False)"
   ]
  },
  {
   "cell_type": "markdown",
   "metadata": {},
   "source": [
    "Al igual que las funciones para leer, el método `to_csv` incluye múltiples opciones para controlar cómo se exporta y salva la información. Las más importantes son las siguientes; la lista completa puedes consultarla en http://pandas.pydata.org/pandas-docs/version/0.20.3/generated/pandas.DataFrame.to_csv.html\n",
    "\n",
    "| Argumentos de `df.to_csv()`   | Descripción                            |\n",
    "|:------------------------------|:---------------------------------------|\n",
    "| `filepath`                    | Fichero a cargar. Puede ser una ruta de fichero local o una URL |\n",
    "| `sep`                         | Carácter delimitador de campos. Por defecto '`,`' |\n",
    "| `header`                      | Controla si se escriben los nombres de las columnas. Por defecto es `True`. |\n",
    "| `columns`                     | Lista opcional para seleccionar qué columnas escribir. |\n",
    "| `na_rep`                      | Carácter a escribir para los valores ausentes (NAs) en el fichero |\n",
    "| `index`                       | Escribir el índice de filas (las etiquetas de filas) |\n",
    "| `index_label`                 | Nombre a dar a la columna con las etiquetas de filas. Si `False`, no imprime nombre para la columna. |\n",
    "| `quotechar`                   | Carácter para entrecomillar cadenas de texto |\n",
    "| `encoding`                    | Codificación o juego de caracteres a utilizar en el fichero (p.ej. _ascii_, _latin1_, _utf8_) |\n"
   ]
  }
 ],
 "metadata": {
  "language_info": {
   "name": "python"
  },
  "orig_nbformat": 4
 },
 "nbformat": 4,
 "nbformat_minor": 2
}
