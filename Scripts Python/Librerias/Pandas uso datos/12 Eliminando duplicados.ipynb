{
 "cells": [
  {
   "cell_type": "markdown",
   "metadata": {},
   "source": [
    "#### Eliminar duplicados\n",
    "\n",
    "Otra circunstancia común cuando trabajemos con datos es que aparezca información duplicada. En ocasiones serán registros completos, pero otras veces pueden ser solo valores o medidas múltiples que comparten el resto de variables."
   ]
  },
  {
   "cell_type": "code",
   "execution_count": null,
   "metadata": {},
   "outputs": [
    {
     "data": {
      "text/html": [
       "<div>\n",
       "<style>\n",
       "    .dataframe thead tr:only-child th {\n",
       "        text-align: right;\n",
       "    }\n",
       "\n",
       "    .dataframe thead th {\n",
       "        text-align: left;\n",
       "    }\n",
       "\n",
       "    .dataframe tbody tr th {\n",
       "        vertical-align: top;\n",
       "    }\n",
       "</style>\n",
       "<table border=\"1\" class=\"dataframe\">\n",
       "  <thead>\n",
       "    <tr style=\"text-align: right;\">\n",
       "      <th></th>\n",
       "      <th>movie_title</th>\n",
       "      <th>actor_name</th>\n",
       "      <th>actor_fb_likes</th>\n",
       "    </tr>\n",
       "  </thead>\n",
       "  <tbody>\n",
       "    <tr>\n",
       "      <th>0</th>\n",
       "      <td>Snatch</td>\n",
       "      <td>Jason Statham</td>\n",
       "      <td>26000.0</td>\n",
       "    </tr>\n",
       "    <tr>\n",
       "      <th>1</th>\n",
       "      <td>Snatch</td>\n",
       "      <td>Brad Pitt</td>\n",
       "      <td>11000.0</td>\n",
       "    </tr>\n",
       "    <tr>\n",
       "      <th>2</th>\n",
       "      <td>Snatch</td>\n",
       "      <td>Jason Flemyng</td>\n",
       "      <td>1000.0</td>\n",
       "    </tr>\n",
       "    <tr>\n",
       "      <th>3</th>\n",
       "      <td>Alice in Wonderland</td>\n",
       "      <td>Johnny Depp</td>\n",
       "      <td>40000.0</td>\n",
       "    </tr>\n",
       "    <tr>\n",
       "      <th>4</th>\n",
       "      <td>Alice in Wonderland</td>\n",
       "      <td>Alan Rickman</td>\n",
       "      <td>25000.0</td>\n",
       "    </tr>\n",
       "  </tbody>\n",
       "</table>\n",
       "</div>"
      ],
      "text/plain": [
       "           movie_title     actor_name  actor_fb_likes\n",
       "0               Snatch  Jason Statham         26000.0\n",
       "1               Snatch      Brad Pitt         11000.0\n",
       "2               Snatch  Jason Flemyng          1000.0\n",
       "3  Alice in Wonderland    Johnny Depp         40000.0\n",
       "4  Alice in Wonderland   Alan Rickman         25000.0"
      ]
     },
     "metadata": {},
     "output_type": "display_data"
    }
   ],
   "source": [
    "# Cargamos datos de reparto de actores por película\n",
    "reparto = pd.read_csv(\"../U09_datasets/sample_movie_cast.csv\", sep=\";\")\n",
    "\n",
    "reparto.head()"
   ]
  },
  {
   "cell_type": "markdown",
   "metadata": {},
   "source": [
    "El DataFrame de ejemplo contiene algunos de los actores que han protagonizado cada película. Ahora nos gustaría quedarnos simplemente con una lista de actores."
   ]
  },
  {
   "cell_type": "code",
   "execution_count": null,
   "metadata": {},
   "outputs": [
    {
     "data": {
      "text/html": [
       "<div>\n",
       "<style>\n",
       "    .dataframe thead tr:only-child th {\n",
       "        text-align: right;\n",
       "    }\n",
       "\n",
       "    .dataframe thead th {\n",
       "        text-align: left;\n",
       "    }\n",
       "\n",
       "    .dataframe tbody tr th {\n",
       "        vertical-align: top;\n",
       "    }\n",
       "</style>\n",
       "<table border=\"1\" class=\"dataframe\">\n",
       "  <thead>\n",
       "    <tr style=\"text-align: right;\">\n",
       "      <th></th>\n",
       "      <th>actor_name</th>\n",
       "      <th>actor_fb_likes</th>\n",
       "    </tr>\n",
       "  </thead>\n",
       "  <tbody>\n",
       "    <tr>\n",
       "      <th>0</th>\n",
       "      <td>Jason Statham</td>\n",
       "      <td>26000.0</td>\n",
       "    </tr>\n",
       "    <tr>\n",
       "      <th>1</th>\n",
       "      <td>Brad Pitt</td>\n",
       "      <td>11000.0</td>\n",
       "    </tr>\n",
       "    <tr>\n",
       "      <th>2</th>\n",
       "      <td>Jason Flemyng</td>\n",
       "      <td>1000.0</td>\n",
       "    </tr>\n",
       "    <tr>\n",
       "      <th>3</th>\n",
       "      <td>Johnny Depp</td>\n",
       "      <td>40000.0</td>\n",
       "    </tr>\n",
       "    <tr>\n",
       "      <th>4</th>\n",
       "      <td>Alan Rickman</td>\n",
       "      <td>25000.0</td>\n",
       "    </tr>\n",
       "  </tbody>\n",
       "</table>\n",
       "</div>"
      ],
      "text/plain": [
       "      actor_name  actor_fb_likes\n",
       "0  Jason Statham         26000.0\n",
       "1      Brad Pitt         11000.0\n",
       "2  Jason Flemyng          1000.0\n",
       "3    Johnny Depp         40000.0\n",
       "4   Alan Rickman         25000.0"
      ]
     },
     "metadata": {},
     "output_type": "display_data"
    }
   ],
   "source": [
    "# Extraemos solo los actores\n",
    "actores = reparto[[\"actor_name\",\"actor_fb_likes\"]].copy()\n",
    "actores.head()"
   ]
  },
  {
   "cell_type": "markdown",
   "metadata": {},
   "source": [
    "Pero probablemente vamos a tener actores repetidos porque hayan aparecido en varias de las películas de nuestra lista. Empleamos el método `duplicated()` para averiguarlo."
   ]
  },
  {
   "cell_type": "code",
   "execution_count": null,
   "metadata": {},
   "outputs": [
    {
     "data": {
      "text/plain": [
       "True"
      ]
     },
     "metadata": {},
     "output_type": "display_data"
    }
   ],
   "source": [
    "actores.duplicated([\"actor_name\"]).any()"
   ]
  },
  {
   "cell_type": "markdown",
   "metadata": {},
   "source": [
    "Por defecto, `duplicated()` tiene en cuenta todas las columnas de un DataFrame para decidir si una fila está repetida o no. Como alternativa, se puede especificar un subconjunto de las columnas (como en este ejemplo).\n",
    "\n",
    "El método `duplicated()` devuelve una serie con tantos valores booleanos como elementos. La primera vez que aparece un elemento devuelve `False`, y las siguientes ocurrencias las marca con `True`.\n",
    "\n",
    "> **+ info** Por cierto, ¿te fijaste en ese `any()`? Para facilitar el trabajo con conjuntos de valores booleanos, Pandas incluye las funciones auxiliares `any()` (que devuelve `True` si algún valor del conjunto es `True`) y `all()` (que devuelve `True` si _todos_ los elementos del conjunto son `True`).\n",
    "\n",
    "Ahora podemos eliminar las filas duplicadas con `drop_duplicates()`."
   ]
  },
  {
   "cell_type": "code",
   "execution_count": null,
   "metadata": {},
   "outputs": [
    {
     "data": {
      "text/plain": [
       "False"
      ]
     },
     "metadata": {},
     "output_type": "display_data"
    }
   ],
   "source": [
    "actores.drop_duplicates([\"actor_name\"], inplace=True)\n",
    "actores.duplicated([\"actor_name\"]).any()"
   ]
  }
 ],
 "metadata": {
  "language_info": {
   "name": "python"
  },
  "orig_nbformat": 4
 },
 "nbformat": 4,
 "nbformat_minor": 2
}
