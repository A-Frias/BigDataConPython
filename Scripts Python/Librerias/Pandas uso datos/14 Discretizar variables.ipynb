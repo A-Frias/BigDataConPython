{
 "cells": [
  {
   "cell_type": "markdown",
   "metadata": {},
   "source": [
    "#### Discretizando variables\n",
    "\n",
    "Otra transformación típica de datos es la _discretización_ o agrupación en rangos de valores de una determinada variable. Para ello en Pandas disponemos de la función `pd.cut()`.\n",
    "\n",
    "Por ejemplo, vamos a clasificar el año de estreno de las peliculas de nuestro _dataset_ por decadas (más o menos)."
   ]
  },
  {
   "cell_type": "code",
   "execution_count": null,
   "metadata": {},
   "outputs": [
    {
     "data": {
      "text/plain": [
       "title\n",
       "Snatch                 2000.0\n",
       "Alice in Wonderland    2010.0\n",
       "District B13           2004.0\n",
       "Metropolis             1927.0\n",
       "The Puffy Chair        2005.0\n",
       "Name: year, dtype: float64"
      ]
     },
     "metadata": {},
     "output_type": "display_data"
    }
   ],
   "source": [
    "# Tomamos el año de estreno de las películas\n",
    "peliculas['year'].head()"
   ]
  },
  {
   "cell_type": "code",
   "execution_count": null,
   "metadata": {},
   "outputs": [
    {
     "data": {
      "text/plain": [
       "title\n",
       "Snatch                 (1990.0, 2000.0]\n",
       "Alice in Wonderland    (2000.0, 2010.0]\n",
       "District B13           (2000.0, 2010.0]\n",
       "Metropolis             (1900.0, 1980.0]\n",
       "The Puffy Chair        (2000.0, 2010.0]\n",
       "Name: year, dtype: category\n",
       "Categories (5, interval[float64]): [(1900.0, 1980.0] < (1980.0, 1990.0] < (1990.0, 2000.0] < (2000.0, 2010.0] < (2010.0, inf]]"
      ]
     },
     "metadata": {},
     "output_type": "display_data"
    }
   ],
   "source": [
    "# Utilizamos `pd.cut()` para dividir en intervalos\n",
    "pd.cut(peliculas['year'], bins=[1900, 1980, 1990, 2000, 2010, np.Inf]).head()"
   ]
  },
  {
   "cell_type": "markdown",
   "metadata": {},
   "source": [
    "Para cada valor de la serie, `pd.cut()` devuelve la etiqueta de la categoría o rango correspondiente. En este caso, vemos que hay cinco categorías, cuyos límites están comprendidos entre cada par de valores de la lista que hemos indicado en el argumento `bins`. Si queremos cambiar las etiquetas que se crean por defecto, podemos pasar una lista o un array de nombres en el argumento `labels`.\n",
    "\n",
    "Una vez que tenemos nuestra variable _discretizada_, podemos contar cuántos casos hay en cada rango con la función `pd.value_counts()`."
   ]
  },
  {
   "cell_type": "code",
   "execution_count": null,
   "metadata": {},
   "outputs": [
    {
     "data": {
      "text/plain": [
       "2000s    14\n",
       ">2010     2\n",
       "1990s     2\n",
       "1980s     1\n",
       "<1980     1\n",
       "Name: year, dtype: int64"
      ]
     },
     "metadata": {},
     "output_type": "display_data"
    }
   ],
   "source": [
    "decadas = pd.cut(peliculas['year'], \n",
    "                 bins=[1900, 1980, 1990, 2000, 2010, np.Inf], \n",
    "                 labels = ['<1980', '1980s', '1990s', '2000s', '>2010'])\n",
    "\n",
    "pd.value_counts(decadas)"
   ]
  }
 ],
 "metadata": {
  "language_info": {
   "name": "python"
  },
  "orig_nbformat": 4
 },
 "nbformat": 4,
 "nbformat_minor": 2
}
