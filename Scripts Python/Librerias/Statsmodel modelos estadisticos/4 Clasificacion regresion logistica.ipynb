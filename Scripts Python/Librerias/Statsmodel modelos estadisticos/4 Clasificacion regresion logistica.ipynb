{
 "cells": [
  {
   "cell_type": "code",
   "execution_count": null,
   "metadata": {},
   "outputs": [],
   "source": []
  },
  {
   "cell_type": "markdown",
   "metadata": {},
   "source": [
    "### Clasificación. Regresión logística.\n",
    "\n",
    "Otro tipo de problema típico a resolver con modelos estadísticos es el de clasificación. De la unidad 8 recordarás que el problema aquí consiste en estimar la categoría más probable a la que pertenece un elemento en función de una serie de características observadas, que utilizamos como variables explicativas del modelo.\n",
    "\n",
    "Existen varias técnicas de clasificación estadística. Pero ahora vamos a centrarnos en la regresión logística. \n",
    "\n",
    "Statsmodels incluye métodos y utilizades específicas para regresión logística. La interfaz principal es `sm.Logit()`. Como vas a ver, su uso no puede ser más sencillo.\n",
    "\n",
    "Vamos a reutilizar el ejemplo de la unidad 8 para intentar determinar el sexo de una persona en función de varias medidas antropométricas."
   ]
  },
  {
   "cell_type": "code",
   "execution_count": null,
   "metadata": {
    "collapsed": true
   },
   "outputs": [],
   "source": [
    "import sys\n",
    "import os.path\n",
    "\n",
    "# Tan solo modifica la cadena de texto entre comillas\n",
    "# de DIR_FICHEROS_CURSO\n",
    "# Sustituye por la ruta completa hasta el directorio base\n",
    "# donde descargues el material del campus\n",
    "DIR_FICHEROS_CURSO = \".\"\n",
    "DIR_U09 = os.path.join(DIR_FICHEROS_CURSO, \"09PythonParaAnalisisDatos\")\n",
    "DIR_U09_SRC = os.path.join(DIR_U09, \"U09_src\")\n",
    "\n",
    "sys.path.append(DIR_U09_SRC)"
   ]
  },
  {
   "cell_type": "code",
   "execution_count": null,
   "metadata": {},
   "outputs": [
    {
     "data": {
      "text/html": [
       "<div>\n",
       "<style>\n",
       "    .dataframe thead tr:only-child th {\n",
       "        text-align: right;\n",
       "    }\n",
       "\n",
       "    .dataframe thead th {\n",
       "        text-align: left;\n",
       "    }\n",
       "\n",
       "    .dataframe tbody tr th {\n",
       "        vertical-align: top;\n",
       "    }\n",
       "</style>\n",
       "<table border=\"1\" class=\"dataframe\">\n",
       "  <thead>\n",
       "    <tr style=\"text-align: right;\">\n",
       "      <th></th>\n",
       "      <th>Gender</th>\n",
       "      <th>Ankle_min_girth</th>\n",
       "      <th>Wrist_min_girth</th>\n",
       "      <th>Height</th>\n",
       "      <th>Weight</th>\n",
       "      <th>Chest_depth</th>\n",
       "      <th>Biacromial_diameter</th>\n",
       "    </tr>\n",
       "  </thead>\n",
       "  <tbody>\n",
       "    <tr>\n",
       "      <th>0</th>\n",
       "      <td>1</td>\n",
       "      <td>23.5</td>\n",
       "      <td>16.5</td>\n",
       "      <td>174.0</td>\n",
       "      <td>65.6</td>\n",
       "      <td>17.7</td>\n",
       "      <td>42.9</td>\n",
       "    </tr>\n",
       "    <tr>\n",
       "      <th>1</th>\n",
       "      <td>1</td>\n",
       "      <td>24.5</td>\n",
       "      <td>17.0</td>\n",
       "      <td>175.3</td>\n",
       "      <td>71.8</td>\n",
       "      <td>16.9</td>\n",
       "      <td>43.7</td>\n",
       "    </tr>\n",
       "    <tr>\n",
       "      <th>2</th>\n",
       "      <td>1</td>\n",
       "      <td>21.9</td>\n",
       "      <td>16.9</td>\n",
       "      <td>193.5</td>\n",
       "      <td>80.7</td>\n",
       "      <td>20.9</td>\n",
       "      <td>40.1</td>\n",
       "    </tr>\n",
       "    <tr>\n",
       "      <th>3</th>\n",
       "      <td>1</td>\n",
       "      <td>23.0</td>\n",
       "      <td>16.6</td>\n",
       "      <td>186.5</td>\n",
       "      <td>72.6</td>\n",
       "      <td>18.4</td>\n",
       "      <td>44.3</td>\n",
       "    </tr>\n",
       "    <tr>\n",
       "      <th>4</th>\n",
       "      <td>1</td>\n",
       "      <td>24.4</td>\n",
       "      <td>18.0</td>\n",
       "      <td>187.2</td>\n",
       "      <td>78.8</td>\n",
       "      <td>21.5</td>\n",
       "      <td>42.5</td>\n",
       "    </tr>\n",
       "  </tbody>\n",
       "</table>\n",
       "</div>"
      ],
      "text/plain": [
       "   Gender  Ankle_min_girth  Wrist_min_girth  Height  Weight  Chest_depth  \\\n",
       "0       1             23.5             16.5   174.0    65.6         17.7   \n",
       "1       1             24.5             17.0   175.3    71.8         16.9   \n",
       "2       1             21.9             16.9   193.5    80.7         20.9   \n",
       "3       1             23.0             16.6   186.5    72.6         18.4   \n",
       "4       1             24.4             18.0   187.2    78.8         21.5   \n",
       "\n",
       "   Biacromial_diameter  \n",
       "0                 42.9  \n",
       "1                 43.7  \n",
       "2                 40.1  \n",
       "3                 44.3  \n",
       "4                 42.5  "
      ]
     },
     "metadata": {},
     "output_type": "display_data"
    }
   ],
   "source": [
    "import numpy as np\n",
    "import pandas as pd\n",
    "from pandas import Series, DataFrame\n",
    "import matplotlib as mpl\n",
    "import matplotlib.pyplot as plt\n",
    "import seaborn as sns\n",
    "import statsmodels.api as sm\n",
    "import statsmodels.formula.api as smf\n",
    "\n",
    "body = pd.read_csv(\"../../Datasets/body_measures_subset.csv\", delimiter=\";\")\n",
    "\n",
    "# Los datos contienen varias medidas antropométricas\n",
    "# `Gender` es una variable categórica\n",
    "#  - 0 : mujer\n",
    "#  - 1 : hombre\n",
    "body.head()"
   ]
  },
  {
   "cell_type": "code",
   "execution_count": null,
   "metadata": {},
   "outputs": [
    {
     "name": "stdout",
     "output_type": "stream",
     "text": [
      "Optimization terminated successfully.\n",
      "         Current function value: 0.154336\n",
      "         Iterations 9\n"
     ]
    }
   ],
   "source": [
    "# Variable respuesta\n",
    "y = body['Gender']\n",
    "# Las variables predictoras son todas las demás\n",
    "X = body.iloc[:,1:]\n",
    "# Añadimos el término constante\n",
    "X = sm.add_constant(X, prepend=False)\n",
    "\n",
    "# Construimos el modelo logístico\n",
    "model = smf.Logit(y, X)\n",
    "# Y ajustamos\n",
    "mfitted = model.fit()"
   ]
  },
  {
   "cell_type": "code",
   "execution_count": null,
   "metadata": {},
   "outputs": [],
   "source": [
    "from scipy import stats\n",
    "stats.chisqprob = lambda chisq, df: stats.chi2.sf(chisq, df)"
   ]
  },
  {
   "cell_type": "code",
   "execution_count": null,
   "metadata": {},
   "outputs": [
    {
     "name": "stdout",
     "output_type": "stream",
     "text": [
      "                           Logit Regression Results                           \n",
      "==============================================================================\n",
      "Dep. Variable:                 Gender   No. Observations:                  507\n",
      "Model:                          Logit   Df Residuals:                      500\n",
      "Method:                           MLE   Df Model:                            6\n",
      "Date:                Tue, 16 Jul 2019   Pseudo R-squ.:                  0.7772\n",
      "Time:                        19:20:41   Log-Likelihood:                -78.248\n",
      "converged:                       True   LL-Null:                       -351.26\n",
      "                                        LLR p-value:                1.018e-114\n",
      "=======================================================================================\n",
      "                          coef    std err          z      P>|z|      [0.025      0.975]\n",
      "---------------------------------------------------------------------------------------\n",
      "Ankle_min_girth        -0.4816      0.235     -2.050      0.040      -0.942      -0.021\n",
      "Wrist_min_girth         2.6984      0.444      6.075      0.000       1.828       3.569\n",
      "Height                  0.1668      0.040      4.153      0.000       0.088       0.246\n",
      "Weight                 -0.1417      0.043     -3.328      0.001      -0.225      -0.058\n",
      "Chest_depth             0.5113      0.156      3.271      0.001       0.205       0.818\n",
      "Biacromial_diameter     0.6985      0.134      5.194      0.000       0.435       0.962\n",
      "const                 -88.4009     10.527     -8.398      0.000    -109.033     -67.769\n",
      "=======================================================================================\n"
     ]
    }
   ],
   "source": [
    "# Examinamos los resultados del ajuste\n",
    "print(mfitted.summary())"
   ]
  },
  {
   "cell_type": "markdown",
   "metadata": {},
   "source": [
    "Podemos ver la matriz de confusión del ajuste con el método `pred_table()`. Las filas corresponden a las observaciones (0 y 1) de la variable respuesta, mientras que las columnas corresponden a los valores estimados por el modelo ajustado sobre los datos de entrenamiento. La diagonal recoge los casos correctos."
   ]
  },
  {
   "cell_type": "code",
   "execution_count": null,
   "metadata": {},
   "outputs": [
    {
     "name": "stdout",
     "output_type": "stream",
     "text": [
      "[[246.  14.]\n",
      " [ 16. 231.]]\n"
     ]
    }
   ],
   "source": [
    "print(mfitted.pred_table())"
   ]
  },
  {
   "cell_type": "markdown",
   "metadata": {},
   "source": [
    "Pero naturalmente, lo importante son los resultados sobre datos distintos de los usados para entrenar. Vamos a dividir los datos originales en dos, un conjunto de entrenamiento y otro de test, y procedamos de nuevo."
   ]
  },
  {
   "cell_type": "code",
   "execution_count": null,
   "metadata": {},
   "outputs": [
    {
     "name": "stdout",
     "output_type": "stream",
     "text": [
      "Optimization terminated successfully.\n",
      "         Current function value: 0.135222\n",
      "         Iterations 9\n"
     ]
    }
   ],
   "source": [
    "# Creamos el conjunto de entrenamiento\n",
    "# tomando aleatoriamente el 80% de filas\n",
    "body_train = body.copy().sample(frac=0.8)\n",
    "# El conjunto de test es el formado\n",
    "# por el resto de filas\n",
    "body_test = body.copy().drop(body_train.index)\n",
    "\n",
    "# Variable respuesta\n",
    "y_train = body_train['Gender']\n",
    "y_test = body_test['Gender']\n",
    "# Las variables predictoras son todas las demás\n",
    "X_train = body_train.iloc[:,1:]\n",
    "X_test = body_test.iloc[:,1:]\n",
    "# Añadimos el término constante\n",
    "X_train = sm.add_constant(X_train, prepend=False)\n",
    "X_test = sm.add_constant(X_test, prepend=False)\n",
    "\n",
    "# Construimos el modelo logístico\n",
    "model = smf.Logit(y_train, X_train)\n",
    "# Y ajustamos\n",
    "mfitted = model.fit()\n"
   ]
  },
  {
   "cell_type": "markdown",
   "metadata": {},
   "source": [
    "Ahora realizamos la predicción sobre el conjunto de test."
   ]
  },
  {
   "cell_type": "code",
   "execution_count": null,
   "metadata": {},
   "outputs": [
    {
     "data": {
      "text/plain": [
       "1     0.983750\n",
       "4     0.999973\n",
       "8     0.986980\n",
       "14    0.993570\n",
       "27    0.998867\n",
       "dtype: float64"
      ]
     },
     "metadata": {},
     "output_type": "display_data"
    }
   ],
   "source": [
    "pred = mfitted.predict(X_test)\n",
    "pred.head()"
   ]
  },
  {
   "cell_type": "markdown",
   "metadata": {},
   "source": [
    "Los valores de la predicción para cada individuo están en el rango [0, 1]. Interpretando los resultados como _Prob(y = 1)_, tomamos que valores (p >= 0.5) corresponden a la categoría 1. Calculemos la tabla de confusión."
   ]
  },
  {
   "cell_type": "code",
   "execution_count": null,
   "metadata": {},
   "outputs": [
    {
     "data": {
      "text/html": [
       "<div>\n",
       "<style>\n",
       "    .dataframe thead tr:only-child th {\n",
       "        text-align: right;\n",
       "    }\n",
       "\n",
       "    .dataframe thead th {\n",
       "        text-align: left;\n",
       "    }\n",
       "\n",
       "    .dataframe tbody tr th {\n",
       "        vertical-align: top;\n",
       "    }\n",
       "</style>\n",
       "<table border=\"1\" class=\"dataframe\">\n",
       "  <thead>\n",
       "    <tr style=\"text-align: right;\">\n",
       "      <th>Pred</th>\n",
       "      <th>0</th>\n",
       "      <th>1</th>\n",
       "    </tr>\n",
       "    <tr>\n",
       "      <th>Obs</th>\n",
       "      <th></th>\n",
       "      <th></th>\n",
       "    </tr>\n",
       "  </thead>\n",
       "  <tbody>\n",
       "    <tr>\n",
       "      <th>0</th>\n",
       "      <td>46</td>\n",
       "      <td>6</td>\n",
       "    </tr>\n",
       "    <tr>\n",
       "      <th>1</th>\n",
       "      <td>2</td>\n",
       "      <td>47</td>\n",
       "    </tr>\n",
       "  </tbody>\n",
       "</table>\n",
       "</div>"
      ],
      "text/plain": [
       "Pred   0   1\n",
       "Obs         \n",
       "0     46   6\n",
       "1      2  47"
      ]
     },
     "metadata": {},
     "output_type": "display_data"
    }
   ],
   "source": [
    "pred_0_1 = [ 1 if p >= 0.5 else 0 for p in pred ]\n",
    "\n",
    "pd.crosstab(index=y_test, columns=pd.Categorical(pred_0_1), rownames=['Obs'], colnames=['Pred'])"
   ]
  },
  {
   "cell_type": "markdown",
   "metadata": {},
   "source": [
    "Y por último, calculemos el acierto global."
   ]
  },
  {
   "cell_type": "code",
   "execution_count": null,
   "metadata": {},
   "outputs": [
    {
     "name": "stdout",
     "output_type": "stream",
     "text": [
      "acierto_total = 92.08%\n"
     ]
    }
   ],
   "source": [
    "acierto_total = np.mean(y_test == pred_0_1)\n",
    "print ('acierto_total = {0}%'.format(np.round(acierto_total*100, 2))  )\n"
   ]
  }
 ],
 "metadata": {
  "language_info": {
   "name": "python"
  },
  "orig_nbformat": 4
 },
 "nbformat": 4,
 "nbformat_minor": 2
}
