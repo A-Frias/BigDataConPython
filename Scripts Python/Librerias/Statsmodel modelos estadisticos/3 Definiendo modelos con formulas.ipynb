{
 "cells": [
  {
   "cell_type": "code",
   "execution_count": null,
   "metadata": {},
   "outputs": [],
   "source": []
  },
  {
   "cell_type": "markdown",
   "metadata": {},
   "source": [
    "### Definiendo modelos con fórmulas\n",
    "\n",
    "Definir un modelo mediante una matriz de diseño con las variables explicativas no es especialmente complicado. Sobre todo en Statsmodels, que admite que usemos las columnas de un DataFrame de Pandas directamente.\n",
    "\n",
    "Sin embargo, trabajar con matrices de modelo cuando quieres probar distintas variantes (quitando o añadiendo variables, considerando interacciones o transformaciones de variables) puede resultar más engorroso; tendremos que andar preparando una nueva matriz para cada alternativa a explorar.\n",
    "\n",
    "Afortunadamente, Statsmodels ha incluido desde hace algún tiempo la capacidad de definir un modelo mediante fórmulas, siguiendo la sintaxis que ya conoces del lenguaje R.\n"
   ]
  },
  {
   "cell_type": "code",
   "execution_count": null,
   "metadata": {},
   "outputs": [
    {
     "name": "stdout",
     "output_type": "stream",
     "text": [
      "                            OLS Regression Results                            \n",
      "==============================================================================\n",
      "Dep. Variable:                  Sales   R-squared:                       0.897\n",
      "Model:                            OLS   Adj. R-squared:                  0.896\n",
      "Method:                 Least Squares   F-statistic:                     570.3\n",
      "Date:                Tue, 16 Jul 2019   Prob (F-statistic):           1.58e-96\n",
      "Time:                        19:11:14   Log-Likelihood:                -386.18\n",
      "No. Observations:                 200   AIC:                             780.4\n",
      "Df Residuals:                     196   BIC:                             793.6\n",
      "Df Model:                           3                                         \n",
      "Covariance Type:            nonrobust                                         \n",
      "==============================================================================\n",
      "                 coef    std err          t      P>|t|      [0.025      0.975]\n",
      "------------------------------------------------------------------------------\n",
      "Intercept      2.9389      0.312      9.422      0.000       2.324       3.554\n",
      "TV             0.0458      0.001     32.809      0.000       0.043       0.049\n",
      "Radio          0.1885      0.009     21.893      0.000       0.172       0.206\n",
      "Newspaper     -0.0010      0.006     -0.177      0.860      -0.013       0.011\n",
      "==============================================================================\n",
      "Omnibus:                       60.414   Durbin-Watson:                   2.084\n",
      "Prob(Omnibus):                  0.000   Jarque-Bera (JB):              151.241\n",
      "Skew:                          -1.327   Prob(JB):                     1.44e-33\n",
      "Kurtosis:                       6.332   Cond. No.                         454.\n",
      "==============================================================================\n",
      "\n",
      "Warnings:\n",
      "[1] Standard Errors assume that the covariance matrix of the errors is correctly specified.\n"
     ]
    }
   ],
   "source": [
    "# Cargamos la API con soporte a formulas\n",
    "import statsmodels.formula.api as smf\n",
    "\n",
    "# Definimos el modelo usando una formula como en R\n",
    "model_f = smf.ols(formula = 'Sales ~ TV + Radio + Newspaper', data=ads)\n",
    "\n",
    "# Ajustamos el modelo\n",
    "mf_fitted = model_f.fit()\n",
    "\n",
    "# Resumen\n",
    "print(mf_fitted.summary())"
   ]
  },
  {
   "cell_type": "markdown",
   "metadata": {},
   "source": [
    "Como cabía esperar, los resultados del ajuste son los mismos. En realidad el modelo subyacente no cambia, sólo el mecanismo que hemos usado para definirlo.\n",
    "\n",
    "Aparte de la sencillez de uso, tener la definición del modelo de forma textual aporta legibilidad. Es más fácil y rápido interpretar un modelo mediante su formulación que revisando la matriz de diseño.\n",
    "\n",
    "> **Importante**. Si has revisado con atención el modelo y los resultados, tal vez ya te hayas dado cuenta de un cambio sutil al usar una fórmula. No hemos tenido que añadir un término constante explícito como ocurre con las matrices. La API para fórmulas lo hace por nosotros de forma automática (en línea con el funcionamiento en R).\n",
    "\n",
    "#### Interacciones entre variables\n",
    "\n",
    "Si el fenómeno que estamos modelando cumple que cuando todas las variables explicativas valen cero, entonces la respuesta es cero, podemos eliminar del ajuste el término constante o _intercept_. Eliminar un término se consigue simplemente restando en la fórmula. En nuestro ejemplo, la fórmula pasaría a ser\n",
    "\n",
    "  `Sales ~ TV + Radio + Newspaper - 1`\n",
    "\n",
    "Las interacciones entre variables se incluyen en las fórmulas igual que en R.\n",
    "\n",
    "| Fórmula | Descripción |\n",
    "|:--------|:------------|\n",
    "| Y ~ X\\*Z | Añadir la interacción entre las vars. X y Z. Equivalente a $Y = \\beta_0 + \\beta_1 X + \\beta_2 Z + \\beta_3 (X*Z)$ |\n",
    "| Y ~ X:Z | Incluir solo la interacción entre las vars. X y Z. Equivalente a $Y = \\beta_0 + \\beta_3 (X*Z)$ |\n",
    "\n",
    "#### Variables categóricas\n",
    "\n",
    "Statsmodels también soporta el uso de variables categóricas en las fórmulas. La librería se encarga de hacer las transformaciones automáticas para añadir las variables _dummy_ necesarias por cada nivel.\n",
    "\n",
    "Además, si tenemos una variable entera que queremos tratar como una variable categórica, basta con utilizar el operador `C()` con dicha variable en la fórmula.\n"
   ]
  },
  {
   "cell_type": "code",
   "execution_count": null,
   "metadata": {},
   "outputs": [
    {
     "name": "stdout",
     "output_type": "stream",
     "text": [
      "                            OLS Regression Results                            \n",
      "==============================================================================\n",
      "Dep. Variable:                  Sales   R-squared:                       0.447\n",
      "Model:                            OLS   Adj. R-squared:                  0.438\n",
      "Method:                 Least Squares   F-statistic:                     52.79\n",
      "Date:                Tue, 16 Jul 2019   Prob (F-statistic):           4.69e-25\n",
      "Time:                        19:11:45   Log-Likelihood:                -554.46\n",
      "No. Observations:                 200   AIC:                             1117.\n",
      "Df Residuals:                     196   BIC:                             1130.\n",
      "Df Model:                           3                                         \n",
      "Covariance Type:            nonrobust                                         \n",
      "==============================================================================================\n",
      "                                 coef    std err          t      P>|t|      [0.025      0.975]\n",
      "----------------------------------------------------------------------------------------------\n",
      "Intercept                      8.6897      1.123      7.735      0.000       6.474      10.905\n",
      "TV_budget[T.MID]               5.7760      1.104      5.232      0.000       3.599       7.953\n",
      "TV_budget[T.HIGH]             10.9270      1.331      8.210      0.000       8.302      13.552\n",
      "C(More_Radio_Or_News)[T.1]    -1.7919      1.001     -1.790      0.075      -3.766       0.182\n",
      "==============================================================================\n",
      "Omnibus:                        7.827   Durbin-Watson:                   2.003\n",
      "Prob(Omnibus):                  0.020   Jarque-Bera (JB):                7.389\n",
      "Skew:                           0.415   Prob(JB):                       0.0249\n",
      "Kurtosis:                       2.556   Cond. No.                         9.67\n",
      "==============================================================================\n",
      "\n",
      "Warnings:\n",
      "[1] Standard Errors assume that the covariance matrix of the errors is correctly specified.\n"
     ]
    }
   ],
   "source": [
    "# Creamos una variable categórica \n",
    "# ¿el gasto en TV es bajo, medio o alto?\n",
    "ads['TV_budget'] = pd.qcut(ads['TV'], [0, 0.15, 0.85, 1], labels=['LOW','MID','HIGH'])\n",
    "\n",
    "# Creamos una variable entera\n",
    "# 0 si hay más gasto en TV que en el resto\n",
    "# 1 en caso contrario\n",
    "ads['More_Radio_Or_News'] = ads.apply(lambda x: int(x['TV'] < x['Radio'] + x['Newspaper']), axis=\"columns\")\n",
    "\n",
    "# Definimos un modelo usando variables categóricas\n",
    "model_c = smf.ols(formula = 'Sales ~ TV_budget + C(More_Radio_Or_News)', data=ads)\n",
    "\n",
    "mc_fitted = model_c.fit()\n",
    "\n",
    "print(mc_fitted.summary())\n"
   ]
  },
  {
   "cell_type": "markdown",
   "metadata": {},
   "source": [
    "#### Transformaciones. Funciones en fórmulas.\n",
    "\n",
    "Cuando observemos que existen relaciones no lineales entre variables, podemos embeber funciones para transformar las variables predictoras involucradas en nuestras fórmulas. El intérprete de fórmulas se encargará internamente de aplicar dichas funciones. Los únicos requisitos son que se trate de funciones vectorizadas, preparadas para operar sobre objetos tipo arrays o Series (como las funciones de NumPy); y además que las funciones sean accesibles en el contexto o espacio de nombres actual."
   ]
  },
  {
   "cell_type": "code",
   "execution_count": null,
   "metadata": {},
   "outputs": [
    {
     "name": "stdout",
     "output_type": "stream",
     "text": [
      "                            OLS Regression Results                            \n",
      "==============================================================================\n",
      "Dep. Variable:                  Sales   R-squared:                       0.623\n",
      "Model:                            OLS   Adj. R-squared:                  0.621\n",
      "Method:                 Least Squares   F-statistic:                     327.1\n",
      "Date:                Tue, 16 Jul 2019   Prob (F-statistic):           8.39e-44\n",
      "Time:                        19:11:51   Log-Likelihood:                -516.16\n",
      "No. Observations:                 200   AIC:                             1036.\n",
      "Df Residuals:                     198   BIC:                             1043.\n",
      "Df Model:                           1                                         \n",
      "Covariance Type:            nonrobust                                         \n",
      "===============================================================================\n",
      "                  coef    std err          t      P>|t|      [0.025      0.975]\n",
      "-------------------------------------------------------------------------------\n",
      "Intercept       2.6724      0.667      4.004      0.000       1.356       3.989\n",
      "np.sqrt(TV)     0.9954      0.055     18.085      0.000       0.887       1.104\n",
      "==============================================================================\n",
      "Omnibus:                        0.759   Durbin-Watson:                   2.021\n",
      "Prob(Omnibus):                  0.684   Jarque-Bera (JB):                0.863\n",
      "Skew:                           0.076   Prob(JB):                        0.649\n",
      "Kurtosis:                       2.717   Cond. No.                         35.8\n",
      "==============================================================================\n",
      "\n",
      "Warnings:\n",
      "[1] Standard Errors assume that the covariance matrix of the errors is correctly specified.\n"
     ]
    }
   ],
   "source": [
    "# Definimos un modelo usando la raiz cuadrada del gasto en TV\n",
    "# como predictor\n",
    "model_fn = smf.ols(formula = 'Sales ~ np.sqrt(TV)', data=ads)\n",
    "\n",
    "mfn_fitted = model_fn.fit()\n",
    "\n",
    "print(mfn_fitted.summary())"
   ]
  }
 ],
 "metadata": {
  "language_info": {
   "name": "python"
  },
  "orig_nbformat": 4
 },
 "nbformat": 4,
 "nbformat_minor": 2
}
