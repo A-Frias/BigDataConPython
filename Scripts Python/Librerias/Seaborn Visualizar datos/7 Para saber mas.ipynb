{
 "cells": [
  {
   "cell_type": "code",
   "execution_count": null,
   "metadata": {},
   "outputs": [],
   "source": []
  },
  {
   "cell_type": "markdown",
   "metadata": {},
   "source": [
    "### Para saber más\n",
    "\n",
    "#### Sobre Seaborn\n",
    "\n",
    "- https://seaborn.pydata.org/index.html\n",
    "- https://seaborn.pydata.org/api.html\n",
    "\n",
    "#### Otras librerías\n",
    "- Matplotlib: https://matplotlib.org/users/pyplot_tutorial.html\n",
    "- ggplot: http://blog.yhat.com/posts/facebook-ggplot-tutorial.html"
   ]
  }
 ],
 "metadata": {
  "language_info": {
   "name": "python"
  },
  "orig_nbformat": 4
 },
 "nbformat": 4,
 "nbformat_minor": 2
}
