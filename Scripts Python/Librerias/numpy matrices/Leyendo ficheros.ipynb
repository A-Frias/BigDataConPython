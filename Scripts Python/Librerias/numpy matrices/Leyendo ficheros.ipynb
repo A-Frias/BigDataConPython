{
 "cells": [
  {
   "cell_type": "code",
   "execution_count": null,
   "metadata": {},
   "outputs": [],
   "source": []
  },
  {
   "cell_type": "markdown",
   "metadata": {},
   "source": [
    "### Leyendo de fichero\n",
    "\n",
    "En muchas ocasiones los datos con los que tenemos que trabajar estarán almacenados en un fichero. Es habitual utilizar ficheros de tipo _CSV_ como formato de intercambio de datos, ya que es un formato en texto plano sencillo de manipular y que está soportado por la mayoria de software de manejo de datos, tanto para importar como para exportar información.\n",
    "\n",
    "NumPy también permite leer datos de ficheros _CSV_ con la función `np.genfromtext()`. Solo tenemos que indicar el nombre del fichero y especificar otras opciones habituales, como cuál es el caracter delimitador, si tiene fila de encabezados, qué valores indican un elemento ausente, etc."
   ]
  },
  {
   "cell_type": "code",
   "execution_count": null,
   "metadata": {},
   "outputs": [
    {
     "name": "stdout",
     "output_type": "stream",
     "text": [
      "[[ 1.  2.  3.  4.]\n",
      " [ 5.  6.  7.  8.]\n",
      " [ 9. 10. 11. 12.]]\n"
     ]
    }
   ],
   "source": [
    "# Leemos una matriz de un fichero CSV de ejemplo\n",
    "# Modifica la ruta de directorios hasta el fichero\n",
    "# dependiendo de dónde hayas descargado el material de la unidad\n",
    "matriz = np.genfromtxt(fname = \"../U09_datasets/ejemplo_numpy_datos.csv\", delimiter = \";\", skip_header = 0)\n",
    "print(matriz)"
   ]
  }
 ],
 "metadata": {
  "language_info": {
   "name": "python"
  },
  "orig_nbformat": 4
 },
 "nbformat": 4,
 "nbformat_minor": 2
}
