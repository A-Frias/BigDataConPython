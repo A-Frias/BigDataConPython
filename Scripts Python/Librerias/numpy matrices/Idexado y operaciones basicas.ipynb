{
 "cells": [
  {
   "cell_type": "markdown",
   "metadata": {},
   "source": [
    "### Indexado e iteración\n",
    "\n",
    "Podemos seleccionar elementos individuales o rebanadas de un array de forma similar a como lo hacemos con las listas u otras secuencias en Python. La principal diferencia está en cómo seleccionar elementos en arrays de 2 o más dimensiones.\n",
    "\n",
    "Para empezar, podemos seleccionar elementos indicando su posición en el array. Al igual que con las listas, al primer elemento de cada dimensión se accede con el índice de posición cero. Si una dimensión tiene N elementos, el último estará en la posición (N - 1).\n",
    "\n",
    "> **¡Cuidado!** No confundas el número de dimensiones con el tamaño o número de elementos en cada dimensión del array."
   ]
  },
  {
   "cell_type": "code",
   "execution_count": 2,
   "metadata": {},
   "outputs": [
    {
     "name": "stdout",
     "output_type": "stream",
     "text": [
      "['c:\\\\Users\\\\alber\\\\OneDrive\\\\Documentos\\\\GitHub\\\\BigDataConPython\\\\Scripts Python\\\\Librerias\\\\numpy matrices', 'C:\\\\Users\\\\alber\\\\anaconda3\\\\python39.zip', 'C:\\\\Users\\\\alber\\\\anaconda3\\\\DLLs', 'C:\\\\Users\\\\alber\\\\anaconda3\\\\lib', 'C:\\\\Users\\\\alber\\\\anaconda3', '', 'C:\\\\Users\\\\alber\\\\anaconda3\\\\lib\\\\site-packages', 'C:\\\\Users\\\\alber\\\\anaconda3\\\\lib\\\\site-packages\\\\win32', 'C:\\\\Users\\\\alber\\\\anaconda3\\\\lib\\\\site-packages\\\\win32\\\\lib', 'C:\\\\Users\\\\alber\\\\anaconda3\\\\lib\\\\site-packages\\\\Pythonwin']\n"
     ]
    }
   ],
   "source": [
    "#instalar numpy\n",
    "#install numpy\n",
    "\n",
    "\n",
    "\n",
    "\n",
    "\n",
    "print(sys.path)\n",
    "import numpy as np"
   ]
  },
  {
   "cell_type": "code",
   "execution_count": 1,
   "metadata": {},
   "outputs": [
    {
     "ename": "NameError",
     "evalue": "name 'np' is not defined",
     "output_type": "error",
     "traceback": [
      "\u001b[1;31m---------------------------------------------------------------------------\u001b[0m",
      "\u001b[1;31mNameError\u001b[0m                                 Traceback (most recent call last)",
      "\u001b[1;32mc:\\Users\\alber\\OneDrive\\Documentos\\GitHub\\BigDataConPython\\Scripts Python\\Librerias\\numpy matrices\\Idexado y operaciones basicas.ipynb Celda 2\u001b[0m in \u001b[0;36m<cell line: 2>\u001b[1;34m()\u001b[0m\n\u001b[0;32m      <a href='vscode-notebook-cell:/c%3A/Users/alber/OneDrive/Documentos/GitHub/BigDataConPython/Scripts%20Python/Librerias/numpy%20matrices/Idexado%20y%20operaciones%20basicas.ipynb#W2sZmlsZQ%3D%3D?line=0'>1</a>\u001b[0m \u001b[39m# Un array de dimensión 1 (vector)\u001b[39;00m\n\u001b[1;32m----> <a href='vscode-notebook-cell:/c%3A/Users/alber/OneDrive/Documentos/GitHub/BigDataConPython/Scripts%20Python/Librerias/numpy%20matrices/Idexado%20y%20operaciones%20basicas.ipynb#W2sZmlsZQ%3D%3D?line=1'>2</a>\u001b[0m v1 \u001b[39m=\u001b[39m np\u001b[39m.\u001b[39marange(\u001b[39m0\u001b[39m, \u001b[39m50\u001b[39m, \u001b[39m5\u001b[39m)\n\u001b[0;32m      <a href='vscode-notebook-cell:/c%3A/Users/alber/OneDrive/Documentos/GitHub/BigDataConPython/Scripts%20Python/Librerias/numpy%20matrices/Idexado%20y%20operaciones%20basicas.ipynb#W2sZmlsZQ%3D%3D?line=2'>3</a>\u001b[0m \u001b[39mprint\u001b[39m(v1)\n",
      "\u001b[1;31mNameError\u001b[0m: name 'np' is not defined"
     ]
    }
   ],
   "source": [
    "# Un array de dimensión 1 (vector)\n",
    "v1 = np.arange(0, 50, 5)\n",
    "print(v1)\n",
    "# Podemos seleccionar un elemento individual\n",
    "v1[2]                         # 10\n",
    "# O seleccionar varios a la vez, \n",
    "# usando una lista de las posiciones que queremos\n",
    "v1[[1, 4, 8]]                 # array([ 5, 20, 40])\n",
    "# Ahora con una matriz 3x4\n",
    "# Fíjate que usamos la función range() normal\n",
    "# para pasar las listas que necesitamos\n",
    "# al inicializar el array\n",
    "m2 = np.array([range(0,4), range(4,8), range(8,12)])\n",
    "print(m2)                    # [[ 0  1  2  3]\n",
    "                             #  [ 4  5  6  7]\n",
    "                             #  [ 8  9 10 11]]\n",
    "                             \n",
    "# Seleccionamos un elemento\n",
    "# indicando la fila (2) y la columna (3)\n",
    "m2[2, 3]                     # 11\n",
    "# Seleccionamos los elementos en las filas 1 y 2\n",
    "# Fíjate que usamos ':' para indicar que queremos\n",
    "# todos los elementos en la dimensión 2 (columnas)\n",
    "m2[[1,2], :]                 # array([[ 4,  5,  6,  7],\n",
    "                             #        [ 8,  9, 10, 11]])\n",
    "# Seleccionamos los elementos\n",
    "# de la fila 1 en las columnas 2 y 3\n",
    "m2[1, [2,3]]                 # array([6, 7])\n",
    "Cuando tenemos un array de 2 o más dimensiones, debemos incluir entre los corchetes la selección de elementos para cada dimensión, separándolas con comas (p.ej. `m2[2, 3]`). Si en una dimensión queremos seleccionar _todos_ los elementos, utilizamos los dos puntos (`:`).\n",
    "\n",
    "En realidad, los dos puntos sirven para indicar una _\"rebanada\"_ de elementos en un eje, igual que hacemos con cualquier secuencia en Python. También podemos seleccionar _\"rebanadas\"_ en cualquiera de las dimensiones o ejes de un array, indicando la posición inicial y final que queremos.\n",
    "\n",
    "# Seleccionamos la fila 0\n",
    "m2[0, :]                    # array([0, 1, 2, 3])\n",
    "# Seleccionamos la columna 1\n",
    "m2[:, 1]                    # array([1, 5, 9])\n",
    "# Seleccionamos los elementos que están entre\n",
    "# la fila 1 y la 3 (no incluida)\n",
    "# y entre la columna 1 y la 3 (no incluida)\n",
    "m2[1:3, 1:3]                # array([[ 5,  6],\n",
    "                            #        [ 9, 10]])"
   ]
  },
  {
   "cell_type": "markdown",
   "metadata": {},
   "source": [
    "También podemos utilizar una máscara booleana para seleccionar elementos. Esto es útil para poder filtrar aquellos valores que cumplen una determinada condición. Veamos cómo.\n"
   ]
  },
  {
   "cell_type": "code",
   "execution_count": null,
   "metadata": {},
   "outputs": [
    {
     "name": "stdout",
     "output_type": "stream",
     "text": [
      "[[ True False  True False]\n",
      " [ True False  True False]\n",
      " [ True False  True False]]\n"
     ]
    }
   ],
   "source": [
    "# Para cada elemento del array, comprobamos si es par o no\n",
    "mascara_pares = (m2 % 2 == 0)\n",
    "print(mascara_pares)        # [[ True False  True False]\n",
    "                            #  [ True False  True False]\n",
    "                            #  [ True False  True False]]\n",
    "# Ahora usamos la mascara para seleccionar los elementos\n",
    "m2[mascara_pares]           # array([ 0,  2,  4,  6,  8, 10])\n",
    "# Naturalmente, podemos hacerlo todo en una sola expresión\n",
    "m2[m2 % 2 == 0]             # array([ 0,  2,  4,  6,  8, 10])"
   ]
  },
  {
   "cell_type": "markdown",
   "metadata": {},
   "source": [
    "Fíjate que cuando indexamos con una máscara booleana, obtenemos un array unidimensional con los elementos seleccionados, no se conserva la estructura del array original.\n",
    "\n"
   ]
  },
  {
   "cell_type": "markdown",
   "metadata": {},
   "source": [
    "### Manipulando _arrays_\n",
    "\n",
    "Es posible generar nuevos arrays modificando o combinando arrays existentes. Podemos crear un array multidimensional a partir de un vector mediante la función `reshape()`, o podemos _aplanar_ el array multidimensional para obtener un vector usando la función `flatten()`."
   ]
  },
  {
   "cell_type": "code",
   "execution_count": null,
   "metadata": {},
   "outputs": [
    {
     "name": "stdout",
     "output_type": "stream",
     "text": [
      "[ 0  1  2  3  4  5  6  7  8  9 10 11 12 13 14]\n"
     ]
    }
   ],
   "source": [
    "# Partimos de un vector (array 1d)\n",
    "v = np.arange(15)\n",
    "print(v)                    # [ 0  1  2 ..., 12 13 14]\n",
    "# Creamos una matriz (3x5) usando reshape()\n",
    "m = v.reshape(3, 5)\n",
    "print(m)                    # [[ 0  1  2  3  4]\n",
    "                            #  [ 5  6  7  8  9]\n",
    "                            #  [10 11 12 13 14]]\n",
    "# Podemos obtener un nuevo vector\n",
    "# \"aplanando\" todos elementos de la matriz,\n",
    "# recorriendo fila tras fila\n",
    "v2 = m.flatten()\n",
    "print(v2)                   # [ 0  1  2 ..., 12 13 14]\n",
    "# También podemos \"aplanar\" la matriz\n",
    "# recorriendo columna tras columna\n",
    "# usando el modificador \"F\"\n",
    "v2c = m.flatten(\"F\")\n",
    "print(v2c)                  # [ 0  5 10 ...,  4  9 14]"
   ]
  },
  {
   "cell_type": "markdown",
   "metadata": {},
   "source": [
    "Tanto `reshape()` como `flatten()` devuelven un array nuevo copiando los datos, no modifican el array original. Y si te preguntas el porqué de usar `\"F\"` como modificador de `flatten()`, viene del lenguaje de programación _Fortran_, que almacena y opera las matrices columna a columna.\n",
    "\n",
    "Una operación típica con matrices es la trasposición, reflejando los elementos a lo largo de su diagonal."
   ]
  },
  {
   "cell_type": "code",
   "execution_count": 10,
   "metadata": {},
   "outputs": [
    {
     "ename": "NameError",
     "evalue": "name 'np' is not defined",
     "output_type": "error",
     "traceback": [
      "\u001b[1;31m---------------------------------------------------------------------------\u001b[0m",
      "\u001b[1;31mNameError\u001b[0m                                 Traceback (most recent call last)",
      "\u001b[1;32mc:\\Users\\alber\\OneDrive\\Documentos\\GitHub\\BigDataConPython\\Scripts Python\\Librerias\\numpy matrices\\Idexado y operaciones basicas.ipynb Celda 10\u001b[0m in \u001b[0;36m<cell line: 1>\u001b[1;34m()\u001b[0m\n\u001b[1;32m----> <a href='vscode-notebook-cell:/c%3A/Users/alber/OneDrive/Documentos/GitHub/BigDataConPython/Scripts%20Python/Librerias/numpy%20matrices/Idexado%20y%20operaciones%20basicas.ipynb#X33sZmlsZQ%3D%3D?line=0'>1</a>\u001b[0m m \u001b[39m=\u001b[39m np\u001b[39m.\u001b[39marange(\u001b[39m15\u001b[39m)\u001b[39m.\u001b[39mreshape(\u001b[39m3\u001b[39m, \u001b[39m5\u001b[39m)\n\u001b[0;32m      <a href='vscode-notebook-cell:/c%3A/Users/alber/OneDrive/Documentos/GitHub/BigDataConPython/Scripts%20Python/Librerias/numpy%20matrices/Idexado%20y%20operaciones%20basicas.ipynb#X33sZmlsZQ%3D%3D?line=1'>2</a>\u001b[0m \u001b[39mprint\u001b[39m(m)\n",
      "\u001b[1;31mNameError\u001b[0m: name 'np' is not defined"
     ]
    }
   ],
   "source": [
    "m = np.arange(15).reshape(3, 5)\n",
    "print(m)                    # [[ 0  1  2  3  4]\n",
    "                            #  [ 5  6  7  8  9]\n",
    "                            #  [10 11 12 13 14]]\n",
    "# Trasponemos la matriz usando el método T\n",
    "# Fijate que no necesita paréntesis\n",
    "m.T                        # array([[ 0,  5, 10],\n",
    "                           #        [ 1,  6, 11],\n",
    "                           #        [ 2,  7, 12],\n",
    "                           #        [ 3,  8, 13],\n",
    "                           #        [ 4,  9, 14]])"
   ]
  },
  {
   "cell_type": "markdown",
   "metadata": {},
   "source": [
    "También podemos concatenar o _apilar_ arrays en diferentes ejes."
   ]
  },
  {
   "cell_type": "code",
   "execution_count": null,
   "metadata": {},
   "outputs": [
    {
     "data": {
      "text/plain": [
       "array([[ 0,  1,  2],\n",
       "       [ 3,  4,  5],\n",
       "       [10, 11, 12],\n",
       "       [13, 14, 15]])"
      ]
     },
     "metadata": {},
     "output_type": "display_data"
    }
   ],
   "source": [
    "m1 = np.arange(0,6).reshape(2, 3)\n",
    "m2 = np.arange(10,16).reshape(2, 3)\n",
    "\n",
    "# Apilar verticalmente dos arrays\n",
    "np.vstack((m1, m2))        # array([[ 0,  1,  2],\n",
    "                           #        [ 3,  4,  5],\n",
    "                           #        [10, 11, 12],\n",
    "                           #        [13, 14, 15]])\n",
    "# Apilar horizontalmente dos arrays\n",
    "np.hstack((m1, m2))        # array([[ 0,  1,  2, 10, 11, 12],\n",
    "                           #        [ 3,  4,  5, 13, 14, 15]])\n",
    "# Podemos añadir una fila (array 1d) al final de un array 2d\n",
    "fila = np.array([30, 40, 60])\n",
    "np.vstack((m1, fila))      # array([[ 0,  1,  2],\n",
    "                           #        [ 3,  4,  5],\n",
    "                           #        [30, 40, 60]])\n",
    "# Si queremos añadir una columna (array 1d) a un array 2d,\n",
    "# usamos la funcion np.column_stack()\n",
    "columna = np.array([100, 200])\n",
    "np.column_stack((m1, columna))   # array([[  0,   1,   2, 100],\n",
    "                                 #        [  3,   4,   5, 200]])"
   ]
  },
  {
   "cell_type": "code",
   "execution_count": null,
   "metadata": {},
   "outputs": [
    {
     "name": "stdout",
     "output_type": "stream",
     "text": [
      "[[ 0  1  2  3]\n",
      " [ 4  5  6  7]\n",
      " [ 8  9 10 11]]\n"
     ]
    }
   ],
   "source": [
    "m_grande = np.arange(12).reshape(3, 4)\n",
    "print(m_grande)                # [[ 0  1  2  3]\n",
    "                               #  [ 4  5  6  7]\n",
    "                               #  [ 8  9 10 11]]"
   ]
  },
  {
   "cell_type": "code",
   "execution_count": null,
   "metadata": {},
   "outputs": [
    {
     "name": "stdout",
     "output_type": "stream",
     "text": [
      "[[0 1]\n",
      " [4 5]\n",
      " [8 9]]\n"
     ]
    }
   ],
   "source": [
    "# Dividimos el array horizontalmente en 2 trozos\n",
    "divh = np.hsplit(m_grande, 2)\n",
    "# El resultado es una lista, veamos el primer trozo\n",
    "print(divh[0])                 # [[ 0,  1],\n",
    "                               #  [ 4,  5],\n",
    "                               #  [ 8,  9]])"
   ]
  },
  {
   "cell_type": "code",
   "execution_count": null,
   "metadata": {},
   "outputs": [
    {
     "name": "stdout",
     "output_type": "stream",
     "text": [
      "[[ 2  3]\n",
      " [ 6  7]\n",
      " [10 11]]\n"
     ]
    }
   ],
   "source": [
    "# y el segundo\n",
    "print(divh[1])                 # [[ 2  3]\n",
    "                               #  [ 6  7]\n",
    "                               #  [10 11]]"
   ]
  },
  {
   "cell_type": "code",
   "execution_count": null,
   "metadata": {},
   "outputs": [
    {
     "name": "stdout",
     "output_type": "stream",
     "text": [
      "[[0 1 2 3]]\n"
     ]
    }
   ],
   "source": [
    "# Ahora dividimos verticalmente.\n",
    "# No podemos dividir en 2 porque hay 3 filas.\n",
    "# Pero podemos indicar los puntos de division con una tupla.\n",
    "divv = np.vsplit(m_grande, (1,))\n",
    "print(divv[0])                 # [[0 1 2 3]]"
   ]
  },
  {
   "cell_type": "code",
   "execution_count": null,
   "metadata": {},
   "outputs": [
    {
     "name": "stdout",
     "output_type": "stream",
     "text": [
      "[[ 4  5  6  7]\n",
      " [ 8  9 10 11]]\n"
     ]
    }
   ],
   "source": [
    "print(divv[1])                 # [[ 4  5  6  7]\n",
    "                               #  [ 8  9 10 11]]"
   ]
  },
  {
   "cell_type": "markdown",
   "metadata": {},
   "source": [
    "Como ves, ambas funciones pueden usarse de dos formas. En la primera, indicamos el _número de particiones_ que queremos obtener. Es este caso, es necesario que el número de filas (con `np.vsplit()`) o de columnas (con `np.hsplit()`) sea divisible por el número de porciones que queremos. Los trozos resultantes deben tener el mismo tamaño, o de lo contrario se producirá un error.\n",
    "\n",
    "En la segunda forma, pasamos como argumento una tupla con los _puntos de corte_ por donde queremos dividir, ya sea en filas o el columnas. En el ejemplo, queremos cortar por un único punto (fila en este caso), por lo que usamos una tupla con un único elemento. Si recuerdas lo que aprendimos sobre las tuplas, para definir una tupla de un solo elemento debemos añadir una coma justo detrás del valor (así Python lo puede distinguir de otras expresiones que también usan paréntesis).\n"
   ]
  },
  {
   "cell_type": "markdown",
   "metadata": {},
   "source": [
    "### Operando con _arrays_\n",
    "\n",
    "#### Asignaciones\n",
    "\n",
    "Ahora que hemos visto cómo crear y manipular arrays, pasemos a operar con su contenido. Comencemos por modificar valores del array, usando el operador de asignación habitual."
   ]
  },
  {
   "cell_type": "code",
   "execution_count": null,
   "metadata": {},
   "outputs": [
    {
     "name": "stdout",
     "output_type": "stream",
     "text": [
      "[[ 0  1  2  3]\n",
      " [ 4  5  6  7]\n",
      " [ 8  9 10 11]]\n"
     ]
    }
   ],
   "source": [
    "m = np.arange(12).reshape(3, 4)\n",
    "print(m)                # [[ 0  1  2  3]\n",
    "                        #  [ 4  5  6  7]\n",
    "                        #  [ 8  9 10 11]]"
   ]
  },
  {
   "cell_type": "code",
   "execution_count": null,
   "metadata": {},
   "outputs": [
    {
     "name": "stdout",
     "output_type": "stream",
     "text": [
      "[[100   1   2   3]\n",
      " [  4   5   6   7]\n",
      " [  8   9  10  11]]\n"
     ]
    }
   ],
   "source": [
    "# Cambiar un elemento particular\n",
    "m[0, 0] = 100\n",
    "print(m)                # [[ 100  1  2  3]\n",
    "                        #  [   4  5  6  7]\n",
    "                        #  [   8  9 10 11]]"
   ]
  },
  {
   "cell_type": "code",
   "execution_count": null,
   "metadata": {},
   "outputs": [
    {
     "name": "stdout",
     "output_type": "stream",
     "text": [
      "[[100   1   2   3]\n",
      " [  4  50  60  70]\n",
      " [  8   9  10  11]]\n"
     ]
    }
   ],
   "source": [
    "# Podemos cambiar una \"rebanada\" con una lista de valores\n",
    "# Ej. de la fila 1, desde la columna 1 hasta el final\n",
    "#     (3 elementos)\n",
    "m[1, 1:] = [50, 60, 70]\n",
    "print(m)                # [[ 100   1   2   3]\n",
    "                        #  [   4  50  60  70]\n",
    "                        #  [   8   9  10  11]]"
   ]
  },
  {
   "cell_type": "code",
   "execution_count": null,
   "metadata": {},
   "outputs": [
    {
     "name": "stdout",
     "output_type": "stream",
     "text": [
      "[[100   1   2   3]\n",
      " [  4  50   0   0]\n",
      " [  8   9   0   0]]\n"
     ]
    }
   ],
   "source": [
    "# O cambiar todos los elementos seleccionados\n",
    "# con un único valor\n",
    "# Ej. desde la fila 1 hasta el final \n",
    "#     y la columna 2 hasta el final\n",
    "m[1:, 2:] = 0\n",
    "print(m)                # [[100   1   2   3]\n",
    "                        #  [  4  50   0   0]\n",
    "                        #  [  8   9   0   0]]"
   ]
  },
  {
   "cell_type": "markdown",
   "metadata": {},
   "source": [
    "#### Operaciones matemáticas\n",
    "\n",
    "Como te hemos adelantado en el ejemplo inicial, una de las caracterísiticas claves que hace tan útil y potente a la librería NumPy es su habilidad para realizar operaciones directamente sobre arrays de datos de forma sencilla y eficiente. Los operadores matemáticos habituales pueden utilizarse con arrays directamente. Podemos operar con dos arrays, o bien con un array y un escalar. En ambos casos, las operaciones se realizan elemento a elemento.\n"
   ]
  },
  {
   "cell_type": "code",
   "execution_count": null,
   "metadata": {
    "collapsed": true
   },
   "outputs": [],
   "source": [
    "v1 = np.array([2,5])\n",
    "v2 = np.array([3,3])\n",
    "\n",
    "m1 = np.array([1,2,3,4]).reshape(2,2)\n",
    "m2 = np.array([3,5,7,11]).reshape(2,2)"
   ]
  },
  {
   "cell_type": "code",
   "execution_count": null,
   "metadata": {},
   "outputs": [
    {
     "name": "stdout",
     "output_type": "stream",
     "text": [
      "[5 8]\n"
     ]
    }
   ],
   "source": [
    "# Podemos sumar un escalar a todos los elementos de un array\n",
    "print( v1 + 3 )                        # [5 8]"
   ]
  },
  {
   "cell_type": "code",
   "execution_count": null,
   "metadata": {},
   "outputs": [
    {
     "name": "stdout",
     "output_type": "stream",
     "text": [
      "[[6 7]\n",
      " [8 9]]\n"
     ]
    }
   ],
   "source": [
    "print( m1 + 5 )                        # [[6 7]\n",
    "                                       #  [8 9]]"
   ]
  },
  {
   "cell_type": "code",
   "execution_count": null,
   "metadata": {},
   "outputs": [
    {
     "name": "stdout",
     "output_type": "stream",
     "text": [
      "[[ 4  7]\n",
      " [10 15]]\n"
     ]
    }
   ],
   "source": [
    "# O sumar dos arrays elemento a elemento\n",
    "print( m1 + m2 )                       # [[ 4  7]\n",
    "\n",
    "                                       #  [10 15]]"
   ]
  },
  {
   "cell_type": "code",
   "execution_count": null,
   "metadata": {},
   "outputs": [
    {
     "name": "stdout",
     "output_type": "stream",
     "text": [
      "[[2 3]\n",
      " [4 7]]\n"
     ]
    }
   ],
   "source": [
    "# Resta de arrays\n",
    "print( m2 - m1 )                       # [[2 3]\n",
    "                                       #  [4 7]]"
   ]
  },
  {
   "cell_type": "code",
   "execution_count": null,
   "metadata": {},
   "outputs": [
    {
     "name": "stdout",
     "output_type": "stream",
     "text": [
      "[[10 20]\n",
      " [30 40]]\n"
     ]
    }
   ],
   "source": [
    "# Multiplicación con escalar\n",
    "# (no confundir con producto escalar de vectores/matrices)\n",
    "m10 = 10 * m1\n",
    "print(m10)                             # [[10 20]\n",
    "                                       #  [30 40]]"
   ]
  },
  {
   "cell_type": "code",
   "execution_count": null,
   "metadata": {},
   "outputs": [
    {
     "name": "stdout",
     "output_type": "stream",
     "text": [
      "[ 6 15]\n"
     ]
    }
   ],
   "source": [
    "# Multiplicación de arrays\n",
    "print(v1 * v2)                         # [ 6 15]"
   ]
  },
  {
   "cell_type": "code",
   "execution_count": null,
   "metadata": {},
   "outputs": [
    {
     "name": "stdout",
     "output_type": "stream",
     "text": [
      "[[ 3 10]\n",
      " [21 44]]\n"
     ]
    }
   ],
   "source": [
    "print(m1 * m2)                         # [[ 3 10]\n",
    "                                       #  [21 44]]"
   ]
  },
  {
   "cell_type": "code",
   "execution_count": null,
   "metadata": {},
   "outputs": [
    {
     "name": "stdout",
     "output_type": "stream",
     "text": [
      "[[10. 10.]\n",
      " [10. 10.]]\n"
     ]
    }
   ],
   "source": [
    "# División\n",
    "print( m10 / m1 )                      # [[ 10.  10.]\n",
    "                                       #  [ 10.  10.]]"
   ]
  },
  {
   "cell_type": "markdown",
   "metadata": {},
   "source": [
    "Fíjate que al aplicar estas operaciones elemento a elemento con dos arrays, ambos deben tener dimensiones de tamaño compatible. Es decir, vectores o matrices que tengan el mismo número de elementos en cada eje o dimensión.\n",
    "\n",
    "No obstante, es posible combinar en estas operaciones dos arrays que tengan distinto número de dimensiones (por ejemplo, una matriz y un vector), siempre que la dimensión del menor tenga un tamaño compatible con el array de más dimensiones. Con un ejemplo seguro que queda más claro.\n"
   ]
  },
  {
   "cell_type": "code",
   "execution_count": null,
   "metadata": {},
   "outputs": [
    {
     "name": "stdout",
     "output_type": "stream",
     "text": [
      "[[1 2]\n",
      " [3 4]]\n"
     ]
    }
   ],
   "source": [
    "# array 1d: vector de dos elementos\n",
    "v1 = np.array([2,5])\n",
    "\n",
    "# array 1d: vector de tres elementos\n",
    "v3 = np.array([3,3,3])\n",
    "\n",
    "m1 = np.array([1,2,3,4]).reshape(2,2)     # array 2d: matriz 2x2\n",
    "print(m1)                                 # [[1 2]\n",
    "                                          #  [3 4]]"
   ]
  },
  {
   "cell_type": "code",
   "execution_count": null,
   "metadata": {},
   "outputs": [
    {
     "name": "stdout",
     "output_type": "stream",
     "text": [
      "[[ 2 10]\n",
      " [ 6 20]]\n"
     ]
    }
   ],
   "source": [
    "# Multiplicar matriz (2d) por vector (1d)\n",
    "# elemento a elemento\n",
    "# Los tamaños de las dimensiones (matriz 2x2 y vector de tamaño 2)\n",
    "# son compatibles\n",
    "print( m1 * v1 )                          # [[ 2 10]\n",
    "                                          #  [ 6 20]]"
   ]
  },
  {
   "cell_type": "code",
   "execution_count": null,
   "metadata": {},
   "outputs": [
    {
     "name": "stdout",
     "output_type": "stream",
     "text": [
      "[[2 5]\n",
      " [2 5]]\n"
     ]
    }
   ],
   "source": [
    "# Es como si tuviéramos el vector v1 \"apilado\" dos veces...\n",
    "mv1 = np.vstack((v1, v1))\n",
    "print(mv1)                                # [[2 5]\n",
    "                                          #  [2 5]]"
   ]
  },
  {
   "cell_type": "code",
   "execution_count": null,
   "metadata": {},
   "outputs": [
    {
     "name": "stdout",
     "output_type": "stream",
     "text": [
      "[[ 2 10]\n",
      " [ 6 20]]\n"
     ]
    }
   ],
   "source": [
    "# ... y multiplicásemos las dos matrices\n",
    "print( m1 * mv1 )                         # [[ 2 10]\n",
    "                                          #  [ 6 20]]"
   ]
  },
  {
   "cell_type": "code",
   "execution_count": null,
   "metadata": {},
   "outputs": [
    {
     "ename": "ValueError",
     "evalue": "operands could not be broadcast together with shapes (2,2) (3,) ",
     "output_type": "error",
     "traceback": [
      "\u001b[1;31m---------------------------------------------------------------------------\u001b[0m\n",
      "\u001b[1;31mValueError\u001b[0m                                Traceback (most recent call last)\n",
      "\u001b[1;32m<ipython-input-77-0e65217b6937>\u001b[0m in \u001b[0;36m<module>\u001b[1;34m()\u001b[0m\n",
      "\u001b[0;32m      1\u001b[0m \u001b[1;31m# Sin embargo, si mezclamos arrays con distinto número de dimensiones\u001b[0m\u001b[1;33m\u001b[0m\u001b[1;33m\u001b[0m\u001b[0m\n",
      "\u001b[0;32m      2\u001b[0m \u001b[1;31m# pero con tamaños no compatibles, se producirá un error\u001b[0m\u001b[1;33m\u001b[0m\u001b[1;33m\u001b[0m\u001b[0m\n",
      "\u001b[1;32m----> 3\u001b[1;33m \u001b[0mprint\u001b[0m\u001b[1;33m(\u001b[0m \u001b[0mm1\u001b[0m \u001b[1;33m*\u001b[0m \u001b[0mv3\u001b[0m \u001b[1;33m)\u001b[0m\u001b[1;33m\u001b[0m\u001b[0m\n",
      "\u001b[0m\u001b[0;32m      4\u001b[0m \u001b[1;33m\u001b[0m\u001b[0m\n",
      "\u001b[0;32m      5\u001b[0m \u001b[1;31m# ValueError: operands could not be broadcast together with shapes (2,2) (3,)\u001b[0m\u001b[1;33m\u001b[0m\u001b[1;33m\u001b[0m\u001b[0m\n",
      "\n",
      "\u001b[1;31mValueError\u001b[0m: operands could not be broadcast together with shapes (2,2) (3,) "
     ]
    }
   ],
   "source": [
    "# Sin embargo, si mezclamos arrays con distinto número de dimensiones\n",
    "# pero con tamaños no compatibles, se producirá un error\n",
    "print( m1 * v3 )\n",
    "\n",
    "# ValueError: operands could not be broadcast together with shapes (2,2) (3,) "
   ]
  },
  {
   "cell_type": "markdown",
   "metadata": {},
   "source": [
    "Cuando mezclamos dos arrays con diferente número de dimensiones en operaciones elemento a elemento, NumPy automáticamente toma el array de dimensión menor y replica la operación con cada dimensión del array mayor, como si fuera un bucle. \n",
    "\n",
    "Es equivalente a tomar el array menor y _extrusionar_ o _apilar_ sus valores a lo largo del eje que falte, hasta obtener un array compatible con el de dimensión mayor. Este mecanismo es conocido como _propagación_ o _broadcasting_.\n",
    "\n",
    "Para que funcione, el tamaño del array de dimensión menor sigue teniendo que ser compatible con el mayor. En el último caso del ejemplo anterior, el vector `v3` tiene tamaño 3. Al aplicar el _broadcasting_, el último elemento de `v3` no tiene un par correspondiente en la matriz `m1`, así que no es posible aplicar la operación elemento a elemento.\n",
    "\n",
    "Además de todos los operadores que has visto, con NumPy también tenemos disponibles múltiples funciones matemáticas universales para aplicarlas sobre arrays. Veamos algunas."
   ]
  },
  {
   "cell_type": "code",
   "execution_count": null,
   "metadata": {},
   "outputs": [
    {
     "name": "stdout",
     "output_type": "stream",
     "text": [
      "[[1.         1.41421356]\n",
      " [1.73205081 2.        ]]\n"
     ]
    }
   ],
   "source": [
    "# Raíz cuadrada\n",
    "print( np.sqrt(m1) )"
   ]
  },
  {
   "cell_type": "code",
   "execution_count": null,
   "metadata": {},
   "outputs": [
    {
     "name": "stdout",
     "output_type": "stream",
     "text": [
      "[[ 0.84147098  0.90929743]\n",
      " [ 0.14112001 -0.7568025 ]]\n"
     ]
    }
   ],
   "source": [
    "# Funciones trigonométricas: \n",
    "# Seno, coseno, tangente...\n",
    "print( np.sin(m1) )"
   ]
  },
  {
   "cell_type": "code",
   "execution_count": null,
   "metadata": {},
   "outputs": [
    {
     "name": "stdout",
     "output_type": "stream",
     "text": [
      "[[ 0.54030231 -0.41614684]\n",
      " [-0.9899925  -0.65364362]]\n"
     ]
    }
   ],
   "source": [
    "print( np.cos(m1) )"
   ]
  },
  {
   "cell_type": "code",
   "execution_count": null,
   "metadata": {},
   "outputs": [
    {
     "name": "stdout",
     "output_type": "stream",
     "text": [
      "[[ 1.55740772 -2.18503986]\n",
      " [-0.14254654  1.15782128]]\n"
     ]
    }
   ],
   "source": [
    "print( np.tan(m1) )"
   ]
  },
  {
   "cell_type": "code",
   "execution_count": null,
   "metadata": {},
   "outputs": [
    {
     "name": "stdout",
     "output_type": "stream",
     "text": [
      "[[0.         0.69314718]\n",
      " [1.09861229 1.38629436]]\n"
     ]
    }
   ],
   "source": [
    "# Logaritmo\n",
    "print( np.log(m1) )"
   ]
  },
  {
   "cell_type": "code",
   "execution_count": null,
   "metadata": {},
   "outputs": [
    {
     "name": "stdout",
     "output_type": "stream",
     "text": [
      "[[ 2.71828183  7.3890561 ]\n",
      " [20.08553692 54.59815003]]\n"
     ]
    }
   ],
   "source": [
    "# Exponencial (e^x)\n",
    "print( np.exp(m1) )"
   ]
  },
  {
   "cell_type": "markdown",
   "metadata": {},
   "source": [
    "Consulta la lista completa de funciones disponibles en https://docs.scipy.org/doc/numpy/reference/ufuncs.html#available-ufuncs"
   ]
  }
 ],
 "metadata": {
  "kernelspec": {
   "display_name": "Python ('my-env')",
   "language": "python",
   "name": "python3"
  },
  "language_info": {
   "codemirror_mode": {
    "name": "ipython",
    "version": 3
   },
   "file_extension": ".py",
   "mimetype": "text/x-python",
   "name": "python",
   "nbconvert_exporter": "python",
   "pygments_lexer": "ipython3",
   "version": "3.9.12"
  },
  "orig_nbformat": 4,
  "vscode": {
   "interpreter": {
    "hash": "25a19fbe0a9132dfb9279d48d161753c6352f8f9478c2e74383d340069b907c3"
   }
  }
 },
 "nbformat": 4,
 "nbformat_minor": 2
}
