{
 "cells": [
  {
   "cell_type": "code",
   "execution_count": null,
   "metadata": {},
   "outputs": [],
   "source": [
    "import numpy as np"
   ]
  },
  {
   "cell_type": "markdown",
   "metadata": {},
   "source": [
    "### Copias y vistas de _arrays_\n",
    "\n",
    "Cuando trabajamos con arrays, algunas operaciones crean una nueva copia de los datos a partir de las variables originales. Pero en otros casos, por eficiencia, la librería NumPy usa y devuelve una referencia o una vista sobre la variable original.\n",
    "\n",
    "Conocer en qué casos hace una cosa u otra es muy importante, porque si manipulamos un array resultado podemos estar cambiando también el array original inadvertidamente. Los tres casos a tener en mente son los siguientes.\n",
    "\n",
    "#### Referencia (o trabajo sin copia de datos)\n",
    "\n",
    "Cuando asignamos una variable de tipo array a otra variable, simplemente se está definiendo una nueva referencia al mismo array en memoria. No se crea una nueva copia de los datos.\n",
    "\n",
    "Esto significa que cualquier cambio que hagamos en una variable afectará al resto que referencian al mismo array."
   ]
  },
  {
   "cell_type": "code",
   "execution_count": null,
   "metadata": {},
   "outputs": [
    {
     "name": "stdout",
     "output_type": "stream",
     "text": [
      "[0 1 2 3 4 5 6 7 8 9]\n"
     ]
    }
   ],
   "source": [
    "# Creamos un nuevo array\n",
    "v1 = np.arange(10)\n",
    "print(v1)"
   ]
  },
  {
   "cell_type": "code",
   "execution_count": null,
   "metadata": {
    "collapsed": true
   },
   "outputs": [],
   "source": [
    "# Asignamos el array a otra variable\n",
    "v2 = v1"
   ]
  },
  {
   "cell_type": "code",
   "execution_count": null,
   "metadata": {
    "collapsed": true
   },
   "outputs": [],
   "source": [
    "# Modificamos un valor en el segundo array\n",
    "v2[3] = 999"
   ]
  },
  {
   "cell_type": "code",
   "execution_count": null,
   "metadata": {},
   "outputs": [
    {
     "name": "stdout",
     "output_type": "stream",
     "text": [
      "[  0   1   2 999   4   5   6   7   8   9]\n"
     ]
    }
   ],
   "source": [
    "# Vemos que el cambio afecta tambien a v1\n",
    "print(v1)"
   ]
  },
  {
   "cell_type": "code",
   "execution_count": null,
   "metadata": {},
   "outputs": [
    {
     "data": {
      "text/plain": [
       "True"
      ]
     },
     "metadata": {},
     "output_type": "display_data"
    }
   ],
   "source": [
    "# v1 y v2 son referencias que apuntan al mismo contenido\n",
    "v2 is v1"
   ]
  },
  {
   "cell_type": "markdown",
   "metadata": {},
   "source": [
    "Si haces memoria, este caso no es distinto de lo que ocurre con otras variables y estructuras de datos, como ya vimos con las listas."
   ]
  },
  {
   "cell_type": "markdown",
   "metadata": {},
   "source": [
    "#### Vista (o copia superficial)\n",
    "\n",
    "Cuando definimos un nuevo array manipulando las dimensiones de otro (p.ej. con `reshape`) o cuando seleccionamos una _rebanada_ de elementos, estamos creando una copia superficial o _vista_ alternativa del array. La trasposición de un array también genera una _vista_.\n",
    "\n",
    "Con una copia superficial, podemos modificar la _forma_ o dimensiones de la _vista_ sin afectar al array original. No cambiaremos su forma.\n",
    "\n",
    "Pero si modificamos cualquiera de los valores en la copia superficial, sí que estaremos cambiando los valores en el array original."
   ]
  },
  {
   "cell_type": "code",
   "execution_count": null,
   "metadata": {},
   "outputs": [
    {
     "name": "stdout",
     "output_type": "stream",
     "text": [
      "[ 0  1  2  3  4  5  6  7  8  9 10 11]\n"
     ]
    }
   ],
   "source": [
    "# Creamos un nuevo array\n",
    "v1 = np.arange(12)\n",
    "print(v1)"
   ]
  },
  {
   "cell_type": "code",
   "execution_count": null,
   "metadata": {},
   "outputs": [
    {
     "name": "stdout",
     "output_type": "stream",
     "text": [
      "[[ 0  1  2  3]\n",
      " [ 4  5  6  7]\n",
      " [ 8  9 10 11]]\n"
     ]
    }
   ],
   "source": [
    "# Asignamos una versión manipulada del array (con reshape())\n",
    "# a otra variable\n",
    "m1 = v1.reshape(3,4)\n",
    "print(m1)"
   ]
  },
  {
   "cell_type": "code",
   "execution_count": null,
   "metadata": {},
   "outputs": [
    {
     "data": {
      "text/plain": [
       "True"
      ]
     },
     "metadata": {},
     "output_type": "display_data"
    }
   ],
   "source": [
    "# Podemos ver el array de partida para la vista con la propiedad 'base'\n",
    "# Comprobamos que el array base de m1 y v1 apuntan al mismo contenido\n",
    "m1.base is v1"
   ]
  },
  {
   "cell_type": "code",
   "execution_count": null,
   "metadata": {},
   "outputs": [
    {
     "name": "stdout",
     "output_type": "stream",
     "text": [
      "[[ 0  1  2]\n",
      " [ 3  4  5]\n",
      " [ 6  7  8]\n",
      " [ 9 10 11]]\n"
     ]
    }
   ],
   "source": [
    "# Si modificamos la forma del segundo array...\n",
    "m1.shape = (4,3)\n",
    "print(m1)"
   ]
  },
  {
   "cell_type": "code",
   "execution_count": null,
   "metadata": {},
   "outputs": [
    {
     "name": "stdout",
     "output_type": "stream",
     "text": [
      "[ 0  1  2  3  4  5  6  7  8  9 10 11]\n"
     ]
    }
   ],
   "source": [
    "# ... no cambiamos la forma del original\n",
    "v1.shape\n",
    "print(v1)"
   ]
  },
  {
   "cell_type": "code",
   "execution_count": null,
   "metadata": {},
   "outputs": [
    {
     "name": "stdout",
     "output_type": "stream",
     "text": [
      "[[  0   1 999]\n",
      " [  3   4   5]\n",
      " [  6   7   8]\n",
      " [  9  10  11]]\n"
     ]
    }
   ],
   "source": [
    "# Pero si modificamos el valor de un elemento...\n",
    "m1[0, 2] = 999\n",
    "print(m1)"
   ]
  },
  {
   "cell_type": "code",
   "execution_count": null,
   "metadata": {},
   "outputs": [
    {
     "name": "stdout",
     "output_type": "stream",
     "text": [
      "[  0   1 999   3   4   5   6   7   8   9  10  11]\n"
     ]
    }
   ],
   "source": [
    "# ... modificamos los datos en el original\n",
    "print(v1)"
   ]
  },
  {
   "cell_type": "markdown",
   "metadata": {},
   "source": [
    "#### Copia profunda\n",
    "\n",
    "Si queremos una copia total e independiente de un array, podemos utilizar el método `copy()`. De esta forma generamos una copia exacta de forma y contenido, pero sin compartir estructura ni valores en memoria con el array original.\n",
    "\n",
    "Cuando seleccionamos elementos de un array indicando directamente una lista de índices, o usando una máscara booleana, obtenemos un array completamente nuevo (en lugar de una _vista_ como al seleccionar _rebanadas_)."
   ]
  },
  {
   "cell_type": "code",
   "execution_count": null,
   "metadata": {},
   "outputs": [
    {
     "name": "stdout",
     "output_type": "stream",
     "text": [
      "[0 1 2 3 4 5 6 7 8 9]\n"
     ]
    }
   ],
   "source": [
    "v1 = np.arange(10)\n",
    "print(v1)"
   ]
  },
  {
   "cell_type": "code",
   "execution_count": null,
   "metadata": {},
   "outputs": [
    {
     "name": "stdout",
     "output_type": "stream",
     "text": [
      "[0 1 2 3 4 5 6 7 8 9]\n"
     ]
    }
   ],
   "source": [
    "# Creamos una copia nueva\n",
    "v2 = v1.copy()\n",
    "\n",
    "# Los arrays tienen elementos con valores iguales\n",
    "print(v2)"
   ]
  },
  {
   "cell_type": "code",
   "execution_count": null,
   "metadata": {},
   "outputs": [
    {
     "data": {
      "text/plain": [
       "False"
      ]
     },
     "metadata": {},
     "output_type": "display_data"
    }
   ],
   "source": [
    "# Pero el array base de v2 no es v1\n",
    "# v2 referencia a una estructura distinta independiente\n",
    "v2.base is v1"
   ]
  },
  {
   "cell_type": "code",
   "execution_count": null,
   "metadata": {},
   "outputs": [
    {
     "name": "stdout",
     "output_type": "stream",
     "text": [
      "[999   1   2   3   4   5   6   7   8   9]\n",
      "[0 1 2 3 4 5 6 7 8 9]\n"
     ]
    }
   ],
   "source": [
    "v2[0] = 999\n",
    "print(v2)\n",
    "print(v1)"
   ]
  }
 ],
 "metadata": {
  "kernelspec": {
   "display_name": "Python 3.9.13",
   "language": "python",
   "name": "python3"
  },
  "language_info": {
   "name": "python",
   "version": "3.9.13"
  },
  "orig_nbformat": 4,
  "vscode": {
   "interpreter": {
    "hash": "eb6fcc4987d40a8a7a9bcbb3f79366e5006f70e69b6b24b8b7e2973ccc311291"
   }
  }
 },
 "nbformat": 4,
 "nbformat_minor": 2
}
