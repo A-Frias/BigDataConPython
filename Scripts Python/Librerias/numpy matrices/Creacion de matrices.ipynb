{
 "cells": [
  {
   "cell_type": "code",
   "execution_count": null,
   "metadata": {},
   "outputs": [
    {
     "data": {
      "text/plain": [
       "array([23.30668005, 26.46262822, 24.76110537, 23.95909423, 23.14149829,\n",
       "       22.08560259])"
      ]
     },
     "metadata": {},
     "output_type": "display_data"
    }
   ],
   "source": [
    "# Cargamos la librería\n",
    "import numpy as np\n",
    "\n",
    "# Definimos los dos arrays o vectores\n",
    "valtura = np.array([ 1.67, 1.73, 1.76, 1.85, 1.77, 1.73 ])\n",
    "vmasa = np.array([ 65.0, 79.2, 76.7, 82.0, 72.5, 66.1 ])\n",
    "\n",
    "# Y calculamos normalmente como con cualquier otro tipo numérico\n",
    "vmasa / (valtura ** 2)\n"
   ]
  },
  {
   "cell_type": "markdown",
   "metadata": {},
   "source": [
    "Mucho más conciso y fácil de entender, ¿no crees? Simplemente hemos creado dos vectores con Numpy para almacenar las alturas y pesos, y después realizamos las operaciones directamente sobre ellos.\n",
    "\n",
    "### _Arrays_\n",
    "\n",
    "El tipo básico para trabajar en NumPy es el _array_. Estos objetos representan vectores o matrices multidimensionales, en las que todos los elementos son del mismo tipo, en general numérico.\n",
    "\n",
    "En el ejemplo anterior ya hemos visto cómo crear un nuevo array utilizando una lista de valores. De esta forma, definimos un array de dimensión 1, es decir, un vector. Sigamos con otro ejemplo sencillo.\n"
   ]
  },
  {
   "cell_type": "code",
   "execution_count": null,
   "metadata": {
    "collapsed": true
   },
   "outputs": [],
   "source": [
    "# Un vector (dimensión 1) con tres elementos\n",
    "v_1d = np.array([1, 2, 3])"
   ]
  },
  {
   "cell_type": "code",
   "execution_count": null,
   "metadata": {},
   "outputs": [
    {
     "name": "stdout",
     "output_type": "stream",
     "text": [
      "1\n"
     ]
    }
   ],
   "source": [
    "# Número de dimensiones del array\n",
    "print(v_1d.ndim)        # 1"
   ]
  },
  {
   "cell_type": "code",
   "execution_count": null,
   "metadata": {},
   "outputs": [
    {
     "name": "stdout",
     "output_type": "stream",
     "text": [
      "(3,)\n"
     ]
    }
   ],
   "source": [
    "# Número de elementos en cada dimensión del array\n",
    "print(v_1d.shape)       # (3,)"
   ]
  },
  {
   "cell_type": "code",
   "execution_count": null,
   "metadata": {},
   "outputs": [
    {
     "name": "stdout",
     "output_type": "stream",
     "text": [
      "3\n"
     ]
    }
   ],
   "source": [
    "# Número total de elementos del array\n",
    "print(v_1d.size)        # 3"
   ]
  },
  {
   "cell_type": "code",
   "execution_count": null,
   "metadata": {},
   "outputs": [
    {
     "name": "stdout",
     "output_type": "stream",
     "text": [
      "int32\n"
     ]
    }
   ],
   "source": [
    "# Tipo de los elementos\n",
    "print(v_1d.dtype)       # int64 (enteros)"
   ]
  },
  {
   "cell_type": "code",
   "execution_count": null,
   "metadata": {},
   "outputs": [
    {
     "name": "stdout",
     "output_type": "stream",
     "text": [
      "[[1. 2. 3.]\n",
      " [4. 5. 6.]]\n"
     ]
    }
   ],
   "source": [
    "# Ahora vamos a crear una matriz\n",
    "# utilizando listas anidadas\n",
    "m_2d = np.array([[1.0, 2.0, 3.0], [4.0, 5.0, 6.0]])\n",
    "\n",
    "# Veamos el contenido\n",
    "print(m_2d)             # [[1 2 3]\n",
    "                        #  [4 5 6]]"
   ]
  },
  {
   "cell_type": "code",
   "execution_count": null,
   "metadata": {},
   "outputs": [
    {
     "name": "stdout",
     "output_type": "stream",
     "text": [
      "2\n"
     ]
    }
   ],
   "source": [
    "# Es un array de 2 dimensiones (una matriz)\n",
    "print(m_2d.ndim)        # 2"
   ]
  },
  {
   "cell_type": "code",
   "execution_count": null,
   "metadata": {},
   "outputs": [
    {
     "name": "stdout",
     "output_type": "stream",
     "text": [
      "(2, 3)\n"
     ]
    }
   ],
   "source": [
    "# El primer eje o dimensión tiene tamaño 2 (filas)\n",
    "# El segundo eje o dimensión tiene tamaño 3 (columnas)\n",
    "print(m_2d.shape)       # (2, 3)"
   ]
  },
  {
   "cell_type": "code",
   "execution_count": null,
   "metadata": {},
   "outputs": [
    {
     "name": "stdout",
     "output_type": "stream",
     "text": [
      "6\n"
     ]
    }
   ],
   "source": [
    "# Número total de elementos del array\n",
    "print(m_2d.size)        # 6"
   ]
  },
  {
   "cell_type": "code",
   "execution_count": null,
   "metadata": {},
   "outputs": [
    {
     "name": "stdout",
     "output_type": "stream",
     "text": [
      "float64\n"
     ]
    }
   ],
   "source": [
    "# Tipo de los elementos\n",
    "print(m_2d.dtype)       # float64 (coma flotante)"
   ]
  },
  {
   "cell_type": "code",
   "execution_count": null,
   "metadata": {},
   "outputs": [
    {
     "data": {
      "text/plain": [
       "array([[1., 2., 3.],\n",
       "       [4., 5., 6.]])"
      ]
     },
     "metadata": {},
     "output_type": "display_data"
    }
   ],
   "source": [
    "# También podemos indicar el tipo de los elementos\n",
    "# al crear el array, con el argumento 'dtype'\n",
    "np.array([[1, 2, 3], [4, 5, 6]], dtype='float64')"
   ]
  },
  {
   "cell_type": "markdown",
   "metadata": {},
   "source": [
    "En este código hemos creado un vector unidimensional (`v_1d`) y una matriz bidimensional (`m_2d`). En el segundo caso, lo hacemos pasando una lista de listas. En general, cuando usamos esta forma de construir un array, pasando una secuencia de elementos, el nivel de anidación determinará el número de dimensiones que tenga el array.\n",
    "\n",
    "Además, vemos cómo hacer para consultar algunas propiedades de un array, como el número de dimensiones, la forma o tamaño de las dimensiones, el número de elementos o su tipo. También habrás visto en el último ejemplo cómo indicar el tipo de los elementos al crear el array.\n",
    "\n",
    "Sigamos con más formas de crear arrays especificando sucesiones de elementos con `np.arange()` y `np.linspace()`"
   ]
  },
  {
   "cell_type": "code",
   "execution_count": null,
   "metadata": {},
   "outputs": [
    {
     "name": "stdout",
     "output_type": "stream",
     "text": [
      "[ 0  1  2  3  4  5  6  7  8  9 10 11 12 13 14]\n"
     ]
    }
   ],
   "source": [
    "# La función np.arange() es similar al \"range()\" normal\n",
    "# pero crea arrays en lugar de listas\n",
    "m1 = np.arange(15)\n",
    "print(m1)                   # [ 0  1  2 ..., 12 13 14]"
   ]
  },
  {
   "cell_type": "code",
   "execution_count": null,
   "metadata": {},
   "outputs": [
    {
     "name": "stdout",
     "output_type": "stream",
     "text": [
      "[1 3 5 7 9]\n"
     ]
    }
   ],
   "source": [
    "# Al igual que range(), se puede indicar \n",
    "# el limite inicial, final y el tamaño del paso\n",
    "m2 = np.arange(1, 10, 2)\n",
    "print(m2)                   # [1 3 5 7 9]"
   ]
  },
  {
   "cell_type": "code",
   "execution_count": null,
   "metadata": {},
   "outputs": [
    {
     "name": "stdout",
     "output_type": "stream",
     "text": [
      "[ 0.   2.5  5.   7.5 10. ]\n"
     ]
    }
   ],
   "source": [
    "# Si queremos crear un array dividiendo un intervalo\n",
    "# en N elementos equiespaciados, podemos usar np.linspace()\n",
    "m3 = np.linspace(0, 10, 5)  # Genera 5 núms entre 0 y 10 (ambos incluidos)\n",
    "print(m3)                   # [  0.    2.5   5.    7.5  10. ]"
   ]
  },
  {
   "cell_type": "markdown",
   "metadata": {},
   "source": [
    "Si recuerdas la función `range()` que hemos utilizado múltiples veces para generar secuencias, notarás que la función `np.arange()` es prácticamente idéntica, solo que crea objetos de tipo `ndarray` (que es el tipo de los arrays en NumPy).\n",
    "\n",
    "La función `np.linspace()` es un poco distinta, porque en lugar de darle el tamaño del _paso_, lo que hace es generar un número dado de valores igualmente espaciados entre los dos límites que le indicas (incluyendo ambos en el resultado).\n",
    "\n",
    "Al operar con vectores y matrices, será habitual que tengamos que utilizar construcciones especiales, como matrices unidad, o arrays con todos los elementos cero o iguales... NumPy incluye varias funciones muy prácticas para crear estos tipos de arrays más comunes.\n"
   ]
  },
  {
   "cell_type": "code",
   "execution_count": null,
   "metadata": {},
   "outputs": [
    {
     "data": {
      "text/plain": [
       "array([0., 0., 0., 0., 0.])"
      ]
     },
     "metadata": {},
     "output_type": "display_data"
    }
   ],
   "source": [
    "# Crear un vector con 5 ceros\n",
    "np.zeros(5)"
   ]
  },
  {
   "cell_type": "code",
   "execution_count": null,
   "metadata": {},
   "outputs": [
    {
     "data": {
      "text/plain": [
       "array([[0., 0., 0.],\n",
       "       [0., 0., 0.]])"
      ]
     },
     "metadata": {},
     "output_type": "display_data"
    }
   ],
   "source": [
    "# Crear una matriz 2x3 de ceros\n",
    "np.zeros((2,3))"
   ]
  },
  {
   "cell_type": "code",
   "execution_count": null,
   "metadata": {},
   "outputs": [
    {
     "data": {
      "text/plain": [
       "array([[1., 1., 1.],\n",
       "       [1., 1., 1.]])"
      ]
     },
     "metadata": {},
     "output_type": "display_data"
    }
   ],
   "source": [
    "# Crear una matriz 2x3 de unos\n",
    "np.ones((2,3))"
   ]
  },
  {
   "cell_type": "code",
   "execution_count": null,
   "metadata": {},
   "outputs": [
    {
     "data": {
      "text/plain": [
       "array([[99, 99, 99],\n",
       "       [99, 99, 99]])"
      ]
     },
     "metadata": {},
     "output_type": "display_data"
    }
   ],
   "source": [
    "# Crear una matrix 2x3 rellenada con el mismo valor (99) \n",
    "# para todos los elementos\n",
    "np.full((2,3), 99)"
   ]
  },
  {
   "cell_type": "code",
   "execution_count": null,
   "metadata": {},
   "outputs": [
    {
     "data": {
      "text/plain": [
       "array([[1., 0., 0.],\n",
       "       [0., 1., 0.],\n",
       "       [0., 0., 1.]])"
      ]
     },
     "metadata": {},
     "output_type": "display_data"
    }
   ],
   "source": [
    "# Crear una matriz identidad 3x3\n",
    "# (1 en la diagonal, 0 en el resto)\n",
    "np.eye(3)"
   ]
  },
  {
   "cell_type": "markdown",
   "metadata": {},
   "source": [
    "También podemos crear arrays con valores generados aleatoriamente a partir de distintas distribuciones de probabilidad."
   ]
  },
  {
   "cell_type": "code",
   "execution_count": null,
   "metadata": {
    "collapsed": true
   },
   "outputs": [],
   "source": [
    "# Fijamos la semilla aleatoria (por reproducibilidad)\n",
    "np.random.seed(42)"
   ]
  },
  {
   "cell_type": "code",
   "execution_count": null,
   "metadata": {},
   "outputs": [
    {
     "data": {
      "text/plain": [
       "array([[0.37454012, 0.95071431, 0.73199394],\n",
       "       [0.59865848, 0.15601864, 0.15599452]])"
      ]
     },
     "metadata": {},
     "output_type": "display_data"
    }
   ],
   "source": [
    "# Crear una matrix 2x3\n",
    "# rellenada con numeros aleatorios en [0, 1)\n",
    "np.random.random((2,3))"
   ]
  },
  {
   "cell_type": "code",
   "execution_count": null,
   "metadata": {},
   "outputs": [
    {
     "data": {
      "text/plain": [
       "array([[0.58083612, 8.66176146, 6.01115012],\n",
       "       [7.08072578, 0.20584494, 9.69909852]])"
      ]
     },
     "metadata": {},
     "output_type": "display_data"
    }
   ],
   "source": [
    "# Distribución uniforme en [a, b)\n",
    "np.random.uniform(0, 10, size=(2,3))"
   ]
  },
  {
   "cell_type": "code",
   "execution_count": null,
   "metadata": {},
   "outputs": [
    {
     "data": {
      "text/plain": [
       "array([[-0.46947439,  0.54256004, -0.46341769],\n",
       "       [-0.46572975,  0.24196227, -1.91328024]])"
      ]
     },
     "metadata": {},
     "output_type": "display_data"
    }
   ],
   "source": [
    "# Distribución normal (media=0, desv.tipica=1)\n",
    "np.random.normal(0, 1, size=(2,3))"
   ]
  },
  {
   "cell_type": "code",
   "execution_count": null,
   "metadata": {},
   "outputs": [
    {
     "data": {
      "text/plain": [
       "array([8, 0, 9, 2, 6, 3, 8, 2])"
      ]
     },
     "metadata": {},
     "output_type": "display_data"
    }
   ],
   "source": [
    "# Muestrear un array\n",
    "vbase = np.arange(10)\n",
    "# con reemplazo (permitiendo valores replicados)\n",
    "np.random.choice(vbase, size=8, replace=True)"
   ]
  },
  {
   "cell_type": "code",
   "execution_count": null,
   "metadata": {},
   "outputs": [
    {
     "data": {
      "text/plain": [
       "array([8, 7, 5, 3, 1, 0, 9, 6])"
      ]
     },
     "metadata": {},
     "output_type": "display_data"
    }
   ],
   "source": [
    "# sin reemplazo (cada valor solo puede aparecer una vez)\n",
    "np.random.choice(vbase, size=8, replace=False)"
   ]
  }
 ],
 "metadata": {
  "kernelspec": {
   "display_name": "Python 3.9.13",
   "language": "python",
   "name": "python3"
  },
  "language_info": {
   "name": "python",
   "version": "3.9.13"
  },
  "orig_nbformat": 4,
  "vscode": {
   "interpreter": {
    "hash": "eb6fcc4987d40a8a7a9bcbb3f79366e5006f70e69b6b24b8b7e2973ccc311291"
   }
  }
 },
 "nbformat": 4,
 "nbformat_minor": 2
}
