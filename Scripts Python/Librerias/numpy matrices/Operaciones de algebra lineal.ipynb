{
 "cells": [
  {
   "cell_type": "code",
   "execution_count": null,
   "metadata": {},
   "outputs": [],
   "source": [
    "import numpy as np"
   ]
  },
  {
   "cell_type": "markdown",
   "metadata": {},
   "source": [
    "#### Álgebra de vectores y matrices\n",
    "\n",
    "Naturalmente, la librería NumPy incorpora las principales operaciones de transformación y álgebra lineal con vectores y matrices. Alguna de ellas ya la hemos visto, como el cálculo de la matriz traspuesta.\n"
   ]
  },
  {
   "cell_type": "code",
   "execution_count": null,
   "metadata": {},
   "outputs": [
    {
     "name": "stdout",
     "output_type": "stream",
     "text": [
      "[[1 3 4]\n",
      " [7 5 8]\n",
      " [2 9 6]]\n"
     ]
    }
   ],
   "source": [
    "m1 = np.array([1, 3, 4, 7, 5, 8, 2, 9, 6]).reshape(3,3)\n",
    "print(m1)"
   ]
  },
  {
   "cell_type": "code",
   "execution_count": null,
   "metadata": {},
   "outputs": [
    {
     "data": {
      "text/plain": [
       "array([[1, 7, 2],\n",
       "       [3, 5, 9],\n",
       "       [4, 8, 6]])"
      ]
     },
     "metadata": {},
     "output_type": "display_data"
    }
   ],
   "source": [
    "# Trasponer la matriz\n",
    "m1.transpose()"
   ]
  },
  {
   "cell_type": "code",
   "execution_count": null,
   "metadata": {},
   "outputs": [
    {
     "data": {
      "text/plain": [
       "array([[1, 7, 2],\n",
       "       [3, 5, 9],\n",
       "       [4, 8, 6]])"
      ]
     },
     "metadata": {},
     "output_type": "display_data"
    }
   ],
   "source": [
    "# ... o más breve\n",
    "m1.T"
   ]
  },
  {
   "cell_type": "markdown",
   "metadata": {},
   "source": [
    "Entre otras operaciones, podemos calcular la inversa de una matriz o su traza."
   ]
  },
  {
   "cell_type": "code",
   "execution_count": null,
   "metadata": {},
   "outputs": [
    {
     "name": "stdout",
     "output_type": "stream",
     "text": [
      "[[-0.45652174  0.19565217  0.04347826]\n",
      " [-0.2826087  -0.02173913  0.2173913 ]\n",
      " [ 0.57608696 -0.0326087  -0.17391304]]\n"
     ]
    }
   ],
   "source": [
    "# Matriz inversa\n",
    "m1_inv = np.linalg.inv(m1)\n",
    "print(m1_inv)"
   ]
  },
  {
   "cell_type": "code",
   "execution_count": null,
   "metadata": {},
   "outputs": [
    {
     "data": {
      "text/plain": [
       "12"
      ]
     },
     "metadata": {},
     "output_type": "display_data"
    }
   ],
   "source": [
    "# Traza de la matriz\n",
    "# (suma de elementos de la diagonal principal)\n",
    "m1.trace()"
   ]
  },
  {
   "cell_type": "markdown",
   "metadata": {},
   "source": [
    "También disponemos del producto interno de vectores y matrices. Cuando tengas que realizar estas operaciones, recuerda no confundirte con la multiplicación elemento a elemento de arrays (operador `'*'`)."
   ]
  },
  {
   "cell_type": "code",
   "execution_count": null,
   "metadata": {
    "collapsed": true
   },
   "outputs": [],
   "source": [
    "# Para dos vectores...\n",
    "v1 = np.array([1, 4, 6])\n",
    "v2 = np.array([3, 5, 2])"
   ]
  },
  {
   "cell_type": "code",
   "execution_count": null,
   "metadata": {},
   "outputs": [
    {
     "data": {
      "text/plain": [
       "35"
      ]
     },
     "metadata": {},
     "output_type": "display_data"
    }
   ],
   "source": [
    "# El producto interior de dos vectores\n",
    "# genera un escalar\n",
    "v1.dot(v2)      # 35   = (1 * 3) + (4 * 5) + (6 * 2)"
   ]
  },
  {
   "cell_type": "code",
   "execution_count": null,
   "metadata": {
    "collapsed": true
   },
   "outputs": [],
   "source": [
    "# Para dos matrices...\n",
    "m1 = np.array([4, 1, 1, 2]).reshape(2,2)\n",
    "m2 = np.array([1, 3, 5, 1]).reshape(2,2)"
   ]
  },
  {
   "cell_type": "code",
   "execution_count": null,
   "metadata": {},
   "outputs": [
    {
     "name": "stdout",
     "output_type": "stream",
     "text": [
      "[[ 9 13]\n",
      " [11  5]]\n"
     ]
    }
   ],
   "source": [
    "# El producto interior de dos matrices\n",
    "# genera una matriz\n",
    "mp1 = m1.dot(m2)\n",
    "print(mp1)"
   ]
  },
  {
   "cell_type": "code",
   "execution_count": null,
   "metadata": {},
   "outputs": [
    {
     "name": "stdout",
     "output_type": "stream",
     "text": [
      "[[ 7  7]\n",
      " [21  7]]\n"
     ]
    }
   ],
   "source": [
    "# El producto interior de dos matrices NO es conmutativo !!\n",
    "mp2 = m2.dot(m1)\n",
    "print(mp2)"
   ]
  },
  {
   "cell_type": "code",
   "execution_count": null,
   "metadata": {},
   "outputs": [
    {
     "name": "stdout",
     "output_type": "stream",
     "text": [
      "[17 13]\n"
     ]
    }
   ],
   "source": [
    "# El producto interior de una matriz y un vector\n",
    "# es un vector\n",
    "v3 = np.array([3, 5])\n",
    "mv = m1.dot(v3)\n",
    "print(mv)"
   ]
  }
 ],
 "metadata": {
  "kernelspec": {
   "display_name": "Python 3.9.12 ('base')",
   "language": "python",
   "name": "python3"
  },
  "language_info": {
   "name": "python",
   "version": "3.9.12"
  },
  "orig_nbformat": 4,
  "vscode": {
   "interpreter": {
    "hash": "7c39e21a772e99c1a7e3fb7ef3402580462d255e64df51b314942f2f47217269"
   }
  }
 },
 "nbformat": 4,
 "nbformat_minor": 2
}
