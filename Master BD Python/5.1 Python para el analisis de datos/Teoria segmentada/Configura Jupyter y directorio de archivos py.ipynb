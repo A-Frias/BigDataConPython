{
 "cells": [
  {
   "cell_type": "code",
   "execution_count": null,
   "metadata": {},
   "outputs": [],
   "source": []
  },
  {
   "cell_type": "markdown",
   "metadata": {},
   "source": [
    "\n",
    "\n",
    "#### Controlando los resultados del código\n",
    "\n",
    "Por defecto, al ejecutar una celda de código Python, el valor resultante que se mostrará será el de la última expresión evaluada. Si quieres que Jupyter muestre el resultado de todas las expresiones, nada más comenzar una sesión de trabajo tendrás que ejecutar este código."
   ]
  },
  {
   "cell_type": "code",
   "execution_count": null,
   "metadata": {
    "collapsed": true
   },
   "outputs": [],
   "source": [
    "from IPython.core.interactiveshell import InteractiveShell\n",
    "InteractiveShell.ast_node_interactivity = \"all\""
   ]
  },
  {
   "cell_type": "markdown",
   "metadata": {},
   "source": [
    "Ten en cuenta que esto no es necesario cuando ejecutemos cualquier comando para imprimir mensajes (p.ej. con la instrucción `print()`). Jupyter se encargará de imprimir en el cuaderno todos los mensajes sin necesidad de configurar nada más.\n",
    "\n",
    "\n",
    "#### Para saber más en general, no solo de esto...\n",
    "https://jupyter-notebook-beginner-guide.readthedocs.io/en/latest/"
   ]
  },
  {
   "cell_type": "markdown",
   "metadata": {},
   "source": [
    "### Configuración del directorios\n",
    "\n",
    "A lo largo de esta unidad veremos algunos ejemplos que requieren utilizar ficheros de código que incluimos con el material disponible en el campus. El código se encuentra dentro del subdirectorio `U09_src`.\n",
    "\n",
    "Para que Python sepa acceder al directorio donde guardes los ficheros fuente, tendrás que ejecutar los siguientes comandos para añadirlo a las rutas donde busca el código fuente. A lo largo de esta unidad te explicaremos más sobre cómo busca y resuelve Python la ubicación de código, librerías y otros elementos."
   ]
  },
  {
   "cell_type": "code",
   "execution_count": 2,
   "metadata": {
    "collapsed": true
   },
   "outputs": [
    {
     "name": "stdout",
     "output_type": "stream",
     "text": [
      "['c:\\\\Users\\\\alber\\\\OneDrive\\\\Documentos\\\\GitHub\\\\BigDataConPython\\\\Scripts Python', 'c:\\\\Users\\\\alber\\\\anaconda3\\\\python39.zip', 'c:\\\\Users\\\\alber\\\\anaconda3\\\\DLLs', 'c:\\\\Users\\\\alber\\\\anaconda3\\\\lib', 'c:\\\\Users\\\\alber\\\\anaconda3', '', 'c:\\\\Users\\\\alber\\\\anaconda3\\\\lib\\\\site-packages', 'c:\\\\Users\\\\alber\\\\anaconda3\\\\lib\\\\site-packages\\\\win32', 'c:\\\\Users\\\\alber\\\\anaconda3\\\\lib\\\\site-packages\\\\win32\\\\lib', 'c:\\\\Users\\\\alber\\\\anaconda3\\\\lib\\\\site-packages\\\\Pythonwin', 'C:/Users/alber/OneDrive/Documentos/Formacion informatica/Python/Master BD Python/Material\\\\U09_src']\n"
     ]
    }
   ],
   "source": [
    "import sys\n",
    "import os.path\n",
    "\n",
    "# Tan solo modifica la cadena de texto entre comillas\n",
    "# de DIR_FICHEROS_CURSO\n",
    "# Sustituye por la ruta completa hasta el directorio base\n",
    "# donde descargues el material del campus\n",
    "DIR_FICHEROS_CURSO = \"C:/Users/alber/OneDrive/Documentos/Formacion informatica/Python/Master BD Python/Material\"\n",
    "DIR_U09 = os.path.join(DIR_FICHEROS_CURSO, \"09PythonParaAnalisisDatos\")\n",
    "DIR_U09_SRC = os.path.join(DIR_FICHEROS_CURSO, \"U09_src\")\n",
    "\n",
    "sys.path.append(DIR_U09_SRC)\n",
    "print(sys.path)\n"
   ]
  }
 ],
 "metadata": {
  "kernelspec": {
   "display_name": "Python 3.9.12 ('base')",
   "language": "python",
   "name": "python3"
  },
  "language_info": {
   "codemirror_mode": {
    "name": "ipython",
    "version": 3
   },
   "file_extension": ".py",
   "mimetype": "text/x-python",
   "name": "python",
   "nbconvert_exporter": "python",
   "pygments_lexer": "ipython3",
   "version": "3.9.12"
  },
  "orig_nbformat": 4,
  "vscode": {
   "interpreter": {
    "hash": "7c39e21a772e99c1a7e3fb7ef3402580462d255e64df51b314942f2f47217269"
   }
  }
 },
 "nbformat": 4,
 "nbformat_minor": 2
}
