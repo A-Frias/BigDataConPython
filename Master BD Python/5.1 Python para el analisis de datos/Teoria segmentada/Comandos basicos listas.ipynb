{
 "cells": [
  {
   "cell_type": "code",
   "execution_count": null,
   "metadata": {},
   "outputs": [],
   "source": []
  },
  {
   "cell_type": "code",
   "execution_count": 1,
   "metadata": {
    "collapsed": true
   },
   "outputs": [],
   "source": [
    "from IPython.core.interactiveshell import InteractiveShell\n",
    "InteractiveShell.ast_node_interactivity = \"all\""
   ]
  },
  {
   "cell_type": "markdown",
   "metadata": {},
   "source": [
    "# Estructuras de datos\n",
    "\n",
    "Python incorpora varios tipos compuestos de datos de forma nativa. Podemos ver un tipo compuesto como una estructura de datos que nos permite almacenar una colección de elementos o valores. Si has trabajado con otros lenguajes, un ejemplo sencillo sería un vector o _array_ de elementos. Python nos ofrece más alternativas, con características diferentes dependiendo de cómo se almacenan los valores dentro de la estructura y de qué operaciones podemos hacer.\n",
    "\n",
    "## Secuencias\n",
    "\n",
    "Empezaremos por las estructuras de tipo _secuencial_. Son tipos de datos compuestos por una serie de elementos, preservando el orden o posición en el que se añaden a la estructura. Por este motivo, se dice que son tipos _ordenados_.\n",
    "\n",
    "> **Importante** Como a veces se presta a confusión, vamos a recalcarlo. Aquí _ordenado_ no significa que conforme añades elementos, estos se reordenen (p.ej. numéricamente o alfabéticamente). Solo hace referencia a que conservan el orden en el que son añadidos, es decir, su _orden posicional_. \n",
    "\n",
    "Todos los subtipos de secuencias en Python tienen en común varias operaciones, como el acceso indexado o por posición, el _rebanado_, la concatenación o la pertenencia.\n",
    "\n",
    "### Listas\n",
    "\n",
    "En Python, las listas son probablemente el tipo compuesto de uso más extendido por su versatilidad y sencillez.\n",
    "Una lista es una secuencia ordenada de elementos. A diferencia de los vectores o _arrays_ de otros lenguajes, en una lista se pueden mezclar elementos de tipos distintos sin problema. Aunque lo habitual es que todos los elementos tengan el mismo tipo.\n",
    "\n",
    "La forma común de definir una lista es incluyendo los elementos separados por comas entre un par de corchetes.\n"
   ]
  },
  {
   "cell_type": "code",
   "execution_count": 2,
   "metadata": {
    "collapsed": true
   },
   "outputs": [],
   "source": [
    "# creamos una lista vacía usando un par de corchetes sin ningún elemento dentro\n",
    "lista_vacia = []\n",
    "# podemos crear una lista de números\n",
    "lista_nums = [1, 6, 2, 5, 3, 4]\n",
    "# o una lista de cadenas de texto\n",
    "lista_frutas = [\"pera\", \"manzana\", \"ciruela\", \"cereza\"]\n",
    "# o una lista mezclando valores de cualquier tipo\n",
    "lista_mezcla = [10, \"veinte\", 30.0, \"cuarenta\"]\n",
    "# incluso podemos meter una lista como elemento dentro de otra lista\n",
    "listas_anidadas = [\"Aqui hay\", [\"listas\", \"anidadas\"], [1, 2]]"
   ]
  },
  {
   "cell_type": "markdown",
   "metadata": {},
   "source": [
    "Si te has fijado, la última lista de ejemplo tiene listas anidadas como elementos. ¿Cuańtos elementos dirías que tiene la lista de nivel superior? ¿Serías capaz de identificarlos? Podemos usar lo que hemos aprendido de bucles para comprobarlo"
   ]
  },
  {
   "cell_type": "code",
   "execution_count": null,
   "metadata": {},
   "outputs": [
    {
     "name": "stdout",
     "output_type": "stream",
     "text": [
      "Aqui hay\n",
      "['listas', 'anidadas']\n",
      "[1, 2]\n"
     ]
    }
   ],
   "source": [
    "for elemento in listas_anidadas:\n",
    "    print(elemento)"
   ]
  },
  {
   "cell_type": "markdown",
   "metadata": {},
   "source": [
    "Para acceder a los \n",
    "elementos de una lista por su índice o posición, ponemos el índice entre corchetes también.\n",
    "\n",
    "El primer elemento de una lista (y de cualquier secuencia) tiene el índice cero. Así que si una lista tiene _n_ elementos, para acceder al último tendremos que usar el índice _(n - 1)_."
   ]
  },
  {
   "cell_type": "code",
   "execution_count": 3,
   "metadata": {},
   "outputs": [
    {
     "data": {
      "text/plain": [
       "6"
      ]
     },
     "execution_count": 3,
     "metadata": {},
     "output_type": "execute_result"
    },
    {
     "data": {
      "text/plain": [
       "3"
      ]
     },
     "execution_count": 3,
     "metadata": {},
     "output_type": "execute_result"
    },
    {
     "data": {
      "text/plain": [
       "1"
      ]
     },
     "execution_count": 3,
     "metadata": {},
     "output_type": "execute_result"
    },
    {
     "data": {
      "text/plain": [
       "4"
      ]
     },
     "execution_count": 3,
     "metadata": {},
     "output_type": "execute_result"
    },
    {
     "data": {
      "text/plain": [
       "4"
      ]
     },
     "execution_count": 3,
     "metadata": {},
     "output_type": "execute_result"
    },
    {
     "data": {
      "text/plain": [
       "['listas', 'anidadas']"
      ]
     },
     "execution_count": 3,
     "metadata": {},
     "output_type": "execute_result"
    },
    {
     "data": {
      "text/plain": [
       "4"
      ]
     },
     "execution_count": 3,
     "metadata": {},
     "output_type": "execute_result"
    },
    {
     "data": {
      "text/plain": [
       "1"
      ]
     },
     "execution_count": 3,
     "metadata": {},
     "output_type": "execute_result"
    }
   ],
   "source": [
    "# Longitud de la lista\n",
    "len(lista_nums)\n",
    "# Longitud de la lista anidada: cada \"sub-lista\" interna es vista como un único elemento\n",
    "len(listas_anidadas)\n",
    "# Seleccionar un elemento\n",
    "lista_nums[0]                     # El primer valor lo obtenemos con el índice cero\n",
    "lista_nums[5]                     # El elemento para el índice 5\n",
    "lista_nums[len(lista_nums) - 1]   # El último elemento está en LEN - 1\n",
    "# Al seleccionar en una lista anidada\n",
    "listas_anidadas[1]                # El elemento devuelto puede ser otra lista\n",
    "# Si usamos índices negativos, empezamos a contar desde el final\n",
    "lista_nums[-1]                    # Devuelve el último elemento de la lista\n",
    "lista_nums[-len(lista_nums)]      # Devuelve el primer elemento de la lista"
   ]
  },
  {
   "cell_type": "markdown",
   "metadata": {},
   "source": [
    "Para aclarar mejor cómo funcionan los índices para acceder a un elemento, imagina que tenemos la lista `[ 'A', 'B', 'C', 'D', 'E', 'F' ]`. La siguente figura muestra a qué posición referencia un índice positivo o un índice negativo.\n",
    "\n",
    "<img src=\"./img/fig_lista_indices.png\" width=250px />\n",
    "\n",
    "En lugar de ver los índices _\"apuntando\"_ a cada elemento, pensemos que los índices marcan las posiciones _entre elementos_ de la secuencia. En este caso, el índice 6 referencia una posición fuera de los límites de la lista y produciría un error.\n",
    "\n",
    "Ahora es más fácil ver cómo podemos seleccionar una _\"rebanada\"_ de elementos contiguos de una lista. Indicamos el índice o posición inicial desde donde empezamos la selección y la posición final hasta donde queremos llegar, escribiéndolos dentro de los corchetes separados por dos puntos (`:`). En las rebanadas, el elemento correspondiente al límite inicial siempre se incluye, pero el elemento en el límite final queda excluído."
   ]
  },
  {
   "cell_type": "code",
   "execution_count": null,
   "metadata": {
    "collapsed": true
   },
   "outputs": [],
   "source": [
    "letras = ['A','B','C','D','E','F']\n",
    "# Seleccionamos una \"rebanada\" con los dos primeros elementos\n",
    "letras[0:2]\n",
    "letras[2:5]   \n",
    "# Si no especificamos el segundo índice, seleccionamos hasta el final\n",
    "letras[2:]\n",
    "# y si no especificamos el primer índice, seleccionamos desde el principio\n",
    "letras[:4]    \n",
    "# También podemos usar la notación de índices negativos.\n",
    "# Seleccionamos desde la penúltima posición (incluída) hasta el final\n",
    "letras[-2:]   \n",
    "# Seleccionamos desde el inicio hasta la penúltima posición (excluída)\n",
    "letras[:-2]   \n",
    "# Como el primer índice siempre se incluye \n",
    "# y el segundo siempre se excluye, \n",
    "# podemos reconstruir la lista así\n",
    "letras[:2] + letras[2:]"
   ]
  },
  {
   "cell_type": "markdown",
   "metadata": {},
   "source": [
    "Las listas sí son _mutables_, es decir, sí podemos modificar el contenido de los elementos de una lista"
   ]
  },
  {
   "cell_type": "code",
   "execution_count": null,
   "metadata": {},
   "outputs": [
    {
     "name": "stdout",
     "output_type": "stream",
     "text": [
      "['pera', 'manzana', 'ciruela', 'cereza']\n"
     ]
    }
   ],
   "source": [
    "print(lista_frutas)\n",
    "# modificamos un elemento individual\n",
    "lista_frutas[1] = \"uva\"\n",
    "\n",
    "print(lista_frutas)\n",
    "# también podemos reemplazar los valores de una \"rebanada\"\n",
    "lista_frutas[2:] = [\"naranja\", \"aguacate\"]\n",
    "\n",
    "print(lista_frutas)\n",
    "# o eliminar algunos valores, reemplazando con la lista vacía\n",
    "lista_frutas[1:3] = []\n",
    "\n",
    "print(lista_frutas)\n",
    "# o vaciarla entera\n",
    "lista_frutas[:] = []\n",
    "print(lista_frutas)"
   ]
  },
  {
   "cell_type": "markdown",
   "metadata": {},
   "source": [
    "También podemos concatenar listas o replicarlas"
   ]
  },
  {
   "cell_type": "code",
   "execution_count": null,
   "metadata": {},
   "outputs": [
    {
     "data": {
      "text/plain": [
       "['a', 'b', 'c', 100, 200, 300]"
      ]
     },
     "metadata": {},
     "output_type": "display_data"
    }
   ],
   "source": [
    "lista_1 = ['a', 'b', 'c']\n",
    "lista_2 = [100, 200, 300]\n",
    "\n",
    "# concatenación\n",
    "lista_1 + lista_2\n",
    "# replicar la lista tres veces\n",
    "3 * lista_1"
   ]
  },
  {
   "cell_type": "markdown",
   "metadata": {},
   "source": [
    "Y podemos extraer los elementos de una lista y asignaros a distintas variables de forma sencilla con una sola instrucción"
   ]
  },
  {
   "cell_type": "code",
   "execution_count": null,
   "metadata": {},
   "outputs": [
    {
     "name": "stdout",
     "output_type": "stream",
     "text": [
      "100\n",
      "200\n",
      "300\n"
     ]
    }
   ],
   "source": [
    "x, y, z = lista_2\n",
    "print(x)\n",
    "print(y)\n",
    "print(z)"
   ]
  },
  {
   "cell_type": "markdown",
   "metadata": {},
   "source": [
    "Las listas en Python incluyen varios métodos para consultarlas y modificarlas"
   ]
  },
  {
   "cell_type": "code",
   "execution_count": null,
   "metadata": {},
   "outputs": [
    {
     "name": "stdout",
     "output_type": "stream",
     "text": [
      "['a', 'b', 'c', 'd']\n"
     ]
    }
   ],
   "source": [
    "# añadir un elemento al final de la lista\n",
    "lista_1.append('d')\n",
    "print(lista_1)\n",
    "# extraer el último elemento de la lista\n",
    "ultimo_valor = lista_1.pop()\n",
    "print(ultimo_valor)\n",
    "print(lista_1)\n",
    "# insertar un elemento delante de una posición concreta\n",
    "\n",
    "# inserta 'e' en la posición cero (al principio)\n",
    "lista_1.insert(0, 'e')\n",
    "# inserta 'f' en la posición 2\n",
    "lista_1.insert(2, 'c')\n",
    "print(lista_1)\n",
    "# buscar en qué posición está un elemento \n",
    "# (si no existe dará un error)\n",
    "lista_1.index('b')\n",
    "# contar el número de veces que aparece un elemento\n",
    "lista_1.count('c')\n",
    "# borrar el primer elemento de la lista \n",
    "# que coincida con el valor dado\n",
    "lista_1.remove('c')\n",
    "print(lista_1)\n",
    "# ordenar los valores de la lista \n",
    "# (dependiendo del tipo: alfabéticamente, numéricamente...)\n",
    "lista_1.sort()\n",
    "print(lista_1)\n",
    "# invertir el orden de la lista\n",
    "lista_1.reverse()\n",
    "print(lista_1)\n",
    "# borrar un elemento indicando la posición\n",
    "del lista_1[2]\n",
    "print(lista_1)\n",
    "# limpiar todos los elementos de la lista\n",
    "lista_1.clear()\n",
    "print(lista_1)"
   ]
  },
  {
   "cell_type": "markdown",
   "metadata": {},
   "source": [
    "Como ves, no te engañábamos cuando decíamos que las listas son muy versátiles y fáciles de usar."
   ]
  },
  {
   "cell_type": "markdown",
   "metadata": {},
   "source": [
    "#### Más sobre variables, listas y mutabilidad\n",
    "\n",
    "Acabas de ver cómo crear y manipular el contenido de listas en Python. Antes de continuar, vamos a aprovechar para explicar un detalle más sobre las variables, su contenido y lo que ocurre al hacer asignaciones en Python.\n",
    "\n",
    "Imagina el siguiente caso habitual. Tienes una variable (pongamos `lista1`) y la inicializas con unos valores cualesquiera. Más adelante, tal vez tras hacer varios cálculos y operaciones con la primera variable, necesitas crear otra nueva variable (digamos `lista2`) e inicializarla con la misma lista que tenga la primera en ese momento. Así que le asignas la primera variable a la última."
   ]
  },
  {
   "cell_type": "code",
   "execution_count": null,
   "metadata": {},
   "outputs": [
    {
     "name": "stdout",
     "output_type": "stream",
     "text": [
      "[1, 2, 3]\n"
     ]
    },
    {
     "data": {
      "text/plain": [
       "True"
      ]
     },
     "metadata": {},
     "output_type": "display_data"
    }
   ],
   "source": [
    "# Creamos e inicializamos la primera variable\n",
    "lista1 = [1, 2, 3]\n",
    "\n",
    "# Hacemos nuestras operaciones ...\n",
    "\n",
    "# Y ahora necesitamos crear una nueva variable\n",
    "# e inicializarla con la misma lista que tenga lista1\n",
    "lista2 = lista1\n",
    "print(lista2)                          # [1, 2, 3]\n",
    "\n",
    "# Obviamente, ahora deben tener el mismo valor\n",
    "lista1 == lista2                       # True"
   ]
  },
  {
   "cell_type": "markdown",
   "metadata": {},
   "source": [
    "Obviamente, tras la asignación, ambas variables tienen el mismo valor. Pero es que, en realidad, no solo tienen el mismo valor, si no que _apuntan_ al mismo contenido. Ambas son dos nombres o _referencias_ al mismo dato, a la misma lista, y no dos copias distintas con los mismos valores.\n",
    "\n",
    "Una variable en Python no deja de ser eso, un nombre o _referencia_ a un valor o estructura de datos que está almacenada de algún modo en memoria. En Python, la operación de asignación de una variable a otra _no copia_ el contenido, si no que define un nuevo nombre o _referencia_ al mismo contenido que la variable original.\n",
    "\n",
    "Podemos ver que dos variables representan el mismo objeto con el operador `is`.\n",
    "\n",
    "¿Y esto qué implica? Piénsalo... Si modificamos un elemento en la segunda variable, ¿qué ocurre con la primera?\n",
    "\n",
    "Como ambas variables no son más que nombres o referencias para la misma lista en memoria, la primera variable mostrará también el nuevo valor."
   ]
  },
  {
   "cell_type": "code",
   "execution_count": null,
   "metadata": {},
   "outputs": [
    {
     "data": {
      "text/plain": [
       "True"
      ]
     },
     "metadata": {},
     "output_type": "display_data"
    }
   ],
   "source": [
    "# Comprobamos que las dos variables \n",
    "# representan el mismo objeto\n",
    "lista2 is lista1                       # True\n",
    "# Modificamos lista2\n",
    "lista2[1] = 99\n",
    "\n",
    "# Y vemos que lista1 nos devuelve \n",
    "# el mismo contenido modificado\n",
    "print(lista1)                          # [1, 99, 3]"
   ]
  },
  {
   "cell_type": "markdown",
   "metadata": {},
   "source": [
    "No obstante, si en lugar de modificar el valor de los elementos de la lista, asignamos una lista distinta, estaremos definiendo un nuevo objeto o estructura de datos. La variable usada pasará a nombrar ese nuevo objeto independiente; las dos variables ya no serán _referencias_ al mismo contenido.\n"
   ]
  },
  {
   "cell_type": "code",
   "execution_count": null,
   "metadata": {},
   "outputs": [
    {
     "data": {
      "text/plain": [
       "False"
      ]
     },
     "metadata": {},
     "output_type": "display_data"
    }
   ],
   "source": [
    "# Si asignamos una nueva lista a la segunda variable\n",
    "lista2 = [7, 8, 9]\n",
    "\n",
    "# Dejan de referenciar al mismo contenido\n",
    "lista2 is lista1                     # False\n",
    "# Incluso aunque usemos la primera variable \n",
    "# en la expresión para definir de la segunda\n",
    "lista2 = 2 * lista1         # Replicación de la primera lista\n",
    "\n",
    "# Las estructuras de datos que referencian son distintas\n",
    "lista2 is lista1            # False"
   ]
  },
  {
   "cell_type": "markdown",
   "metadata": {},
   "source": [
    "A la hora de trabajar con estructuras de datos mutables (como las listas), deberás tener todo esto en cuenta para evitar modificar accidentalmente el contenido de una variable al manipular una segunda.\n",
    "\n",
    "Si necesitas una copia idéntica pero independiente de una lista, puedes usar el método `copy()`."
   ]
  },
  {
   "cell_type": "code",
   "execution_count": null,
   "metadata": {},
   "outputs": [
    {
     "data": {
      "text/plain": [
       "True"
      ]
     },
     "metadata": {},
     "output_type": "display_data"
    }
   ],
   "source": [
    "lista1 = [1, 2, 3]\n",
    "\n",
    "# Con copy() creas una nueva lista, copia exacta de la original,\n",
    "# pero independiente\n",
    "lista2 = lista1.copy()\n",
    "\n",
    "# Los valores en las listas son iguales\n",
    "lista2 == lista1                     # True\n",
    "# ¡¡Pero no son el mismo objeto!!\n",
    "lista2 is lista1                     # False"
   ]
  }
 ],
 "metadata": {
  "kernelspec": {
   "display_name": "Python 3.9.13",
   "language": "python",
   "name": "python3"
  },
  "language_info": {
   "codemirror_mode": {
    "name": "ipython",
    "version": 3
   },
   "file_extension": ".py",
   "mimetype": "text/x-python",
   "name": "python",
   "nbconvert_exporter": "python",
   "pygments_lexer": "ipython3",
   "version": "3.9.13"
  },
  "orig_nbformat": 4,
  "vscode": {
   "interpreter": {
    "hash": "eb6fcc4987d40a8a7a9bcbb3f79366e5006f70e69b6b24b8b7e2973ccc311291"
   }
  }
 },
 "nbformat": 4,
 "nbformat_minor": 2
}
