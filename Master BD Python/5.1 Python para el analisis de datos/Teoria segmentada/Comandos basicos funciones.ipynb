{
 "cells": [
  {
   "cell_type": "markdown",
   "metadata": {},
   "source": [
    "# Funciones\n",
    "\n",
    "En lenguajes de programación, una función es un conjunto de operaciones que sirven para completar un cálculo o tarea específica y que se agrupan y encapsulan como unidades de código independientes para poder ser reutilizadas a lo largo de nuestro programa siempre que sea necesario.\n",
    "\n",
    "El uso de funciones nos permite no tener que reescribir el mismo código en distintas partes de nuestro programa, sustituyéndolo por _llamadas_ a una función. No solo tiene la ventaja de la reutilización y evitarnos escribir mucho más código. También hace los programas más modulares y fáciles de leer, depurar y modificar.\n",
    "\n",
    "En Python indicamos que vamos a _definir_ una función utilizando la palabra reservada `def`. Veamos un ejemplo\n"
   ]
  },
  {
   "cell_type": "code",
   "execution_count": null,
   "metadata": {
    "collapsed": true
   },
   "outputs": [],
   "source": [
    "# vamos a definir la función\n",
    "def mi_primera_funcion():\n",
    "    print(\"Soy la primerita función\")\n"
   ]
  },
  {
   "cell_type": "markdown",
   "metadata": {},
   "source": [
    "Bueno, no es la función más útil del mundo, pero para empezar nos sirve.\n",
    "\n",
    "Podemos dividir la definición de la función en dos partes: el encabezado y el cuerpo.\n",
    "\n",
    "El encabezado empieza con la palabra clave `def`, seguida del nombre de la función (`mi_primera_funcion`). Para los nombres de funciones se aplican las mismas reglas que para los nombres de variables. Después del nombre de la función se colocan los paréntesis de apertura y cierre, y finalmente los dos puntos (`:`) para indicar el final de la cabecera.\n",
    "\n",
    "Justo después del encabezado, en la línea siguiente, comienza el cuerpo de la función, que es donde incluiremos todas las instrucciones que componen el cálculo o tarea que queremos implementar. En este ejemplo, el cuerpo lo forma unicamente la sentencia `print`. Al igual que vimos con las sentencias de control de flujo, este cuerpo va indentado respecto a la cabecera. La primera línea que vuelva al mismo nivel de indentación que el encabezado nos marcará el fin de la función.\n",
    "\n",
    "Una vez que tenemos definida la función, ya podemos utilizarla. Para _invocar_ una funcion simplemente utilizamos su nombre seguido de los paréntesis."
   ]
  },
  {
   "cell_type": "code",
   "execution_count": null,
   "metadata": {},
   "outputs": [
    {
     "name": "stdout",
     "output_type": "stream",
     "text": [
      "Soy la primerita función\n"
     ]
    }
   ],
   "source": [
    "mi_primera_funcion()"
   ]
  },
  {
   "cell_type": "markdown",
   "metadata": {},
   "source": [
    "Como hemos visto, es una buena costumbre incluir comentarios en nuestro código para documentar qué estamos haciendo, de forma que luego sea más fácil de seguir por otras personas (¡y por nosotros mismos!).\n",
    "\n",
    "En el caso de las funciones, Python permite añadir una documentación específica añadiendo una cadena de texto justo entre el encabezado y el cuerpo de la función. A estas cadenas en Python se las conoce como `docstring`.\n",
    "\n",
    "Las _docstrings_ son opcionales, pero es muy recomendable incluirlas. No tienen ningún efecto en el código que se ejecuta. Normalmente se utilizan cadenas rodeadas por comillas triples, porque así la cadena puede ocupar varias líneas consecutivas. Utiliza las _docstrings_ para describir qué es lo que hacen tus funciones y qué parámetros necesitan."
   ]
  },
  {
   "cell_type": "code",
   "execution_count": null,
   "metadata": {
    "collapsed": true
   },
   "outputs": [],
   "source": [
    "def mi_primera_funcion():\n",
    "    \"\"\"Función trivial de ejemplo.\n",
    "    \n",
    "    Imprime un mensaje de prueba.\n",
    "    \"\"\"\n",
    "    print(\"Soy la primerita función\")\n"
   ]
  },
  {
   "cell_type": "markdown",
   "metadata": {},
   "source": [
    "Podemos hacer que la función devuelva un valor como resultado utilizando la sentencia `return`. Además, podemos añadir _parámetros_ a la función para utilizarlos en sus cálculos. Indicamos los parámetros que necesita una función añadiéndolos entre los paréntesis de la definición, como nombres de variables."
   ]
  },
  {
   "cell_type": "code",
   "execution_count": null,
   "metadata": {},
   "outputs": [
    {
     "name": "stdout",
     "output_type": "stream",
     "text": [
      "El cuadrado de 7 es 49\n",
      "El cuadrado de 12 es 144\n"
     ]
    }
   ],
   "source": [
    "# definimos una nueva función \n",
    "# que devuelve el cuadrado del número x que pasamos como argumento\n",
    "def cuadrado(x):\n",
    "    \"\"\"Devuelve el cuadrado del número x\"\"\"\n",
    "    return x**2\n",
    "\n",
    "# y probamos que funciona\n",
    "print(\"El cuadrado de 7 es\", cuadrado(7))\n",
    "print(\"El cuadrado de 12 es\", cuadrado(12))"
   ]
  },
  {
   "cell_type": "markdown",
   "metadata": {},
   "source": [
    "En esta nueva función `cuadrado` hemos incluido un parámetro `x`. Dentro del cuerpo de la función podemos utilizar el parámetro como si fuera una variable normal. Cuando llamamos a la función dentro de la sentencia `print`, lo hacemos indicando entre paréntesis cuál es el valor que queremos dar a `x` en esta ejecución; en este caso queremos ejecutar la función `cuadrado` haciendo que `x` tome el valor `12`. Estamos haciendo algo similar a una _asignación_ de variables. Solo que el parámetro `x` es una especie de variable _local_, unicamente va a existir y ser visible dentro de la función.\n",
    "\n",
    "Por lo demás, el cuerpo de la función simplemente devuelve (`return`) el resultado de elevar el valor que tenga `x` al cuadrado (`x**2`).\n",
    "\n",
    "Una función puede recibir varios parámetros, cada uno del tipo que sea necesario. También puede devolver cualquier tipo de elemento."
   ]
  },
  {
   "cell_type": "code",
   "execution_count": null,
   "metadata": {},
   "outputs": [
    {
     "data": {
      "text/plain": [
       "['Toc,toc,toc! Penny!', 'Toc,toc,toc! Penny!', 'Toc,toc,toc! Penny!']"
      ]
     },
     "metadata": {},
     "output_type": "display_data"
    }
   ],
   "source": [
    "# una función con dos parámetros\n",
    "# y que devuelve una lista definida por comprensión\n",
    "def llama_a_la_puerta_de(persona, n_veces):\n",
    "    \"\"\"Llama a la puerta de la persona \n",
    "       las veces que haga falta\"\"\"\n",
    "    return [ \"Toc,toc,toc! \" + persona + \"!\" for i in range(n_veces) ]\n",
    "\n",
    "llama_a_la_puerta_de(\"Penny\", 3)\n"
   ]
  },
  {
   "cell_type": "markdown",
   "metadata": {},
   "source": [
    "Al definir una función, también podemos especificar un valor _por defecto_ para cualquiera de los parámetros. Se indica como si hiciéramos una asignación del parámetro en el encabezado. El valor _por defecto_ o _por omisión_ solamente se aplicará si al llamar a la función no incluimos un valor explícito para ese parámetro (_omitimos_ su valor)."
   ]
  },
  {
   "cell_type": "code",
   "execution_count": null,
   "metadata": {},
   "outputs": [
    {
     "data": {
      "text/plain": [
       "['Toc,toc,toc! Penny!', 'Toc,toc,toc! Penny!', 'Toc,toc,toc! Penny!']"
      ]
     },
     "metadata": {},
     "output_type": "display_data"
    },
    {
     "data": {
      "text/plain": [
       "['Toc,toc,toc! Amy!']"
      ]
     },
     "metadata": {},
     "output_type": "display_data"
    }
   ],
   "source": [
    "# redefinimos la función con dos parámetros\n",
    "# indicando un valor por omisión para 'n_veces'\n",
    "def llama_a_la_puerta_de(persona, n_veces=3):\n",
    "    \"\"\"Llama a la puerta de la persona \n",
    "       las veces que haga falta\"\"\"\n",
    "    return [ \"Toc,toc,toc! \" + persona + \"!\" for i in range(n_veces) ]\n",
    "\n",
    "# ahora podemos usar la función sin especificar 'n_veces'\n",
    "# y tomará el valor por defecto\n",
    "llama_a_la_puerta_de(\"Penny\")\n",
    "\n",
    "# si incluimos un valor para el parámetro,\n",
    "# se ignora el valor por omisión\n",
    "llama_a_la_puerta_de(\"Amy\", 1)\n"
   ]
  },
  {
   "cell_type": "markdown",
   "metadata": {},
   "source": [
    "Al definir una función, los parámetros para los que no se especifique un valor por defecto deben ir delante de los parámetros con valor por omisión.\n",
    "\n",
    "Al llamar a una función es obligatorio dar valores para todos los parámetros que no tengan valor por omisión especificado. Por defecto, deben proporcionarse los valores en el mismo orden en el que se han definido los parámetros. \n",
    "\n",
    "No obstante, podemos llamar a una función indicando los valores para cada parámetro por su nombre, como pares `nombre_parametro=valor`. Haciéndolo así, podemos dar valor a los parámetros en el orden que queramos.\n"
   ]
  },
  {
   "cell_type": "code",
   "execution_count": null,
   "metadata": {},
   "outputs": [
    {
     "data": {
      "text/plain": [
       "['Toc,toc,toc! Howard!',\n",
       " 'Toc,toc,toc! Howard!',\n",
       " 'Toc,toc,toc! Howard!',\n",
       " 'Toc,toc,toc! Howard!',\n",
       " 'Toc,toc,toc! Howard!']"
      ]
     },
     "metadata": {},
     "output_type": "display_data"
    }
   ],
   "source": [
    "llama_a_la_puerta_de(n_veces=5, persona=\"Howard\")"
   ]
  }
 ],
 "metadata": {
  "language_info": {
   "name": "python"
  },
  "orig_nbformat": 4
 },
 "nbformat": 4,
 "nbformat_minor": 2
}
