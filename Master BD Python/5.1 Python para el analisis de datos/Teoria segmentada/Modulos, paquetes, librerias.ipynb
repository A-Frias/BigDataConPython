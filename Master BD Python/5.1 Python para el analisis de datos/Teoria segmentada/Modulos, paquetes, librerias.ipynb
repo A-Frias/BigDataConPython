{
 "cells": [
  {
   "cell_type": "markdown",
   "metadata": {},
   "source": [
    "### Configuración del directorios\n",
    "\n",
    "A lo largo de esta unidad veremos algunos ejemplos que requieren utilizar ficheros de código que incluimos con el material disponible en el campus. El código se encuentra dentro del subdirectorio `U09_src`.\n",
    "\n",
    "Para que Python sepa acceder al directorio donde guardes los ficheros fuente, tendrás que ejecutar los siguientes comandos para añadirlo a las rutas donde busca el código fuente. A lo largo de esta unidad te explicaremos más sobre cómo busca y resuelve Python la ubicación de código, librerías y otros elementos."
   ]
  },
  {
   "cell_type": "code",
   "execution_count": 1,
   "metadata": {
    "collapsed": true
   },
   "outputs": [
    {
     "name": "stdout",
     "output_type": "stream",
     "text": [
      "['c:\\\\Users\\\\alber\\\\OneDrive\\\\Documentos\\\\GitHub\\\\BigDataConPython\\\\Scripts Python', 'c:\\\\Users\\\\alber\\\\AppData\\\\Local\\\\R-MINI~1\\\\python39.zip', 'c:\\\\Users\\\\alber\\\\AppData\\\\Local\\\\R-MINI~1\\\\DLLs', 'c:\\\\Users\\\\alber\\\\AppData\\\\Local\\\\R-MINI~1\\\\lib', 'c:\\\\Users\\\\alber\\\\AppData\\\\Local\\\\R-MINI~1', '', 'c:\\\\Users\\\\alber\\\\AppData\\\\Local\\\\R-MINI~1\\\\lib\\\\site-packages', 'c:\\\\Users\\\\alber\\\\AppData\\\\Local\\\\R-MINI~1\\\\lib\\\\site-packages\\\\win32', 'c:\\\\Users\\\\alber\\\\AppData\\\\Local\\\\R-MINI~1\\\\lib\\\\site-packages\\\\win32\\\\lib', 'c:\\\\Users\\\\alber\\\\AppData\\\\Local\\\\R-MINI~1\\\\lib\\\\site-packages\\\\Pythonwin', 'C:/Users/alber/OneDrive/Documentos/Formacion informatica/Python/Master BD Python/Material\\\\U09_src']\n"
     ]
    }
   ],
   "source": [
    "import sys\n",
    "import os.path\n",
    "\n",
    "# Tan solo modifica la cadena de texto entre comillas\n",
    "# de DIR_FICHEROS_CURSO\n",
    "# Sustituye por la ruta completa hasta el directorio base\n",
    "# donde descargues el material del campus\n",
    "DIR_FICHEROS_CURSO = \"C:/Users/alber/OneDrive/Documentos/Formacion informatica/Python/Master BD Python/Material\"\n",
    "DIR_U09 = os.path.join(DIR_FICHEROS_CURSO, \"09PythonParaAnalisisDatos\")\n",
    "DIR_U09_SRC = os.path.join(DIR_FICHEROS_CURSO, \"U09_src\")\n",
    "\n",
    "sys.path.append(DIR_U09_SRC)\n",
    "print(sys.path)\n"
   ]
  },
  {
   "cell_type": "markdown",
   "metadata": {},
   "source": [
    "# Módulos y paquetes\n",
    "\n",
    "Conforme empezamos a desarrollar programas con estructuras cada vez más complejas (variables, funciones, clases y objetos), tenemos la necesidad de poder guardar nuestro código de una forma organizada para poder reutilizarlo, sin tener que rehacer cosas que ya habíamos resuelto.\n",
    "\n",
    "Los módulos son la forma de organizar nuestro código, agrupando definiciones y funcionalidades relacionadas en unidades que podemos cargar y reutilizar en nuevos programas.\n",
    "\n",
    "En Python, cada archivo de código terminado con el sufijo `.py` es un módulo. Un módulo de Python puede contener declaraciones de variables y constantes, definiciones de funciones y clases, comentarios. \n",
    "\n",
    "A continuación te mostramos el contenido de un módulo de ejemplo, incluyendo algunas de las definiciones de función que hemos utilizado hasta ahora. \n",
    "\n",
    "> **Atención** Puedes crear un fichero llamado `mimodulo.py` y copiar dentro el código siguiente. O si lo prefieres, puedes encontrar el fichero `mimodulo.py` en el material que acompaña a la unidad. Asegúrate de que el fichero se encuentre en el directorio de fuentes (`U09_src`), y que lo añadiste al _path_ como te explicamos al inicio de la unidad, para que esté accesible para la sesión de Python."
   ]
  },
  {
   "cell_type": "code",
   "execution_count": null,
   "metadata": {
    "collapsed": true
   },
   "outputs": [],
   "source": [
    "# %load U09_src/mimodulo.py\n",
    "\"\"\"\n",
    "Ejemplo de módulo con definicion de funciones\n",
    "y declaración de variables\n",
    "\"\"\"\n",
    "\n",
    "# Definimos funciones del módulo\n",
    "\n",
    "def fibonacci(n):\n",
    "    \"\"\"Calcula el n-ésimo elemento de la serie de Fibonacci\"\"\"\n",
    "    if n == 0:\n",
    "        return 0\n",
    "    elif n == 1:\n",
    "        return 1\n",
    "    else:\n",
    "        return fibonacci(n-1) + fibonacci(n-2)\n",
    "\n",
    "\n",
    "def genera_multiplicador(n):\n",
    "    \"\"\"Esta función crea y devuelve a su vez \n",
    "    una nueva función que multiplicará cualquier valor por n\"\"\"\n",
    "    return lambda x: x * n\n",
    "\n",
    "\n",
    "# Declaramos variables del módulo\n",
    "\n",
    "# Asignamos a esta variable la función multiplicadora por 2\n",
    "doblar = genera_multiplicador(2)\n",
    "\n",
    "# Asignamos a esta variable la función multiplicadora por 3\n",
    "triplicar = genera_multiplicador(3)\n"
   ]
  },
  {
   "cell_type": "markdown",
   "metadata": {},
   "source": [
    "## Carga de módulos y espacios de nombres\n",
    "\n",
    "Para cargar el contenido de un módulo y tener acceso a sus funciones, clases, variables, etc. utilizamos el comando `import` seguido del nombre del módulo."
   ]
  },
  {
   "cell_type": "code",
   "execution_count": null,
   "metadata": {},
   "outputs": [
    {
     "data": {
      "text/plain": [
       "55"
      ]
     },
     "metadata": {},
     "output_type": "display_data"
    }
   ],
   "source": [
    "# vamos a importar nuestro primer módulo\n",
    "import mimodulo\n",
    "\n",
    "# ya podemos utilizar sus funciones\n",
    "mimodulo.fibonacci(10)"
   ]
  },
  {
   "cell_type": "markdown",
   "metadata": {},
   "source": [
    "Como ves, al hacer el `import` no ponemos el nombre del fichero completo con su extensión. Podemos el nombre _del módulo_. En Python el nombre del módulo se toma de la primera parte del nombre del fichero, sin el `.py`.\n",
    "\n",
    "Una vez que hemos cargado el módulo de esta forma, podemos acceder a su contenido a través del nombre del módulo, siguiendo con un punto (`.`) y el nombre de la función o variable que queremos usar.\n",
    "\n",
    "¿Pero por qué tenemos que anteponer el nombre del módulo?\n",
    "\n",
    "Piensa que en nuestras aplicaciones fácilmente acabaremos teniendo muchos módulos, y es posible que tengamos funciones o variables o cualquier otro objeto con el mismo nombre en módulos distintos. ¿Cómo hacer para que no haya confusión al importarlos y usarlos, cómo hacer que no _colisionen_?\n",
    "\n",
    "Para eso Python utiliza el concepto de _espacios de nombres_ (o _namespaces_ en inglés). Un espacio de nombres es algo así como un directorio en el que se van anotando los nombres de todos los objetos que vamos creando  (variables, funciones, etc). No puede haber dos objetos con el mismo nombre dentro de un _namespace_.\n",
    "\n",
    "Cuando iniciamos una nueva sesión de Python con el intérprete interactivo, o al ejecutar un programa o _script_, se crea un nuevo espacio de nombres _global_ asociado a esa sesión. En este espacio de nombres se añaden a su vez todos los símbolos, todos los nombres de los objetos predefinidos integrados en el lenguaje (funciones, variables, constantes... como `len`, `sum`, `list` o `map`). Y también se añadirán todos los objetos que nosotros vayamos definiendo directamente en la sesión.\n",
    "\n",
    "Volviendo a los módulos, en Python cada uno tiene su propio espacio de nombres, que contiene los identificadores de todos los elementos definidos dentro del módulo. Así que puedes tener dos variables o dos funciones con el mismo nombre en distintos módulos. Cada objeto estará incluido en su _namespace_ correspondiente y no habrá conflictos entre ellos.\n",
    "\n",
    "Al importar un módulo también podemos asociarle un alias, normalmente para abreviar el nombre original del módulo.\n"
   ]
  },
  {
   "cell_type": "code",
   "execution_count": null,
   "metadata": {},
   "outputs": [
    {
     "data": {
      "text/plain": [
       "5"
      ]
     },
     "metadata": {},
     "output_type": "display_data"
    }
   ],
   "source": [
    "# importamos nuestro módulo, pero con un alias más cortito\n",
    "import mimodulo as m\n",
    "\n",
    "# ahora podemos usar el alias 'm' para acceder a las funciones\n",
    "m.fibonacci(5)"
   ]
  },
  {
   "cell_type": "markdown",
   "metadata": {},
   "source": [
    "También es posible importar directamente un elemento del módulo deseado a nuestro espacio de nombres actual. La sintaxis en este caso sería\n",
    "\n",
    "`from`  *nombre_modulo*  `import`  *nombre_elemento*"
   ]
  },
  {
   "cell_type": "code",
   "execution_count": 2,
   "metadata": {},
   "outputs": [
    {
     "data": {
      "text/plain": [
       "14"
      ]
     },
     "execution_count": 2,
     "metadata": {},
     "output_type": "execute_result"
    }
   ],
   "source": [
    "# vamos a importar únicamente la definición de 'doblar' de 'mimodulo'\n",
    "# incluyéndola en nuestro espacio de nombres actual\n",
    "from mimodulo import doblar\n",
    "\n",
    "# ahora podemos usar 'doblar' como si la hubiéramos definido en este nivel\n",
    "doblar(7)\n"
   ]
  },
  {
   "cell_type": "markdown",
   "metadata": {},
   "source": [
    "Esta variante incluye el objeto indicado (la función `doblar`) en nuestro espacio actual, sin añadir el espacio de nombres del módulo (en este caso, `mimodulo` no estaría definido para acceder a otras funciones).\n",
    "\n",
    "Hay que tener cuidado al utilizar esta forma de importar elementos, porque puede que ya exista otro objeto con el mismo nombre en nuestro contexto o espacio de nombres actual. Siempre podemos asignar un alias en estos casos."
   ]
  },
  {
   "cell_type": "code",
   "execution_count": null,
   "metadata": {},
   "outputs": [
    {
     "name": "stdout",
     "output_type": "stream",
     "text": [
      "15\n",
      "15\n"
     ]
    }
   ],
   "source": [
    "# tenemos una versión local de la función 'triplicar'\n",
    "def triplicar(x):\n",
    "    \"\"\"Función triplicar local\"\"\"\n",
    "    return 3 * x\n",
    "\n",
    "# vamos a cargar la versión del módulo, pero con un alias\n",
    "# para que no haya conflictos de nombres\n",
    "from mimodulo import triplicar as triple\n",
    "\n",
    "# podemos usar ambas versiones\n",
    "print( triplicar(5) )\n",
    "print( triple(5) )"
   ]
  },
  {
   "cell_type": "markdown",
   "metadata": {},
   "source": [
    "Por último, también podemos importar todos los nombres definidos dentro de un módulo sin utilizar su _namespace_, aunque sin poder asignarles un alias. Para ello, en lugar de la lista de elementos del módulo que queremos importar, utilizamos un asterisco (`*`) a modo de comodín."
   ]
  },
  {
   "cell_type": "code",
   "execution_count": null,
   "metadata": {
    "collapsed": true
   },
   "outputs": [],
   "source": [
    "from mimodulo import *"
   ]
  },
  {
   "cell_type": "markdown",
   "metadata": {},
   "source": [
    "No obstante, esta última opción es muy desaconsejable, ya que reemplaza todas las definiciones de los nombres ya existentes. Además, dificulta entender el código, al no saber de dónde viene una función o una variable, y complica su mantenimiento.\n"
   ]
  },
  {
   "cell_type": "markdown",
   "metadata": {},
   "source": [
    "## Localizando los módulos\n",
    "\n",
    "Cuando le pedimos a Python que importe un módulo, primero tiene que encontrarlo. Para ello sigue una serie de pasos.\n",
    "\n",
    "- Primero comprueba si se trata de uno de los módulos predefinidos incluidos con el lenguaje\n",
    "- Si no existe ningún modulo del lenguaje con ese nombre, busca el fichero con el módulo en el directorio que contiene el _script_ de Python actual, o el directorio de ejecución de la sesión actual si estamos en modo interactivo\n",
    "- Si no lo encuentra en el directorio actual, consulta la variable entorno PYTHONPATH. Se trata de una variable que hay que definir a nivel de sistema operativo, y donde se puede indicar una lista de directorios donde buscar módulos y librerías instaladas\n",
    "- Por último, busca en el directorio donde esté instalado Python\n",
    "\n",
    "Podemos ver la secuencia de directorios donde buscará de la siguiente forma"
   ]
  },
  {
   "cell_type": "code",
   "execution_count": null,
   "metadata": {
    "collapsed": true
   },
   "outputs": [],
   "source": [
    "import sys\n",
    "sys.path"
   ]
  },
  {
   "cell_type": "markdown",
   "metadata": {},
   "source": [
    "Cuando desarrollemos nuestros módulos, tendremos que asegurarnos que sean accesibles desde el directorio actual o bien añadir los directorios donde se encuentren a la secuencia de búsqueda, bien mediante la variable de entorno `PYTHONPATH` o bien modificando la variable `sys.path` dentro del código.\n",
    "\n",
    "## Módulos ejecutables\n",
    "\n",
    "Podemos ejecutar un módulo como si fuera un fichero de _script_ normal."
   ]
  },
  {
   "cell_type": "markdown",
   "metadata": {},
   "source": [
    "`$ python mimodulo.py`"
   ]
  },
  {
   "cell_type": "markdown",
   "metadata": {},
   "source": [
    "Si el módulo unicamente contiene definiciones de variables, funciones, clases, etc. lo único que ocurrirá es que se cargarán todas ellas en un _namespace_, y seguidamente terminará la ejecución.\n",
    "\n",
    "Cuando se lanza la ejecución de un _script_ o un módulo, Python prepara el _namespace_ para la ejecución y le da el nombre especial `\"__main__\"`.\n",
    "\n",
    "Si queremos incluir en un módulo un código para que se ejecute solamente cuando lo lancemos como _script_, podemos consultar cuál es el nombre del _namespace_ actual utilizando la variable global `__name__`.\n",
    "\n",
    "Veamos el siguiente ejemplo de módulo con sección _main_."
   ]
  },
  {
   "cell_type": "code",
   "execution_count": null,
   "metadata": {
    "collapsed": true
   },
   "outputs": [],
   "source": [
    "# %load U09_src/mimoduloexec.py\n",
    "\"\"\"\n",
    "Ejemplo de módulo ejecutable\n",
    "\"\"\"\n",
    "\n",
    "# Definición de funciones\n",
    "\n",
    "def llama_a_la_puerta_de(persona, n_veces=3):\n",
    "    \"\"\"Llama a la puerta de la persona las veces que haga falta\"\"\"\n",
    "    return [ \"Toc,toc,toc! \" + persona + \"!\" for i in range(n_veces) ]\n",
    "\n",
    "\n",
    "# Cuerpo principal ejecutable\n",
    "\n",
    "# si estamos dentro del namespace __main__\n",
    "if __name__ == \"__main__\":\n",
    "    # ejecuta cosas!!\n",
    "    print(\"Ejecutamos el main\")\n",
    "    print(llama_a_la_puerta_de(\"Penny\"))\n",
    "    "
   ]
  },
  {
   "cell_type": "markdown",
   "metadata": {},
   "source": [
    "Prueba a ejecutar el anterior módulo\n",
    "\n",
    "`$ python mimoduloexec.py`\n",
    "\n",
    "Deberías ver cómo se imprimen los distintos mensajes.\n",
    "\n",
    "En cambio, si lo importas desde una sesión interactiva o desde otro módulo, simplemente cargará las definiciones, sin ejecutar nada más."
   ]
  },
  {
   "cell_type": "code",
   "execution_count": null,
   "metadata": {
    "collapsed": true
   },
   "outputs": [],
   "source": [
    "import mimoduloexec\n"
   ]
  },
  {
   "cell_type": "markdown",
   "metadata": {},
   "source": [
    "## Paquetes\n",
    "\n",
    "En Python los paquetes son la forma de organizar un conjunto de módulos relacionados entre sí.\n",
    "\n",
    "Igual que un módulo se corresponde con un archivo de código, los paquetes se estructuran como directorios o carpetas. Solo deben cumplir con un requisito adicional. Para que Python reconozca que se trata de un paquete de módulos, dentro del directorio debe incluirse un archivo especial de inicialización con el nombre `__init__.py`. \n",
    "\n",
    "De entrada, no es necesario que el archivo `__init__.py` contenga nada, podemos dejarlo completamente vacío.\n",
    "Conforme vayamos ampliando el contenido de nuestro paquete, podremos incluir dentro de `__init__.py` código de configuración e importación de otros módulos que se necesiten en el paquete.\n",
    "\n",
    "Veamos un ejemplo de estructura de directorios y ficheros para una colección de paquetes y módulos que hemos creado (puedes acceder a estos ficheros en el material que acompaña a esta unidad)\n",
    "\n",
    "`\n",
    "paqtema09/\n",
    "├── __init__.py\n",
    "├── modulo0901.py\n",
    "└── subtema09\n",
    "    ├── __init__.py\n",
    "    ├── modulo0901.py\n",
    "    └── modulo0902.py\n",
    "`\n",
    "\n",
    "Aquí hemos creado un paquete llamado `paqtema09`. Como corresponde, hemos añadido un fichero `__init__.py` dentro del directorio para que Python lo reconozca. También hemos añadido un módulo llamado `modulo0901`, creando su correspondiente fichero `.py`.\n",
    "\n",
    "Como puedes ver, también es posible crear _subpaquetes_, es decir, paquetes anidados dentro de paquetes. Es como cualquier organización de directorios o carpetas, no hay nada especial. Aquí tenemos el _subpaquete_ `subtema09` con su `__init__.py` dentro. Además, le hemos añadido dos módulos, `modulo0901` y `modulo0902`.\n",
    "\n",
    "¿Te fijaste? Tenemos dos módulos con el mismo nombre (`modulo0901`), pero no hay problema porque uno está en el paquete `paqtema09` y otro en el _subpaquete_ `subtema09`. Es como tener ficheros con el mismo nombre en carpetas distintas, no hay colisión.\n",
    "\n",
    "Ahora veamos como cargar un paquete y su contenido. Utilizamos `import`, de la misma forma que con los módulos."
   ]
  },
  {
   "cell_type": "code",
   "execution_count": null,
   "metadata": {
    "collapsed": true
   },
   "outputs": [],
   "source": [
    "import paqtema09\n"
   ]
  },
  {
   "cell_type": "markdown",
   "metadata": {},
   "source": [
    "En este caso concreto, esto tampoco es muy útil. El paquete en sí no contiene nada, las definiciones están dentro de los módulos. Si en `__init__.py` incluyéramos definiciones y carga de módulos, sí que los tendríamos accesibles a través de `paqtema09`.\n",
    "\n",
    "En su lugar, probemos a cargar los módulos. En los tres módulos que hay definimos una constante `CONSTANTE_T09`, con un valor distinto en cada módulo."
   ]
  },
  {
   "cell_type": "code",
   "execution_count": null,
   "metadata": {},
   "outputs": [
    {
     "name": "stdout",
     "output_type": "stream",
     "text": [
      "Definida en paqtema09.modulo0901\n",
      "Definida en paqtema09.subtema09.modulo0901\n",
      "Definida en paqtema09.subtema09.modulo0902\n"
     ]
    }
   ],
   "source": [
    "import paqtema09.modulo0901\n",
    "import paqtema09.subtema09.modulo0901\n",
    "import paqtema09.subtema09.modulo0902\n",
    "\n",
    "print(paqtema09.modulo0901.CONSTANTE_T09)\n",
    "print(paqtema09.subtema09.modulo0901.CONSTANTE_T09)\n",
    "print(paqtema09.subtema09.modulo0902.CONSTANTE_T09)\n"
   ]
  },
  {
   "cell_type": "markdown",
   "metadata": {},
   "source": [
    "Como ves, aquí entran de nuevo los espacios de nombres. Igual que en los módulos, los paquetes tienen asociado su _namespace_ propio. Python utiliza esta jerarquía de _namespaces_ para resolver los nombres de los objetos y saber cuál tiene que usar.\n",
    "\n",
    "Podemos utilizar los alias para abreviar"
   ]
  },
  {
   "cell_type": "code",
   "execution_count": null,
   "metadata": {},
   "outputs": [
    {
     "name": "stdout",
     "output_type": "stream",
     "text": [
      "Definida en paqtema09.modulo0901\n",
      "Definida en paqtema09.subtema09.modulo0901\n",
      "Definida en paqtema09.subtema09.modulo0902\n"
     ]
    }
   ],
   "source": [
    "import paqtema09.modulo0901 as m1a\n",
    "import paqtema09.subtema09.modulo0901 as m1b\n",
    "import paqtema09.subtema09.modulo0902 as m2\n",
    "\n",
    "print(m1a.CONSTANTE_T09)\n",
    "print(m1b.CONSTANTE_T09)\n",
    "print(m2.CONSTANTE_T09)\n"
   ]
  },
  {
   "cell_type": "markdown",
   "metadata": {},
   "source": [
    "O utilizar la construcción `from .. import ..` para cargar directamente un módulo en nuestro espacio de nombres, ahorrándonos tener que escribir la jerarquía completa de paquetes (eso sí, recuerda tener cuidado para que no colisionen nombres de objetos)."
   ]
  },
  {
   "cell_type": "code",
   "execution_count": null,
   "metadata": {},
   "outputs": [
    {
     "name": "stdout",
     "output_type": "stream",
     "text": [
      "Definida en paqtema09.subtema09.modulo0901\n",
      "Definida en paqtema09.subtema09.modulo0902\n"
     ]
    }
   ],
   "source": [
    "from paqtema09.subtema09 import modulo0901\n",
    "from paqtema09.subtema09 import modulo0902\n",
    "\n",
    "print(modulo0901.CONSTANTE_T09)\n",
    "print(modulo0902.CONSTANTE_T09)\n"
   ]
  },
  {
   "cell_type": "markdown",
   "metadata": {},
   "source": [
    "## Algunos módulos incluidos de serie\n",
    "\n",
    "Python viene de serie con una ingente colección de paquetes y módulos conocida como _Python Standard Library_ (biblioteca estándar de Python), y que ofrecen gran cantidad de herramientas y funcionalidades muy útiles para ayudarnos en nuestros programas. \n",
    "\n",
    "Vamos a revisar unas pocas de ellas, pero no veremos todo ni entraremos en mucho detalle. Puedes investigar más en los siguientes enlaces\n",
    "\n",
    "https://docs.python.org/3/library/index.html\n",
    "\n",
    "http://docs.python.org.ar/tutorial/3/stdlib.html\n",
    "\n",
    "http://docs.python.org.ar/tutorial/3/stdlib2.html\n",
    "\n",
    "En cualquier caso, no hace falta que te aprendas todos estos módulos y sus funcionalidades de memoria. Es suficiente con que te vayas familiarizando con ellos y con lo que te ofrecen puedes. Siempre podrás consultar la documentación en cualquier momento para resolver tus dudas y refrescar cómo usarlos.\n",
    "\n",
    "### Módulos del sistema\n",
    "#### `os`\n",
    "Este módulo incluye funciones básicas para acceder e interactuar al sistema operativo.\n",
    "\n",
    "`import os`\n",
    "\n",
    "|                | Descripción                                                          |\n",
    "|:---------------|:---------------------------------------------------------------------|\n",
    "| `os.environ`   | Permite acceder a las variables de entorno; p.ej. os.environ['HOME'] |\n",
    "| `os.chdir()`   | Cambiar el directorio de trabajo de la sesión actual                 |\n",
    "| `os.mkdir()`   | Crear nuevos directorios                                             |\n",
    "| `os.rmdir()`   | Borrar directorios                                                   |\n",
    "| `os.listdir()` | Devuelve un listado con el contenido de un directorio                |\n",
    "| `os.open()`    | Abrir un fichero                                                     |\n",
    "| `os.close()`   | Cerrar un fichero                                                    |\n",
    "\n",
    "\n",
    "\n",
    "#### `os.path`\n",
    "Este módulo nos permite realizar consultas sobre nombres de ficheros y directorios\n",
    "\n",
    "`import os.path`\n",
    "\n",
    "|              | Descripción                                                          |\n",
    "|:-------------|:---------------------------------------------------------------------|\n",
    "| `os.path.basename()` | Devuelve el nombre del último elemento (directorio/fichero) de una ruta |\n",
    "| `os.path.dirname()` | Devuelve la cadena de directorios hasta el último elemento de la ruta |\n",
    "| `os.path.absname()`  | Devuelve la ruta absoluta completa hasta un directorio o fichero |\n",
    "| `os.path.isdir()` | Comprueba si una ruta corresponde a un directorio |\n",
    "| `os.path.isfile()` | Comprueba si una ruta corresponde a un fichero |\n",
    "\n",
    "\n",
    "#### `sys`\n",
    "Este módulo da acceso a variables y funciones relacionadas con el intérprete y su estado\n",
    "\n",
    "`import sys`\n",
    "\n",
    "|              | Descripción                                                          |\n",
    "|:-------------|:---------------------------------------------------------------------|\n",
    "| `sys.path` | Listado de directorios de búsqueda de módulos |\n",
    "| `sys.modules` | Diccionario con los módulos cargados actualmente |\n",
    "| `sys.version` | Versión de Python ejecutándose |\n",
    "| `sys.argv` | Listado de parámetros pasados al _script_ Python por línea de comandos |\n",
    "| `sys.stdin` | Referencia a la entrada estándar de datos |\n",
    "| `sys.stdout` | Referencia a la salida estándar de datos |\n",
    "| `sys.stderr` | Referencia a la salida estándar de errores |\n",
    "| `sys.exit()` | Terminar la ejecución de Python y salir al sistema operativo |\n",
    "\n",
    "\n",
    "### Módulos de tipos de datos \n",
    "#### `datetime`\n",
    "Este módulo incluye clases y funciones básicas para manipular fechas y horas\n",
    "\n",
    "`import datetime as dt`\n",
    "\n",
    "|              | Descripción                                                          |\n",
    "|:-------------|:---------------------------------------------------------------------|\n",
    "| `dt.date()` | Crea un objeto que representa una fecha (con año, mes y día) |\n",
    "| `dt.time()` | Crea un objeto que representa una hora del día (con horas, minutos y segundos) |\n",
    "| `dt.datetime()` | Combinación de `date` y `time` |\n",
    "| `dt.date.today()` | Devuelve un objeto `date` con la fecha de hoy |\n",
    "| `dt.datetime.now()` | Devuelve un objeto `datetime` que representa el instante actual |\n",
    "\n",
    "\n",
    "#### `calendar`\n",
    "Este módulo permite formatear y hacer operaciones con fechas de calendario\n",
    "\n",
    "### Módulos adicionales para cadenas de texto\n",
    "#### `string`\n",
    "Este módulo proporciona constantes y funciones adicionales para formatear cadenas de texto\n",
    "\n",
    "`import string`\n",
    "\n",
    "|              | Descripción                                                          |\n",
    "|:-------------|:---------------------------------------------------------------------|\n",
    "| `string.ascii_lowercase` | Secuencia de caracteres alfabéticos en minúscula |\n",
    "| `string.ascii_uppercase` | Secuencia de caracteres alfabéticos en mayúscula |\n",
    "| `string.digits` | Secuencia de caracteres numéricos |\n",
    "| `string.Formatter` | Clase para dar formatos avanzados a cadenas de texto  |\n",
    "\n",
    "#### `re`\n",
    "Este módulo proporciona las funcionalidades para trabajar con expresiones regulares en Python.\n",
    "Las expresiones regulares son una forma de expresar patrones de búsqueda mediante una secuencia de caracteres. Se trata de una herramienta muy potente para realizar búsquedas, extracciones, sustituciones y otras operaciones de edición sobre cadenas de texto.\n",
    "Si no las has usado nunca y no conoces cómo funcionan, no te preocupes, tarde o temprano te toparás con ellas. Solo recuerda que Python te permite usarlas.\n",
    "\n",
    "`import re`\n",
    "\n",
    "|              | Descripción                                                          |\n",
    "|:-------------|:---------------------------------------------------------------------|\n",
    "| `re.compile()` | Compila una expresión regular para poder utilizarla en búsquedas |\n",
    "| `re.search()` | Busca la primera ocurrencia de una expresión regular |\n",
    "| `re.match()` | Busca la expresión regular y devuelve los elementos con correspondencia al patrón |\n",
    "| `re.split()` | Divide una cadena de texto en porciones en base al patrón |\n",
    "\n",
    "\n",
    "### Módulos matemáticos\n",
    "#### `math`\n",
    "Este módulo ofrece varias funciones matemáticas de uso extendido\n",
    "\n",
    "`import math`\n",
    "\n",
    "|              | Descripción                                                          |\n",
    "|:-------------|:---------------------------------------------------------------------|\n",
    "| `math.ceil()` | Devuelve el número entero más pequeño que es mayor o igual que un valor |\n",
    "| `math.floor()` | Devuelve el número entero más grande que es menor o igual que un valor |\n",
    "| `math.gdc()` | Devuelve el máximo común divisor de dos números |\n",
    "| `math.isinf()` | Comprueba si es un valor infinito |\n",
    "| `math.trunc()` | Devuelve la parte entera de un número en punto flotante |\n",
    "| `math.exp()` | Devuelve el valor de $e^x$ |\n",
    "| `math.log()` | Devuelve el logaritmo de x (en base $e$) |\n",
    "| `math.sqrt()` | Devuelve la la raíz cuadrada de un valor |\n",
    "| `math.cos()` | Devuelve el coseno de un valor |\n",
    "| `math.sin()` | Devuelve el seno de un valor |\n",
    "| `math.tan()` | Devuelve la tangente de un valor |\n",
    "| `math.pi` | Constante con el valor del número $\\pi$ |\n",
    "| `math.e` | Constante con el valor del número $e$ |\n",
    "| `math.inf` | Constante que representa Infinito |\n",
    "\n",
    "#### `random`\n",
    "Este módulo proporciona funcionalidades para generar números pseudo-aleatorios, trabajar con diferentes distribuciones de probabilidad y simular procesos y muestreos estocásticos.\n",
    "\n",
    "`import random`\n",
    "\n",
    "|              | Descripción                                                          |\n",
    "|:-------------|:---------------------------------------------------------------------|\n",
    "| `random.seed()` | Inicializar la _semilla_ del generador de números aleatorios |\n",
    "| `random.randint()` | Devuelve un número entero aleatorio entre dos valores |\n",
    "| `random.choice()` | Devuelve un elemento elegido aleatoriamente de una secuencia |\n",
    "| `random.shuffle()` | Mezcla aleatoriamente los elementos de una secuencia |\n",
    "| `random.sample()` | Extrae una muestra aleatoria de _k_ elementos de una secuencia |\n",
    "| `random.random()` | Devuelve un número aleatorio en punto flotante entre 0 y 1 |\n",
    "| `random.uniform()` | Devuelve un número aleatorio a partir de una distribución uniforme |\n",
    "| `random.expovariate()` | Devuelve un número aleatorio a partir de una distribución exponencial |\n",
    "| `random.gauss()` | Devuelve un número aleatorio a partir de una distribución normal |\n",
    "\n",
    "\n",
    "### Módulos para programación funcional\n",
    "#### `functools`\n",
    "Este módulo incluye utilidades para facilitar el trabajo con funciones de orden superior\n",
    "\n",
    "`import functools as fn`\n",
    "\n",
    "|              | Descripción                                                          |\n",
    "|:-------------|:---------------------------------------------------------------------|\n",
    "| `fn.reduce()` | Implementa la función de orden superior de _reducción_ |\n",
    "\n",
    "\n",
    "#### `itertools`\n",
    "Este módulo ofrece una serie de _iteradores_ muy útiles para construir ciertos bucles de forma eficiente\n",
    "\n",
    "`import itertools as it`\n",
    "\n",
    "|              | Descripción                                                          |\n",
    "|:-------------|:---------------------------------------------------------------------|\n",
    "| `it.cycle()` | Itera indefinidamente de forma cíclica sobre los elementos de una secuencia |\n",
    "| `it.repeat()` | Itera repitiendo un mismo valor |\n",
    "| `it.accumulate()` | Itera sobre los valores acumulados de una secuencia |\n",
    "| `it.product()` | Itera sobre el producto cartesiano de dos secuencias |\n",
    "| `it.permutations()` | Itera sobre las permutaciones de _k_ elementos de una secuencia |\n",
    "| `it.combinations()` | Itera sobre las combinaciones únicas ordenadas de _k_ elementos de una secuencia |\n",
    "\n",
    "#### `operator`\n",
    "Este módulo proporciona operadores comunes para su uso con funciones de orden superior, en lugar de expresiones _lambda_. Enumeramos solo algunos de los que incluye.\n",
    "\n",
    "`import operator as op`\n",
    "\n",
    "|              | Descripción                                                          |\n",
    "|:-------------|:---------------------------------------------------------------------|\n",
    "| `op.le` | Operación $x \\le y$ |\n",
    "| `op.eq` | Operación $x = y$ |\n",
    "| `op.abs` | Operación _valor absoluto_ |\n",
    "| `op.add` | Operación $x + y$ |\n",
    "| `op.sub` | Operación $x - y$ |\n",
    "| `op.mul` | Operación $x * y$ |\n",
    "| `op.pow` | Operación $x^y$ |\n",
    "\n",
    "\n",
    "### Módulos para ficheros\n",
    "#### `fileinput`\n",
    "Este módulo proporciona funciones para iterar leyendo líneas de uno o más ficheros de entrada.\n",
    "\n",
    "`import fileinput as fin`\n",
    "\n",
    "|              | Descripción                                                          |\n",
    "|:-------------|:---------------------------------------------------------------------|\n",
    "| `fin.input()` | Itera leyendo línea a línea de todos los ficheros de entrada indicados |\n",
    "\n",
    "#### `csv`\n",
    "Este módulo proporciona funciones para leer y escribir ficheros en formato CSV.\n",
    "\n",
    "`import csv`\n",
    "\n",
    "|              | Descripción                                                          |\n",
    "|:-------------|:---------------------------------------------------------------------|\n",
    "| `csv.reader()` | Devuelve un objeto para leer el contenido de un fichero CSV determinado |\n",
    "| `csv.writer()` | Devuelve un objeto para escribir datos en un fichero con formato CSV |\n",
    "\n",
    "\n",
    "## Instalación de librerías externas"
   ]
  },
  {
   "cell_type": "markdown",
   "metadata": {
    "collapsed": true
   },
   "source": [
    "En muchos casos, Python y su biblioteca estándar nos proporcionarán todos los elementos que necesitamos para construir nuestros programas.\n",
    "\n",
    "Sin embargo, conforme tengamos que resolver tareas más complejas, acabaremos necesitando incluir librerías y módulos desarrollados por terceros. Como ya comentamos al principio de esta unidad, Python cuenta con una enorme comunidad de usuarios que colaboran y aportan nuevos módulos de forma libre para que todo el mundo pueda beneficiarse. Puedes empezar a explorar toda la variedad de librerías disponibles en la web de Pypi (_The Python Package Index_ - https://pypi.python.org/pypi).\n",
    "\n",
    "Para instalar y administrar los módulos que tenemos en nuestra máquina, contamos con la herramienta `pip`. Actualmente, `pip` está incluida ya en las instalaciones de Python a partir de las versiones 2.7.9 (para Python 2) y 3.4 (para Python 3). En versiones anteriores, es posible instalar `pip` siguiendo las instrucciones incluidas en la página web https://pip.pypa.io/en/stable/installing/\n",
    "\n",
    "Una vez que la herramienta está instalada, utilizar `pip` es muy sencillo. Se trata de una utilidad de línea de comandos, así que tendremos que abrir una consola o terminal.\n",
    "\n",
    "Para instalar un nuevo módulo utilizamos el comando `install` de `pip`:\n",
    "\n",
    "`$ pip install ModuloNuevo`\n",
    "\n",
    "Como ves, ni siquiera es necesario descargar los ficheros del módulo. Este comando automáticamente se conecta al repositorio de Pypi para obtener el módulo y procede a instalarlo. Si el nuevo módulo a su vez depende de otros para funcionar, estas dependencias también se descargarán e instalarán de forma automática.\n",
    "\n",
    "En la tabla siguiente tienes un listado de los comandos más habituales de `pip`\n",
    "\n",
    "| Comando                        | Descripción                    |\n",
    "|:-------------------------------|:-------------------------------|\n",
    "| `pip install Modulo`           | Instalar un módulo obtenido del repositorio |\n",
    "| `pip install --upgrade Modulo` | Actualizar la versión de un módulo ya instalado |\n",
    "| `pip uninstall Modulo`         | Desinstalar un módulo  |\n",
    "| `pip list`                     | Listar los módulos instalados |\n",
    "| `pip show Modulo`              | Mostrar información sobre un módulo instalado |\n",
    "| `pip search patron`            | Buscar información sobre módulos en el repositorio |\n"
   ]
  }
 ],
 "metadata": {
  "kernelspec": {
   "display_name": "Python 3.9.13",
   "language": "python",
   "name": "python3"
  },
  "language_info": {
   "codemirror_mode": {
    "name": "ipython",
    "version": 3
   },
   "file_extension": ".py",
   "mimetype": "text/x-python",
   "name": "python",
   "nbconvert_exporter": "python",
   "pygments_lexer": "ipython3",
   "version": "3.9.13"
  },
  "orig_nbformat": 4,
  "vscode": {
   "interpreter": {
    "hash": "eb6fcc4987d40a8a7a9bcbb3f79366e5006f70e69b6b24b8b7e2973ccc311291"
   }
  }
 },
 "nbformat": 4,
 "nbformat_minor": 2
}
