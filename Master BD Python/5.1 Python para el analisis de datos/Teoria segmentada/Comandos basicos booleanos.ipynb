{
 "cells": [
  {
   "cell_type": "markdown",
   "metadata": {},
   "source": [
    "## Valores booleanos\n",
    "\n",
    "En Python tenemos un tipo booleano para representar los valores _verdadero_ y _falso_. Veamos cómo se codifican estos valores y las operaciones lógicas habituales.\n"
   ]
  },
  {
   "cell_type": "code",
   "execution_count": null,
   "metadata": {
    "collapsed": true
   },
   "outputs": [],
   "source": [
    "soy_rico = False\n",
    "soy_listo = True\n",
    "# operación AND (Y) lógica\n",
    "soy_rico and soy_listo\n",
    "# operación OR (O) lógica\n",
    "soy_rico or soy_listo\n",
    "# negación\n",
    "not soy_rico"
   ]
  },
  {
   "cell_type": "markdown",
   "metadata": {},
   "source": [
    "También tenemos los operadores de comparación, que nos devuelven un valor de verdadero o falso\n"
   ]
  },
  {
   "cell_type": "code",
   "execution_count": null,
   "metadata": {},
   "outputs": [
    {
     "data": {
      "text/plain": [
       "True"
      ]
     },
     "metadata": {},
     "output_type": "display_data"
    }
   ],
   "source": [
    "# Mayor que\n",
    "10 > 3.0   # True\n",
    "# Menor que\n",
    "10 < 3.0   # False\n",
    "# Mayor o igual que\n",
    "10 >= 3.0   # True\n",
    "# Menor o igual que\n",
    "10 <= 3.0   # False\n",
    "# Igualdad\n",
    "6/3 == 2   # True\n",
    "# Distintos\n",
    "\"Rojo\" != \"Verde\"   # True"
   ]
  }
 ],
 "metadata": {
  "kernelspec": {
   "display_name": "Python 3.10.6 64-bit",
   "language": "python",
   "name": "python3"
  },
  "language_info": {
   "name": "python",
   "version": "3.10.6"
  },
  "orig_nbformat": 4,
  "vscode": {
   "interpreter": {
    "hash": "7600a12950a547366bb7a6732117e300ffd26224351912980486e1126c5d0f9a"
   }
  }
 },
 "nbformat": 4,
 "nbformat_minor": 2
}
