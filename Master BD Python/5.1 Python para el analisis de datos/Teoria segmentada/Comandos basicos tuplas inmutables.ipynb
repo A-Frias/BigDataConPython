{
 "cells": [
  {
   "cell_type": "markdown",
   "metadata": {},
   "source": [
    "\n",
    "### Tuplas\n",
    "\n",
    "Las tuplas son un tipo de datos similar a las listas. Como ellas, las tuplas están formadas por una secuencia de elementos ordenados. Las diferencias principales son dos:\n",
    "- Desde el punto de vista _sintáctico_, se definen usando paréntesis en lugar de corchetes (esta es fácil)\n",
    "- Desde el punto de vista _semántico_, **las tuplas son inmutables**\n",
    "\n",
    "¿Qué queremos decir con _inmutables_? Pues que una vez que has creado una tupla definiendo sus elementos, ya no puedes modificar los valores que contiene.\n",
    "\n"
   ]
  },
  {
   "cell_type": "code",
   "execution_count": null,
   "metadata": {
    "collapsed": true
   },
   "outputs": [],
   "source": [
    "# construimos las tuplas poniendo sus elementos \n",
    "# separados por comas entre dos paréntesis\n",
    "palos_baraja = (\"corazones\",\"diamantes\",\"tréboles\",\"picas\")\n",
    "valores_baraja = ('A', 2, 3, 4, 5, 6, 7, 8, 9, 10, 'J', 'Q', 'K')\n",
    "\n",
    "as_de_picas = (valores_baraja[0], palos_baraja[3])\n",
    "reina_de_corazones = (valores_baraja[11], palos_baraja[0])"
   ]
  },
  {
   "cell_type": "code",
   "execution_count": null,
   "metadata": {},
   "outputs": [
    {
     "name": "stdout",
     "output_type": "stream",
     "text": [
      "(('A', 'picas'), ('Q', 'corazones'))\n"
     ]
    }
   ],
   "source": [
    "# podemos usar tuplas como elementos anidados dentro otra tupla\n",
    "mano = (as_de_picas, reina_de_corazones)\n",
    "\n",
    "print(mano)"
   ]
  },
  {
   "cell_type": "code",
   "execution_count": null,
   "metadata": {},
   "outputs": [
    {
     "data": {
      "text/plain": [
       "('A', 'picas')"
      ]
     },
     "metadata": {},
     "output_type": "display_data"
    }
   ],
   "source": [
    "mano[0]"
   ]
  },
  {
   "cell_type": "code",
   "execution_count": null,
   "metadata": {},
   "outputs": [
    {
     "data": {
      "text/plain": [
       "('Q', 'corazones')"
      ]
     },
     "metadata": {},
     "output_type": "display_data"
    }
   ],
   "source": [
    "mano[1]"
   ]
  },
  {
   "cell_type": "code",
   "execution_count": null,
   "metadata": {
    "collapsed": true
   },
   "outputs": [],
   "source": [
    "# también podemos usar listas como elementos, \n",
    "# ¡cualquier objeto en realidad!\n",
    "jugador = (\"jugador_1\", [as_de_picas, reina_de_corazones])"
   ]
  },
  {
   "cell_type": "markdown",
   "metadata": {},
   "source": [
    "Si tratas de modificar la tupla, obtendrás un error"
   ]
  },
  {
   "cell_type": "code",
   "execution_count": null,
   "metadata": {},
   "outputs": [
    {
     "ename": "TypeError",
     "evalue": "'tuple' object does not support item assignment",
     "output_type": "error",
     "traceback": [
      "\u001b[0;31m---------------------------------------------------------------------------\u001b[0m\n",
      "\u001b[0;31mTypeError\u001b[0m                                 Traceback (most recent call last)\n",
      "\u001b[0;32m<ipython-input-149-993d0c940dfb>\u001b[0m in \u001b[0;36m<module>\u001b[0;34m()\u001b[0m\n",
      "\u001b[0;32m----> 1\u001b[0;31m \u001b[0mmano\u001b[0m\u001b[0;34m[\u001b[0m\u001b[0;36m0\u001b[0m\u001b[0;34m]\u001b[0m \u001b[0;34m=\u001b[0m \u001b[0;34m(\u001b[0m\u001b[0;34m'J'\u001b[0m\u001b[0;34m,\u001b[0m \u001b[0;34m\"corazones\"\u001b[0m\u001b[0;34m)\u001b[0m\u001b[0;34m\u001b[0m\u001b[0m\n",
      "\u001b[0m\n",
      "\u001b[0;31mTypeError\u001b[0m: 'tuple' object does not support item assignment"
     ]
    }
   ],
   "source": [
    "mano[0] = ('J', \"corazones\")"
   ]
  },
  {
   "cell_type": "markdown",
   "metadata": {},
   "source": [
    "En realidad, Python nos permite definir una tupla sin usar los paréntesis al crearla. Es decir, poniendo simplemente los elementos separados por comas"
   ]
  },
  {
   "cell_type": "code",
   "execution_count": null,
   "metadata": {},
   "outputs": [
    {
     "name": "stdout",
     "output_type": "stream",
     "text": [
      "('uno', 'dos', 3)\n"
     ]
    }
   ],
   "source": [
    "# tupla definida por enumeración, sin usar paréntesis\n",
    "otra_tupla = 'uno','dos',3\n",
    "print(otra_tupla)"
   ]
  },
  {
   "cell_type": "markdown",
   "metadata": {},
   "source": [
    "De todas formas, te recomendamos utilizar siempre los paréntesis. Para empezar, porque así resaltas que es una tupla y entiendes más fácilmente tu código. Y después porque cuando uses tuplas anidadas o expresiones más complejas para definir los elementos, vas a necesitar incluir los paréntesis obligatoriamente. Así que, ¿para qué hacer distinciones? ¡Simplifiquemos!\n",
    "\n",
    "Además, hay dos casos especiales de creación de tuplas: la tupla vacía y la tupla de un solo elemento.\n",
    "\n",
    "Las tuplas vacías se crean con una pareja de paréntesis vacía, sin ningún elemento dentro.\n",
    "\n",
    "Para crear una tupla con un único elemento, lo rodeamos entre paréntesis, pero es necesario añadir una coma justo detrás del elemento y antes del cierre de paréntesis. Parece raro, pero como los paréntesis también sirven para _\"encapsular\"_ una expresión (p.ej. `(3 * 4)`), Python necesita una pista para distinguir si queremos construir una tupla con un solo valor o no."
   ]
  },
  {
   "cell_type": "code",
   "execution_count": null,
   "metadata": {},
   "outputs": [
    {
     "name": "stdout",
     "output_type": "stream",
     "text": [
      "()\n"
     ]
    }
   ],
   "source": [
    "# Creamos la tupla vacía con una pareja de paréntesis vacía, sin ningún elemento\n",
    "tupla_vacia = ()\n",
    "print(tupla_vacia)"
   ]
  },
  {
   "cell_type": "code",
   "execution_count": null,
   "metadata": {},
   "outputs": [
    {
     "name": "stdout",
     "output_type": "stream",
     "text": [
      "(1,)\n"
     ]
    }
   ],
   "source": [
    "# Creamos una tupla con un solo elemento\n",
    "tupla_un_elemento = (1,)\n",
    "print(tupla_un_elemento)"
   ]
  }
 ],
 "metadata": {
  "kernelspec": {
   "display_name": "Python 3.9.13",
   "language": "python",
   "name": "python3"
  },
  "language_info": {
   "name": "python",
   "version": "3.9.13"
  },
  "orig_nbformat": 4,
  "vscode": {
   "interpreter": {
    "hash": "eb6fcc4987d40a8a7a9bcbb3f79366e5006f70e69b6b24b8b7e2973ccc311291"
   }
  }
 },
 "nbformat": 4,
 "nbformat_minor": 2
}
