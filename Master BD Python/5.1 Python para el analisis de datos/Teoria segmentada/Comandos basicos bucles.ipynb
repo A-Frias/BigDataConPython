{
 "cells": [
  {
   "cell_type": "code",
   "execution_count": null,
   "metadata": {},
   "outputs": [],
   "source": []
  },
  {
   "cell_type": "markdown",
   "metadata": {},
   "source": [
    "\n",
    "## Bucles\n",
    "\n",
    "Los bucles nos permiten repetir o iterar la ejecución de un bloque de código mientras se cumpla una condición o dispongamos de valores que procesar.\n",
    "\n",
    "En Python disponemos de bucles `while` y bucles `for`.\n",
    "\n",
    "### Bucles `while`\n",
    "\n",
    "Estos bucles sirven para repetir la ejecución de un conjunto de instrucciones _mientras que_ una condición se siga cumpliendo.\n",
    "\n"
   ]
  },
  {
   "cell_type": "code",
   "execution_count": null,
   "metadata": {},
   "outputs": [
    {
     "name": "stdout",
     "output_type": "stream",
     "text": [
      "La suma de los 10 primeros números naturales vale  55\n"
     ]
    }
   ],
   "source": [
    "i = 1\n",
    "suma = 0\n",
    "\n",
    "while i <= 10:\n",
    "    suma = suma + i\n",
    "    i = i + 1\n",
    "\n",
    "print(\"La suma de los 10 primeros números naturales vale \", suma)\n"
   ]
  },
  {
   "cell_type": "markdown",
   "metadata": {},
   "source": [
    "### Bucles `for`\n",
    "\n",
    "Los bucles `for` nos permiten iterar por una secuencia o lista de elementos, repitiendo la ejecución de un bloque de código para cada uno de ellos.\n"
   ]
  },
  {
   "cell_type": "code",
   "execution_count": null,
   "metadata": {},
   "outputs": [
    {
     "name": "stdout",
     "output_type": "stream",
     "text": [
      "pera\n",
      "manzana\n",
      "ciruela\n",
      "cereza\n"
     ]
    }
   ],
   "source": [
    "lista_frutas = [\"pera\", \"manzana\", \"ciruela\", \"cereza\"]   # Así definimos una lista, en un rato te contamos más\n",
    "\n",
    "for fruta in lista_frutas:\n",
    "    print(fruta)\n"
   ]
  },
  {
   "cell_type": "markdown",
   "metadata": {},
   "source": [
    "En este ejemplo básico comenzamos por crear una lista de nombres de frutas. Podemos crear una lista incluyendo todos sus elementos separados por comas entre dos corchetes. Un poco más adelante en este tema te explicaremos más cosas sobre listas y otras estructuras de datos en Python.\n",
    "\n",
    "Como acabamos de explicar, el bucle `for` va a recorrer los elementos de `lista_frutas` uno tras otro, haciendo que la primera variable (`fruta`) vaya tomando cada uno de los valores y ejecutando el bloque de código con cada valor. Una vez que se han iterado todos los valores, se sale del bucle.\n",
    "\n",
    "Es común que nos encontremos con la necesidad de iterar sobre una secuencia de números. En estos casos contamos con una función muy útil que nos va a simplificar el trabajo: la función `range()`.\n"
   ]
  },
  {
   "cell_type": "code",
   "execution_count": null,
   "metadata": {},
   "outputs": [
    {
     "name": "stdout",
     "output_type": "stream",
     "text": [
      "1\n",
      "2\n",
      "3\n",
      "4\n",
      "5\n",
      "6\n",
      "7\n",
      "8\n",
      "9\n",
      "45\n"
     ]
    }
   ],
   "source": [
    "suma = 0\n",
    "\n",
    "for i in range(1, 10):\n",
    "    print(i)\n",
    "    suma = suma + i\n",
    "\n",
    "print(suma)\n",
    "    "
   ]
  },
  {
   "cell_type": "markdown",
   "metadata": {},
   "source": [
    "La función `range()` permite generar una secuencia de numeros entre dos valores de arranque y parada. Si has probado el ejemplo, habrás visto que el valor de arranque sí se incluye en la secuencia, mientras que el valor de parada queda excluido.\n",
    "\n",
    "> **+Info** Este comportamiento no es una decisión arbitraria. Tiene que ver con la forma en que funcionan los índices para acceder a los elementos de una secuencia (o a los caracteres de una cadena, como ya hemos visto). Profundizaremos un poco más enseguida, cuando estudiemos los tipos de datos compuestos. \n",
    "\n",
    "Podemos usar la función `range()` con un único valor. En ese caso, lo tomará como si fuera el valor de parada y usará el cero como valor de arranque por defecto. También es posible añadir un argumento más para indicar el tamaño del paso o incremento para generar la secuencia de números."
   ]
  },
  {
   "cell_type": "code",
   "execution_count": null,
   "metadata": {},
   "outputs": [
    {
     "name": "stdout",
     "output_type": "stream",
     "text": [
      "\n",
      "1\n",
      "22\n",
      "333\n",
      "4444\n"
     ]
    }
   ],
   "source": [
    "# generamos una secuencia indicando solo el valor de parada\n",
    "for i in range(5):\n",
    "    print(str(i) * i)   # str(x) crea una cadena a partir de x"
   ]
  },
  {
   "cell_type": "code",
   "execution_count": null,
   "metadata": {},
   "outputs": [
    {
     "name": "stdout",
     "output_type": "stream",
     "text": [
      "1\n",
      "3\n",
      "5\n",
      "7\n",
      "9\n"
     ]
    }
   ],
   "source": [
    "# generamos una secuencia indicando que el paso debe ir\n",
    "# de 2 en 2, en lugar de 1 en 1\n",
    "for j in range(1, 10, 2):\n",
    "    print(j)"
   ]
  }
 ],
 "metadata": {
  "language_info": {
   "name": "python"
  },
  "orig_nbformat": 4
 },
 "nbformat": 4,
 "nbformat_minor": 2
}
